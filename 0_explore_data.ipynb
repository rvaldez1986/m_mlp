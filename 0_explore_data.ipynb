{
 "cells": [
  {
   "cell_type": "code",
   "execution_count": 1,
   "metadata": {},
   "outputs": [],
   "source": [
    "import os\n",
    "import pandas as pd\n",
    "import numpy as np"
   ]
  },
  {
   "cell_type": "code",
   "execution_count": 2,
   "metadata": {},
   "outputs": [
    {
     "data": {
      "text/html": [
       "<div>\n",
       "<style scoped>\n",
       "    .dataframe tbody tr th:only-of-type {\n",
       "        vertical-align: middle;\n",
       "    }\n",
       "\n",
       "    .dataframe tbody tr th {\n",
       "        vertical-align: top;\n",
       "    }\n",
       "\n",
       "    .dataframe thead th {\n",
       "        text-align: right;\n",
       "    }\n",
       "</style>\n",
       "<table border=\"1\" class=\"dataframe\">\n",
       "  <thead>\n",
       "    <tr style=\"text-align: right;\">\n",
       "      <th></th>\n",
       "      <th>plan</th>\n",
       "      <th>site</th>\n",
       "      <th>coins</th>\n",
       "      <th>tookphys</th>\n",
       "      <th>year</th>\n",
       "      <th>zper</th>\n",
       "      <th>black</th>\n",
       "      <th>income</th>\n",
       "      <th>xage</th>\n",
       "      <th>female</th>\n",
       "      <th>...</th>\n",
       "      <th>logc</th>\n",
       "      <th>fmde</th>\n",
       "      <th>hlthg</th>\n",
       "      <th>hlthf</th>\n",
       "      <th>hlthp</th>\n",
       "      <th>xghindx</th>\n",
       "      <th>linc</th>\n",
       "      <th>lnum</th>\n",
       "      <th>lnmeddol</th>\n",
       "      <th>binexp</th>\n",
       "    </tr>\n",
       "  </thead>\n",
       "  <tbody>\n",
       "    <tr>\n",
       "      <th>0</th>\n",
       "      <td>3</td>\n",
       "      <td>1</td>\n",
       "      <td>100</td>\n",
       "      <td>0</td>\n",
       "      <td>1</td>\n",
       "      <td>125024</td>\n",
       "      <td>1.0</td>\n",
       "      <td>13748.759766</td>\n",
       "      <td>42.87748</td>\n",
       "      <td>0</td>\n",
       "      <td>...</td>\n",
       "      <td>0.0</td>\n",
       "      <td>0.0</td>\n",
       "      <td>1</td>\n",
       "      <td>0</td>\n",
       "      <td>0</td>\n",
       "      <td>65.207802</td>\n",
       "      <td>9.528776</td>\n",
       "      <td>1.386294</td>\n",
       "      <td>2.134299</td>\n",
       "      <td>1</td>\n",
       "    </tr>\n",
       "    <tr>\n",
       "      <th>1</th>\n",
       "      <td>3</td>\n",
       "      <td>1</td>\n",
       "      <td>100</td>\n",
       "      <td>0</td>\n",
       "      <td>2</td>\n",
       "      <td>125024</td>\n",
       "      <td>1.0</td>\n",
       "      <td>13748.759766</td>\n",
       "      <td>43.87748</td>\n",
       "      <td>0</td>\n",
       "      <td>...</td>\n",
       "      <td>0.0</td>\n",
       "      <td>0.0</td>\n",
       "      <td>1</td>\n",
       "      <td>0</td>\n",
       "      <td>0</td>\n",
       "      <td>65.207802</td>\n",
       "      <td>9.528776</td>\n",
       "      <td>1.386294</td>\n",
       "      <td>4.128351</td>\n",
       "      <td>1</td>\n",
       "    </tr>\n",
       "    <tr>\n",
       "      <th>2</th>\n",
       "      <td>3</td>\n",
       "      <td>1</td>\n",
       "      <td>100</td>\n",
       "      <td>0</td>\n",
       "      <td>3</td>\n",
       "      <td>125024</td>\n",
       "      <td>1.0</td>\n",
       "      <td>13748.759766</td>\n",
       "      <td>44.87748</td>\n",
       "      <td>0</td>\n",
       "      <td>...</td>\n",
       "      <td>0.0</td>\n",
       "      <td>0.0</td>\n",
       "      <td>1</td>\n",
       "      <td>0</td>\n",
       "      <td>0</td>\n",
       "      <td>65.207802</td>\n",
       "      <td>9.528776</td>\n",
       "      <td>1.386294</td>\n",
       "      <td>NaN</td>\n",
       "      <td>0</td>\n",
       "    </tr>\n",
       "  </tbody>\n",
       "</table>\n",
       "<p>3 rows × 45 columns</p>\n",
       "</div>"
      ],
      "text/plain": [
       "   plan  site  coins  tookphys  year    zper  black        income      xage  \\\n",
       "0     3     1    100         0     1  125024    1.0  13748.759766  42.87748   \n",
       "1     3     1    100         0     2  125024    1.0  13748.759766  43.87748   \n",
       "2     3     1    100         0     3  125024    1.0  13748.759766  44.87748   \n",
       "\n",
       "   female  ...  logc  fmde  hlthg  hlthf  hlthp    xghindx      linc  \\\n",
       "0       0  ...   0.0   0.0      1      0      0  65.207802  9.528776   \n",
       "1       0  ...   0.0   0.0      1      0      0  65.207802  9.528776   \n",
       "2       0  ...   0.0   0.0      1      0      0  65.207802  9.528776   \n",
       "\n",
       "       lnum  lnmeddol  binexp  \n",
       "0  1.386294  2.134299       1  \n",
       "1  1.386294  4.128351       1  \n",
       "2  1.386294       NaN       0  \n",
       "\n",
       "[3 rows x 45 columns]"
      ]
     },
     "execution_count": 2,
     "metadata": {},
     "output_type": "execute_result"
    }
   ],
   "source": [
    "os.chdir('C:\\\\Users\\\\rober\\\\Desktop\\\\RAND_pro\\\\Data')\n",
    "RandHIE = pd.read_csv(\"RandHIE.csv\", sep=',')\n",
    "RandHIE.head(3)"
   ]
  },
  {
   "cell_type": "markdown",
   "metadata": {},
   "source": [
    "This data frame contains the following columns: <br/>\n",
    "\n",
    "**plan** HIE plan number. <br/>\n",
    "**site** Participant’s place of residence when the participant was initially enrolled. <br/>\n",
    "**coins** Coinsurance rate. <br/>\n",
    "**tookphys** Took baseline physical. <br/>\n",
    "**year** Study year. <br/>\n",
    "**zper** Person identifier. <br/>\n",
    "**black** 1 if race of household head is black. <br/>\n",
    "**income** Family income. <br/>\n",
    "**xage** Age in years. <br/>\n",
    "**female** 1 if person is female. <br/>\n",
    "**educdec** Education of household head in years. <br/>\n",
    "**time** Time eligible during the year. <br/>\n",
    "**outpdol** Outpatient expenses: all covered outpatient medical services excluding dental care, outpatient psychotherapy, **outpatient** drugs or supplies. <br/>\n",
    "**drugdol** Drug expenses: all covered outpatient and dental drugs. <br/>\n",
    "**suppdol** Supply expenses: all covered outpatient supplies including dental. <br/>\n",
    "**mentdol** Psychotherapy expenses: all covered outpatient psychotherapy services including injections excluding charges for visits in excess of 52 per year, prescription drugs, and inpatient care <br/>\n",
    "**inpdol** Inpatient expenses: all covered inpatient expenses in a hospital, mental hospital, or nursing\n",
    "home, excluding outpatient care and renal dialysis. <br/>\n",
    "**meddol** Medical expenses: all covered inpatient and outpatient services, including drugs, supplies,\n",
    "and inpatient costs of newborns excluding dental care and outpatient psychotherapy. <br/>\n",
    "**totadm** Hospital admissions: annual number of covered hospitalizations. <br/>\n",
    "**inpmis** Incomplete Hospital Records: missing inpatient records. <br/>\n",
    "**mentvis** Psychotherapy visits: indicates the annual number of outpatient visits for psychotherapy. \n",
    "It includes billed visits only. The limit was 52 covered visits per person per year. The count\n",
    "includes an initial visit to a psychiatrist or psychologist. <br/>\n",
    "**mdvis** Face-to-Face visits to physicians: annual covered outpatient visits with physician providers\n",
    "(excludes dental, psychotherapy, and radiology/anesthesiology/pathology-only visits). <br/>\n",
    "**notmdvis** Face-to-Face visits to nonphysicians: annual covered outpatient visits with nonphysician\n",
    "providers such as speech and physical therapists, chiropractors, podiatrists, acupuncturists,\n",
    "Christian Science etc. (excludes dental, healers, psychotherapy, and radiology/anesthesiology/pathologyonly visits). <br/>\n",
    "**num** Family size. <br/>\n",
    "**mhi** Mental health index. <br/>\n",
    "**disea** Number of chronic diseases. <br/>\n",
    "**physlm** Physical limitations. <br/>\n",
    "**ghindx** General health index. <br/>\n",
    "**mdeoff** Maximum expenditure offer. <br/>\n",
    "**pioff** Participation incentive payment. <br/>\n",
    "**child** 1 if age is less than 18 years. <br/>\n",
    "**fchild** female times child. <br/>\n",
    "**lfam** log of num (family size). <br/>\n",
    "**lpi** log of pioff (participation incentive payment). <br/>\n",
    "**idp** 1 if individual deductible plan. <br/>\n",
    "**logc** log(coins+1). <br/>\n",
    "**fmde** 0 if idp=1, ln(max(1,mdeoff/(0.01 times coins))) otherwise. <br/>\n",
    "**hlthg** 1 if self-rated health is good – baseline is excellent self-rated health. <br/>\n",
    "**hlthf** 1 if self-rated health is fair – baseline is excellent self-rated health. <br/>\n",
    "**hlthp** 1 if self-rated health is poor – baseline is excellent self-rated health. <br/>\n",
    "**xghindx** ghindx (general healt index) with imputations of missing values. <br/>\n",
    "**linc** log of income (family income). <br/>\n",
    "**lnum** log of num (family size). <br/>\n",
    "**lnmeddol** log of meddol (medical expenses). <br/>\n",
    "**binexp** 1 if meddol > 0. <br/>\n",
    "\n",
    "### Create variable cost and select appropiate columns"
   ]
  },
  {
   "cell_type": "code",
   "execution_count": 3,
   "metadata": {},
   "outputs": [],
   "source": [
    "RandHIE['cost'] = RandHIE.outpdol + RandHIE.drugdol + RandHIE.suppdol + RandHIE.mentdol + RandHIE.inpdol"
   ]
  },
  {
   "cell_type": "code",
   "execution_count": 4,
   "metadata": {},
   "outputs": [
    {
     "data": {
      "text/plain": [
       "(12087, 20)"
      ]
     },
     "execution_count": 4,
     "metadata": {},
     "output_type": "execute_result"
    }
   ],
   "source": [
    "select_cols = ['zper', 'year', 'cost' ,'xage' ,'disea' ,'physlm' , 'mhi', 'xghindx',\n",
    "               'logc', 'idp', 'lpi', 'fmde', 'linc', 'lfam', 'female', 'black', 'educdec', 'hlthg', 'hlthf', 'hlthp'] \n",
    "\n",
    "RandHIE2 = RandHIE[select_cols][RandHIE.xage >= 18].copy()\n",
    "RandHIE2.shape"
   ]
  },
  {
   "cell_type": "markdown",
   "metadata": {},
   "source": [
    "Note: We work only with 18+ people and we add mhi and xghindex\n",
    "\n",
    "### Create cost_prev variable "
   ]
  },
  {
   "cell_type": "code",
   "execution_count": 5,
   "metadata": {},
   "outputs": [],
   "source": [
    "m = RandHIE2[['zper', 'year', 'cost']].copy()\n",
    "m.year = m.year + 1\n",
    "m.columns = ['zper', 'year', 'cost_prev']"
   ]
  },
  {
   "cell_type": "code",
   "execution_count": 6,
   "metadata": {},
   "outputs": [
    {
     "data": {
      "text/html": [
       "<div>\n",
       "<style scoped>\n",
       "    .dataframe tbody tr th:only-of-type {\n",
       "        vertical-align: middle;\n",
       "    }\n",
       "\n",
       "    .dataframe tbody tr th {\n",
       "        vertical-align: top;\n",
       "    }\n",
       "\n",
       "    .dataframe thead th {\n",
       "        text-align: right;\n",
       "    }\n",
       "</style>\n",
       "<table border=\"1\" class=\"dataframe\">\n",
       "  <thead>\n",
       "    <tr style=\"text-align: right;\">\n",
       "      <th></th>\n",
       "      <th>zper</th>\n",
       "      <th>year</th>\n",
       "      <th>cost</th>\n",
       "      <th>xage</th>\n",
       "      <th>disea</th>\n",
       "      <th>physlm</th>\n",
       "      <th>mhi</th>\n",
       "      <th>xghindx</th>\n",
       "      <th>logc</th>\n",
       "      <th>idp</th>\n",
       "      <th>...</th>\n",
       "      <th>fmde</th>\n",
       "      <th>linc</th>\n",
       "      <th>lfam</th>\n",
       "      <th>female</th>\n",
       "      <th>black</th>\n",
       "      <th>educdec</th>\n",
       "      <th>hlthg</th>\n",
       "      <th>hlthf</th>\n",
       "      <th>hlthp</th>\n",
       "      <th>cost_prev</th>\n",
       "    </tr>\n",
       "  </thead>\n",
       "  <tbody>\n",
       "    <tr>\n",
       "      <th>1</th>\n",
       "      <td>125024</td>\n",
       "      <td>2</td>\n",
       "      <td>62.075473</td>\n",
       "      <td>43.87748</td>\n",
       "      <td>13.731887</td>\n",
       "      <td>0.0</td>\n",
       "      <td>95.0</td>\n",
       "      <td>65.207802</td>\n",
       "      <td>0.0</td>\n",
       "      <td>1</td>\n",
       "      <td>...</td>\n",
       "      <td>0.0</td>\n",
       "      <td>9.528776</td>\n",
       "      <td>1.386294</td>\n",
       "      <td>0</td>\n",
       "      <td>1.0</td>\n",
       "      <td>12.0</td>\n",
       "      <td>1</td>\n",
       "      <td>0</td>\n",
       "      <td>0</td>\n",
       "      <td>8.451119</td>\n",
       "    </tr>\n",
       "    <tr>\n",
       "      <th>2</th>\n",
       "      <td>125024</td>\n",
       "      <td>3</td>\n",
       "      <td>0.000000</td>\n",
       "      <td>44.87748</td>\n",
       "      <td>13.731887</td>\n",
       "      <td>0.0</td>\n",
       "      <td>95.0</td>\n",
       "      <td>65.207802</td>\n",
       "      <td>0.0</td>\n",
       "      <td>1</td>\n",
       "      <td>...</td>\n",
       "      <td>0.0</td>\n",
       "      <td>9.528776</td>\n",
       "      <td>1.386294</td>\n",
       "      <td>0</td>\n",
       "      <td>1.0</td>\n",
       "      <td>12.0</td>\n",
       "      <td>1</td>\n",
       "      <td>0</td>\n",
       "      <td>0</td>\n",
       "      <td>62.075473</td>\n",
       "    </tr>\n",
       "    <tr>\n",
       "      <th>3</th>\n",
       "      <td>125024</td>\n",
       "      <td>4</td>\n",
       "      <td>0.000000</td>\n",
       "      <td>45.87748</td>\n",
       "      <td>13.731887</td>\n",
       "      <td>0.0</td>\n",
       "      <td>95.0</td>\n",
       "      <td>65.207802</td>\n",
       "      <td>0.0</td>\n",
       "      <td>1</td>\n",
       "      <td>...</td>\n",
       "      <td>0.0</td>\n",
       "      <td>9.528776</td>\n",
       "      <td>1.386294</td>\n",
       "      <td>0</td>\n",
       "      <td>1.0</td>\n",
       "      <td>12.0</td>\n",
       "      <td>1</td>\n",
       "      <td>0</td>\n",
       "      <td>0</td>\n",
       "      <td>0.000000</td>\n",
       "    </tr>\n",
       "  </tbody>\n",
       "</table>\n",
       "<p>3 rows × 21 columns</p>\n",
       "</div>"
      ],
      "text/plain": [
       "     zper  year       cost      xage      disea  physlm   mhi    xghindx  \\\n",
       "1  125024     2  62.075473  43.87748  13.731887     0.0  95.0  65.207802   \n",
       "2  125024     3   0.000000  44.87748  13.731887     0.0  95.0  65.207802   \n",
       "3  125024     4   0.000000  45.87748  13.731887     0.0  95.0  65.207802   \n",
       "\n",
       "   logc  idp  ...  fmde      linc      lfam  female  black  educdec  hlthg  \\\n",
       "1   0.0    1  ...   0.0  9.528776  1.386294       0    1.0     12.0      1   \n",
       "2   0.0    1  ...   0.0  9.528776  1.386294       0    1.0     12.0      1   \n",
       "3   0.0    1  ...   0.0  9.528776  1.386294       0    1.0     12.0      1   \n",
       "\n",
       "   hlthf  hlthp  cost_prev  \n",
       "1      0      0   8.451119  \n",
       "2      0      0  62.075473  \n",
       "3      0      0   0.000000  \n",
       "\n",
       "[3 rows x 21 columns]"
      ]
     },
     "execution_count": 6,
     "metadata": {},
     "output_type": "execute_result"
    }
   ],
   "source": [
    "RandHIE2 = RandHIE2.merge(m, how = 'left', on=['zper','year'])\n",
    "del m\n",
    "RandHIE2 = RandHIE2[RandHIE2.cost_prev.notnull()]\n",
    "RandHIE2.head(3)"
   ]
  },
  {
   "cell_type": "markdown",
   "metadata": {},
   "source": [
    "### Transform Variables \n",
    "\n"
   ]
  },
  {
   "cell_type": "code",
   "execution_count": 7,
   "metadata": {},
   "outputs": [],
   "source": [
    "col_use = []"
   ]
  },
  {
   "cell_type": "markdown",
   "metadata": {},
   "source": [
    "We start with cost:"
   ]
  },
  {
   "cell_type": "code",
   "execution_count": 9,
   "metadata": {},
   "outputs": [
    {
     "data": {
      "text/plain": [
       "<matplotlib.axes._subplots.AxesSubplot at 0x1b1516fcfd0>"
      ]
     },
     "execution_count": 9,
     "metadata": {},
     "output_type": "execute_result"
    },
    {
     "data": {
      "image/png": "[encoded data removed]",
      "text/plain": [
       "<Figure size 432x288 with 1 Axes>"
      ]
     },
     "metadata": {
      "needs_background": "light"
     },
     "output_type": "display_data"
    }
   ],
   "source": [
    "step = 20\n",
    "lmax = 500\n",
    "bin_range = np.arange(0, lmax + step, step).tolist()\n",
    "bin_range.append(float('inf'))\n",
    "out, bins  = pd.cut(RandHIE2.cost, bins = bin_range, include_lowest=True, right=False, retbins=True)\n",
    "out.value_counts(sort=False).plot.bar()"
   ]
  },
  {
   "cell_type": "code",
   "execution_count": 9,
   "metadata": {},
   "outputs": [
    {
     "data": {
      "text/plain": [
       "<matplotlib.axes._subplots.AxesSubplot at 0x2bfda67be80>"
      ]
     },
     "execution_count": 9,
     "metadata": {},
     "output_type": "execute_result"
    },
    {
     "data": {
      "image/png": "[encoded data removed]",
      "text/plain": [
       "<Figure size 432x288 with 1 Axes>"
      ]
     },
     "metadata": {
      "needs_background": "light"
     },
     "output_type": "display_data"
    }
   ],
   "source": [
    "step = 1\n",
    "bin_range = np.arange(-1, 11, step)\n",
    "out, bins  = pd.cut(np.log(RandHIE2.cost + 0.5), bins=bin_range, include_lowest=True, right=False, retbins=True)\n",
    "out.value_counts(sort=False).plot.bar()"
   ]
  },
  {
   "cell_type": "code",
   "execution_count": 10,
   "metadata": {},
   "outputs": [],
   "source": [
    "RandHIE2.cost = np.log(RandHIE2.cost + 0.5)\n",
    "col_use.append('cost')\n",
    "RandHIE2.cost_prev = np.log(RandHIE2.cost_prev + 0.5)\n",
    "col_use.append('cost_prev')"
   ]
  },
  {
   "cell_type": "markdown",
   "metadata": {},
   "source": [
    "We now procede to work with columns that need logarithm applied:"
   ]
  },
  {
   "cell_type": "code",
   "execution_count": 11,
   "metadata": {},
   "outputs": [],
   "source": [
    "lcolumns = ['xage', 'disea', 'mhi', 'xghindx', 'educdec']\n",
    "\n",
    "for c in lcolumns:\n",
    "    RandHIE2['l' + c] = np.log(RandHIE2[c] + 0.5)\n",
    "    col_use.append('l' + c)"
   ]
  },
  {
   "cell_type": "markdown",
   "metadata": {},
   "source": [
    "We transform variables that should be dummyes but have some rare values "
   ]
  },
  {
   "cell_type": "code",
   "execution_count": 12,
   "metadata": {},
   "outputs": [],
   "source": [
    "RandHIE2.physlm = np.ceil(RandHIE2.physlm)\n",
    "RandHIE2.black = np.ceil(RandHIE2.black)"
   ]
  },
  {
   "cell_type": "markdown",
   "metadata": {},
   "source": [
    "We join the variables that should not be touched:"
   ]
  },
  {
   "cell_type": "code",
   "execution_count": 13,
   "metadata": {},
   "outputs": [],
   "source": [
    "col_leave = ['year', 'logc', 'lpi', 'fmde', 'linc', 'lfam', 'physlm', 'idp', 'female', 'black', 'hlthg', 'hlthf', 'hlthp']\n",
    "col_use += col_leave"
   ]
  },
  {
   "cell_type": "code",
   "execution_count": 14,
   "metadata": {},
   "outputs": [
    {
     "data": {
      "text/html": [
       "<div>\n",
       "<style scoped>\n",
       "    .dataframe tbody tr th:only-of-type {\n",
       "        vertical-align: middle;\n",
       "    }\n",
       "\n",
       "    .dataframe tbody tr th {\n",
       "        vertical-align: top;\n",
       "    }\n",
       "\n",
       "    .dataframe thead th {\n",
       "        text-align: right;\n",
       "    }\n",
       "</style>\n",
       "<table border=\"1\" class=\"dataframe\">\n",
       "  <thead>\n",
       "    <tr style=\"text-align: right;\">\n",
       "      <th></th>\n",
       "      <th>cost</th>\n",
       "      <th>cost_prev</th>\n",
       "      <th>lxage</th>\n",
       "      <th>ldisea</th>\n",
       "      <th>lmhi</th>\n",
       "      <th>lxghindx</th>\n",
       "      <th>leducdec</th>\n",
       "      <th>year</th>\n",
       "      <th>logc</th>\n",
       "      <th>lpi</th>\n",
       "      <th>fmde</th>\n",
       "      <th>linc</th>\n",
       "      <th>lfam</th>\n",
       "      <th>physlm</th>\n",
       "      <th>idp</th>\n",
       "      <th>female</th>\n",
       "      <th>black</th>\n",
       "      <th>hlthg</th>\n",
       "      <th>hlthf</th>\n",
       "      <th>hlthp</th>\n",
       "    </tr>\n",
       "  </thead>\n",
       "  <tbody>\n",
       "    <tr>\n",
       "      <th>1</th>\n",
       "      <td>4.136373</td>\n",
       "      <td>2.191779</td>\n",
       "      <td>3.792732</td>\n",
       "      <td>2.655485</td>\n",
       "      <td>4.559126</td>\n",
       "      <td>4.185218</td>\n",
       "      <td>2.525729</td>\n",
       "      <td>2</td>\n",
       "      <td>0.0</td>\n",
       "      <td>6.907755</td>\n",
       "      <td>0.0</td>\n",
       "      <td>9.528776</td>\n",
       "      <td>1.386294</td>\n",
       "      <td>0.0</td>\n",
       "      <td>1</td>\n",
       "      <td>0</td>\n",
       "      <td>1.0</td>\n",
       "      <td>1</td>\n",
       "      <td>0</td>\n",
       "      <td>0</td>\n",
       "    </tr>\n",
       "    <tr>\n",
       "      <th>2</th>\n",
       "      <td>-0.693147</td>\n",
       "      <td>4.136373</td>\n",
       "      <td>3.815016</td>\n",
       "      <td>2.655485</td>\n",
       "      <td>4.559126</td>\n",
       "      <td>4.185218</td>\n",
       "      <td>2.525729</td>\n",
       "      <td>3</td>\n",
       "      <td>0.0</td>\n",
       "      <td>6.907755</td>\n",
       "      <td>0.0</td>\n",
       "      <td>9.528776</td>\n",
       "      <td>1.386294</td>\n",
       "      <td>0.0</td>\n",
       "      <td>1</td>\n",
       "      <td>0</td>\n",
       "      <td>1.0</td>\n",
       "      <td>1</td>\n",
       "      <td>0</td>\n",
       "      <td>0</td>\n",
       "    </tr>\n",
       "    <tr>\n",
       "      <th>3</th>\n",
       "      <td>-0.693147</td>\n",
       "      <td>-0.693147</td>\n",
       "      <td>3.836814</td>\n",
       "      <td>2.655485</td>\n",
       "      <td>4.559126</td>\n",
       "      <td>4.185218</td>\n",
       "      <td>2.525729</td>\n",
       "      <td>4</td>\n",
       "      <td>0.0</td>\n",
       "      <td>6.907755</td>\n",
       "      <td>0.0</td>\n",
       "      <td>9.528776</td>\n",
       "      <td>1.386294</td>\n",
       "      <td>0.0</td>\n",
       "      <td>1</td>\n",
       "      <td>0</td>\n",
       "      <td>1.0</td>\n",
       "      <td>1</td>\n",
       "      <td>0</td>\n",
       "      <td>0</td>\n",
       "    </tr>\n",
       "  </tbody>\n",
       "</table>\n",
       "</div>"
      ],
      "text/plain": [
       "       cost  cost_prev     lxage    ldisea      lmhi  lxghindx  leducdec  \\\n",
       "1  4.136373   2.191779  3.792732  2.655485  4.559126  4.185218  2.525729   \n",
       "2 -0.693147   4.136373  3.815016  2.655485  4.559126  4.185218  2.525729   \n",
       "3 -0.693147  -0.693147  3.836814  2.655485  4.559126  4.185218  2.525729   \n",
       "\n",
       "   year  logc       lpi  fmde      linc      lfam  physlm  idp  female  black  \\\n",
       "1     2   0.0  6.907755   0.0  9.528776  1.386294     0.0    1       0    1.0   \n",
       "2     3   0.0  6.907755   0.0  9.528776  1.386294     0.0    1       0    1.0   \n",
       "3     4   0.0  6.907755   0.0  9.528776  1.386294     0.0    1       0    1.0   \n",
       "\n",
       "   hlthg  hlthf  hlthp  \n",
       "1      1      0      0  \n",
       "2      1      0      0  \n",
       "3      1      0      0  "
      ]
     },
     "execution_count": 14,
     "metadata": {},
     "output_type": "execute_result"
    }
   ],
   "source": [
    "RandHIE2 = RandHIE2[col_use]\n",
    "RandHIE2.head(3)"
   ]
  },
  {
   "cell_type": "markdown",
   "metadata": {},
   "source": [
    "### Create Train, Validation and Test Data"
   ]
  },
  {
   "cell_type": "code",
   "execution_count": 15,
   "metadata": {},
   "outputs": [
    {
     "data": {
      "text/plain": [
       "3    3238\n",
       "2    3205\n",
       "5    1022\n",
       "4    1004\n",
       "Name: year, dtype: int64"
      ]
     },
     "execution_count": 15,
     "metadata": {},
     "output_type": "execute_result"
    }
   ],
   "source": [
    "RandHIE2.year.value_counts()"
   ]
  },
  {
   "cell_type": "code",
   "execution_count": 16,
   "metadata": {},
   "outputs": [],
   "source": [
    "Rand_train = RandHIE2[RandHIE2.year < 4].copy()\n",
    "Rand_valid = RandHIE2[RandHIE2.year == 4].copy()\n",
    "Rand_test = RandHIE2[RandHIE2.year == 5].copy()\n",
    "del RandHIE2"
   ]
  },
  {
   "cell_type": "markdown",
   "metadata": {},
   "source": [
    "### Write "
   ]
  },
  {
   "cell_type": "code",
   "execution_count": 17,
   "metadata": {},
   "outputs": [],
   "source": [
    "Rand_train = Rand_train.reset_index(drop=True)\n",
    "Rand_valid = Rand_valid.reset_index(drop=True)\n",
    "Rand_test = Rand_test.reset_index(drop=True)"
   ]
  },
  {
   "cell_type": "code",
   "execution_count": 19,
   "metadata": {},
   "outputs": [],
   "source": [
    "Rand_train.to_csv(\"dep\\\\Rand_train.csv\", index=False)\n",
    "Rand_valid.to_csv(\"dep\\\\Rand_valid.csv\", index=False)\n",
    "Rand_test.to_csv(\"dep\\\\Rand_test.csv\", index=False)"
   ]
  }
 ],
 "metadata": {
  "kernelspec": {
   "display_name": "Python 3",
   "language": "python",
   "name": "python3"
  },
  "language_info": {
   "codemirror_mode": {
    "name": "ipython",
    "version": 3
   },
   "file_extension": ".py",
   "mimetype": "text/x-python",
   "name": "python",
   "nbconvert_exporter": "python",
   "pygments_lexer": "ipython3",
   "version": "3.6.6"
  }
 },
 "nbformat": 4,
 "nbformat_minor": 2
}
