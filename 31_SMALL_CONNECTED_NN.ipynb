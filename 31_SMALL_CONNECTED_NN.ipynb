{
 "cells": [
  {
   "cell_type": "code",
   "execution_count": 1,
   "metadata": {},
   "outputs": [],
   "source": [
    "import os\n",
    "import pandas as pd\n",
    "import numpy as np\n",
    "from sklearn.utils import shuffle\n",
    "import torch.nn as nn\n",
    "import torch\n",
    "import torch.optim as optim\n",
    "import matplotlib.pyplot as plt\n",
    "import torch.nn.functional as F"
   ]
  },
  {
   "cell_type": "code",
   "execution_count": null,
   "metadata": {},
   "outputs": [],
   "source": []
  },
  {
   "cell_type": "code",
   "execution_count": 2,
   "metadata": {},
   "outputs": [],
   "source": [
    "np.random.seed(1232)\n",
    "os.chdir('C:\\\\Users\\\\rober\\\\Desktop\\\\RAND_pro\\\\Data\\\\dep')\n",
    "data = pd.read_csv(\"Rand_train.csv\", sep=',')\n",
    "data_val = pd.read_csv(\"Rand_valid.csv\", sep=',')"
   ]
  },
  {
   "cell_type": "code",
   "execution_count": 3,
   "metadata": {},
   "outputs": [],
   "source": [
    "data.cost = (np.exp(data.cost) - 0.5)*((data.cost != 0) * 1)\n",
    "data_val.cost = (np.exp(data_val.cost) - 0.5)*((data_val.cost != 0) * 1)\n",
    "data = shuffle(data).reset_index(drop=True)\n",
    "data = data.drop(['fmde', 'lxghindx', 'lpi'], axis=1)\n",
    "data_val = data_val.drop(['fmde', 'lxghindx', 'lpi'], axis=1)"
   ]
  },
  {
   "cell_type": "code",
   "execution_count": 4,
   "metadata": {},
   "outputs": [],
   "source": [
    "X = data.iloc[:,1:]\n",
    "Y = data.iloc[:,0]\n",
    "X_val = data_val.iloc[:,1:]\n",
    "Y_val = data_val.iloc[:,0]\n",
    "\n",
    "ranking = np.load('ranking.npy')\n",
    "\n",
    "my_index = X.columns.values[ranking]\n",
    "X2 = X[my_index]\n",
    "X2_val = X_val[my_index]"
   ]
  },
  {
   "cell_type": "code",
   "execution_count": 5,
   "metadata": {},
   "outputs": [],
   "source": [
    "cut = 0\n",
    "y1 = (Y <= cut) * 1\n",
    "y2 = (Y > cut) * (-1) * (-Y)\n",
    "Y2 = np.stack((y1, y2), axis=-1)\n",
    "\n",
    "y1_val = (Y_val <= cut) * 1\n",
    "y2_val = (Y_val > cut) * (-1) * (-Y_val)\n",
    "Y2_val = np.stack((y1_val, y2_val), axis=-1)"
   ]
  },
  {
   "cell_type": "code",
   "execution_count": null,
   "metadata": {},
   "outputs": [],
   "source": []
  },
  {
   "cell_type": "code",
   "execution_count": 6,
   "metadata": {},
   "outputs": [],
   "source": [
    "os.chdir('C:\\\\Users\\\\rober\\\\Desktop\\\\RAND_pro\\\\prog_calc')\n",
    "from fit5_nn import fit"
   ]
  },
  {
   "cell_type": "code",
   "execution_count": 7,
   "metadata": {},
   "outputs": [],
   "source": [
    "class Net1(nn.Module):\n",
    "    def __init__(self):\n",
    "        super(Net1, self).__init__()\n",
    "        \n",
    "        self.fc11 = nn.Linear(16, 24, bias=False)\n",
    "        self.fc12 = nn.Linear(24, 1, bias=False)\n",
    "        \n",
    "        self.fc21 = nn.Linear(16, 24)\n",
    "        self.fc22 = nn.Linear(24, 5)\n",
    "        self.fc23 = nn.Linear(5, 1)\n",
    "        \n",
    "        self.fc31 = nn.Linear(2,2, bias=False)\n",
    "        \n",
    "    def disc_activation(self, h):\n",
    "        v1 = torch.sigmoid(h[:,0])\n",
    "        v2 = torch.exp(h[:,1])\n",
    "        return torch.stack((v1, v2), dim=1)\n",
    "                \n",
    "    def forward(self, x):\n",
    "        x1 = torch.tanh(self.fc11(x))\n",
    "        x1 = self.fc12(x1)\n",
    "        \n",
    "        x2 = self.fc21(x)\n",
    "        x2 = F.relu(self.fc22(x2))\n",
    "        x2 = self.fc23(x2)              \n",
    "        \n",
    "        x3 = torch.cat((x1, x2), 1)\n",
    "        x3 = self.fc31(x3)\n",
    "        x3 = self.disc_activation(x3)\n",
    "        return x3"
   ]
  },
  {
   "cell_type": "code",
   "execution_count": null,
   "metadata": {},
   "outputs": [],
   "source": []
  },
  {
   "cell_type": "code",
   "execution_count": 8,
   "metadata": {},
   "outputs": [],
   "source": [
    "def comb_error(output, target):\n",
    "    output = (output + 0.0001)*0.999\n",
    "    logErr1 = -1 * torch.log(output) * target[:,0].view(1,-1).t()\n",
    "    logErr2 = -1 * torch.log(1 - output) * (1 - target[:,0].view(1,-1)).t()\n",
    "    mseErr = torch.pow(target - output, 2) * (1 - target[:,0].view(1,-1)).t()\n",
    "    return (1/output.shape[0]) * (torch.sum(logErr1,dim=0)[0] + torch.sum(logErr2,dim=0)[0] + (1/(2*950000))*torch.sum(mseErr,dim=0)[1])"
   ]
  },
  {
   "cell_type": "code",
   "execution_count": 9,
   "metadata": {},
   "outputs": [],
   "source": [
    "n_epochs = 5000\n",
    "lr = 0.001\n",
    "verbose = 1\n",
    "n_batches = 6\n",
    "batch_to_avg = 2\n",
    "ep_to_check = 10\n",
    "clipping = 0.20\n",
    "PATH = 'C:\\\\Users\\\\rober\\\\Desktop\\\\RAND_pro\\\\Data\\\\checkpoints\\\\mytraining8.pt'\n",
    "device = torch.device(\"cuda:0\" if torch.cuda.is_available() else \"cpu\")"
   ]
  },
  {
   "cell_type": "code",
   "execution_count": 10,
   "metadata": {},
   "outputs": [
    {
     "name": "stdout",
     "output_type": "stream",
     "text": [
      "Epoch 1: Training Loss: 0.7806307474772135, Validation Loss: 0.8466624617576599\n",
      "Epoch 2: Training Loss: 0.7806095679601034, Validation Loss: 0.8464784622192383\n",
      "Epoch 3: Training Loss: 0.7806140879789988, Validation Loss: 0.8467112183570862\n",
      "Epoch 4: Training Loss: 0.780598521232605, Validation Loss: 0.8467710614204407\n",
      "Epoch 5: Training Loss: 0.7805958688259125, Validation Loss: 0.8467114567756653\n",
      "Epoch 6: Training Loss: 0.7805816928545634, Validation Loss: 0.8466715812683105\n",
      "Epoch 7: Training Loss: 0.7805749575297037, Validation Loss: 0.8466504216194153\n",
      "Epoch 8: Training Loss: 0.7806007464726766, Validation Loss: 0.8464717864990234\n",
      "Epoch 9: Training Loss: 0.7805750469366709, Validation Loss: 0.8466772437095642\n",
      "Epoch 10: Training Loss: 0.7805677751700083, Validation Loss: 0.8467165231704712\n",
      "Epoch 11: Training Loss: 0.7805862724781036, Validation Loss: 0.8464617133140564\n",
      "New Checkpoint Saved into PATH\n",
      "Epoch 12: Training Loss: 0.7805618643760681, Validation Loss: 0.8464676141738892\n",
      "Epoch 13: Training Loss: 0.7805637816588084, Validation Loss: 0.846672773361206\n",
      "Epoch 14: Training Loss: 0.7805494765440623, Validation Loss: 0.8469398617744446\n",
      "Epoch 15: Training Loss: 0.7805737555027008, Validation Loss: 0.8473542332649231\n",
      "Epoch 16: Training Loss: 0.7805430392424265, Validation Loss: 0.8473379611968994\n",
      "Epoch 17: Training Loss: 0.7805353899796804, Validation Loss: 0.8472090363502502\n",
      "Epoch 18: Training Loss: 0.7805259227752686, Validation Loss: 0.8468561172485352\n",
      "Epoch 19: Training Loss: 0.7805345257123312, Validation Loss: 0.8462764024734497\n",
      "Epoch 20: Training Loss: 0.7805585861206055, Validation Loss: 0.8458307981491089\n",
      "Epoch 21: Training Loss: 0.7805254062016805, Validation Loss: 0.8458929061889648\n",
      "Epoch 22: Training Loss: 0.7805111706256866, Validation Loss: 0.8459356427192688\n",
      "Epoch 23: Training Loss: 0.7805066307385763, Validation Loss: 0.8458622097969055\n",
      "Epoch 24: Training Loss: 0.7805062433083853, Validation Loss: 0.8458890914916992\n",
      "Epoch 25: Training Loss: 0.78048508365949, Validation Loss: 0.8461030125617981\n",
      "Epoch 26: Training Loss: 0.7804954747358958, Validation Loss: 0.8465600609779358\n",
      "Epoch 27: Training Loss: 0.7805028806130091, Validation Loss: 0.8467845916748047\n",
      "Epoch 28: Training Loss: 0.7804614504178365, Validation Loss: 0.8468899130821228\n",
      "Epoch 29: Training Loss: 0.780470093091329, Validation Loss: 0.8467621803283691\n",
      "Epoch 30: Training Loss: 0.7804566224416097, Validation Loss: 0.8470503091812134\n",
      "Epoch 31: Training Loss: 0.7804506619771322, Validation Loss: 0.846901535987854\n",
      "New Checkpoint Saved into PATH\n",
      "Epoch 32: Training Loss: 0.7804563144842783, Validation Loss: 0.847277820110321\n",
      "Epoch 33: Training Loss: 0.7804612020651499, Validation Loss: 0.8470223546028137\n",
      "Epoch 34: Training Loss: 0.7804717222849528, Validation Loss: 0.8465582728385925\n",
      "Epoch 35: Training Loss: 0.7804231643676758, Validation Loss: 0.8464837074279785\n",
      "Epoch 36: Training Loss: 0.7804509401321411, Validation Loss: 0.846886157989502\n",
      "Epoch 37: Training Loss: 0.7804307440916697, Validation Loss: 0.8470958471298218\n",
      "Epoch 38: Training Loss: 0.7804156343142191, Validation Loss: 0.8467462062835693\n",
      "Epoch 39: Training Loss: 0.7804005940755209, Validation Loss: 0.8465490937232971\n",
      "Epoch 40: Training Loss: 0.7803990542888641, Validation Loss: 0.8466594219207764\n",
      "Epoch 41: Training Loss: 0.7804575562477112, Validation Loss: 0.8472227454185486\n",
      "Epoch 42: Training Loss: 0.7804085810979208, Validation Loss: 0.8470169901847839\n",
      "Epoch 43: Training Loss: 0.7804020444552103, Validation Loss: 0.8467926383018494\n",
      "Epoch 44: Training Loss: 0.7803893089294434, Validation Loss: 0.8465768098831177\n",
      "Epoch 45: Training Loss: 0.7803830703099569, Validation Loss: 0.8467742204666138\n",
      "Epoch 46: Training Loss: 0.7803689340750376, Validation Loss: 0.8467388153076172\n",
      "Epoch 47: Training Loss: 0.7804271976153055, Validation Loss: 0.8464525938034058\n",
      "Epoch 48: Training Loss: 0.7803653279940287, Validation Loss: 0.8467568159103394\n",
      "Epoch 49: Training Loss: 0.780353824297587, Validation Loss: 0.8467742800712585\n",
      "Epoch 50: Training Loss: 0.7803545196851095, Validation Loss: 0.8470928072929382\n",
      "Epoch 51: Training Loss: 0.7803427974383036, Validation Loss: 0.8470901250839233\n",
      "Epoch 52: Training Loss: 0.7803519268830618, Validation Loss: 0.846652626991272\n",
      "Epoch 53: Training Loss: 0.7804130017757416, Validation Loss: 0.8460627794265747\n",
      "Epoch 54: Training Loss: 0.7803854246934255, Validation Loss: 0.8457905650138855\n",
      "Epoch 55: Training Loss: 0.7803510427474976, Validation Loss: 0.8461335897445679\n",
      "Epoch 56: Training Loss: 0.7803456485271454, Validation Loss: 0.846218466758728\n",
      "Epoch 57: Training Loss: 0.7803188463052114, Validation Loss: 0.8464280366897583\n",
      "Epoch 58: Training Loss: 0.7803909480571747, Validation Loss: 0.8471454977989197\n",
      "Epoch 59: Training Loss: 0.7802956700325012, Validation Loss: 0.8474726676940918\n",
      "Epoch 60: Training Loss: 0.7803248564402262, Validation Loss: 0.8476749062538147\n",
      "Epoch 61: Training Loss: 0.7803703943888346, Validation Loss: 0.8474121689796448\n",
      "Epoch 62: Training Loss: 0.7803138097127279, Validation Loss: 0.8474631309509277\n",
      "Epoch 63: Training Loss: 0.7803434530893961, Validation Loss: 0.8468197584152222\n",
      "Epoch 64: Training Loss: 0.7803148726622263, Validation Loss: 0.8467739820480347\n",
      "Epoch 65: Training Loss: 0.7803130944569906, Validation Loss: 0.846580982208252\n",
      "Epoch 66: Training Loss: 0.7803015808264414, Validation Loss: 0.8464797139167786\n",
      "Epoch 67: Training Loss: 0.7802743315696716, Validation Loss: 0.8463725447654724\n",
      "Epoch 68: Training Loss: 0.78026615579923, Validation Loss: 0.8463756442070007\n",
      "Epoch 69: Training Loss: 0.7803039252758026, Validation Loss: 0.8464136123657227\n",
      "Epoch 70: Training Loss: 0.7802579800287882, Validation Loss: 0.8463678359985352\n",
      "Epoch 71: Training Loss: 0.7802976369857788, Validation Loss: 0.8460693955421448\n",
      "Epoch 72: Training Loss: 0.7803026934464773, Validation Loss: 0.8464410305023193\n",
      "Epoch 73: Training Loss: 0.7802832225958506, Validation Loss: 0.8468639254570007\n",
      "Epoch 74: Training Loss: 0.7802316248416901, Validation Loss: 0.8470579385757446\n",
      "Epoch 75: Training Loss: 0.7802288035551707, Validation Loss: 0.8471338748931885\n",
      "Epoch 76: Training Loss: 0.7802305122216543, Validation Loss: 0.8469752669334412\n",
      "Epoch 77: Training Loss: 0.7802088558673859, Validation Loss: 0.8471928238868713\n",
      "Epoch 78: Training Loss: 0.7802050411701202, Validation Loss: 0.8473790884017944\n",
      "Epoch 79: Training Loss: 0.7801923056443533, Validation Loss: 0.8474761843681335\n",
      "Epoch 80: Training Loss: 0.7801908055941263, Validation Loss: 0.8472530841827393\n",
      "Epoch 81: Training Loss: 0.7801951865355173, Validation Loss: 0.8473157286643982\n",
      "Epoch 82: Training Loss: 0.7802063425381979, Validation Loss: 0.846825897693634\n",
      "Epoch 83: Training Loss: 0.7801845669746399, Validation Loss: 0.8470490574836731\n",
      "Epoch 84: Training Loss: 0.7801857690016428, Validation Loss: 0.8471252918243408\n",
      "Epoch 85: Training Loss: 0.7801558574040731, Validation Loss: 0.8467136025428772\n",
      "Epoch 86: Training Loss: 0.7801796098550161, Validation Loss: 0.8467949628829956\n",
      "Epoch 87: Training Loss: 0.7801477213700613, Validation Loss: 0.8467784523963928\n",
      "Epoch 88: Training Loss: 0.7801556487878164, Validation Loss: 0.8469465374946594\n",
      "Epoch 89: Training Loss: 0.7801350752512614, Validation Loss: 0.8470359444618225\n",
      "Epoch 90: Training Loss: 0.7801457742849985, Validation Loss: 0.8470301032066345\n",
      "Epoch 91: Training Loss: 0.7801280121008555, Validation Loss: 0.8472082614898682\n",
      "Epoch 92: Training Loss: 0.7801226874192556, Validation Loss: 0.8473713397979736\n",
      "Epoch 93: Training Loss: 0.7801236013571421, Validation Loss: 0.8475013971328735\n",
      "Epoch 94: Training Loss: 0.7801582912604014, Validation Loss: 0.8479296565055847\n",
      "Epoch 95: Training Loss: 0.7801280319690704, Validation Loss: 0.847820520401001\n",
      "Epoch 96: Training Loss: 0.7801139752070109, Validation Loss: 0.8474879860877991\n",
      "Epoch 97: Training Loss: 0.7800885935624441, Validation Loss: 0.8471264243125916\n",
      "Epoch 98: Training Loss: 0.780080666144689, Validation Loss: 0.8468753695487976\n",
      "Epoch 99: Training Loss: 0.780198315779368, Validation Loss: 0.8461944460868835\n",
      "Epoch 100: Training Loss: 0.780114471912384, Validation Loss: 0.8460948467254639\n",
      "Epoch 101: Training Loss: 0.7801146904627482, Validation Loss: 0.8460289835929871\n"
     ]
    },
    {
     "name": "stdout",
     "output_type": "stream",
     "text": [
      "Epoch 102: Training Loss: 0.7801117102305094, Validation Loss: 0.8462183475494385\n",
      "Epoch 103: Training Loss: 0.7800803581873575, Validation Loss: 0.8464449048042297\n",
      "Epoch 104: Training Loss: 0.78006179134051, Validation Loss: 0.8465957045555115\n",
      "Epoch 105: Training Loss: 0.780077338218689, Validation Loss: 0.8466130495071411\n",
      "Epoch 106: Training Loss: 0.780038595199585, Validation Loss: 0.8468419313430786\n",
      "Epoch 107: Training Loss: 0.7800651788711548, Validation Loss: 0.847198486328125\n",
      "Epoch 108: Training Loss: 0.7800802290439606, Validation Loss: 0.846712052822113\n",
      "Epoch 109: Training Loss: 0.7800788879394531, Validation Loss: 0.8465145230293274\n",
      "Epoch 110: Training Loss: 0.7800275981426239, Validation Loss: 0.8467604517936707\n",
      "Epoch 111: Training Loss: 0.7801224291324615, Validation Loss: 0.8475579023361206\n",
      "Epoch 112: Training Loss: 0.7800412575403849, Validation Loss: 0.8476751446723938\n",
      "Epoch 113: Training Loss: 0.7800476849079132, Validation Loss: 0.8478381633758545\n",
      "Epoch 114: Training Loss: 0.7800720036029816, Validation Loss: 0.84820157289505\n",
      "Epoch 115: Training Loss: 0.7800748546918234, Validation Loss: 0.8484796285629272\n",
      "Epoch 116: Training Loss: 0.7800785005092621, Validation Loss: 0.8486812710762024\n",
      "Epoch 117: Training Loss: 0.7800969382127126, Validation Loss: 0.8485803008079529\n",
      "Epoch 118: Training Loss: 0.7800799310207367, Validation Loss: 0.8478776812553406\n",
      "Epoch 119: Training Loss: 0.7799898187319437, Validation Loss: 0.847274124622345\n",
      "Epoch 120: Training Loss: 0.7800430953502655, Validation Loss: 0.846727728843689\n",
      "Epoch 121: Training Loss: 0.7799940903981527, Validation Loss: 0.8466605544090271\n",
      "Epoch 122: Training Loss: 0.7799805700778961, Validation Loss: 0.8464643359184265\n",
      "Epoch 123: Training Loss: 0.7800218363602957, Validation Loss: 0.8461681604385376\n",
      "Epoch 124: Training Loss: 0.7800047099590302, Validation Loss: 0.8463073968887329\n",
      "Epoch 125: Training Loss: 0.779983639717102, Validation Loss: 0.8464621901512146\n",
      "Epoch 126: Training Loss: 0.7799680133660635, Validation Loss: 0.8465427160263062\n",
      "Epoch 127: Training Loss: 0.7799720168113708, Validation Loss: 0.8464655876159668\n",
      "Epoch 128: Training Loss: 0.7799525062243143, Validation Loss: 0.8467108011245728\n",
      "Epoch 129: Training Loss: 0.7799409131209055, Validation Loss: 0.8468344807624817\n",
      "Epoch 130: Training Loss: 0.7799621274073919, Validation Loss: 0.8472502827644348\n",
      "Epoch 131: Training Loss: 0.7799304028352102, Validation Loss: 0.8473140001296997\n",
      "Epoch 132: Training Loss: 0.7799170811971029, Validation Loss: 0.8475001454353333\n",
      "Epoch 133: Training Loss: 0.7799014349778494, Validation Loss: 0.8479974865913391\n",
      "Epoch 134: Training Loss: 0.7799512445926666, Validation Loss: 0.8483216166496277\n",
      "Epoch 135: Training Loss: 0.7799756824970245, Validation Loss: 0.8484893441200256\n",
      "Epoch 136: Training Loss: 0.7799847622712454, Validation Loss: 0.8481975793838501\n",
      "Epoch 137: Training Loss: 0.7799430588881174, Validation Loss: 0.8478145599365234\n",
      "Epoch 138: Training Loss: 0.7799146076043447, Validation Loss: 0.8478071093559265\n",
      "Epoch 139: Training Loss: 0.7799221575260162, Validation Loss: 0.8474944233894348\n",
      "Epoch 140: Training Loss: 0.779910127321879, Validation Loss: 0.8476031422615051\n",
      "Epoch 141: Training Loss: 0.7799187401930491, Validation Loss: 0.847228467464447\n",
      "Epoch 142: Training Loss: 0.7798830568790436, Validation Loss: 0.8472257256507874\n",
      "Epoch 143: Training Loss: 0.7799120545387268, Validation Loss: 0.8469855189323425\n",
      "Epoch 144: Training Loss: 0.7799134949843088, Validation Loss: 0.8472556471824646\n",
      "Epoch 145: Training Loss: 0.779875655968984, Validation Loss: 0.8473556041717529\n",
      "Epoch 146: Training Loss: 0.7799105445543925, Validation Loss: 0.8469275832176208\n",
      "Epoch 147: Training Loss: 0.7798715432484945, Validation Loss: 0.8470100164413452\n",
      "Epoch 148: Training Loss: 0.7798602283000946, Validation Loss: 0.8472171425819397\n",
      "Epoch 149: Training Loss: 0.7798538605372111, Validation Loss: 0.8472680449485779\n",
      "Epoch 150: Training Loss: 0.7798659404118856, Validation Loss: 0.8474831581115723\n",
      "Epoch 151: Training Loss: 0.7798589368661245, Validation Loss: 0.847610592842102\n",
      "Epoch 152: Training Loss: 0.779860258102417, Validation Loss: 0.8473395705223083\n",
      "Epoch 153: Training Loss: 0.7798371861378351, Validation Loss: 0.8473060727119446\n",
      "Epoch 154: Training Loss: 0.7798173129558563, Validation Loss: 0.8471206426620483\n",
      "Epoch 155: Training Loss: 0.779829204082489, Validation Loss: 0.8466002345085144\n",
      "Epoch 156: Training Loss: 0.77985147635142, Validation Loss: 0.8462507724761963\n",
      "Epoch 157: Training Loss: 0.7798137366771698, Validation Loss: 0.846646785736084\n",
      "Epoch 158: Training Loss: 0.7798464099566141, Validation Loss: 0.8469855785369873\n",
      "Epoch 159: Training Loss: 0.7798081735769907, Validation Loss: 0.847192108631134\n",
      "Epoch 160: Training Loss: 0.7798463106155396, Validation Loss: 0.8476079106330872\n",
      "Epoch 161: Training Loss: 0.7798371464014053, Validation Loss: 0.8480135202407837\n",
      "Epoch 162: Training Loss: 0.7798490325609843, Validation Loss: 0.8481396436691284\n",
      "Epoch 163: Training Loss: 0.7798810501893362, Validation Loss: 0.8485859036445618\n",
      "Epoch 164: Training Loss: 0.7798742552598318, Validation Loss: 0.8481616973876953\n",
      "Epoch 165: Training Loss: 0.779844323794047, Validation Loss: 0.8480176329612732\n",
      "Epoch 166: Training Loss: 0.7798272371292114, Validation Loss: 0.8478294610977173\n",
      "Epoch 167: Training Loss: 0.7798064847787222, Validation Loss: 0.8479563593864441\n",
      "Epoch 168: Training Loss: 0.7798161705334982, Validation Loss: 0.8474823832511902\n",
      "Epoch 169: Training Loss: 0.7797796328862509, Validation Loss: 0.847480833530426\n",
      "Epoch 170: Training Loss: 0.7798018952210745, Validation Loss: 0.8478976488113403\n",
      "Epoch 171: Training Loss: 0.7797684073448181, Validation Loss: 0.8478474020957947\n",
      "Epoch 172: Training Loss: 0.7797800600528717, Validation Loss: 0.8476837277412415\n",
      "Epoch 173: Training Loss: 0.7797673245271047, Validation Loss: 0.8476036190986633\n",
      "Epoch 174: Training Loss: 0.7797646820545197, Validation Loss: 0.8475927114486694\n",
      "Epoch 175: Training Loss: 0.7797687153021494, Validation Loss: 0.8475691080093384\n",
      "Epoch 176: Training Loss: 0.7797543108463287, Validation Loss: 0.8475909233093262\n",
      "Epoch 177: Training Loss: 0.7797702352205912, Validation Loss: 0.847403347492218\n",
      "Epoch 178: Training Loss: 0.7797288596630096, Validation Loss: 0.8476054668426514\n",
      "Epoch 179: Training Loss: 0.7797461648782095, Validation Loss: 0.8480530977249146\n",
      "Epoch 180: Training Loss: 0.7797528306643168, Validation Loss: 0.8481290936470032\n",
      "Epoch 181: Training Loss: 0.7797640363375345, Validation Loss: 0.8482245802879333\n"
     ]
    },
    {
     "ename": "KeyboardInterrupt",
     "evalue": "",
     "output_type": "error",
     "traceback": [
      "\u001b[1;31m---------------------------------------------------------------------------\u001b[0m",
      "\u001b[1;31mKeyboardInterrupt\u001b[0m                         Traceback (most recent call last)",
      "\u001b[1;32m<ipython-input-10-cd326a657e69>\u001b[0m in \u001b[0;36m<module>\u001b[1;34m\u001b[0m\n\u001b[0;32m      8\u001b[0m                 \u001b[0mn_epochs\u001b[0m\u001b[1;33m=\u001b[0m\u001b[0mn_epochs\u001b[0m\u001b[1;33m,\u001b[0m \u001b[0mn_batches\u001b[0m\u001b[1;33m=\u001b[0m\u001b[0mn_batches\u001b[0m\u001b[1;33m,\u001b[0m \u001b[0mbatch_to_avg\u001b[0m\u001b[1;33m=\u001b[0m\u001b[0mbatch_to_avg\u001b[0m\u001b[1;33m,\u001b[0m\u001b[1;33m\u001b[0m\u001b[0m\n\u001b[0;32m      9\u001b[0m                     \u001b[0mep_to_check\u001b[0m\u001b[1;33m=\u001b[0m\u001b[0mep_to_check\u001b[0m\u001b[1;33m,\u001b[0m \u001b[0mclipping\u001b[0m\u001b[1;33m=\u001b[0m\u001b[0mclipping\u001b[0m\u001b[1;33m,\u001b[0m \u001b[0mPATH\u001b[0m\u001b[1;33m=\u001b[0m\u001b[0mPATH\u001b[0m\u001b[1;33m,\u001b[0m \u001b[0mdevice\u001b[0m\u001b[1;33m=\u001b[0m\u001b[0mdevice\u001b[0m\u001b[1;33m,\u001b[0m\u001b[1;33m\u001b[0m\u001b[0m\n\u001b[1;32m---> 10\u001b[1;33m                                             verbose=verbose, min_val_loss = float('inf'))\n\u001b[0m",
      "\u001b[1;32m~\\Desktop\\RAND_pro\\prog_calc\\fit5_nn.py\u001b[0m in \u001b[0;36mfit\u001b[1;34m(X, X_val, Y, Y_val, net, optimizer, error, n_epochs, n_batches, batch_to_avg, ep_to_check, clipping, PATH, device, verbose, min_val_loss)\u001b[0m\n\u001b[0;32m     52\u001b[0m         \u001b[0mcounter\u001b[0m \u001b[1;33m=\u001b[0m \u001b[1;36m0\u001b[0m\u001b[1;33m\u001b[0m\u001b[0m\n\u001b[0;32m     53\u001b[0m \u001b[1;33m\u001b[0m\u001b[0m\n\u001b[1;32m---> 54\u001b[1;33m         \u001b[1;32mfor\u001b[0m \u001b[0mbatch_x\u001b[0m\u001b[1;33m,\u001b[0m \u001b[0mbatch_y\u001b[0m \u001b[1;32min\u001b[0m \u001b[0mbatch_generator\u001b[0m\u001b[1;33m(\u001b[0m\u001b[0mX\u001b[0m\u001b[1;33m,\u001b[0m \u001b[0mY\u001b[0m\u001b[1;33m,\u001b[0m \u001b[0mn_batches\u001b[0m\u001b[1;33m)\u001b[0m\u001b[1;33m:\u001b[0m\u001b[1;33m\u001b[0m\u001b[0m\n\u001b[0m\u001b[0;32m     55\u001b[0m \u001b[1;33m\u001b[0m\u001b[0m\n\u001b[0;32m     56\u001b[0m             \u001b[0mcounter\u001b[0m \u001b[1;33m+=\u001b[0m \u001b[1;36m1\u001b[0m\u001b[1;33m\u001b[0m\u001b[0m\n",
      "\u001b[1;32m~\\Desktop\\RAND_pro\\prog_calc\\fit5_nn.py\u001b[0m in \u001b[0;36mbatch_generator\u001b[1;34m(X, Y, n_batches)\u001b[0m\n\u001b[0;32m     25\u001b[0m         \u001b[0mX_batch\u001b[0m \u001b[1;33m=\u001b[0m \u001b[0mX\u001b[0m\u001b[1;33m.\u001b[0m\u001b[0mloc\u001b[0m\u001b[1;33m[\u001b[0m\u001b[0mbi\u001b[0m\u001b[1;33m]\u001b[0m\u001b[1;33m\u001b[0m\u001b[0m\n\u001b[0;32m     26\u001b[0m         \u001b[0mY_batch\u001b[0m \u001b[1;33m=\u001b[0m \u001b[0mY\u001b[0m\u001b[1;33m[\u001b[0m\u001b[0mbi\u001b[0m\u001b[1;33m]\u001b[0m\u001b[1;33m\u001b[0m\u001b[0m\n\u001b[1;32m---> 27\u001b[1;33m         \u001b[0midx\u001b[0m \u001b[1;33m=\u001b[0m \u001b[1;33m[\u001b[0m\u001b[0mi\u001b[0m \u001b[1;32mfor\u001b[0m \u001b[0mi\u001b[0m \u001b[1;32min\u001b[0m \u001b[0midx\u001b[0m \u001b[1;32mif\u001b[0m \u001b[0mi\u001b[0m \u001b[1;32mnot\u001b[0m \u001b[1;32min\u001b[0m \u001b[0mbi\u001b[0m\u001b[1;33m]\u001b[0m\u001b[1;33m\u001b[0m\u001b[0m\n\u001b[0m\u001b[0;32m     28\u001b[0m         \u001b[1;32myield\u001b[0m \u001b[1;33m(\u001b[0m\u001b[0mX_batch\u001b[0m\u001b[1;33m,\u001b[0m\u001b[0mY_batch\u001b[0m\u001b[1;33m)\u001b[0m\u001b[1;33m\u001b[0m\u001b[0m\n\u001b[0;32m     29\u001b[0m \u001b[1;33m\u001b[0m\u001b[0m\n",
      "\u001b[1;32m~\\Desktop\\RAND_pro\\prog_calc\\fit5_nn.py\u001b[0m in \u001b[0;36m<listcomp>\u001b[1;34m(.0)\u001b[0m\n\u001b[0;32m     25\u001b[0m         \u001b[0mX_batch\u001b[0m \u001b[1;33m=\u001b[0m \u001b[0mX\u001b[0m\u001b[1;33m.\u001b[0m\u001b[0mloc\u001b[0m\u001b[1;33m[\u001b[0m\u001b[0mbi\u001b[0m\u001b[1;33m]\u001b[0m\u001b[1;33m\u001b[0m\u001b[0m\n\u001b[0;32m     26\u001b[0m         \u001b[0mY_batch\u001b[0m \u001b[1;33m=\u001b[0m \u001b[0mY\u001b[0m\u001b[1;33m[\u001b[0m\u001b[0mbi\u001b[0m\u001b[1;33m]\u001b[0m\u001b[1;33m\u001b[0m\u001b[0m\n\u001b[1;32m---> 27\u001b[1;33m         \u001b[0midx\u001b[0m \u001b[1;33m=\u001b[0m \u001b[1;33m[\u001b[0m\u001b[0mi\u001b[0m \u001b[1;32mfor\u001b[0m \u001b[0mi\u001b[0m \u001b[1;32min\u001b[0m \u001b[0midx\u001b[0m \u001b[1;32mif\u001b[0m \u001b[0mi\u001b[0m \u001b[1;32mnot\u001b[0m \u001b[1;32min\u001b[0m \u001b[0mbi\u001b[0m\u001b[1;33m]\u001b[0m\u001b[1;33m\u001b[0m\u001b[0m\n\u001b[0m\u001b[0;32m     28\u001b[0m         \u001b[1;32myield\u001b[0m \u001b[1;33m(\u001b[0m\u001b[0mX_batch\u001b[0m\u001b[1;33m,\u001b[0m\u001b[0mY_batch\u001b[0m\u001b[1;33m)\u001b[0m\u001b[1;33m\u001b[0m\u001b[0m\n\u001b[0;32m     29\u001b[0m \u001b[1;33m\u001b[0m\u001b[0m\n",
      "\u001b[1;31mKeyboardInterrupt\u001b[0m: "
     ]
    }
   ],
   "source": [
    "net = Net1()\n",
    "optimizer = optim.SGD(net.parameters(), lr=lr, momentum=0.9)\n",
    "\n",
    "PATH = 'C:\\\\Users\\\\rober\\\\Desktop\\\\RAND_pro\\\\Data\\\\checkpoints\\\\mytraining8.pt'\n",
    "net.load_state_dict(torch.load(PATH, map_location = device))\n",
    "    \n",
    "a, b, c = fit(X=X2, X_val=X2_val, Y=Y2, Y_val=Y2_val, net=net, optimizer=optimizer, error=comb_error, \n",
    "                n_epochs=n_epochs, n_batches=n_batches, batch_to_avg=batch_to_avg, \n",
    "                    ep_to_check=ep_to_check, clipping=clipping, PATH=PATH, device=device, \n",
    "                                            verbose=verbose, min_val_loss = float('inf'))"
   ]
  },
  {
   "cell_type": "code",
   "execution_count": 51,
   "metadata": {},
   "outputs": [],
   "source": [
    "PATH = 'C:\\\\Users\\\\rober\\\\Desktop\\\\RAND_pro\\\\Data\\\\checkpoints\\\\mytraining8.pt'\n",
    "initial = X2.shape[1]\n",
    "final = int(round(initial * 1.5, 0)) \n",
    "device = torch.device('cpu')\n",
    "net = Net1()\n",
    "net.load_state_dict(torch.load(PATH, map_location = device))"
   ]
  },
  {
   "cell_type": "code",
   "execution_count": 52,
   "metadata": {},
   "outputs": [
    {
     "name": "stdout",
     "output_type": "stream",
     "text": [
      "0.8465145826339722\n"
     ]
    }
   ],
   "source": [
    "with torch.no_grad():\n",
    "    val_inputs = torch.FloatTensor(X2_val.values)\n",
    "    val_labels = torch.FloatTensor(Y2_val)\n",
    "    val_inputs, val_labels = val_inputs.to(device), val_labels.to(device)\n",
    "    val_outputs = net.forward(val_inputs)\n",
    "    val_loss = comb_error(val_outputs, val_labels) \n",
    "    print(val_loss.item())"
   ]
  },
  {
   "cell_type": "code",
   "execution_count": 53,
   "metadata": {},
   "outputs": [
    {
     "data": {
      "text/plain": [
       "tensor([[5.4907e-01, 4.1937e+01],\n",
       "        [2.9048e-01, 6.8324e+01],\n",
       "        [4.7958e-01, 4.4664e+01],\n",
       "        ...,\n",
       "        [2.8092e-01, 2.1027e+02],\n",
       "        [2.1960e-02, 5.2585e+02],\n",
       "        [6.5717e-01, 2.5979e+01]])"
      ]
     },
     "execution_count": 53,
     "metadata": {},
     "output_type": "execute_result"
    }
   ],
   "source": [
    "val_outputs"
   ]
  },
  {
   "cell_type": "code",
   "execution_count": 54,
   "metadata": {},
   "outputs": [
    {
     "data": {
      "text/plain": [
       "tensor([[  1.0000,  -0.0000],\n",
       "        [  1.0000,  -0.0000],\n",
       "        [  1.0000,  -0.0000],\n",
       "        ...,\n",
       "        [  0.0000,  10.5326],\n",
       "        [  0.0000, 113.7847],\n",
       "        [  1.0000,  -0.0000]])"
      ]
     },
     "execution_count": 54,
     "metadata": {},
     "output_type": "execute_result"
    }
   ],
   "source": [
    "val_labels"
   ]
  },
  {
   "cell_type": "code",
   "execution_count": 55,
   "metadata": {},
   "outputs": [],
   "source": [
    "val_outputs = val_outputs.numpy()\n",
    "val_labels = val_labels.numpy()\n",
    "y_scores = val_outputs[:,0]\n",
    "y_real = val_labels[:,0]"
   ]
  },
  {
   "cell_type": "code",
   "execution_count": 56,
   "metadata": {},
   "outputs": [],
   "source": [
    "from sklearn.metrics import roc_curve, auc\n",
    "import matplotlib.pyplot as plt"
   ]
  },
  {
   "cell_type": "code",
   "execution_count": 57,
   "metadata": {},
   "outputs": [],
   "source": [
    "def plot_roc_curve(fpr, tpr, label=None):\n",
    "    \"\"\"\n",
    "    The ROC curve, modified from \n",
    "    Hands-On Machine learning with Scikit-Learn and TensorFlow; p.91\n",
    "    \"\"\"\n",
    "    plt.figure(figsize=(8,8))\n",
    "    plt.title('ROC Curve')\n",
    "    plt.plot(fpr, tpr, linewidth=2, label=label)\n",
    "    plt.plot([0, 1], [0, 1], 'k--')\n",
    "    plt.axis([-0.005, 1, 0, 1.005])\n",
    "    plt.xticks(np.arange(0,1, 0.05), rotation=90)\n",
    "    plt.xlabel(\"False Positive Rate\")\n",
    "    plt.ylabel(\"True Positive Rate (Recall)\")\n",
    "    plt.legend(loc='best')"
   ]
  },
  {
   "cell_type": "code",
   "execution_count": 58,
   "metadata": {},
   "outputs": [
    {
     "name": "stdout",
     "output_type": "stream",
     "text": [
      "0.798982379627541\n"
     ]
    },
    {
     "data": {
      "image/png": "[encoded data removed]",
      "text/plain": [
       "<Figure size 576x576 with 1 Axes>"
      ]
     },
     "metadata": {
      "needs_background": "light"
     },
     "output_type": "display_data"
    }
   ],
   "source": [
    "fpr, tpr, auc_thresholds = roc_curve(y_real, y_scores)\n",
    "print(auc(fpr, tpr)) # AUC of ROC\n",
    "plot_roc_curve(fpr, tpr, 'recall_optimized')"
   ]
  },
  {
   "cell_type": "code",
   "execution_count": null,
   "metadata": {},
   "outputs": [],
   "source": []
  },
  {
   "cell_type": "code",
   "execution_count": 59,
   "metadata": {},
   "outputs": [],
   "source": [
    "y = val_labels[:,1][val_labels[:,1]>0]\n",
    "yhat = val_outputs[:,1][val_labels[:,1]>0]"
   ]
  },
  {
   "cell_type": "code",
   "execution_count": 60,
   "metadata": {},
   "outputs": [
    {
     "data": {
      "text/plain": [
       "1028.2423"
      ]
     },
     "execution_count": 60,
     "metadata": {},
     "output_type": "execute_result"
    }
   ],
   "source": [
    "RMSE = np.sqrt(np.mean((y - yhat)**2))\n",
    "RMSE"
   ]
  },
  {
   "cell_type": "code",
   "execution_count": null,
   "metadata": {},
   "outputs": [],
   "source": []
  },
  {
   "cell_type": "code",
   "execution_count": 65,
   "metadata": {},
   "outputs": [],
   "source": [
    "y = np.array(Y_val)  #so we can tune the cut point\n",
    "p = val_outputs[:,0]\n",
    "f2 = val_outputs[:,1]\n",
    "yhat = (1-p)*f2"
   ]
  },
  {
   "cell_type": "code",
   "execution_count": 66,
   "metadata": {},
   "outputs": [
    {
     "data": {
      "text/plain": [
       "924.9017708055667"
      ]
     },
     "execution_count": 66,
     "metadata": {},
     "output_type": "execute_result"
    }
   ],
   "source": [
    "RMSE = np.sqrt(np.mean((y - yhat)**2))\n",
    "RMSE"
   ]
  },
  {
   "cell_type": "code",
   "execution_count": 67,
   "metadata": {},
   "outputs": [
    {
     "name": "stdout",
     "output_type": "stream",
     "text": [
      "[[ 9.70960988e+05 -3.18118865e+01]\n",
      " [-3.18118865e+01  2.86903391e-02]]\n"
     ]
    }
   ],
   "source": [
    "print(np.cov(y, p))"
   ]
  },
  {
   "cell_type": "code",
   "execution_count": 68,
   "metadata": {},
   "outputs": [
    {
     "name": "stdout",
     "output_type": "stream",
     "text": [
      "[[ 6.38736744e+04 -2.40902869e+01]\n",
      " [-2.40902869e+01  2.86903391e-02]]\n"
     ]
    }
   ],
   "source": [
    "print(np.cov(f2, p))"
   ]
  },
  {
   "cell_type": "code",
   "execution_count": null,
   "metadata": {},
   "outputs": [],
   "source": []
  }
 ],
 "metadata": {
  "kernelspec": {
   "display_name": "Python 3",
   "language": "python",
   "name": "python3"
  },
  "language_info": {
   "codemirror_mode": {
    "name": "ipython",
    "version": 3
   },
   "file_extension": ".py",
   "mimetype": "text/x-python",
   "name": "python",
   "nbconvert_exporter": "python",
   "pygments_lexer": "ipython3",
   "version": "3.6.6"
  }
 },
 "nbformat": 4,
 "nbformat_minor": 2
}
