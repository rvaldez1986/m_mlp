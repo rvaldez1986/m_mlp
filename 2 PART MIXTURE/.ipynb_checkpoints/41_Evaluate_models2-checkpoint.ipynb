{
 "cells": [
  {
   "cell_type": "code",
   "execution_count": 31,
   "metadata": {},
   "outputs": [],
   "source": [
    "import os\n",
    "import pandas as pd\n",
    "import numpy as np\n",
    "from sklearn.utils import shuffle\n",
    "import torch.nn as nn\n",
    "import torch\n",
    "import torch.optim as optim\n",
    "import matplotlib.pyplot as plt\n",
    "import torch.nn.functional as F"
   ]
  },
  {
   "cell_type": "code",
   "execution_count": 32,
   "metadata": {},
   "outputs": [],
   "source": [
    "data = pd.read_csv(\"..\\\\Data\\\\cle\\\\Rand_train.csv\", sep=',')\n",
    "data_val = pd.read_csv(\"..\\\\Data\\\\cle\\\\Rand_valid.csv\", sep=',')\n",
    "data_test = pd.read_csv(\"..\\\\Data\\\\cle\\\\Rand_test.csv\", sep=',')"
   ]
  },
  {
   "cell_type": "code",
   "execution_count": null,
   "metadata": {},
   "outputs": [],
   "source": []
  },
  {
   "cell_type": "code",
   "execution_count": 33,
   "metadata": {},
   "outputs": [],
   "source": [
    "X_test = data_test.iloc[:,1:]\n",
    "Y_test = data_test.iloc[:,0]\n",
    "\n",
    "X2_test = X_test\n",
    "Y2_test = Y_test"
   ]
  },
  {
   "cell_type": "code",
   "execution_count": 34,
   "metadata": {},
   "outputs": [],
   "source": [
    "cut = 0\n",
    "\n",
    "y1_test = (Y_test <= cut) * 1\n",
    "y2_test = (Y_test > cut) * (-1) * (-Y_test)\n",
    "Y2_test = np.stack((y1_test, y2_test), axis=-1)"
   ]
  },
  {
   "cell_type": "code",
   "execution_count": null,
   "metadata": {},
   "outputs": [],
   "source": []
  },
  {
   "cell_type": "code",
   "execution_count": 35,
   "metadata": {},
   "outputs": [],
   "source": [
    "from fit9_nn import mae_error"
   ]
  },
  {
   "cell_type": "code",
   "execution_count": null,
   "metadata": {},
   "outputs": [],
   "source": []
  },
  {
   "cell_type": "code",
   "execution_count": 36,
   "metadata": {},
   "outputs": [],
   "source": [
    "class Net1(nn.Module):\n",
    "    def __init__(self):\n",
    "        super(Net1, self).__init__()\n",
    "        \n",
    "        self.fc11 = nn.Linear(16, 24, bias = True)\n",
    "        self.fc12 = nn.Linear(24, 1, bias = True)\n",
    "       \n",
    "        \n",
    "        self.fc21 = nn.Linear(16, 24, bias=True)\n",
    "        self.fc22 = nn.Linear(24, 5, bias=True)\n",
    "        self.fc23 = nn.Linear(5, 1, bias=True)\n",
    "                \n",
    "    def forward(self, x):\n",
    "        x1 = torch.tanh(self.fc11(x))\n",
    "        x1 = torch.sigmoid(self.fc12(x1))\n",
    "        \n",
    "        x2 = self.fc21(x)\n",
    "        x2 = torch.tanh(self.fc22(x2))\n",
    "        x2 = torch.exp(self.fc23(x2))       \n",
    "        \n",
    "        x3 = torch.cat((x1, x2), 1)\n",
    "        return x3"
   ]
  },
  {
   "cell_type": "code",
   "execution_count": null,
   "metadata": {},
   "outputs": [],
   "source": []
  },
  {
   "cell_type": "code",
   "execution_count": 37,
   "metadata": {},
   "outputs": [],
   "source": [
    "PATH = '..\\\\Data\\\\checkpoints\\\\mytraining2.pt'\n",
    "device = torch.device('cpu')\n",
    "net = Net1()\n",
    "net.load_state_dict(torch.load(PATH, map_location = device))"
   ]
  },
  {
   "cell_type": "code",
   "execution_count": 38,
   "metadata": {},
   "outputs": [],
   "source": [
    "with torch.no_grad():\n",
    "    net.eval()  \n",
    "    \n",
    "    test_inputs, test_labels = torch.FloatTensor(X2_test.values), torch.FloatTensor(Y2_test)\n",
    "    test_inputs, test_labels = test_inputs.to(device), test_labels.to(device)      \n",
    "    \n",
    "    test_outputs = net.forward(test_inputs)   \n",
    "    \n",
    "    test_outputs2, test_labels2 = test_outputs.numpy(), test_labels.numpy()"
   ]
  },
  {
   "cell_type": "code",
   "execution_count": 39,
   "metadata": {},
   "outputs": [],
   "source": [
    "y = test_labels2[:,1]\n",
    "p = test_outputs2[:,0]\n",
    "f2 = test_outputs2[:,1]\n",
    "yhat = (1-p)*f2"
   ]
  },
  {
   "cell_type": "code",
   "execution_count": 42,
   "metadata": {
    "scrolled": true
   },
   "outputs": [
    {
     "name": "stdout",
     "output_type": "stream",
     "text": [
      "282.1859\n"
     ]
    }
   ],
   "source": [
    "print(np.mean(np.abs(yhat - y)))"
   ]
  },
  {
   "cell_type": "code",
   "execution_count": 43,
   "metadata": {},
   "outputs": [
    {
     "data": {
      "text/plain": [
       "18.989925"
      ]
     },
     "execution_count": 43,
     "metadata": {},
     "output_type": "execute_result"
    }
   ],
   "source": [
    "np.min(yhat)"
   ]
  },
  {
   "cell_type": "code",
   "execution_count": 44,
   "metadata": {},
   "outputs": [
    {
     "data": {
      "text/plain": [
       "69.943405"
      ]
     },
     "execution_count": 44,
     "metadata": {},
     "output_type": "execute_result"
    }
   ],
   "source": [
    "np.max(yhat)"
   ]
  },
  {
   "cell_type": "code",
   "execution_count": 45,
   "metadata": {},
   "outputs": [
    {
     "data": {
      "text/plain": [
       "56.040283"
      ]
     },
     "execution_count": 45,
     "metadata": {},
     "output_type": "execute_result"
    }
   ],
   "source": [
    "np.mean(yhat)"
   ]
  },
  {
   "cell_type": "code",
   "execution_count": null,
   "metadata": {},
   "outputs": [],
   "source": []
  },
  {
   "cell_type": "code",
   "execution_count": 46,
   "metadata": {},
   "outputs": [],
   "source": [
    "y1 = y[y==0]\n",
    "yh1 = yhat[y==0]\n",
    "y2 = y[y>0]\n",
    "yh2 = yhat[y>0]"
   ]
  },
  {
   "cell_type": "code",
   "execution_count": 47,
   "metadata": {
    "scrolled": true
   },
   "outputs": [
    {
     "name": "stdout",
     "output_type": "stream",
     "text": [
      "45.2887\n",
      "336.9863\n"
     ]
    }
   ],
   "source": [
    "print(np.mean(np.abs(yh1 - y1)))\n",
    "print(np.mean(np.abs(yh2 - y2)))"
   ]
  },
  {
   "cell_type": "code",
   "execution_count": null,
   "metadata": {},
   "outputs": [],
   "source": []
  }
 ],
 "metadata": {
  "kernelspec": {
   "display_name": "Python 3",
   "language": "python",
   "name": "python3"
  },
  "language_info": {
   "codemirror_mode": {
    "name": "ipython",
    "version": 3
   },
   "file_extension": ".py",
   "mimetype": "text/x-python",
   "name": "python",
   "nbconvert_exporter": "python",
   "pygments_lexer": "ipython3",
   "version": "3.6.6"
  }
 },
 "nbformat": 4,
 "nbformat_minor": 2
}
