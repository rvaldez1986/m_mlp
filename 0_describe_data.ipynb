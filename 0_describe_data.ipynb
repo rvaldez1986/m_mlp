{
 "cells": [
  {
   "cell_type": "code",
   "execution_count": 254,
   "metadata": {},
   "outputs": [],
   "source": [
    "import os\n",
    "import pandas as pd\n",
    "from collections import Counter\n",
    "import numpy as np"
   ]
  },
  {
   "cell_type": "code",
   "execution_count": 255,
   "metadata": {},
   "outputs": [],
   "source": [
    "def normalize(x):\n",
    "    u = np.mean(x)\n",
    "    sig = np.std(x)\n",
    "    z = (x - u)/sig\n",
    "    return z, u, sig\n",
    "\n",
    "def striplist(l):\n",
    "    return([x.strip() for x in l])\n",
    "\n",
    "def cant_diag(data, position):\n",
    "    \n",
    "    cant_diag = np.array([])\n",
    "\n",
    "    for i in range(len(data)):       \n",
    "         \n",
    "        m_row = i\n",
    "        \n",
    "        mstring_A = data.iloc[m_row,position]\n",
    "        mylist_A = striplist(mstring_A.split(','))\n",
    "    \n",
    "        counter = 0\n",
    "    \n",
    "        for j in mylist_A:          \n",
    "            if j != 'ND':\n",
    "                counter = counter +1              \n",
    "        \n",
    "        cant_diag = np.append(cant_diag, counter)\n",
    "    \n",
    "    return(cant_diag)    \n",
    "\n",
    "def paid_indicator(x):\n",
    "    x = np.array(x)    \n",
    "    return np.where(x == 0, 0, 1)\n",
    "\n",
    "def n_meses(data, start_pm):\n",
    "    \n",
    "    m_stack = np.zeros(shape=(data.shape[0],12))\n",
    "    \n",
    "    for i in range(12):        \n",
    "        m_stack[:,i] = paid_indicator(data.iloc[:,start_pm + 2*i])\n",
    "        \n",
    "    dt = np.sum(m_stack,axis=1)\n",
    "    return dt "
   ]
  },
  {
   "cell_type": "code",
   "execution_count": 256,
   "metadata": {},
   "outputs": [],
   "source": [
    "os.chdir('C:\\\\Users\\\\rober\\\\Desktop\\\\Humana_2\\\\Data_1');\n",
    "\n",
    "data = pd.read_csv(\"BASE_TRAIN_MODELOS.csv\", sep=',', encoding = \"ISO-8859-1\")\n",
    "data_test = pd.read_csv(\"BASE_TEST_MODELOS.csv\", sep=',', encoding = \"ISO-8859-1\")\n",
    "data_pred = pd.read_csv(\"BASE_PREDICT_MODELOS.csv\", sep=',', encoding = \"ISO-8859-1\")"
   ]
  },
  {
   "cell_type": "code",
   "execution_count": 257,
   "metadata": {},
   "outputs": [
    {
     "data": {
      "text/html": [
       "<div>\n",
       "<style scoped>\n",
       "    .dataframe tbody tr th:only-of-type {\n",
       "        vertical-align: middle;\n",
       "    }\n",
       "\n",
       "    .dataframe tbody tr th {\n",
       "        vertical-align: top;\n",
       "    }\n",
       "\n",
       "    .dataframe thead th {\n",
       "        text-align: right;\n",
       "    }\n",
       "</style>\n",
       "<table border=\"1\" class=\"dataframe\">\n",
       "  <thead>\n",
       "    <tr style=\"text-align: right;\">\n",
       "      <th></th>\n",
       "      <th>AFILIADO</th>\n",
       "      <th>EXP</th>\n",
       "      <th>GENERO</th>\n",
       "      <th>EDAD</th>\n",
       "      <th>TOPE</th>\n",
       "      <th>PRODUCTO</th>\n",
       "      <th>PRIMA_A.1</th>\n",
       "      <th>PERIODO</th>\n",
       "      <th>PAGADO_A.1</th>\n",
       "      <th>PAGADO_A</th>\n",
       "      <th>...</th>\n",
       "      <th>NRO_TRANS_A_8</th>\n",
       "      <th>PAGADO_A_9</th>\n",
       "      <th>NRO_TRANS_A_9</th>\n",
       "      <th>PAGADO_A_10</th>\n",
       "      <th>NRO_TRANS_A_10</th>\n",
       "      <th>PAGADO_A_11</th>\n",
       "      <th>NRO_TRANS_A_11</th>\n",
       "      <th>PAGADO_A_12</th>\n",
       "      <th>NRO_TRANS_A_12</th>\n",
       "      <th>C_DIAG</th>\n",
       "    </tr>\n",
       "  </thead>\n",
       "  <tbody>\n",
       "    <tr>\n",
       "      <th>0</th>\n",
       "      <td>ABAD AREVALO CARLA MARA</td>\n",
       "      <td>1</td>\n",
       "      <td>FEMENINO</td>\n",
       "      <td>40</td>\n",
       "      <td>4500</td>\n",
       "      <td>METROHUMANA</td>\n",
       "      <td>825.96</td>\n",
       "      <td>2014-2015</td>\n",
       "      <td>15.00</td>\n",
       "      <td>17.18</td>\n",
       "      <td>...</td>\n",
       "      <td>0</td>\n",
       "      <td>0.00</td>\n",
       "      <td>0</td>\n",
       "      <td>0.00</td>\n",
       "      <td>0</td>\n",
       "      <td>0.00</td>\n",
       "      <td>0</td>\n",
       "      <td>0.00</td>\n",
       "      <td>0</td>\n",
       "      <td>1</td>\n",
       "    </tr>\n",
       "    <tr>\n",
       "      <th>1</th>\n",
       "      <td>ABAD CABANILLA CARMEN BEATRIZ</td>\n",
       "      <td>1</td>\n",
       "      <td>FEMENINO</td>\n",
       "      <td>40</td>\n",
       "      <td>4500</td>\n",
       "      <td>BIENESTAR PLUS PRACTIHUMANA</td>\n",
       "      <td>1048.40</td>\n",
       "      <td>2014-2015</td>\n",
       "      <td>152.75</td>\n",
       "      <td>368.85</td>\n",
       "      <td>...</td>\n",
       "      <td>0</td>\n",
       "      <td>45.17</td>\n",
       "      <td>2</td>\n",
       "      <td>26.08</td>\n",
       "      <td>2</td>\n",
       "      <td>13.24</td>\n",
       "      <td>1</td>\n",
       "      <td>0.00</td>\n",
       "      <td>0</td>\n",
       "      <td>1</td>\n",
       "    </tr>\n",
       "    <tr>\n",
       "      <th>2</th>\n",
       "      <td>ABAD ROMERO CECILIA EUGENIA</td>\n",
       "      <td>1</td>\n",
       "      <td>FEMENINO</td>\n",
       "      <td>66</td>\n",
       "      <td>8000</td>\n",
       "      <td>PRACTIHUMANA</td>\n",
       "      <td>564.72</td>\n",
       "      <td>2014-2015</td>\n",
       "      <td>370.48</td>\n",
       "      <td>478.08</td>\n",
       "      <td>...</td>\n",
       "      <td>9</td>\n",
       "      <td>0.00</td>\n",
       "      <td>0</td>\n",
       "      <td>0.00</td>\n",
       "      <td>0</td>\n",
       "      <td>0.00</td>\n",
       "      <td>0</td>\n",
       "      <td>170.88</td>\n",
       "      <td>4</td>\n",
       "      <td>1</td>\n",
       "    </tr>\n",
       "  </tbody>\n",
       "</table>\n",
       "<p>3 rows × 37 columns</p>\n",
       "</div>"
      ],
      "text/plain": [
       "                        AFILIADO  EXP    GENERO  EDAD  TOPE  \\\n",
       "0        ABAD AREVALO CARLA MARA    1  FEMENINO    40  4500   \n",
       "1  ABAD CABANILLA CARMEN BEATRIZ    1  FEMENINO    40  4500   \n",
       "2    ABAD ROMERO CECILIA EUGENIA    1  FEMENINO    66  8000   \n",
       "\n",
       "                      PRODUCTO  PRIMA_A.1    PERIODO  PAGADO_A.1  PAGADO_A  \\\n",
       "0                  METROHUMANA     825.96  2014-2015       15.00     17.18   \n",
       "1  BIENESTAR PLUS PRACTIHUMANA    1048.40  2014-2015      152.75    368.85   \n",
       "2                 PRACTIHUMANA     564.72  2014-2015      370.48    478.08   \n",
       "\n",
       "   ...  NRO_TRANS_A_8 PAGADO_A_9  NRO_TRANS_A_9  PAGADO_A_10  NRO_TRANS_A_10  \\\n",
       "0  ...              0       0.00              0         0.00               0   \n",
       "1  ...              0      45.17              2        26.08               2   \n",
       "2  ...              9       0.00              0         0.00               0   \n",
       "\n",
       "   PAGADO_A_11  NRO_TRANS_A_11  PAGADO_A_12  NRO_TRANS_A_12  C_DIAG  \n",
       "0         0.00               0         0.00               0       1  \n",
       "1        13.24               1         0.00               0       1  \n",
       "2         0.00               0       170.88               4       1  \n",
       "\n",
       "[3 rows x 37 columns]"
      ]
     },
     "execution_count": 257,
     "metadata": {},
     "output_type": "execute_result"
    }
   ],
   "source": [
    "data.head(3)"
   ]
  },
  {
   "cell_type": "code",
   "execution_count": 258,
   "metadata": {},
   "outputs": [
    {
     "name": "stdout",
     "output_type": "stream",
     "text": [
      "(15262, 37)\n",
      "\n",
      "\n",
      "Index(['AFILIADO', 'EXP', 'GENERO', 'EDAD', 'TOPE', 'PRODUCTO', 'PRIMA_A.1',\n",
      "       'PERIODO', 'PAGADO_A.1', 'PAGADO_A', 'NRO_TRANS_A', 'DIAGNOSTICO_A',\n",
      "       'PAGADO_A_1', 'NRO_TRANS_A_1', 'PAGADO_A_2', 'NRO_TRANS_A_2',\n",
      "       'PAGADO_A_3', 'NRO_TRANS_A_3', 'PAGADO_A_4', 'NRO_TRANS_A_4',\n",
      "       'PAGADO_A_5', 'NRO_TRANS_A_5', 'PAGADO_A_6', 'NRO_TRANS_A_6',\n",
      "       'PAGADO_A_7', 'NRO_TRANS_A_7', 'PAGADO_A_8', 'NRO_TRANS_A_8',\n",
      "       'PAGADO_A_9', 'NRO_TRANS_A_9', 'PAGADO_A_10', 'NRO_TRANS_A_10',\n",
      "       'PAGADO_A_11', 'NRO_TRANS_A_11', 'PAGADO_A_12', 'NRO_TRANS_A_12',\n",
      "       'C_DIAG'],\n",
      "      dtype='object')\n"
     ]
    }
   ],
   "source": [
    "print(data.shape);print('\\n');print(data.columns)"
   ]
  },
  {
   "cell_type": "markdown",
   "metadata": {},
   "source": [
    "Work with afiliado to remove special characters (and duplicates):"
   ]
  },
  {
   "cell_type": "code",
   "execution_count": 259,
   "metadata": {},
   "outputs": [],
   "source": [
    "data['AFILIADO'] = data['AFILIADO'].str.normalize('NFKD').str.encode('ascii', errors='ignore').str.decode('utf-8')\n",
    "data = data.drop_duplicates(subset=['AFILIADO', 'PERIODO'], keep='first', inplace=False).reset_index(drop=True)"
   ]
  },
  {
   "cell_type": "code",
   "execution_count": 260,
   "metadata": {},
   "outputs": [
    {
     "data": {
      "text/plain": [
       "True"
      ]
     },
     "execution_count": 260,
     "metadata": {},
     "output_type": "execute_result"
    }
   ],
   "source": [
    "(data['AFILIADO'] + '_' + data['PERIODO']).is_unique"
   ]
  },
  {
   "cell_type": "markdown",
   "metadata": {},
   "source": [
    "Now lets work on dividing on train and validation:"
   ]
  },
  {
   "cell_type": "code",
   "execution_count": 261,
   "metadata": {},
   "outputs": [
    {
     "name": "stdout",
     "output_type": "stream",
     "text": [
      "train\n",
      "2014-2015    7450\n",
      "2015-2016    6810\n",
      "2016-2017    1000\n",
      "Name: PERIODO, dtype: int64\n",
      "\n",
      "\n",
      "test\n",
      "2016-2017    4908\n",
      "Name: PERIODO, dtype: int64\n"
     ]
    }
   ],
   "source": [
    "print('train'); print(data['PERIODO'].value_counts());print('\\n');print('test');print(data_test['PERIODO'].value_counts())"
   ]
  },
  {
   "cell_type": "markdown",
   "metadata": {},
   "source": [
    "Create Validation Data: Always past data predicting new one (this happens in here, y  vs f(x)) but validation should be mostly 2016 - 2017"
   ]
  },
  {
   "cell_type": "code",
   "execution_count": 262,
   "metadata": {},
   "outputs": [],
   "source": [
    "data_train = data.copy()\n",
    "data_valid = data.copy()\n",
    "data_valid = data[data.PERIODO == '2016-2017']\n",
    "data_train = data[(data.PERIODO == '2015-2016') | (data.PERIODO == '2014-2015')]"
   ]
  },
  {
   "cell_type": "code",
   "execution_count": 263,
   "metadata": {},
   "outputs": [
    {
     "data": {
      "text/plain": [
       "<matplotlib.axes._subplots.AxesSubplot at 0x1f4d4586ac8>"
      ]
     },
     "execution_count": 263,
     "metadata": {},
     "output_type": "execute_result"
    },
    {
     "data": {
      "image/png": "[encoded data removed]",
      "text/plain": [
       "<Figure size 432x288 with 1 Axes>"
      ]
     },
     "metadata": {
      "needs_background": "light"
     },
     "output_type": "display_data"
    }
   ],
   "source": [
    "step = 500\n",
    "s = data_train['PAGADO_A.1']\n",
    "bin_range = np.arange(0, 10000, step)\n",
    "out, bins  = pd.cut(s, bins=bin_range, include_lowest=True, right=False, retbins=True)\n",
    "out.value_counts(sort=False).plot.bar()"
   ]
  },
  {
   "cell_type": "code",
   "execution_count": 264,
   "metadata": {},
   "outputs": [
    {
     "data": {
      "text/plain": [
       "<matplotlib.axes._subplots.AxesSubplot at 0x1f4d59d4da0>"
      ]
     },
     "execution_count": 264,
     "metadata": {},
     "output_type": "execute_result"
    },
    {
     "data": {
      "image/png": "[encoded data removed]",
      "text/plain": [
       "<Figure size 432x288 with 1 Axes>"
      ]
     },
     "metadata": {
      "needs_background": "light"
     },
     "output_type": "display_data"
    }
   ],
   "source": [
    "step = 1\n",
    "s = np.log(data_train['PAGADO_A.1'] + 0.001)\n",
    "bin_range = np.arange(-10, 15, step)\n",
    "out, bins  = pd.cut(s, bins=bin_range, include_lowest=True, right=False, retbins=True)\n",
    "out.value_counts(sort=False).plot.bar()"
   ]
  },
  {
   "cell_type": "code",
   "execution_count": 265,
   "metadata": {},
   "outputs": [],
   "source": [
    "col_use = []"
   ]
  },
  {
   "cell_type": "markdown",
   "metadata": {},
   "source": [
    "Transform the target value according to this new distr"
   ]
  },
  {
   "cell_type": "code",
   "execution_count": 266,
   "metadata": {},
   "outputs": [],
   "source": [
    "data2 = data_train.copy()\n",
    "\n",
    "data2['PAGADO_A.1_N'] = np.log(data2['PAGADO_A.1'] + 0.001)\n",
    "col_use.append('PAGADO_A.1_N')"
   ]
  },
  {
   "cell_type": "markdown",
   "metadata": {},
   "source": [
    "Create variables"
   ]
  },
  {
   "cell_type": "code",
   "execution_count": 267,
   "metadata": {},
   "outputs": [],
   "source": [
    "data2['Cant_Diag'] = cant_diag(data2, 11)\n",
    "data2['N_MESES'] = n_meses(data2, 12)"
   ]
  },
  {
   "cell_type": "markdown",
   "metadata": {},
   "source": [
    "Normalize feature of paid last year:"
   ]
  },
  {
   "cell_type": "code",
   "execution_count": 268,
   "metadata": {},
   "outputs": [],
   "source": [
    "data2['PAGADO_A_N'] = np.log(data2['PAGADO_A'] + 0.001)\n",
    "col_use.append('PAGADO_A_N')"
   ]
  },
  {
   "cell_type": "markdown",
   "metadata": {},
   "source": [
    "Lets z normalize other features of the data (it is better)"
   ]
  },
  {
   "cell_type": "code",
   "execution_count": 269,
   "metadata": {},
   "outputs": [],
   "source": [
    "columns = ['EDAD', 'NRO_TRANS_A', 'C_DIAG', 'Cant_Diag', 'N_MESES', 'PRIMA_A.1']\n",
    "meanvar = {}\n",
    "\n",
    "for c in columns:\n",
    "    z, u, sig = normalize(data2[c].values)\n",
    "    data2[c + '_N'] = z\n",
    "    meanvar[c] = (u, sig)\n",
    "    col_use.append(c + '_N')"
   ]
  },
  {
   "cell_type": "markdown",
   "metadata": {},
   "source": [
    "Mean Encode:"
   ]
  },
  {
   "cell_type": "code",
   "execution_count": 270,
   "metadata": {},
   "outputs": [
    {
     "data": {
      "text/plain": [
       "<matplotlib.axes._subplots.AxesSubplot at 0x1f4cb57c438>"
      ]
     },
     "execution_count": 270,
     "metadata": {},
     "output_type": "execute_result"
    },
    {
     "data": {
      "image/png": "[encoded data removed]",
      "text/plain": [
       "<Figure size 432x288 with 1 Axes>"
      ]
     },
     "metadata": {
      "needs_background": "light"
     },
     "output_type": "display_data"
    }
   ],
   "source": [
    "data2['EDAD_N'].hist()"
   ]
  },
  {
   "cell_type": "code",
   "execution_count": 271,
   "metadata": {},
   "outputs": [
    {
     "data": {
      "text/plain": [
       "C    4732\n",
       "B    3861\n",
       "A    3043\n",
       "D    2624\n",
       "Name: EDAD_C, dtype: int64"
      ]
     },
     "execution_count": 271,
     "metadata": {},
     "output_type": "execute_result"
    }
   ],
   "source": [
    "data2['EDAD_C'] = ['A' if x <= -1 else 'B' if x <= 0 else 'C' if x <= 1 else 'D' for x in data2['EDAD_N']]\n",
    "data2['EDAD_C'].value_counts()"
   ]
  },
  {
   "cell_type": "code",
   "execution_count": 272,
   "metadata": {},
   "outputs": [
    {
     "data": {
      "text/plain": [
       "C_FEMENINO     2663\n",
       "C_MASCULINO    2069\n",
       "B_FEMENINO     1973\n",
       "B_MASCULINO    1888\n",
       "A_MASCULINO    1609\n",
       "D_FEMENINO     1484\n",
       "A_FEMENINO     1434\n",
       "D_MASCULINO    1140\n",
       "Name: E+G, dtype: int64"
      ]
     },
     "execution_count": 272,
     "metadata": {},
     "output_type": "execute_result"
    }
   ],
   "source": [
    "data2['E+G'] = data2['EDAD_C'] + '_' + data2['GENERO']\n",
    "data2['E+G'].value_counts()"
   ]
  },
  {
   "cell_type": "markdown",
   "metadata": {},
   "source": [
    "Run it on our columns"
   ]
  },
  {
   "cell_type": "code",
   "execution_count": 273,
   "metadata": {},
   "outputs": [],
   "source": [
    "columns = ['GENERO', 'EDAD_C', 'E+G']\n",
    "meancode = {}\n",
    "\n",
    "for c in columns:\n",
    "    meancode[c] = data2.groupby(c)['PAGADO_A.1'].mean()\n",
    "    data2[c + '_ME'] = data2.groupby(c)['PAGADO_A.1'].transform('mean')\n",
    "    col_use.append(c + '_ME')"
   ]
  },
  {
   "cell_type": "code",
   "execution_count": 274,
   "metadata": {},
   "outputs": [],
   "source": [
    "data2['PERIODO_ME'] = data2['PERIODO'].map({'2014-2015': -1, '2015-2016': 0, '2016-2017': 1})\n",
    "col_use.append('PERIODO_ME')"
   ]
  },
  {
   "cell_type": "code",
   "execution_count": 275,
   "metadata": {},
   "outputs": [
    {
     "name": "stdout",
     "output_type": "stream",
     "text": [
      "METROHUMANA                             6966\n",
      "PRACTIHUMANA                            3860\n",
      "BIENESTAR PLUS METROHUMANA              1531\n",
      "BIENESTAR PLUS PRACTIHUMANA              625\n",
      "PROTECCION OPTIMA PLUS VOZANDES          412\n",
      "METROHUMANA POOL                         323\n",
      "PRACTIHUMANA POOL                        281\n",
      "CLUB SEGURO ARANCEL PRACTIHUMANA         104\n",
      "METROACCIONISTAS                          73\n",
      "CLUB SEGURO ARANCEL METROHUMANA           30\n",
      "PROTECCION OPTIMA PLUS METROPOLITANO      23\n",
      "CLUB SEGURO ROYAL HEALTH RED1             16\n",
      "CLUB SEGURO ROYAL HEALTH RED 2            12\n",
      "AMPARO TOTAL                               4\n",
      "Name: PRODUCTO, dtype: int64\n"
     ]
    }
   ],
   "source": [
    "print(data2['PRODUCTO'].value_counts())"
   ]
  },
  {
   "cell_type": "code",
   "execution_count": 276,
   "metadata": {},
   "outputs": [],
   "source": [
    "hp1 = data2.groupby('PRODUCTO')['PAGADO_A.1'].transform('sum')\n",
    "hp2 = data2.groupby('PRODUCTO')['PAGADO_A.1'].transform('count')\n",
    "\n",
    "uprior = data2['PAGADO_A.1'].mean()\n",
    "alpha = 100\n",
    "data2['PRODUCTO_ME'] = (alpha*uprior + hp1)/(alpha + hp2)\n",
    "\n",
    "meancode['PRODUCTO'] = data2.groupby('PRODUCTO')['PRODUCTO_ME'].mean()\n",
    "col_use.append('PRODUCTO_ME')"
   ]
  },
  {
   "cell_type": "markdown",
   "metadata": {},
   "source": [
    "### Work with diagnostics data"
   ]
  },
  {
   "cell_type": "code",
   "execution_count": 277,
   "metadata": {},
   "outputs": [
    {
     "data": {
      "text/html": [
       "<div>\n",
       "<style scoped>\n",
       "    .dataframe tbody tr th:only-of-type {\n",
       "        vertical-align: middle;\n",
       "    }\n",
       "\n",
       "    .dataframe tbody tr th {\n",
       "        vertical-align: top;\n",
       "    }\n",
       "\n",
       "    .dataframe thead th {\n",
       "        text-align: right;\n",
       "    }\n",
       "</style>\n",
       "<table border=\"1\" class=\"dataframe\">\n",
       "  <thead>\n",
       "    <tr style=\"text-align: right;\">\n",
       "      <th></th>\n",
       "      <th>AFILIADO</th>\n",
       "      <th>PERIODO</th>\n",
       "      <th>DIAGNOSTICO_A</th>\n",
       "      <th>PAGADO_A.1</th>\n",
       "      <th>diag_f1</th>\n",
       "      <th>diag_f2</th>\n",
       "      <th>diag_f3</th>\n",
       "    </tr>\n",
       "  </thead>\n",
       "  <tbody>\n",
       "    <tr>\n",
       "      <th>0</th>\n",
       "      <td>ABAD AREVALO CARLA MARA</td>\n",
       "      <td>2014-2015</td>\n",
       "      <td>H605</td>\n",
       "      <td>15.00</td>\n",
       "      <td>-0.526898</td>\n",
       "      <td>0.155419</td>\n",
       "      <td>0.012823</td>\n",
       "    </tr>\n",
       "    <tr>\n",
       "      <th>1</th>\n",
       "      <td>ABAD CABANILLA CARMEN BEATRIZ</td>\n",
       "      <td>2014-2015</td>\n",
       "      <td>M130, A09X, J304, J310, K30X, N709, M214, N925...</td>\n",
       "      <td>152.75</td>\n",
       "      <td>0.228049</td>\n",
       "      <td>0.291613</td>\n",
       "      <td>-0.170468</td>\n",
       "    </tr>\n",
       "    <tr>\n",
       "      <th>2</th>\n",
       "      <td>ABAD ROMERO CECILIA EUGENIA</td>\n",
       "      <td>2014-2015</td>\n",
       "      <td>J00X, M170, I10X, I450, M179, J40X, N739, N72X...</td>\n",
       "      <td>370.48</td>\n",
       "      <td>-0.857004</td>\n",
       "      <td>0.744933</td>\n",
       "      <td>-0.600182</td>\n",
       "    </tr>\n",
       "  </tbody>\n",
       "</table>\n",
       "</div>"
      ],
      "text/plain": [
       "                        AFILIADO    PERIODO  \\\n",
       "0        ABAD AREVALO CARLA MARA  2014-2015   \n",
       "1  ABAD CABANILLA CARMEN BEATRIZ  2014-2015   \n",
       "2    ABAD ROMERO CECILIA EUGENIA  2014-2015   \n",
       "\n",
       "                                       DIAGNOSTICO_A  PAGADO_A.1   diag_f1  \\\n",
       "0                                               H605       15.00 -0.526898   \n",
       "1  M130, A09X, J304, J310, K30X, N709, M214, N925...      152.75  0.228049   \n",
       "2  J00X, M170, I10X, I450, M179, J40X, N739, N72X...      370.48 -0.857004   \n",
       "\n",
       "    diag_f2   diag_f3  \n",
       "0  0.155419  0.012823  \n",
       "1  0.291613 -0.170468  \n",
       "2  0.744933 -0.600182  "
      ]
     },
     "execution_count": 277,
     "metadata": {},
     "output_type": "execute_result"
    }
   ],
   "source": [
    "data_d = pd.read_csv(\"nuevas\\\\pers_diag.csv\", sep=',', encoding = \"ISO-8859-1\")\n",
    "data_d.head(3)"
   ]
  },
  {
   "cell_type": "code",
   "execution_count": 278,
   "metadata": {},
   "outputs": [],
   "source": [
    "diag_train = data_d.copy()\n",
    "diag_train = diag_train[(diag_train.PERIODO == '2015-2016') | (diag_train.PERIODO == '2014-2015')]\n",
    "diag_train = diag_train[['AFILIADO','PERIODO','diag_f1','diag_f2','diag_f3']]"
   ]
  },
  {
   "cell_type": "code",
   "execution_count": 279,
   "metadata": {},
   "outputs": [],
   "source": [
    "data2 = data2.merge(diag_train, how = 'left', on=['AFILIADO','PERIODO'])"
   ]
  },
  {
   "cell_type": "markdown",
   "metadata": {},
   "source": [
    "Check if the merge generated some null values:"
   ]
  },
  {
   "cell_type": "code",
   "execution_count": 280,
   "metadata": {},
   "outputs": [
    {
     "data": {
      "text/plain": [
       "False"
      ]
     },
     "execution_count": 280,
     "metadata": {},
     "output_type": "execute_result"
    }
   ],
   "source": [
    "data2['diag_f1'].isnull().values.any()"
   ]
  },
  {
   "cell_type": "code",
   "execution_count": 281,
   "metadata": {},
   "outputs": [],
   "source": [
    "col_use = col_use + ['diag_f1','diag_f2','diag_f3']\n",
    "del [data_d, diag_train]"
   ]
  },
  {
   "cell_type": "markdown",
   "metadata": {},
   "source": [
    "## Dummies and Interactions\n",
    "\n",
    "First we generate dummies for the discrete:"
   ]
  },
  {
   "cell_type": "code",
   "execution_count": 282,
   "metadata": {},
   "outputs": [],
   "source": [
    "columns = ['GENERO', 'EDAD_C', 'E+G']\n",
    "start = data2.shape[1]\n",
    "\n",
    "for c in columns:\n",
    "    data2 = pd.concat((data2, pd.get_dummies(data2[c],prefix=c+'_D')),axis=1)  \n",
    "\n",
    "end = data2.shape[1]\n",
    "col_use += list(data2.columns[start:end])"
   ]
  },
  {
   "cell_type": "markdown",
   "metadata": {},
   "source": [
    "Now lets create Interactions (other than edad-genero)\n",
    "\n",
    "Lets start with the continous ones:"
   ]
  },
  {
   "cell_type": "code",
   "execution_count": 283,
   "metadata": {},
   "outputs": [],
   "source": [
    "columns = ['EDAD_N', 'NRO_TRANS_A_N', 'C_DIAG_N', 'Cant_Diag_N', 'N_MESES_N', 'PRIMA_A.1_N',\n",
    "          'GENERO_ME', 'EDAD_C_ME', 'E+G_ME', 'PRODUCTO_ME', 'diag_f1', 'diag_f2', 'diag_f3']\n",
    "\n",
    "for c in columns:\n",
    "    for c2 in columns:\n",
    "        data2[c + '_' + c2 + '_P_I'] = data2[c] * data2[c2]\n",
    "        col_use.append(c + '_' + c2 + '_P_I')"
   ]
  },
  {
   "cell_type": "markdown",
   "metadata": {},
   "source": [
    "Now between the discrete ones"
   ]
  },
  {
   "cell_type": "code",
   "execution_count": 284,
   "metadata": {},
   "outputs": [],
   "source": [
    "columns = ['GENERO', 'EDAD_C', 'E+G']\n",
    "start = data2.shape[1]\n",
    "\n",
    "for c in columns:\n",
    "    c2 = columns.copy()\n",
    "    c2.remove(c)\n",
    "    for e in c2:\n",
    "        data2[c+'_'+e] = data2[c] + '_' + data2[e] \n",
    "        data2 = pd.concat((data2, pd.get_dummies(data2[c+'_'+e],prefix=c+'_'+e+'_D')),axis=1) \n",
    "        data2 = data2.drop([c+'_'+e], axis=1)  \n",
    "        \n",
    "end = data2.shape[1]\n",
    "col_use += list(data2.columns[start:end])"
   ]
  },
  {
   "cell_type": "markdown",
   "metadata": {},
   "source": [
    "### Final work\n",
    "\n",
    "Extract columns with possible features:"
   ]
  },
  {
   "cell_type": "code",
   "execution_count": 285,
   "metadata": {},
   "outputs": [
    {
     "data": {
      "text/html": [
       "<div>\n",
       "<style scoped>\n",
       "    .dataframe tbody tr th:only-of-type {\n",
       "        vertical-align: middle;\n",
       "    }\n",
       "\n",
       "    .dataframe tbody tr th {\n",
       "        vertical-align: top;\n",
       "    }\n",
       "\n",
       "    .dataframe thead th {\n",
       "        text-align: right;\n",
       "    }\n",
       "</style>\n",
       "<table border=\"1\" class=\"dataframe\">\n",
       "  <thead>\n",
       "    <tr style=\"text-align: right;\">\n",
       "      <th></th>\n",
       "      <th>PAGADO_A.1_N</th>\n",
       "      <th>PAGADO_A_N</th>\n",
       "      <th>EDAD_N</th>\n",
       "      <th>NRO_TRANS_A_N</th>\n",
       "      <th>C_DIAG_N</th>\n",
       "      <th>Cant_Diag_N</th>\n",
       "      <th>N_MESES_N</th>\n",
       "      <th>PRIMA_A.1_N</th>\n",
       "      <th>GENERO_ME</th>\n",
       "      <th>EDAD_C_ME</th>\n",
       "      <th>...</th>\n",
       "      <th>E+G_GENERO_D_D_FEMENINO_FEMENINO</th>\n",
       "      <th>E+G_GENERO_D_D_MASCULINO_MASCULINO</th>\n",
       "      <th>E+G_EDAD_C_D_A_FEMENINO_A</th>\n",
       "      <th>E+G_EDAD_C_D_A_MASCULINO_A</th>\n",
       "      <th>E+G_EDAD_C_D_B_FEMENINO_B</th>\n",
       "      <th>E+G_EDAD_C_D_B_MASCULINO_B</th>\n",
       "      <th>E+G_EDAD_C_D_C_FEMENINO_C</th>\n",
       "      <th>E+G_EDAD_C_D_C_MASCULINO_C</th>\n",
       "      <th>E+G_EDAD_C_D_D_FEMENINO_D</th>\n",
       "      <th>E+G_EDAD_C_D_D_MASCULINO_D</th>\n",
       "    </tr>\n",
       "  </thead>\n",
       "  <tbody>\n",
       "    <tr>\n",
       "      <th>0</th>\n",
       "      <td>2.708117</td>\n",
       "      <td>2.843804</td>\n",
       "      <td>0.196550</td>\n",
       "      <td>-0.544389</td>\n",
       "      <td>0.578644</td>\n",
       "      <td>-0.513700</td>\n",
       "      <td>-0.484495</td>\n",
       "      <td>0.230271</td>\n",
       "      <td>428.357258</td>\n",
       "      <td>427.970205</td>\n",
       "      <td>...</td>\n",
       "      <td>0</td>\n",
       "      <td>0</td>\n",
       "      <td>0</td>\n",
       "      <td>0</td>\n",
       "      <td>0</td>\n",
       "      <td>0</td>\n",
       "      <td>1</td>\n",
       "      <td>0</td>\n",
       "      <td>0</td>\n",
       "      <td>0</td>\n",
       "    </tr>\n",
       "    <tr>\n",
       "      <th>1</th>\n",
       "      <td>5.028809</td>\n",
       "      <td>5.910393</td>\n",
       "      <td>0.196550</td>\n",
       "      <td>1.573983</td>\n",
       "      <td>0.578644</td>\n",
       "      <td>2.007417</td>\n",
       "      <td>0.967411</td>\n",
       "      <td>0.631289</td>\n",
       "      <td>428.357258</td>\n",
       "      <td>427.970205</td>\n",
       "      <td>...</td>\n",
       "      <td>0</td>\n",
       "      <td>0</td>\n",
       "      <td>0</td>\n",
       "      <td>0</td>\n",
       "      <td>0</td>\n",
       "      <td>0</td>\n",
       "      <td>1</td>\n",
       "      <td>0</td>\n",
       "      <td>0</td>\n",
       "      <td>0</td>\n",
       "    </tr>\n",
       "    <tr>\n",
       "      <th>2</th>\n",
       "      <td>5.914802</td>\n",
       "      <td>6.169780</td>\n",
       "      <td>1.580864</td>\n",
       "      <td>1.715208</td>\n",
       "      <td>0.578644</td>\n",
       "      <td>1.503194</td>\n",
       "      <td>0.604435</td>\n",
       "      <td>-0.240697</td>\n",
       "      <td>428.357258</td>\n",
       "      <td>569.162866</td>\n",
       "      <td>...</td>\n",
       "      <td>1</td>\n",
       "      <td>0</td>\n",
       "      <td>0</td>\n",
       "      <td>0</td>\n",
       "      <td>0</td>\n",
       "      <td>0</td>\n",
       "      <td>0</td>\n",
       "      <td>0</td>\n",
       "      <td>1</td>\n",
       "      <td>0</td>\n",
       "    </tr>\n",
       "  </tbody>\n",
       "</table>\n",
       "<p>3 rows × 247 columns</p>\n",
       "</div>"
      ],
      "text/plain": [
       "   PAGADO_A.1_N  PAGADO_A_N    EDAD_N  NRO_TRANS_A_N  C_DIAG_N  Cant_Diag_N  \\\n",
       "0      2.708117    2.843804  0.196550      -0.544389  0.578644    -0.513700   \n",
       "1      5.028809    5.910393  0.196550       1.573983  0.578644     2.007417   \n",
       "2      5.914802    6.169780  1.580864       1.715208  0.578644     1.503194   \n",
       "\n",
       "   N_MESES_N  PRIMA_A.1_N   GENERO_ME   EDAD_C_ME  ...  \\\n",
       "0  -0.484495     0.230271  428.357258  427.970205  ...   \n",
       "1   0.967411     0.631289  428.357258  427.970205  ...   \n",
       "2   0.604435    -0.240697  428.357258  569.162866  ...   \n",
       "\n",
       "   E+G_GENERO_D_D_FEMENINO_FEMENINO  E+G_GENERO_D_D_MASCULINO_MASCULINO  \\\n",
       "0                                 0                                   0   \n",
       "1                                 0                                   0   \n",
       "2                                 1                                   0   \n",
       "\n",
       "   E+G_EDAD_C_D_A_FEMENINO_A  E+G_EDAD_C_D_A_MASCULINO_A  \\\n",
       "0                          0                           0   \n",
       "1                          0                           0   \n",
       "2                          0                           0   \n",
       "\n",
       "   E+G_EDAD_C_D_B_FEMENINO_B  E+G_EDAD_C_D_B_MASCULINO_B  \\\n",
       "0                          0                           0   \n",
       "1                          0                           0   \n",
       "2                          0                           0   \n",
       "\n",
       "   E+G_EDAD_C_D_C_FEMENINO_C  E+G_EDAD_C_D_C_MASCULINO_C  \\\n",
       "0                          1                           0   \n",
       "1                          1                           0   \n",
       "2                          0                           0   \n",
       "\n",
       "   E+G_EDAD_C_D_D_FEMENINO_D  E+G_EDAD_C_D_D_MASCULINO_D  \n",
       "0                          0                           0  \n",
       "1                          0                           0  \n",
       "2                          1                           0  \n",
       "\n",
       "[3 rows x 247 columns]"
      ]
     },
     "execution_count": 285,
     "metadata": {},
     "output_type": "execute_result"
    }
   ],
   "source": [
    "data2 = data2[col_use]\n",
    "data_train = data2.copy()\n",
    "data_train.head(3)"
   ]
  },
  {
   "cell_type": "markdown",
   "metadata": {},
   "source": [
    "Deleate unwanted data:"
   ]
  },
  {
   "cell_type": "code",
   "execution_count": 286,
   "metadata": {},
   "outputs": [],
   "source": [
    "lst = [data2]\n",
    "del lst"
   ]
  },
  {
   "cell_type": "markdown",
   "metadata": {},
   "source": [
    "## Prepare Validation and Test data"
   ]
  },
  {
   "cell_type": "code",
   "execution_count": 287,
   "metadata": {},
   "outputs": [],
   "source": [
    "data_v = data_valid.copy()\n",
    "data_t = data_test.copy()\n",
    "col_cre = []"
   ]
  },
  {
   "cell_type": "code",
   "execution_count": 288,
   "metadata": {},
   "outputs": [],
   "source": [
    "data_v['PAGADO_A.1_N'] = np.log(data_v['PAGADO_A.1'] + 0.001)\n",
    "data_t['PAGADO_A.1_N'] = np.log(data_t['PAGADO_A.1'] + 0.001)\n",
    "col_cre.append('PAGADO_A.1_N')"
   ]
  },
  {
   "cell_type": "code",
   "execution_count": 289,
   "metadata": {},
   "outputs": [],
   "source": [
    "data_v['Cant_Diag'] = cant_diag(data_v, 11)\n",
    "data_t['Cant_Diag'] = cant_diag(data_t, 11)\n",
    "data_v['N_MESES'] = n_meses(data_v, 12)\n",
    "data_t['N_MESES'] = n_meses(data_t, 12)"
   ]
  },
  {
   "cell_type": "code",
   "execution_count": 290,
   "metadata": {},
   "outputs": [],
   "source": [
    "data_v['PAGADO_A_N'] = np.log(data_v['PAGADO_A'] + 0.001)\n",
    "data_t['PAGADO_A_N'] = np.log(data_t['PAGADO_A'] + 0.001)\n",
    "col_cre.append('PAGADO_A_N')"
   ]
  },
  {
   "cell_type": "code",
   "execution_count": 291,
   "metadata": {},
   "outputs": [
    {
     "name": "stdout",
     "output_type": "stream",
     "text": [
      "False\n",
      "False\n",
      "False\n",
      "False\n",
      "False\n",
      "False\n",
      "False\n",
      "False\n",
      "False\n",
      "False\n",
      "False\n",
      "False\n"
     ]
    }
   ],
   "source": [
    "for c in meanvar.keys():\n",
    "    u, sig = meanvar[c]\n",
    "    data_v[c + '_N'] = (data_v[c] - u)/sig\n",
    "    data_t[c + '_N'] = (data_t[c] - u)/sig\n",
    "    col_cre.append(c + '_N')\n",
    "\n",
    "for c in meanvar.keys():\n",
    "    print(data_v[c + '_N'].isnull().any())\n",
    "    print(data_t[c + '_N'].isnull().any())    "
   ]
  },
  {
   "cell_type": "code",
   "execution_count": 292,
   "metadata": {},
   "outputs": [],
   "source": [
    "data_v['EDAD_C'] = ['A' if x <= -1 else 'B' if x <= 0 else 'C' if x <= 1 else 'D' for x in data_v['EDAD_N']]\n",
    "data_t['EDAD_C'] = ['A' if x <= -1 else 'B' if x <= 0 else 'C' if x <= 1 else 'D' for x in data_t['EDAD_N']]\n",
    "data_v['E+G'] = data_v['EDAD_C'] + '_' + data_v['GENERO']\n",
    "data_t['E+G'] = data_t['EDAD_C'] + '_' + data_t['GENERO']"
   ]
  },
  {
   "cell_type": "code",
   "execution_count": 293,
   "metadata": {},
   "outputs": [],
   "source": [
    "for c in meancode.keys():\n",
    "    data_v[c + '_ME'] = data_v[c].map(meancode[c])\n",
    "    data_t[c + '_ME'] = data_t[c].map(meancode[c])\n",
    "    col_cre.append(c + '_ME')"
   ]
  },
  {
   "cell_type": "code",
   "execution_count": 294,
   "metadata": {},
   "outputs": [
    {
     "name": "stdout",
     "output_type": "stream",
     "text": [
      "False\n",
      "False\n",
      "False\n",
      "False\n",
      "False\n",
      "False\n",
      "False\n",
      "False\n"
     ]
    }
   ],
   "source": [
    "for c in meancode.keys():\n",
    "    print(data_v[c + '_ME'].isnull().any())\n",
    "    print(data_t[c + '_ME'].isnull().any())"
   ]
  },
  {
   "cell_type": "code",
   "execution_count": 295,
   "metadata": {},
   "outputs": [],
   "source": [
    "data_v['PERIODO_ME'] = data_v['PERIODO'].map({'2014-2015': -1, '2015-2016': 0, '2016-2017': 1})\n",
    "data_t['PERIODO_ME'] = data_t['PERIODO'].map({'2014-2015': -1, '2015-2016': 0, '2016-2017': 1})\n",
    "col_cre.append('PERIODO_ME')"
   ]
  },
  {
   "cell_type": "markdown",
   "metadata": {},
   "source": [
    "### Diagnostics\n",
    "\n",
    "Work with diagnostic features for **validation data**:"
   ]
  },
  {
   "cell_type": "code",
   "execution_count": 296,
   "metadata": {},
   "outputs": [
    {
     "data": {
      "text/html": [
       "<div>\n",
       "<style scoped>\n",
       "    .dataframe tbody tr th:only-of-type {\n",
       "        vertical-align: middle;\n",
       "    }\n",
       "\n",
       "    .dataframe tbody tr th {\n",
       "        vertical-align: top;\n",
       "    }\n",
       "\n",
       "    .dataframe thead th {\n",
       "        text-align: right;\n",
       "    }\n",
       "</style>\n",
       "<table border=\"1\" class=\"dataframe\">\n",
       "  <thead>\n",
       "    <tr style=\"text-align: right;\">\n",
       "      <th></th>\n",
       "      <th>AFILIADO</th>\n",
       "      <th>PERIODO</th>\n",
       "      <th>diag_f1</th>\n",
       "      <th>diag_f2</th>\n",
       "      <th>diag_f3</th>\n",
       "    </tr>\n",
       "  </thead>\n",
       "  <tbody>\n",
       "    <tr>\n",
       "      <th>7450</th>\n",
       "      <td>ABAD ALAVA DIANA FERNANDA</td>\n",
       "      <td>2016-2017</td>\n",
       "      <td>0.398890</td>\n",
       "      <td>0.244201</td>\n",
       "      <td>0.956574</td>\n",
       "    </tr>\n",
       "    <tr>\n",
       "      <th>7451</th>\n",
       "      <td>ABAD AREVALO CARLA MARA</td>\n",
       "      <td>2016-2017</td>\n",
       "      <td>-0.093111</td>\n",
       "      <td>-0.010495</td>\n",
       "      <td>-0.242658</td>\n",
       "    </tr>\n",
       "    <tr>\n",
       "      <th>7452</th>\n",
       "      <td>ABAD CABANILLA CARMEN BEATRIZ</td>\n",
       "      <td>2016-2017</td>\n",
       "      <td>-0.097062</td>\n",
       "      <td>0.397756</td>\n",
       "      <td>-0.602566</td>\n",
       "    </tr>\n",
       "  </tbody>\n",
       "</table>\n",
       "</div>"
      ],
      "text/plain": [
       "                           AFILIADO    PERIODO   diag_f1   diag_f2   diag_f3\n",
       "7450      ABAD ALAVA DIANA FERNANDA  2016-2017  0.398890  0.244201  0.956574\n",
       "7451        ABAD AREVALO CARLA MARA  2016-2017 -0.093111 -0.010495 -0.242658\n",
       "7452  ABAD CABANILLA CARMEN BEATRIZ  2016-2017 -0.097062  0.397756 -0.602566"
      ]
     },
     "execution_count": 296,
     "metadata": {},
     "output_type": "execute_result"
    }
   ],
   "source": [
    "data_d = pd.read_csv(\"nuevas\\\\pers_diag.csv\", sep=',', encoding = \"ISO-8859-1\")\n",
    "diag_train2 = data_d.copy()\n",
    "diag_train2 = diag_train2[diag_train2.PERIODO == '2015-2016']\n",
    "\n",
    "\n",
    "diag_train2['PERIODO'] = '2016-2017'\n",
    "diag_train2 = diag_train2[['AFILIADO','PERIODO','diag_f1','diag_f2','diag_f3']]\n",
    "diag_train2.head(3)"
   ]
  },
  {
   "cell_type": "markdown",
   "metadata": {},
   "source": [
    "Now we crete a mean feature to fill if person is missing:"
   ]
  },
  {
   "cell_type": "code",
   "execution_count": 297,
   "metadata": {},
   "outputs": [],
   "source": [
    "mean_feat = diag_train2[['diag_f1','diag_f2','diag_f3']].mean(axis = 0)"
   ]
  },
  {
   "cell_type": "markdown",
   "metadata": {},
   "source": [
    "Lets merge:"
   ]
  },
  {
   "cell_type": "code",
   "execution_count": 298,
   "metadata": {},
   "outputs": [],
   "source": [
    "data_v = data_v.merge(diag_train2, how = 'left', on=['AFILIADO','PERIODO'])"
   ]
  },
  {
   "cell_type": "markdown",
   "metadata": {},
   "source": [
    "Lets check for null values:"
   ]
  },
  {
   "cell_type": "code",
   "execution_count": 299,
   "metadata": {},
   "outputs": [
    {
     "data": {
      "text/plain": [
       "True"
      ]
     },
     "execution_count": 299,
     "metadata": {},
     "output_type": "execute_result"
    }
   ],
   "source": [
    "data_v['diag_f1'].isnull().values.any()"
   ]
  },
  {
   "cell_type": "markdown",
   "metadata": {},
   "source": [
    "What percentage is null?"
   ]
  },
  {
   "cell_type": "code",
   "execution_count": 300,
   "metadata": {},
   "outputs": [
    {
     "data": {
      "text/plain": [
       "0.242"
      ]
     },
     "execution_count": 300,
     "metadata": {},
     "output_type": "execute_result"
    }
   ],
   "source": [
    "len(data_v['diag_f1'][data_v['diag_f1'].isnull()])/len(data_v['diag_f1'])"
   ]
  },
  {
   "cell_type": "code",
   "execution_count": 301,
   "metadata": {},
   "outputs": [],
   "source": [
    "data_v = data_v.fillna(mean_feat)"
   ]
  },
  {
   "cell_type": "code",
   "execution_count": 302,
   "metadata": {},
   "outputs": [
    {
     "data": {
      "text/plain": [
       "False"
      ]
     },
     "execution_count": 302,
     "metadata": {},
     "output_type": "execute_result"
    }
   ],
   "source": [
    "data_v['diag_f1'].isnull().values.any()"
   ]
  },
  {
   "cell_type": "markdown",
   "metadata": {},
   "source": [
    "Now lets work with diagnosis on the **test data**:"
   ]
  },
  {
   "cell_type": "code",
   "execution_count": 303,
   "metadata": {},
   "outputs": [],
   "source": [
    "data_t = data_t.merge(diag_train2, how = 'left', on=['AFILIADO','PERIODO'])"
   ]
  },
  {
   "cell_type": "code",
   "execution_count": 304,
   "metadata": {},
   "outputs": [
    {
     "data": {
      "text/plain": [
       "True"
      ]
     },
     "execution_count": 304,
     "metadata": {},
     "output_type": "execute_result"
    }
   ],
   "source": [
    "data_t['diag_f1'].isnull().values.any()"
   ]
  },
  {
   "cell_type": "code",
   "execution_count": 305,
   "metadata": {},
   "outputs": [
    {
     "data": {
      "text/plain": [
       "0.2740423797881011"
      ]
     },
     "execution_count": 305,
     "metadata": {},
     "output_type": "execute_result"
    }
   ],
   "source": [
    "len(data_t['diag_f1'][data_t['diag_f1'].isnull()])/len(data_t['diag_f1'])"
   ]
  },
  {
   "cell_type": "code",
   "execution_count": 306,
   "metadata": {},
   "outputs": [],
   "source": [
    "data_t = data_t.fillna(mean_feat)"
   ]
  },
  {
   "cell_type": "code",
   "execution_count": 307,
   "metadata": {},
   "outputs": [
    {
     "data": {
      "text/plain": [
       "False"
      ]
     },
     "execution_count": 307,
     "metadata": {},
     "output_type": "execute_result"
    }
   ],
   "source": [
    "data_t['diag_f1'].isnull().values.any()"
   ]
  },
  {
   "cell_type": "code",
   "execution_count": 308,
   "metadata": {},
   "outputs": [],
   "source": [
    "col_cre = col_cre + ['diag_f1','diag_f2','diag_f3']"
   ]
  },
  {
   "cell_type": "markdown",
   "metadata": {},
   "source": [
    "### Dummies and Interactions"
   ]
  },
  {
   "cell_type": "code",
   "execution_count": 309,
   "metadata": {},
   "outputs": [],
   "source": [
    "columns = ['GENERO', 'EDAD_C', 'E+G']\n",
    "start = data_v.shape[1]\n",
    "\n",
    "for c in columns:\n",
    "    data_v = pd.concat((data_v, pd.get_dummies(data_v[c],prefix=c+'_D')),axis=1)  \n",
    "    data_t = pd.concat((data_t, pd.get_dummies(data_t[c],prefix=c+'_D')),axis=1)  \n",
    "\n",
    "end = data_v.shape[1]\n",
    "col_cre += list(data_v.columns[start:end])"
   ]
  },
  {
   "cell_type": "code",
   "execution_count": 310,
   "metadata": {},
   "outputs": [],
   "source": [
    "columns = ['EDAD_N', 'NRO_TRANS_A_N', 'C_DIAG_N', 'Cant_Diag_N', 'N_MESES_N', 'PRIMA_A.1_N',\n",
    "          'GENERO_ME', 'EDAD_C_ME', 'E+G_ME', 'PRODUCTO_ME', 'diag_f1', 'diag_f2', 'diag_f3']\n",
    "\n",
    "for c in columns:\n",
    "    for c2 in columns:\n",
    "        data_v[c + '_' + c2 + '_P_I'] = data_v[c] * data_v[c2]\n",
    "        data_t[c + '_' + c2 + '_P_I'] = data_t[c] * data_t[c2]\n",
    "        col_cre.append(c + '_' + c2 + '_P_I')"
   ]
  },
  {
   "cell_type": "code",
   "execution_count": 311,
   "metadata": {},
   "outputs": [],
   "source": [
    "columns = ['GENERO', 'EDAD_C', 'E+G']\n",
    "start = data_v.shape[1]\n",
    "\n",
    "for c in columns:\n",
    "    c2 = columns.copy()\n",
    "    c2.remove(c)\n",
    "    for e in c2:\n",
    "        data_v[c+'_'+e] = data_v[c] + '_' + data_v[e] \n",
    "        data_t[c+'_'+e] = data_t[c] + '_' + data_t[e]         \n",
    "        data_v = pd.concat((data_v, pd.get_dummies(data_v[c+'_'+e], prefix=c+'_'+e+'_D')),axis=1) \n",
    "        data_t = pd.concat((data_t, pd.get_dummies(data_t[c+'_'+e], prefix=c+'_'+e+'_D')),axis=1)\n",
    "        data_v = data_v.drop([c+'_'+e], axis=1) \n",
    "        data_t = data_t.drop([c+'_'+e], axis=1)\n",
    "        \n",
    "end = data_v.shape[1]\n",
    "col_cre += list(data_v.columns[start:end])"
   ]
  },
  {
   "cell_type": "code",
   "execution_count": 312,
   "metadata": {},
   "outputs": [
    {
     "data": {
      "text/html": [
       "<div>\n",
       "<style scoped>\n",
       "    .dataframe tbody tr th:only-of-type {\n",
       "        vertical-align: middle;\n",
       "    }\n",
       "\n",
       "    .dataframe tbody tr th {\n",
       "        vertical-align: top;\n",
       "    }\n",
       "\n",
       "    .dataframe thead th {\n",
       "        text-align: right;\n",
       "    }\n",
       "</style>\n",
       "<table border=\"1\" class=\"dataframe\">\n",
       "  <thead>\n",
       "    <tr style=\"text-align: right;\">\n",
       "      <th></th>\n",
       "      <th>PAGADO_A.1_N</th>\n",
       "      <th>PAGADO_A_N</th>\n",
       "      <th>EDAD_N</th>\n",
       "      <th>NRO_TRANS_A_N</th>\n",
       "      <th>C_DIAG_N</th>\n",
       "      <th>Cant_Diag_N</th>\n",
       "      <th>N_MESES_N</th>\n",
       "      <th>PRIMA_A.1_N</th>\n",
       "      <th>GENERO_ME</th>\n",
       "      <th>EDAD_C_ME</th>\n",
       "      <th>...</th>\n",
       "      <th>E+G_GENERO_D_D_FEMENINO_FEMENINO</th>\n",
       "      <th>E+G_GENERO_D_D_MASCULINO_MASCULINO</th>\n",
       "      <th>E+G_EDAD_C_D_A_FEMENINO_A</th>\n",
       "      <th>E+G_EDAD_C_D_A_MASCULINO_A</th>\n",
       "      <th>E+G_EDAD_C_D_B_FEMENINO_B</th>\n",
       "      <th>E+G_EDAD_C_D_B_MASCULINO_B</th>\n",
       "      <th>E+G_EDAD_C_D_C_FEMENINO_C</th>\n",
       "      <th>E+G_EDAD_C_D_C_MASCULINO_C</th>\n",
       "      <th>E+G_EDAD_C_D_D_FEMENINO_D</th>\n",
       "      <th>E+G_EDAD_C_D_D_MASCULINO_D</th>\n",
       "    </tr>\n",
       "  </thead>\n",
       "  <tbody>\n",
       "    <tr>\n",
       "      <th>0</th>\n",
       "      <td>-6.907755</td>\n",
       "      <td>-6.907755</td>\n",
       "      <td>0.196550</td>\n",
       "      <td>-0.685614</td>\n",
       "      <td>-1.262378</td>\n",
       "      <td>-0.765811</td>\n",
       "      <td>-0.847471</td>\n",
       "      <td>-1.258783</td>\n",
       "      <td>428.357258</td>\n",
       "      <td>427.970205</td>\n",
       "      <td>...</td>\n",
       "      <td>0</td>\n",
       "      <td>0</td>\n",
       "      <td>0</td>\n",
       "      <td>0</td>\n",
       "      <td>0</td>\n",
       "      <td>0</td>\n",
       "      <td>1</td>\n",
       "      <td>0</td>\n",
       "      <td>0</td>\n",
       "      <td>0</td>\n",
       "    </tr>\n",
       "    <tr>\n",
       "      <th>1</th>\n",
       "      <td>-6.907755</td>\n",
       "      <td>5.164277</td>\n",
       "      <td>1.048436</td>\n",
       "      <td>-0.120715</td>\n",
       "      <td>0.578644</td>\n",
       "      <td>-0.261588</td>\n",
       "      <td>-0.121518</td>\n",
       "      <td>1.549550</td>\n",
       "      <td>331.175212</td>\n",
       "      <td>569.162866</td>\n",
       "      <td>...</td>\n",
       "      <td>0</td>\n",
       "      <td>1</td>\n",
       "      <td>0</td>\n",
       "      <td>0</td>\n",
       "      <td>0</td>\n",
       "      <td>0</td>\n",
       "      <td>0</td>\n",
       "      <td>0</td>\n",
       "      <td>0</td>\n",
       "      <td>1</td>\n",
       "    </tr>\n",
       "    <tr>\n",
       "      <th>2</th>\n",
       "      <td>3.322551</td>\n",
       "      <td>2.889872</td>\n",
       "      <td>1.261407</td>\n",
       "      <td>-0.544389</td>\n",
       "      <td>0.578644</td>\n",
       "      <td>-0.513700</td>\n",
       "      <td>-0.484495</td>\n",
       "      <td>0.587303</td>\n",
       "      <td>428.357258</td>\n",
       "      <td>569.162866</td>\n",
       "      <td>...</td>\n",
       "      <td>1</td>\n",
       "      <td>0</td>\n",
       "      <td>0</td>\n",
       "      <td>0</td>\n",
       "      <td>0</td>\n",
       "      <td>0</td>\n",
       "      <td>0</td>\n",
       "      <td>0</td>\n",
       "      <td>1</td>\n",
       "      <td>0</td>\n",
       "    </tr>\n",
       "  </tbody>\n",
       "</table>\n",
       "<p>3 rows × 247 columns</p>\n",
       "</div>"
      ],
      "text/plain": [
       "   PAGADO_A.1_N  PAGADO_A_N    EDAD_N  NRO_TRANS_A_N  C_DIAG_N  Cant_Diag_N  \\\n",
       "0     -6.907755   -6.907755  0.196550      -0.685614 -1.262378    -0.765811   \n",
       "1     -6.907755    5.164277  1.048436      -0.120715  0.578644    -0.261588   \n",
       "2      3.322551    2.889872  1.261407      -0.544389  0.578644    -0.513700   \n",
       "\n",
       "   N_MESES_N  PRIMA_A.1_N   GENERO_ME   EDAD_C_ME  ...  \\\n",
       "0  -0.847471    -1.258783  428.357258  427.970205  ...   \n",
       "1  -0.121518     1.549550  331.175212  569.162866  ...   \n",
       "2  -0.484495     0.587303  428.357258  569.162866  ...   \n",
       "\n",
       "   E+G_GENERO_D_D_FEMENINO_FEMENINO  E+G_GENERO_D_D_MASCULINO_MASCULINO  \\\n",
       "0                                 0                                   0   \n",
       "1                                 0                                   1   \n",
       "2                                 1                                   0   \n",
       "\n",
       "   E+G_EDAD_C_D_A_FEMENINO_A  E+G_EDAD_C_D_A_MASCULINO_A  \\\n",
       "0                          0                           0   \n",
       "1                          0                           0   \n",
       "2                          0                           0   \n",
       "\n",
       "   E+G_EDAD_C_D_B_FEMENINO_B  E+G_EDAD_C_D_B_MASCULINO_B  \\\n",
       "0                          0                           0   \n",
       "1                          0                           0   \n",
       "2                          0                           0   \n",
       "\n",
       "   E+G_EDAD_C_D_C_FEMENINO_C  E+G_EDAD_C_D_C_MASCULINO_C  \\\n",
       "0                          1                           0   \n",
       "1                          0                           0   \n",
       "2                          0                           0   \n",
       "\n",
       "   E+G_EDAD_C_D_D_FEMENINO_D  E+G_EDAD_C_D_D_MASCULINO_D  \n",
       "0                          0                           0  \n",
       "1                          0                           1  \n",
       "2                          1                           0  \n",
       "\n",
       "[3 rows x 247 columns]"
      ]
     },
     "execution_count": 312,
     "metadata": {},
     "output_type": "execute_result"
    }
   ],
   "source": [
    "data_v = data_v[col_cre]\n",
    "data_t = data_t[col_cre]\n",
    "data_valid = data_v.copy()\n",
    "data_test = data_t.copy()\n",
    "data_valid.head(3)"
   ]
  },
  {
   "cell_type": "code",
   "execution_count": 313,
   "metadata": {},
   "outputs": [
    {
     "data": {
      "text/html": [
       "<div>\n",
       "<style scoped>\n",
       "    .dataframe tbody tr th:only-of-type {\n",
       "        vertical-align: middle;\n",
       "    }\n",
       "\n",
       "    .dataframe tbody tr th {\n",
       "        vertical-align: top;\n",
       "    }\n",
       "\n",
       "    .dataframe thead th {\n",
       "        text-align: right;\n",
       "    }\n",
       "</style>\n",
       "<table border=\"1\" class=\"dataframe\">\n",
       "  <thead>\n",
       "    <tr style=\"text-align: right;\">\n",
       "      <th></th>\n",
       "      <th>PAGADO_A.1_N</th>\n",
       "      <th>PAGADO_A_N</th>\n",
       "      <th>EDAD_N</th>\n",
       "      <th>NRO_TRANS_A_N</th>\n",
       "      <th>C_DIAG_N</th>\n",
       "      <th>Cant_Diag_N</th>\n",
       "      <th>N_MESES_N</th>\n",
       "      <th>PRIMA_A.1_N</th>\n",
       "      <th>GENERO_ME</th>\n",
       "      <th>EDAD_C_ME</th>\n",
       "      <th>...</th>\n",
       "      <th>E+G_GENERO_D_D_FEMENINO_FEMENINO</th>\n",
       "      <th>E+G_GENERO_D_D_MASCULINO_MASCULINO</th>\n",
       "      <th>E+G_EDAD_C_D_A_FEMENINO_A</th>\n",
       "      <th>E+G_EDAD_C_D_A_MASCULINO_A</th>\n",
       "      <th>E+G_EDAD_C_D_B_FEMENINO_B</th>\n",
       "      <th>E+G_EDAD_C_D_B_MASCULINO_B</th>\n",
       "      <th>E+G_EDAD_C_D_C_FEMENINO_C</th>\n",
       "      <th>E+G_EDAD_C_D_C_MASCULINO_C</th>\n",
       "      <th>E+G_EDAD_C_D_D_FEMENINO_D</th>\n",
       "      <th>E+G_EDAD_C_D_D_MASCULINO_D</th>\n",
       "    </tr>\n",
       "  </thead>\n",
       "  <tbody>\n",
       "    <tr>\n",
       "      <th>0</th>\n",
       "      <td>5.176325</td>\n",
       "      <td>5.232183</td>\n",
       "      <td>0.249793</td>\n",
       "      <td>0.302960</td>\n",
       "      <td>0.578644</td>\n",
       "      <td>0.746859</td>\n",
       "      <td>0.241458</td>\n",
       "      <td>0.551489</td>\n",
       "      <td>428.357258</td>\n",
       "      <td>427.970205</td>\n",
       "      <td>...</td>\n",
       "      <td>0</td>\n",
       "      <td>0</td>\n",
       "      <td>0</td>\n",
       "      <td>0</td>\n",
       "      <td>0</td>\n",
       "      <td>0</td>\n",
       "      <td>1</td>\n",
       "      <td>0</td>\n",
       "      <td>0</td>\n",
       "      <td>0</td>\n",
       "    </tr>\n",
       "    <tr>\n",
       "      <th>1</th>\n",
       "      <td>6.418367</td>\n",
       "      <td>7.563757</td>\n",
       "      <td>0.303036</td>\n",
       "      <td>5.104603</td>\n",
       "      <td>0.578644</td>\n",
       "      <td>5.032758</td>\n",
       "      <td>2.056340</td>\n",
       "      <td>0.981540</td>\n",
       "      <td>428.357258</td>\n",
       "      <td>427.970205</td>\n",
       "      <td>...</td>\n",
       "      <td>0</td>\n",
       "      <td>0</td>\n",
       "      <td>0</td>\n",
       "      <td>0</td>\n",
       "      <td>0</td>\n",
       "      <td>0</td>\n",
       "      <td>1</td>\n",
       "      <td>0</td>\n",
       "      <td>0</td>\n",
       "      <td>0</td>\n",
       "    </tr>\n",
       "    <tr>\n",
       "      <th>2</th>\n",
       "      <td>6.482390</td>\n",
       "      <td>5.390901</td>\n",
       "      <td>1.634107</td>\n",
       "      <td>0.726634</td>\n",
       "      <td>0.578644</td>\n",
       "      <td>0.494747</td>\n",
       "      <td>0.604435</td>\n",
       "      <td>0.454444</td>\n",
       "      <td>428.357258</td>\n",
       "      <td>569.162866</td>\n",
       "      <td>...</td>\n",
       "      <td>1</td>\n",
       "      <td>0</td>\n",
       "      <td>0</td>\n",
       "      <td>0</td>\n",
       "      <td>0</td>\n",
       "      <td>0</td>\n",
       "      <td>0</td>\n",
       "      <td>0</td>\n",
       "      <td>1</td>\n",
       "      <td>0</td>\n",
       "    </tr>\n",
       "  </tbody>\n",
       "</table>\n",
       "<p>3 rows × 247 columns</p>\n",
       "</div>"
      ],
      "text/plain": [
       "   PAGADO_A.1_N  PAGADO_A_N    EDAD_N  NRO_TRANS_A_N  C_DIAG_N  Cant_Diag_N  \\\n",
       "0      5.176325    5.232183  0.249793       0.302960  0.578644     0.746859   \n",
       "1      6.418367    7.563757  0.303036       5.104603  0.578644     5.032758   \n",
       "2      6.482390    5.390901  1.634107       0.726634  0.578644     0.494747   \n",
       "\n",
       "   N_MESES_N  PRIMA_A.1_N   GENERO_ME   EDAD_C_ME  ...  \\\n",
       "0   0.241458     0.551489  428.357258  427.970205  ...   \n",
       "1   2.056340     0.981540  428.357258  427.970205  ...   \n",
       "2   0.604435     0.454444  428.357258  569.162866  ...   \n",
       "\n",
       "   E+G_GENERO_D_D_FEMENINO_FEMENINO  E+G_GENERO_D_D_MASCULINO_MASCULINO  \\\n",
       "0                                 0                                   0   \n",
       "1                                 0                                   0   \n",
       "2                                 1                                   0   \n",
       "\n",
       "   E+G_EDAD_C_D_A_FEMENINO_A  E+G_EDAD_C_D_A_MASCULINO_A  \\\n",
       "0                          0                           0   \n",
       "1                          0                           0   \n",
       "2                          0                           0   \n",
       "\n",
       "   E+G_EDAD_C_D_B_FEMENINO_B  E+G_EDAD_C_D_B_MASCULINO_B  \\\n",
       "0                          0                           0   \n",
       "1                          0                           0   \n",
       "2                          0                           0   \n",
       "\n",
       "   E+G_EDAD_C_D_C_FEMENINO_C  E+G_EDAD_C_D_C_MASCULINO_C  \\\n",
       "0                          1                           0   \n",
       "1                          1                           0   \n",
       "2                          0                           0   \n",
       "\n",
       "   E+G_EDAD_C_D_D_FEMENINO_D  E+G_EDAD_C_D_D_MASCULINO_D  \n",
       "0                          0                           0  \n",
       "1                          0                           0  \n",
       "2                          1                           0  \n",
       "\n",
       "[3 rows x 247 columns]"
      ]
     },
     "execution_count": 313,
     "metadata": {},
     "output_type": "execute_result"
    }
   ],
   "source": [
    "data_test.head(3)"
   ]
  },
  {
   "cell_type": "markdown",
   "metadata": {},
   "source": [
    "## Run some tests:"
   ]
  },
  {
   "cell_type": "code",
   "execution_count": 314,
   "metadata": {},
   "outputs": [
    {
     "data": {
      "text/plain": [
       "<matplotlib.axes._subplots.AxesSubplot at 0x1f4cad4b5c0>"
      ]
     },
     "execution_count": 314,
     "metadata": {},
     "output_type": "execute_result"
    },
    {
     "data": {
      "image/png": "[encoded data removed]",
      "text/plain": [
       "<Figure size 432x288 with 1 Axes>"
      ]
     },
     "metadata": {
      "needs_background": "light"
     },
     "output_type": "display_data"
    }
   ],
   "source": [
    "data_train['PAGADO_A.1_N'].hist()"
   ]
  },
  {
   "cell_type": "code",
   "execution_count": 315,
   "metadata": {},
   "outputs": [
    {
     "data": {
      "text/plain": [
       "<matplotlib.axes._subplots.AxesSubplot at 0x1f4d595c358>"
      ]
     },
     "execution_count": 315,
     "metadata": {},
     "output_type": "execute_result"
    },
    {
     "data": {
      "image/png": "[encoded data removed]",
      "text/plain": [
       "<Figure size 432x288 with 1 Axes>"
      ]
     },
     "metadata": {
      "needs_background": "light"
     },
     "output_type": "display_data"
    }
   ],
   "source": [
    "data_valid['PAGADO_A.1_N'].hist()"
   ]
  },
  {
   "cell_type": "code",
   "execution_count": 316,
   "metadata": {},
   "outputs": [
    {
     "data": {
      "text/plain": [
       "<matplotlib.axes._subplots.AxesSubplot at 0x1f4d5e01f60>"
      ]
     },
     "execution_count": 316,
     "metadata": {},
     "output_type": "execute_result"
    },
    {
     "data": {
      "image/png": "[encoded data removed]",
      "text/plain": [
       "<Figure size 432x288 with 1 Axes>"
      ]
     },
     "metadata": {
      "needs_background": "light"
     },
     "output_type": "display_data"
    }
   ],
   "source": [
    "data_test['PAGADO_A.1_N'].hist()"
   ]
  },
  {
   "cell_type": "markdown",
   "metadata": {},
   "source": [
    "Reset Index:"
   ]
  },
  {
   "cell_type": "code",
   "execution_count": 317,
   "metadata": {},
   "outputs": [],
   "source": [
    "data_train = data_train.reset_index(drop=True)\n",
    "data_valid = data_valid.reset_index(drop=True)\n",
    "data_test = data_test.reset_index(drop=True)"
   ]
  },
  {
   "cell_type": "markdown",
   "metadata": {},
   "source": [
    "## Write Data"
   ]
  },
  {
   "cell_type": "code",
   "execution_count": 318,
   "metadata": {},
   "outputs": [],
   "source": [
    "data_train.to_csv(\"nuevas\\\\BASE_TRAIN.csv\", encoding='utf-8', index=False)\n",
    "data_valid.to_csv(\"nuevas\\\\BASE_VALID.csv\", encoding='utf-8', index=False)\n",
    "data_test.to_csv(\"nuevas\\\\BASE_TEST.csv\", encoding='utf-8', index=False)"
   ]
  },
  {
   "cell_type": "code",
   "execution_count": null,
   "metadata": {},
   "outputs": [],
   "source": []
  }
 ],
 "metadata": {
  "kernelspec": {
   "display_name": "Python 3",
   "language": "python",
   "name": "python3"
  },
  "language_info": {
   "codemirror_mode": {
    "name": "ipython",
    "version": 3
   },
   "file_extension": ".py",
   "mimetype": "text/x-python",
   "name": "python",
   "nbconvert_exporter": "python",
   "pygments_lexer": "ipython3",
   "version": "3.6.6"
  }
 },
 "nbformat": 4,
 "nbformat_minor": 2
}
