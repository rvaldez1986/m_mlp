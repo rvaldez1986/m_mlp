{
 "cells": [
  {
   "cell_type": "code",
   "execution_count": 1,
   "metadata": {},
   "outputs": [],
   "source": [
    "import os\n",
    "import pandas as pd\n",
    "import numpy as np\n",
    "from sklearn.utils import shuffle\n",
    "import torch.nn as nn\n",
    "import torch\n",
    "import torch.optim as optim\n",
    "import matplotlib.pyplot as plt\n",
    "import torch.nn.functional as F"
   ]
  },
  {
   "cell_type": "code",
   "execution_count": null,
   "metadata": {},
   "outputs": [],
   "source": []
  },
  {
   "cell_type": "code",
   "execution_count": 2,
   "metadata": {},
   "outputs": [],
   "source": [
    "np.random.seed(1232)\n",
    "os.chdir('C:\\\\Users\\\\rober\\\\Desktop\\\\RAND_pro\\\\Data\\\\dep')\n",
    "data = pd.read_csv(\"Rand_train.csv\", sep=',')\n",
    "data_val = pd.read_csv(\"Rand_valid.csv\", sep=',')"
   ]
  },
  {
   "cell_type": "code",
   "execution_count": 3,
   "metadata": {},
   "outputs": [],
   "source": [
    "data.cost = (np.exp(data.cost) - 0.5)*((data.cost != 0) * 1)\n",
    "data_val.cost = (np.exp(data_val.cost) - 0.5)*((data_val.cost != 0) * 1)\n",
    "data = shuffle(data).reset_index(drop=True)\n",
    "data = data.drop(['fmde', 'lxghindx', 'lpi'], axis=1)\n",
    "data_val = data_val.drop(['fmde', 'lxghindx', 'lpi'], axis=1)"
   ]
  },
  {
   "cell_type": "code",
   "execution_count": 4,
   "metadata": {},
   "outputs": [],
   "source": [
    "X = data.iloc[:,1:]\n",
    "Y = data.iloc[:,0]\n",
    "X_val = data_val.iloc[:,1:]\n",
    "Y_val = data_val.iloc[:,0]\n",
    "\n",
    "ranking = np.load('ranking.npy')\n",
    "\n",
    "my_index = X.columns.values[ranking]\n",
    "X2 = X[my_index]\n",
    "X2_val = X_val[my_index]"
   ]
  },
  {
   "cell_type": "code",
   "execution_count": 5,
   "metadata": {},
   "outputs": [],
   "source": [
    "cut = 0\n",
    "y1 = (Y <= cut) * 1\n",
    "y2 = (Y > cut) * (-1) * (-Y)\n",
    "Y2 = np.stack((y1, y2), axis=-1)\n",
    "\n",
    "y1_val = (Y_val <= cut) * 1\n",
    "y2_val = (Y_val > cut) * (-1) * (-Y_val)\n",
    "Y2_val = np.stack((y1_val, y2_val), axis=-1)"
   ]
  },
  {
   "cell_type": "code",
   "execution_count": null,
   "metadata": {},
   "outputs": [],
   "source": []
  },
  {
   "cell_type": "code",
   "execution_count": 6,
   "metadata": {},
   "outputs": [],
   "source": [
    "os.chdir('C:\\\\Users\\\\rober\\\\Desktop\\\\RAND_pro\\\\prog_calc')\n",
    "from fit5_nn import fit"
   ]
  },
  {
   "cell_type": "code",
   "execution_count": 15,
   "metadata": {},
   "outputs": [],
   "source": [
    "class Net1(nn.Module):\n",
    "    def __init__(self):\n",
    "        super(Net1, self).__init__()\n",
    "        \n",
    "        self.fc11 = nn.Linear(16, 24, bias = True)\n",
    "        self.fc12 = nn.Linear(24, 1, bias = True)\n",
    "        \n",
    "        self.fc21 = nn.Linear(16, 24, bias=True)\n",
    "        self.fc22 = nn.Linear(24, 5, bias=True)\n",
    "        self.fc23 = nn.Linear(5, 1, bias=True)\n",
    "                \n",
    "    def forward(self, x):\n",
    "        x1 = torch.tanh(self.fc11(x))\n",
    "        x1 = torch.sigmoid(self.fc12(x1))\n",
    "        \n",
    "        x2 = self.fc21(x)\n",
    "        x2 = F.relu(self.fc22(x2))\n",
    "        x2 = torch.exp(self.fc23(x2))       \n",
    "        \n",
    "        #x3 = torch.stack((x1[:,0], x2[:,0]), dim=1) \n",
    "        x3 = torch.cat((x1, x2), 1)\n",
    "        return x3"
   ]
  },
  {
   "cell_type": "code",
   "execution_count": 16,
   "metadata": {},
   "outputs": [],
   "source": [
    "def comb_error(output, target):\n",
    "    output = (output + 0.0001)*0.999\n",
    "    logErr1 = -1 * torch.log(output) * target[:,0].view(1,-1).t()\n",
    "    logErr2 = -1 * torch.log(1 - output) * (1 - target[:,0].view(1,-1)).t()\n",
    "    mseErr = torch.pow(target - output, 2) * (1 - target[:,0].view(1,-1)).t()\n",
    "    return (1/output.shape[0]) * (torch.sum(logErr1,dim=0)[0] + torch.sum(logErr2,dim=0)[0] + (1/(2*950000))*torch.sum(mseErr,dim=0)[1])"
   ]
  },
  {
   "cell_type": "code",
   "execution_count": 17,
   "metadata": {},
   "outputs": [],
   "source": [
    "n_epochs = 5000\n",
    "lr = 0.001\n",
    "verbose = 1\n",
    "n_batches = 6\n",
    "batch_to_avg = 2\n",
    "ep_to_check = 10\n",
    "clipping = 0.20\n",
    "PATH = 'C:\\\\Users\\\\rober\\\\Desktop\\\\RAND_pro\\\\Data\\\\checkpoints\\\\mytraining7.pt'\n",
    "device = torch.device(\"cuda:0\" if torch.cuda.is_available() else \"cpu\")"
   ]
  },
  {
   "cell_type": "code",
   "execution_count": 18,
   "metadata": {},
   "outputs": [
    {
     "name": "stdout",
     "output_type": "stream",
     "text": [
      "Epoch 1: Training Loss: 1.2290415664513905, Validation Loss: 1.3301912546157837\n",
      "Epoch 2: Training Loss: 1.2261294921239216, Validation Loss: 1.325783133506775\n",
      "Epoch 3: Training Loss: 1.2210701902707417, Validation Loss: 1.319699764251709\n",
      "Epoch 4: Training Loss: 1.2145775258541107, Validation Loss: 1.3124592304229736\n",
      "Epoch 5: Training Loss: 1.206950028737386, Validation Loss: 1.3044452667236328\n",
      "Epoch 6: Training Loss: 1.198581059773763, Validation Loss: 1.2959372997283936\n",
      "Epoch 7: Training Loss: 1.1898809671401978, Validation Loss: 1.2871400117874146\n",
      "Epoch 8: Training Loss: 1.1809752782185872, Validation Loss: 1.2782007455825806\n",
      "Epoch 9: Training Loss: 1.1719586253166199, Validation Loss: 1.2692264318466187\n",
      "Epoch 10: Training Loss: 1.1628147264321644, Validation Loss: 1.2602943181991577\n",
      "Epoch 11: Training Loss: 1.1538567741711934, Validation Loss: 1.251458764076233\n",
      "New Checkpoint Saved into PATH\n",
      "Epoch 12: Training Loss: 1.1449500024318695, Validation Loss: 1.242760419845581\n",
      "Epoch 13: Training Loss: 1.1361271142959595, Validation Loss: 1.2342270612716675\n",
      "Epoch 14: Training Loss: 1.1275579631328583, Validation Loss: 1.225879430770874\n",
      "Epoch 15: Training Loss: 1.1191016137599945, Validation Loss: 1.2177311182022095\n",
      "Epoch 16: Training Loss: 1.110936592022578, Validation Loss: 1.2097920179367065\n",
      "Epoch 17: Training Loss: 1.1029188831647236, Validation Loss: 1.2020690441131592\n",
      "Epoch 18: Training Loss: 1.095073292652766, Validation Loss: 1.1945669651031494\n",
      "Epoch 19: Training Loss: 1.0875379145145416, Validation Loss: 1.1872886419296265\n",
      "Epoch 20: Training Loss: 1.0800716777642567, Validation Loss: 1.1802352666854858\n",
      "Epoch 21: Training Loss: 1.0730709731578827, Validation Loss: 1.1734076738357544\n",
      "New Checkpoint Saved into PATH\n",
      "Epoch 22: Training Loss: 1.0660316050052643, Validation Loss: 1.1668062210083008\n",
      "Epoch 23: Training Loss: 1.0594013730684917, Validation Loss: 1.1604290008544922\n",
      "Epoch 24: Training Loss: 1.052854319413503, Validation Loss: 1.1542750597000122\n",
      "Epoch 25: Training Loss: 1.0465233425299327, Validation Loss: 1.1483427286148071\n",
      "Epoch 26: Training Loss: 1.040543536345164, Validation Loss: 1.142629861831665\n",
      "Epoch 27: Training Loss: 1.0346791843573253, Validation Loss: 1.1371335983276367\n",
      "Epoch 28: Training Loss: 1.029003878434499, Validation Loss: 1.131852149963379\n",
      "Epoch 29: Training Loss: 1.0236533284187317, Validation Loss: 1.1267818212509155\n",
      "Epoch 30: Training Loss: 1.0185267428557079, Validation Loss: 1.1219193935394287\n",
      "Epoch 31: Training Loss: 1.013481597105662, Validation Loss: 1.1172611713409424\n",
      "New Checkpoint Saved into PATH\n",
      "Epoch 32: Training Loss: 1.0087380806605022, Validation Loss: 1.1128029823303223\n",
      "Epoch 33: Training Loss: 1.0041847328344982, Validation Loss: 1.1085411310195923\n",
      "Epoch 34: Training Loss: 0.9997355838616689, Validation Loss: 1.1044715642929077\n",
      "Epoch 35: Training Loss: 0.9955525000890096, Validation Loss: 1.1005891561508179\n",
      "Epoch 36: Training Loss: 0.9915596743424734, Validation Loss: 1.096889615058899\n",
      "Epoch 37: Training Loss: 0.9877129594484965, Validation Loss: 1.093369483947754\n",
      "Epoch 38: Training Loss: 0.9840536812941233, Validation Loss: 1.0900217294692993\n",
      "Epoch 39: Training Loss: 0.9806456764539083, Validation Loss: 1.0868406295776367\n",
      "Epoch 40: Training Loss: 0.9773418605327606, Validation Loss: 1.0838209390640259\n",
      "Epoch 41: Training Loss: 0.9742471476395925, Validation Loss: 1.0809574127197266\n",
      "New Checkpoint Saved into PATH\n",
      "Epoch 42: Training Loss: 0.9711732665697733, Validation Loss: 1.078242540359497\n",
      "Epoch 43: Training Loss: 0.9684122900168101, Validation Loss: 1.075670599937439\n",
      "Epoch 44: Training Loss: 0.9656944672266642, Validation Loss: 1.0732334852218628\n",
      "Epoch 45: Training Loss: 0.9631557166576385, Validation Loss: 1.0709240436553955\n",
      "Epoch 46: Training Loss: 0.9607701400915781, Validation Loss: 1.0687369108200073\n",
      "Epoch 47: Training Loss: 0.9584588209788004, Validation Loss: 1.0666635036468506\n",
      "Epoch 48: Training Loss: 0.9563158750534058, Validation Loss: 1.0646967887878418\n",
      "Epoch 49: Training Loss: 0.9542376399040222, Validation Loss: 1.062828779220581\n",
      "Epoch 50: Training Loss: 0.9522544046243032, Validation Loss: 1.061052680015564\n",
      "Epoch 51: Training Loss: 0.9504373470942179, Validation Loss: 1.0593583583831787\n",
      "New Checkpoint Saved into PATH\n",
      "Epoch 52: Training Loss: 0.9486453135808309, Validation Loss: 1.0577397346496582\n",
      "Epoch 53: Training Loss: 0.9469979703426361, Validation Loss: 1.0561885833740234\n",
      "Epoch 54: Training Loss: 0.9453477462132772, Validation Loss: 1.0546923875808716\n",
      "Epoch 55: Training Loss: 0.9438315033912659, Validation Loss: 1.0532500743865967\n",
      "Epoch 56: Training Loss: 0.9423216382662455, Validation Loss: 1.0518523454666138\n",
      "Epoch 57: Training Loss: 0.9408772786458334, Validation Loss: 1.050487995147705\n",
      "Epoch 58: Training Loss: 0.9394770363966624, Validation Loss: 1.0491529703140259\n",
      "Epoch 59: Training Loss: 0.9381073117256165, Validation Loss: 1.047844409942627\n",
      "Epoch 60: Training Loss: 0.9367992480595907, Validation Loss: 1.0465564727783203\n",
      "Epoch 61: Training Loss: 0.9354757567246755, Validation Loss: 1.0452814102172852\n",
      "New Checkpoint Saved into PATH\n",
      "Epoch 62: Training Loss: 0.9341550171375275, Validation Loss: 1.0440212488174438\n",
      "Epoch 63: Training Loss: 0.9329041937987009, Validation Loss: 1.042773962020874\n",
      "Epoch 64: Training Loss: 0.9316605031490326, Validation Loss: 1.0415377616882324\n",
      "Epoch 65: Training Loss: 0.9304213325182596, Validation Loss: 1.040312647819519\n",
      "Epoch 66: Training Loss: 0.9292321503162384, Validation Loss: 1.0390939712524414\n",
      "Epoch 67: Training Loss: 0.9280169705549876, Validation Loss: 1.0378820896148682\n",
      "Epoch 68: Training Loss: 0.9268114864826202, Validation Loss: 1.036679744720459\n",
      "Epoch 69: Training Loss: 0.9256367484728495, Validation Loss: 1.035483717918396\n",
      "Epoch 70: Training Loss: 0.9244659245014191, Validation Loss: 1.0342952013015747\n",
      "Epoch 71: Training Loss: 0.9233109056949615, Validation Loss: 1.0331156253814697\n",
      "New Checkpoint Saved into PATH\n",
      "Epoch 72: Training Loss: 0.9221598406632742, Validation Loss: 1.0319464206695557\n",
      "Epoch 73: Training Loss: 0.9210187395413717, Validation Loss: 1.0307859182357788\n",
      "Epoch 74: Training Loss: 0.9199004073937734, Validation Loss: 1.0296376943588257\n",
      "Epoch 75: Training Loss: 0.9187951683998108, Validation Loss: 1.0284980535507202\n",
      "Epoch 76: Training Loss: 0.9176880816618601, Validation Loss: 1.0273703336715698\n",
      "Epoch 77: Training Loss: 0.9165923396746317, Validation Loss: 1.026251196861267\n"
     ]
    },
    {
     "ename": "KeyboardInterrupt",
     "evalue": "",
     "output_type": "error",
     "traceback": [
      "\u001b[1;31m---------------------------------------------------------------------------\u001b[0m",
      "\u001b[1;31mKeyboardInterrupt\u001b[0m                         Traceback (most recent call last)",
      "\u001b[1;32m<ipython-input-18-81593f6c4a6e>\u001b[0m in \u001b[0;36m<module>\u001b[1;34m\u001b[0m\n\u001b[0;32m      8\u001b[0m                 \u001b[0mn_epochs\u001b[0m\u001b[1;33m=\u001b[0m\u001b[0mn_epochs\u001b[0m\u001b[1;33m,\u001b[0m \u001b[0mn_batches\u001b[0m\u001b[1;33m=\u001b[0m\u001b[0mn_batches\u001b[0m\u001b[1;33m,\u001b[0m \u001b[0mbatch_to_avg\u001b[0m\u001b[1;33m=\u001b[0m\u001b[0mbatch_to_avg\u001b[0m\u001b[1;33m,\u001b[0m\u001b[1;33m\u001b[0m\u001b[0m\n\u001b[0;32m      9\u001b[0m                     \u001b[0mep_to_check\u001b[0m\u001b[1;33m=\u001b[0m\u001b[0mep_to_check\u001b[0m\u001b[1;33m,\u001b[0m \u001b[0mclipping\u001b[0m\u001b[1;33m=\u001b[0m\u001b[0mclipping\u001b[0m\u001b[1;33m,\u001b[0m \u001b[0mPATH\u001b[0m\u001b[1;33m=\u001b[0m\u001b[0mPATH\u001b[0m\u001b[1;33m,\u001b[0m \u001b[0mdevice\u001b[0m\u001b[1;33m=\u001b[0m\u001b[0mdevice\u001b[0m\u001b[1;33m,\u001b[0m\u001b[1;33m\u001b[0m\u001b[0m\n\u001b[1;32m---> 10\u001b[1;33m                                             verbose=verbose, min_val_loss = float('inf'))\n\u001b[0m",
      "\u001b[1;32m~\\Desktop\\RAND_pro\\prog_calc\\fit5_nn.py\u001b[0m in \u001b[0;36mfit\u001b[1;34m(X, X_val, Y, Y_val, net, optimizer, error, n_epochs, n_batches, batch_to_avg, ep_to_check, clipping, PATH, device, verbose, min_val_loss)\u001b[0m\n\u001b[0;32m     66\u001b[0m             \u001b[0mloss\u001b[0m \u001b[1;33m=\u001b[0m \u001b[0merror\u001b[0m\u001b[1;33m(\u001b[0m\u001b[0moutputs\u001b[0m\u001b[1;33m,\u001b[0m \u001b[0mlabels\u001b[0m\u001b[1;33m)\u001b[0m\u001b[1;33m\u001b[0m\u001b[0m\n\u001b[0;32m     67\u001b[0m \u001b[1;33m\u001b[0m\u001b[0m\n\u001b[1;32m---> 68\u001b[1;33m             \u001b[0mloss\u001b[0m\u001b[1;33m.\u001b[0m\u001b[0mbackward\u001b[0m\u001b[1;33m(\u001b[0m\u001b[1;33m)\u001b[0m\u001b[1;33m\u001b[0m\u001b[0m\n\u001b[0m\u001b[0;32m     69\u001b[0m \u001b[1;33m\u001b[0m\u001b[0m\n\u001b[0;32m     70\u001b[0m             \u001b[0mrunning_loss\u001b[0m \u001b[1;33m+=\u001b[0m \u001b[0mloss\u001b[0m\u001b[1;33m.\u001b[0m\u001b[0mitem\u001b[0m\u001b[1;33m(\u001b[0m\u001b[1;33m)\u001b[0m\u001b[1;33m\u001b[0m\u001b[0m\n",
      "\u001b[1;32mc:\\users\\rober\\appdata\\local\\programs\\python\\python36\\lib\\site-packages\\torch\\tensor.py\u001b[0m in \u001b[0;36mbackward\u001b[1;34m(self, gradient, retain_graph, create_graph)\u001b[0m\n\u001b[0;32m    100\u001b[0m                 \u001b[0mproducts\u001b[0m\u001b[1;33m.\u001b[0m \u001b[0mDefaults\u001b[0m \u001b[0mto\u001b[0m\u001b[0;31m \u001b[0m\u001b[0;31m`\u001b[0m\u001b[0;31m`\u001b[0m\u001b[1;32mFalse\u001b[0m\u001b[0;31m`\u001b[0m\u001b[0;31m`\u001b[0m\u001b[1;33m.\u001b[0m\u001b[1;33m\u001b[0m\u001b[0m\n\u001b[0;32m    101\u001b[0m         \"\"\"\n\u001b[1;32m--> 102\u001b[1;33m         \u001b[0mtorch\u001b[0m\u001b[1;33m.\u001b[0m\u001b[0mautograd\u001b[0m\u001b[1;33m.\u001b[0m\u001b[0mbackward\u001b[0m\u001b[1;33m(\u001b[0m\u001b[0mself\u001b[0m\u001b[1;33m,\u001b[0m \u001b[0mgradient\u001b[0m\u001b[1;33m,\u001b[0m \u001b[0mretain_graph\u001b[0m\u001b[1;33m,\u001b[0m \u001b[0mcreate_graph\u001b[0m\u001b[1;33m)\u001b[0m\u001b[1;33m\u001b[0m\u001b[0m\n\u001b[0m\u001b[0;32m    103\u001b[0m \u001b[1;33m\u001b[0m\u001b[0m\n\u001b[0;32m    104\u001b[0m     \u001b[1;32mdef\u001b[0m \u001b[0mregister_hook\u001b[0m\u001b[1;33m(\u001b[0m\u001b[0mself\u001b[0m\u001b[1;33m,\u001b[0m \u001b[0mhook\u001b[0m\u001b[1;33m)\u001b[0m\u001b[1;33m:\u001b[0m\u001b[1;33m\u001b[0m\u001b[0m\n",
      "\u001b[1;32mc:\\users\\rober\\appdata\\local\\programs\\python\\python36\\lib\\site-packages\\torch\\autograd\\__init__.py\u001b[0m in \u001b[0;36mbackward\u001b[1;34m(tensors, grad_tensors, retain_graph, create_graph, grad_variables)\u001b[0m\n\u001b[0;32m     88\u001b[0m     Variable._execution_engine.run_backward(\n\u001b[0;32m     89\u001b[0m         \u001b[0mtensors\u001b[0m\u001b[1;33m,\u001b[0m \u001b[0mgrad_tensors\u001b[0m\u001b[1;33m,\u001b[0m \u001b[0mretain_graph\u001b[0m\u001b[1;33m,\u001b[0m \u001b[0mcreate_graph\u001b[0m\u001b[1;33m,\u001b[0m\u001b[1;33m\u001b[0m\u001b[0m\n\u001b[1;32m---> 90\u001b[1;33m         allow_unreachable=True)  # allow_unreachable flag\n\u001b[0m\u001b[0;32m     91\u001b[0m \u001b[1;33m\u001b[0m\u001b[0m\n\u001b[0;32m     92\u001b[0m \u001b[1;33m\u001b[0m\u001b[0m\n",
      "\u001b[1;31mKeyboardInterrupt\u001b[0m: "
     ]
    }
   ],
   "source": [
    "net = Net1()\n",
    "optimizer = optim.SGD(net.parameters(), lr=lr, momentum=0.9)\n",
    "\n",
    "#PATH = 'C:\\\\Users\\\\rober\\\\Desktop\\\\RAND_pro\\\\Data\\\\checkpoints\\\\mytraining7.pt'\n",
    "#net.load_state_dict(torch.load(PATH, map_location = device))\n",
    "    \n",
    "a, b, c = fit(X=X2, X_val=X2_val, Y=Y2, Y_val=Y2_val, net=net, optimizer=optimizer, error=comb_error, \n",
    "                n_epochs=n_epochs, n_batches=n_batches, batch_to_avg=batch_to_avg, \n",
    "                    ep_to_check=ep_to_check, clipping=clipping, PATH=PATH, device=device, \n",
    "                                            verbose=verbose, min_val_loss = float('inf'))"
   ]
  },
  {
   "cell_type": "code",
   "execution_count": null,
   "metadata": {},
   "outputs": [],
   "source": []
  },
  {
   "cell_type": "code",
   "execution_count": null,
   "metadata": {},
   "outputs": [],
   "source": []
  },
  {
   "cell_type": "code",
   "execution_count": null,
   "metadata": {},
   "outputs": [],
   "source": []
  },
  {
   "cell_type": "code",
   "execution_count": null,
   "metadata": {},
   "outputs": [],
   "source": [
    "PATH = 'C:\\\\Users\\\\rober\\\\Desktop\\\\RAND_pro\\\\Data\\\\checkpoints\\\\mytraining7.pt'\n",
    "initial = X2.shape[1]\n",
    "final = int(round(initial * 1.5, 0)) \n",
    "device = torch.device('cpu')\n",
    "net = Net1()\n",
    "net.load_state_dict(torch.load(PATH, map_location = device))"
   ]
  },
  {
   "cell_type": "code",
   "execution_count": null,
   "metadata": {},
   "outputs": [],
   "source": [
    "with torch.no_grad():\n",
    "    val_inputs = torch.FloatTensor(X2_val.values)\n",
    "    val_labels = torch.FloatTensor(Y2_val)\n",
    "    val_inputs, val_labels = val_inputs.to(device), val_labels.to(device)\n",
    "    val_outputs = net.forward(val_inputs)\n",
    "    val_loss = comb_error(val_outputs, val_labels) \n",
    "    print(val_loss.item())"
   ]
  },
  {
   "cell_type": "code",
   "execution_count": null,
   "metadata": {},
   "outputs": [],
   "source": [
    "val_outputs"
   ]
  },
  {
   "cell_type": "code",
   "execution_count": null,
   "metadata": {},
   "outputs": [],
   "source": [
    "val_labels"
   ]
  },
  {
   "cell_type": "code",
   "execution_count": null,
   "metadata": {},
   "outputs": [],
   "source": [
    "val_outputs = val_outputs.numpy()\n",
    "val_labels = val_labels.numpy()\n",
    "y_scores = val_outputs[:,0]\n",
    "y_real = val_labels[:,0]"
   ]
  },
  {
   "cell_type": "code",
   "execution_count": null,
   "metadata": {},
   "outputs": [],
   "source": [
    "from sklearn.metrics import roc_curve, auc\n",
    "import matplotlib.pyplot as plt"
   ]
  },
  {
   "cell_type": "code",
   "execution_count": null,
   "metadata": {},
   "outputs": [],
   "source": [
    "def plot_roc_curve(fpr, tpr, label=None):\n",
    "    \"\"\"\n",
    "    The ROC curve, modified from \n",
    "    Hands-On Machine learning with Scikit-Learn and TensorFlow; p.91\n",
    "    \"\"\"\n",
    "    plt.figure(figsize=(8,8))\n",
    "    plt.title('ROC Curve')\n",
    "    plt.plot(fpr, tpr, linewidth=2, label=label)\n",
    "    plt.plot([0, 1], [0, 1], 'k--')\n",
    "    plt.axis([-0.005, 1, 0, 1.005])\n",
    "    plt.xticks(np.arange(0,1, 0.05), rotation=90)\n",
    "    plt.xlabel(\"False Positive Rate\")\n",
    "    plt.ylabel(\"True Positive Rate (Recall)\")\n",
    "    plt.legend(loc='best')"
   ]
  },
  {
   "cell_type": "code",
   "execution_count": null,
   "metadata": {},
   "outputs": [],
   "source": [
    "fpr, tpr, auc_thresholds = roc_curve(y_real, y_scores)\n",
    "print(auc(fpr, tpr)) # AUC of ROC\n",
    "plot_roc_curve(fpr, tpr, 'recall_optimized')"
   ]
  },
  {
   "cell_type": "code",
   "execution_count": null,
   "metadata": {},
   "outputs": [],
   "source": []
  },
  {
   "cell_type": "code",
   "execution_count": null,
   "metadata": {},
   "outputs": [],
   "source": [
    "y = val_labels[:,1][val_labels[:,1]>0]\n",
    "yhat = val_outputs[:,1][val_labels[:,1]>0]"
   ]
  },
  {
   "cell_type": "code",
   "execution_count": null,
   "metadata": {},
   "outputs": [],
   "source": [
    "RMSE = np.sqrt(np.mean((y - yhat)**2))\n",
    "RMSE"
   ]
  },
  {
   "cell_type": "code",
   "execution_count": null,
   "metadata": {},
   "outputs": [],
   "source": []
  },
  {
   "cell_type": "code",
   "execution_count": null,
   "metadata": {},
   "outputs": [],
   "source": [
    "y = np.abs(val_labels[:,1])\n",
    "p = val_outputs[:,0]\n",
    "f2 = val_outputs[:,1]\n",
    "yhat = (1-p)*f2"
   ]
  },
  {
   "cell_type": "code",
   "execution_count": null,
   "metadata": {},
   "outputs": [],
   "source": [
    "RMSE = np.sqrt(np.mean((y - yhat)**2))\n",
    "RMSE"
   ]
  },
  {
   "cell_type": "code",
   "execution_count": null,
   "metadata": {},
   "outputs": [],
   "source": []
  },
  {
   "cell_type": "code",
   "execution_count": null,
   "metadata": {},
   "outputs": [],
   "source": [
    "print(np.cov(y, p))"
   ]
  },
  {
   "cell_type": "code",
   "execution_count": null,
   "metadata": {},
   "outputs": [],
   "source": [
    "print(np.cov(f2, p))"
   ]
  },
  {
   "cell_type": "code",
   "execution_count": null,
   "metadata": {},
   "outputs": [],
   "source": []
  }
 ],
 "metadata": {
  "kernelspec": {
   "display_name": "Python 3",
   "language": "python",
   "name": "python3"
  },
  "language_info": {
   "codemirror_mode": {
    "name": "ipython",
    "version": 3
   },
   "file_extension": ".py",
   "mimetype": "text/x-python",
   "name": "python",
   "nbconvert_exporter": "python",
   "pygments_lexer": "ipython3",
   "version": "3.6.6"
  }
 },
 "nbformat": 4,
 "nbformat_minor": 2
}
