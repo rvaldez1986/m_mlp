{
 "cells": [
  {
   "cell_type": "code",
   "execution_count": 1,
   "metadata": {},
   "outputs": [],
   "source": [
    "import os\n",
    "import pandas as pd\n",
    "import numpy as np\n",
    "from sklearn.utils import shuffle\n",
    "import torch.nn as nn\n",
    "import torch\n",
    "import torch.optim as optim\n",
    "import matplotlib.pyplot as plt\n",
    "import torch.nn.functional as F"
   ]
  },
  {
   "cell_type": "code",
   "execution_count": null,
   "metadata": {},
   "outputs": [],
   "source": []
  },
  {
   "cell_type": "code",
   "execution_count": 2,
   "metadata": {},
   "outputs": [],
   "source": [
    "np.random.seed(1232)\n",
    "os.chdir('C:\\\\Users\\\\rober\\\\Desktop\\\\RAND_pro\\\\Data\\\\dep')\n",
    "data = pd.read_csv(\"Rand_train.csv\", sep=',')\n",
    "data_val = pd.read_csv(\"Rand_valid.csv\", sep=',')"
   ]
  },
  {
   "cell_type": "code",
   "execution_count": 3,
   "metadata": {},
   "outputs": [],
   "source": [
    "data.cost = (np.exp(data.cost) - 0.5)*((data.cost != 0) * 1)\n",
    "data_val.cost = (np.exp(data_val.cost) - 0.5)*((data_val.cost != 0) * 1)\n",
    "data = shuffle(data).reset_index(drop=True)\n",
    "data = data.drop(['fmde', 'lxghindx', 'lpi'], axis=1)\n",
    "data_val = data_val.drop(['fmde', 'lxghindx', 'lpi'], axis=1)"
   ]
  },
  {
   "cell_type": "code",
   "execution_count": 4,
   "metadata": {},
   "outputs": [],
   "source": [
    "X = data.iloc[:,1:]\n",
    "Y = data.iloc[:,0]\n",
    "X_val = data_val.iloc[:,1:]\n",
    "Y_val = data_val.iloc[:,0]\n",
    "\n",
    "ranking = np.load('ranking.npy')\n",
    "\n",
    "my_index = X.columns.values[ranking]\n",
    "X2 = X[my_index]\n",
    "X2_val = X_val[my_index]"
   ]
  },
  {
   "cell_type": "code",
   "execution_count": 5,
   "metadata": {},
   "outputs": [],
   "source": [
    "cut = 0\n",
    "y1 = (Y <= cut) * 1\n",
    "y2 = (Y > cut) * (-1) * (-Y)\n",
    "Y2 = np.stack((y1, y2), axis=-1)\n",
    "\n",
    "y1_val = (Y_val <= cut) * 1\n",
    "y2_val = (Y_val > cut) * (-1) * (-Y_val)\n",
    "Y2_val = np.stack((y1_val, y2_val), axis=-1)"
   ]
  },
  {
   "cell_type": "code",
   "execution_count": null,
   "metadata": {},
   "outputs": [],
   "source": []
  },
  {
   "cell_type": "code",
   "execution_count": 6,
   "metadata": {},
   "outputs": [],
   "source": [
    "os.chdir('C:\\\\Users\\\\rober\\\\Desktop\\\\RAND_pro\\\\prog_calc')\n",
    "from fit5_nn import fit"
   ]
  },
  {
   "cell_type": "code",
   "execution_count": 29,
   "metadata": {},
   "outputs": [],
   "source": [
    "class Net1(nn.Module):\n",
    "    def __init__(self):\n",
    "        super(Net1, self).__init__()\n",
    "        \n",
    "        self.fc11 = nn.Linear(16, 24, bias=True)\n",
    "                \n",
    "        self.fc21 = nn.Linear(24, 5, bias=True)\n",
    "        self.fc22 = nn.Linear(5, 1, bias=True)\n",
    "        \n",
    "        self.fc31 = nn.Linear(24, 5, bias = True)\n",
    "        self.fc32 = nn.Linear(5, 1, bias=True)\n",
    "    \n",
    "                \n",
    "    def forward(self, x):\n",
    "        x1 = F.relu(self.fc11(x))\n",
    "               \n",
    "        x2 = self.fc21(x1)\n",
    "        x2 = torch.sigmoid(self.fc22(x2))\n",
    "        \n",
    "        x3 = F.relu(self.fc31(x1))\n",
    "        x3 = torch.exp(self.fc32(x3))  \n",
    "        \n",
    "        x4 = torch.cat((x2, x3), 1)        \n",
    "        \n",
    "        return x4"
   ]
  },
  {
   "cell_type": "code",
   "execution_count": null,
   "metadata": {},
   "outputs": [],
   "source": []
  },
  {
   "cell_type": "code",
   "execution_count": 30,
   "metadata": {},
   "outputs": [],
   "source": [
    "def comb_error(output, target):\n",
    "    output = (output + 0.0001)*0.999\n",
    "    logErr1 = -1 * torch.log(output) * target[:,0].view(1,-1).t()\n",
    "    logErr2 = -1 * torch.log(1 - output) * (1 - target[:,0].view(1,-1)).t()\n",
    "    mseErr = torch.pow(target - output, 2) * (1 - target[:,0].view(1,-1)).t()\n",
    "    return (1/output.shape[0]) * (torch.sum(logErr1,dim=0)[0] + torch.sum(logErr2,dim=0)[0] + (1/(2*950000))*torch.sum(mseErr,dim=0)[1])"
   ]
  },
  {
   "cell_type": "code",
   "execution_count": 33,
   "metadata": {},
   "outputs": [],
   "source": [
    "n_epochs = 5000\n",
    "lr = 0.001\n",
    "verbose = 1\n",
    "n_batches = 6\n",
    "batch_to_avg = 2\n",
    "ep_to_check = 10\n",
    "clipping = 0.20\n",
    "PATH = 'C:\\\\Users\\\\rober\\\\Desktop\\\\RAND_pro\\\\Data\\\\checkpoints\\\\mytraining10.pt'\n",
    "device = torch.device(\"cuda:0\" if torch.cuda.is_available() else \"cpu\")"
   ]
  },
  {
   "cell_type": "code",
   "execution_count": 34,
   "metadata": {},
   "outputs": [
    {
     "name": "stdout",
     "output_type": "stream",
     "text": [
      "Epoch 1: Training Loss: 1.0573364694913228, Validation Loss: 1.169183373451233\n",
      "Epoch 2: Training Loss: 1.0561701854070027, Validation Loss: 1.1673083305358887\n",
      "Epoch 3: Training Loss: 1.0541438261667888, Validation Loss: 1.1647212505340576\n",
      "Epoch 4: Training Loss: 1.051533857981364, Validation Loss: 1.1616418361663818\n",
      "Epoch 5: Training Loss: 1.0484840373198192, Validation Loss: 1.1582311391830444\n",
      "Epoch 6: Training Loss: 1.0451802611351013, Validation Loss: 1.1546058654785156\n",
      "Epoch 7: Training Loss: 1.0417117079099019, Validation Loss: 1.1508502960205078\n",
      "Epoch 8: Training Loss: 1.038104345401128, Validation Loss: 1.1470259428024292\n",
      "Epoch 9: Training Loss: 1.034464289744695, Validation Loss: 1.143173098564148\n",
      "Epoch 10: Training Loss: 1.0307745138804119, Validation Loss: 1.139323353767395\n",
      "Epoch 11: Training Loss: 1.0271016657352448, Validation Loss: 1.1354970932006836\n",
      "New Checkpoint Saved into PATH\n",
      "Epoch 12: Training Loss: 1.0235195358594258, Validation Loss: 1.1317071914672852\n",
      "Epoch 13: Training Loss: 1.0198848744233449, Validation Loss: 1.1279637813568115\n",
      "Epoch 14: Training Loss: 1.0163325468699138, Validation Loss: 1.1242740154266357\n",
      "Epoch 15: Training Loss: 1.0128638346989949, Validation Loss: 1.1206433773040771\n",
      "Epoch 16: Training Loss: 1.0093675057093303, Validation Loss: 1.1170705556869507\n",
      "Epoch 17: Training Loss: 1.0059573948383331, Validation Loss: 1.1135599613189697\n",
      "Epoch 18: Training Loss: 1.0026604235172272, Validation Loss: 1.1101113557815552\n",
      "Epoch 19: Training Loss: 0.9993405044078827, Validation Loss: 1.106724739074707\n",
      "Epoch 20: Training Loss: 0.9960940579573313, Validation Loss: 1.1034003496170044\n",
      "Epoch 21: Training Loss: 0.9929379125436147, Validation Loss: 1.1001381874084473\n",
      "New Checkpoint Saved into PATH\n",
      "Epoch 22: Training Loss: 0.9898177484671274, Validation Loss: 1.0969369411468506\n",
      "Epoch 23: Training Loss: 0.9867636362711588, Validation Loss: 1.0937960147857666\n",
      "Epoch 24: Training Loss: 0.9837157626946768, Validation Loss: 1.0907148122787476\n",
      "Epoch 25: Training Loss: 0.9808113972345988, Validation Loss: 1.087693452835083\n",
      "Epoch 26: Training Loss: 0.9778770903746287, Validation Loss: 1.0847324132919312\n",
      "Epoch 27: Training Loss: 0.9750399589538574, Validation Loss: 1.0818287134170532\n",
      "Epoch 28: Training Loss: 0.9722617864608765, Validation Loss: 1.0789827108383179\n",
      "Epoch 29: Training Loss: 0.9695392946402231, Validation Loss: 1.0761946439743042\n",
      "Epoch 30: Training Loss: 0.9668926298618317, Validation Loss: 1.073466181755066\n",
      "Epoch 31: Training Loss: 0.9641995131969452, Validation Loss: 1.0707974433898926\n",
      "New Checkpoint Saved into PATH\n",
      "Epoch 32: Training Loss: 0.9616431593894958, Validation Loss: 1.0681865215301514\n",
      "Epoch 33: Training Loss: 0.959130217631658, Validation Loss: 1.0656347274780273\n",
      "Epoch 34: Training Loss: 0.956652820110321, Validation Loss: 1.063140630722046\n",
      "Epoch 35: Training Loss: 0.9542271693547567, Validation Loss: 1.0607059001922607\n",
      "Epoch 36: Training Loss: 0.9519329766432444, Validation Loss: 1.0583308935165405\n",
      "Epoch 37: Training Loss: 0.9496130148569742, Validation Loss: 1.056017279624939\n",
      "Epoch 38: Training Loss: 0.9473897814750671, Validation Loss: 1.053763747215271\n",
      "Epoch 39: Training Loss: 0.9451166391372681, Validation Loss: 1.051571011543274\n",
      "Epoch 40: Training Loss: 0.9430317382017771, Validation Loss: 1.0494381189346313\n",
      "Epoch 41: Training Loss: 0.9409459431966146, Validation Loss: 1.0473679304122925\n",
      "New Checkpoint Saved into PATH\n",
      "Epoch 42: Training Loss: 0.9389437139034271, Validation Loss: 1.0453622341156006\n",
      "Epoch 43: Training Loss: 0.9370079040527344, Validation Loss: 1.043421745300293\n",
      "Epoch 44: Training Loss: 0.935097336769104, Validation Loss: 1.0415459871292114\n",
      "Epoch 45: Training Loss: 0.9332582155863444, Validation Loss: 1.0397329330444336\n",
      "Epoch 46: Training Loss: 0.9314937094847361, Validation Loss: 1.03798508644104\n",
      "Epoch 47: Training Loss: 0.9297979176044464, Validation Loss: 1.036302924156189\n",
      "Epoch 48: Training Loss: 0.9281295438607534, Validation Loss: 1.0346870422363281\n"
     ]
    },
    {
     "ename": "KeyboardInterrupt",
     "evalue": "",
     "output_type": "error",
     "traceback": [
      "\u001b[1;31m---------------------------------------------------------------------------\u001b[0m",
      "\u001b[1;31mKeyboardInterrupt\u001b[0m                         Traceback (most recent call last)",
      "\u001b[1;32m<ipython-input-34-aa22699c115d>\u001b[0m in \u001b[0;36m<module>\u001b[1;34m\u001b[0m\n\u001b[0;32m      8\u001b[0m                 \u001b[0mn_epochs\u001b[0m\u001b[1;33m=\u001b[0m\u001b[0mn_epochs\u001b[0m\u001b[1;33m,\u001b[0m \u001b[0mn_batches\u001b[0m\u001b[1;33m=\u001b[0m\u001b[0mn_batches\u001b[0m\u001b[1;33m,\u001b[0m \u001b[0mbatch_to_avg\u001b[0m\u001b[1;33m=\u001b[0m\u001b[0mbatch_to_avg\u001b[0m\u001b[1;33m,\u001b[0m\u001b[1;33m\u001b[0m\u001b[0m\n\u001b[0;32m      9\u001b[0m                     \u001b[0mep_to_check\u001b[0m\u001b[1;33m=\u001b[0m\u001b[0mep_to_check\u001b[0m\u001b[1;33m,\u001b[0m \u001b[0mclipping\u001b[0m\u001b[1;33m=\u001b[0m\u001b[0mclipping\u001b[0m\u001b[1;33m,\u001b[0m \u001b[0mPATH\u001b[0m\u001b[1;33m=\u001b[0m\u001b[0mPATH\u001b[0m\u001b[1;33m,\u001b[0m \u001b[0mdevice\u001b[0m\u001b[1;33m=\u001b[0m\u001b[0mdevice\u001b[0m\u001b[1;33m,\u001b[0m\u001b[1;33m\u001b[0m\u001b[0m\n\u001b[1;32m---> 10\u001b[1;33m                                             verbose=verbose, min_val_loss = float('inf'))\n\u001b[0m",
      "\u001b[1;32m~\\Desktop\\RAND_pro\\prog_calc\\fit5_nn.py\u001b[0m in \u001b[0;36mfit\u001b[1;34m(X, X_val, Y, Y_val, net, optimizer, error, n_epochs, n_batches, batch_to_avg, ep_to_check, clipping, PATH, device, verbose, min_val_loss)\u001b[0m\n\u001b[0;32m     52\u001b[0m         \u001b[0mcounter\u001b[0m \u001b[1;33m=\u001b[0m \u001b[1;36m0\u001b[0m\u001b[1;33m\u001b[0m\u001b[0m\n\u001b[0;32m     53\u001b[0m \u001b[1;33m\u001b[0m\u001b[0m\n\u001b[1;32m---> 54\u001b[1;33m         \u001b[1;32mfor\u001b[0m \u001b[0mbatch_x\u001b[0m\u001b[1;33m,\u001b[0m \u001b[0mbatch_y\u001b[0m \u001b[1;32min\u001b[0m \u001b[0mbatch_generator\u001b[0m\u001b[1;33m(\u001b[0m\u001b[0mX\u001b[0m\u001b[1;33m,\u001b[0m \u001b[0mY\u001b[0m\u001b[1;33m,\u001b[0m \u001b[0mn_batches\u001b[0m\u001b[1;33m)\u001b[0m\u001b[1;33m:\u001b[0m\u001b[1;33m\u001b[0m\u001b[0m\n\u001b[0m\u001b[0;32m     55\u001b[0m \u001b[1;33m\u001b[0m\u001b[0m\n\u001b[0;32m     56\u001b[0m             \u001b[0mcounter\u001b[0m \u001b[1;33m+=\u001b[0m \u001b[1;36m1\u001b[0m\u001b[1;33m\u001b[0m\u001b[0m\n",
      "\u001b[1;32m~\\Desktop\\RAND_pro\\prog_calc\\fit5_nn.py\u001b[0m in \u001b[0;36mbatch_generator\u001b[1;34m(X, Y, n_batches)\u001b[0m\n\u001b[0;32m     25\u001b[0m         \u001b[0mX_batch\u001b[0m \u001b[1;33m=\u001b[0m \u001b[0mX\u001b[0m\u001b[1;33m.\u001b[0m\u001b[0mloc\u001b[0m\u001b[1;33m[\u001b[0m\u001b[0mbi\u001b[0m\u001b[1;33m]\u001b[0m\u001b[1;33m\u001b[0m\u001b[0m\n\u001b[0;32m     26\u001b[0m         \u001b[0mY_batch\u001b[0m \u001b[1;33m=\u001b[0m \u001b[0mY\u001b[0m\u001b[1;33m[\u001b[0m\u001b[0mbi\u001b[0m\u001b[1;33m]\u001b[0m\u001b[1;33m\u001b[0m\u001b[0m\n\u001b[1;32m---> 27\u001b[1;33m         \u001b[0midx\u001b[0m \u001b[1;33m=\u001b[0m \u001b[1;33m[\u001b[0m\u001b[0mi\u001b[0m \u001b[1;32mfor\u001b[0m \u001b[0mi\u001b[0m \u001b[1;32min\u001b[0m \u001b[0midx\u001b[0m \u001b[1;32mif\u001b[0m \u001b[0mi\u001b[0m \u001b[1;32mnot\u001b[0m \u001b[1;32min\u001b[0m \u001b[0mbi\u001b[0m\u001b[1;33m]\u001b[0m\u001b[1;33m\u001b[0m\u001b[0m\n\u001b[0m\u001b[0;32m     28\u001b[0m         \u001b[1;32myield\u001b[0m \u001b[1;33m(\u001b[0m\u001b[0mX_batch\u001b[0m\u001b[1;33m,\u001b[0m\u001b[0mY_batch\u001b[0m\u001b[1;33m)\u001b[0m\u001b[1;33m\u001b[0m\u001b[0m\n\u001b[0;32m     29\u001b[0m \u001b[1;33m\u001b[0m\u001b[0m\n",
      "\u001b[1;32m~\\Desktop\\RAND_pro\\prog_calc\\fit5_nn.py\u001b[0m in \u001b[0;36m<listcomp>\u001b[1;34m(.0)\u001b[0m\n\u001b[0;32m     25\u001b[0m         \u001b[0mX_batch\u001b[0m \u001b[1;33m=\u001b[0m \u001b[0mX\u001b[0m\u001b[1;33m.\u001b[0m\u001b[0mloc\u001b[0m\u001b[1;33m[\u001b[0m\u001b[0mbi\u001b[0m\u001b[1;33m]\u001b[0m\u001b[1;33m\u001b[0m\u001b[0m\n\u001b[0;32m     26\u001b[0m         \u001b[0mY_batch\u001b[0m \u001b[1;33m=\u001b[0m \u001b[0mY\u001b[0m\u001b[1;33m[\u001b[0m\u001b[0mbi\u001b[0m\u001b[1;33m]\u001b[0m\u001b[1;33m\u001b[0m\u001b[0m\n\u001b[1;32m---> 27\u001b[1;33m         \u001b[0midx\u001b[0m \u001b[1;33m=\u001b[0m \u001b[1;33m[\u001b[0m\u001b[0mi\u001b[0m \u001b[1;32mfor\u001b[0m \u001b[0mi\u001b[0m \u001b[1;32min\u001b[0m \u001b[0midx\u001b[0m \u001b[1;32mif\u001b[0m \u001b[0mi\u001b[0m \u001b[1;32mnot\u001b[0m \u001b[1;32min\u001b[0m \u001b[0mbi\u001b[0m\u001b[1;33m]\u001b[0m\u001b[1;33m\u001b[0m\u001b[0m\n\u001b[0m\u001b[0;32m     28\u001b[0m         \u001b[1;32myield\u001b[0m \u001b[1;33m(\u001b[0m\u001b[0mX_batch\u001b[0m\u001b[1;33m,\u001b[0m\u001b[0mY_batch\u001b[0m\u001b[1;33m)\u001b[0m\u001b[1;33m\u001b[0m\u001b[0m\n\u001b[0;32m     29\u001b[0m \u001b[1;33m\u001b[0m\u001b[0m\n",
      "\u001b[1;31mKeyboardInterrupt\u001b[0m: "
     ]
    }
   ],
   "source": [
    "net = Net1()\n",
    "optimizer = optim.SGD(net.parameters(), lr=lr, momentum=0.9)\n",
    "\n",
    "#PATH = 'C:\\\\Users\\\\rober\\\\Desktop\\\\RAND_pro\\\\Data\\\\checkpoints\\\\mytraining10.pt'\n",
    "#net.load_state_dict(torch.load(PATH, map_location = device))\n",
    "    \n",
    "a, b, c = fit(X=X2, X_val=X2_val, Y=Y2, Y_val=Y2_val, net=net, optimizer=optimizer, error=comb_error, \n",
    "                n_epochs=n_epochs, n_batches=n_batches, batch_to_avg=batch_to_avg, \n",
    "                    ep_to_check=ep_to_check, clipping=clipping, PATH=PATH, device=device, \n",
    "                                            verbose=verbose, min_val_loss = float('inf'))"
   ]
  },
  {
   "cell_type": "code",
   "execution_count": null,
   "metadata": {},
   "outputs": [],
   "source": []
  },
  {
   "cell_type": "code",
   "execution_count": null,
   "metadata": {},
   "outputs": [],
   "source": []
  },
  {
   "cell_type": "code",
   "execution_count": null,
   "metadata": {},
   "outputs": [],
   "source": []
  },
  {
   "cell_type": "code",
   "execution_count": null,
   "metadata": {},
   "outputs": [],
   "source": [
    "PATH = 'C:\\\\Users\\\\rober\\\\Desktop\\\\RAND_pro\\\\Data\\\\checkpoints\\\\mytraining10.pt'\n",
    "initial = X2.shape[1]\n",
    "final = int(round(initial * 1.5, 0)) \n",
    "device = torch.device('cpu')\n",
    "net = Net1()\n",
    "net.load_state_dict(torch.load(PATH, map_location = device))"
   ]
  },
  {
   "cell_type": "code",
   "execution_count": null,
   "metadata": {},
   "outputs": [],
   "source": [
    "with torch.no_grad():\n",
    "    val_inputs = torch.FloatTensor(X2_val.values)\n",
    "    val_labels = torch.FloatTensor(Y2_val)\n",
    "    val_inputs, val_labels = val_inputs.to(device), val_labels.to(device)\n",
    "    val_outputs = net.forward(val_inputs)\n",
    "    val_loss = comb_error(val_outputs, val_labels) \n",
    "    print(val_loss.item())"
   ]
  },
  {
   "cell_type": "code",
   "execution_count": null,
   "metadata": {},
   "outputs": [],
   "source": [
    "val_outputs"
   ]
  },
  {
   "cell_type": "code",
   "execution_count": null,
   "metadata": {},
   "outputs": [],
   "source": [
    "val_labels"
   ]
  },
  {
   "cell_type": "code",
   "execution_count": null,
   "metadata": {},
   "outputs": [],
   "source": [
    "val_outputs = val_outputs.numpy()\n",
    "val_labels = val_labels.numpy()\n",
    "y_scores = val_outputs[:,0]\n",
    "y_real = val_labels[:,0]"
   ]
  },
  {
   "cell_type": "code",
   "execution_count": null,
   "metadata": {},
   "outputs": [],
   "source": [
    "from sklearn.metrics import roc_curve, auc\n",
    "import matplotlib.pyplot as plt"
   ]
  },
  {
   "cell_type": "code",
   "execution_count": null,
   "metadata": {},
   "outputs": [],
   "source": [
    "def plot_roc_curve(fpr, tpr, label=None):\n",
    "    \"\"\"\n",
    "    The ROC curve, modified from \n",
    "    Hands-On Machine learning with Scikit-Learn and TensorFlow; p.91\n",
    "    \"\"\"\n",
    "    plt.figure(figsize=(8,8))\n",
    "    plt.title('ROC Curve')\n",
    "    plt.plot(fpr, tpr, linewidth=2, label=label)\n",
    "    plt.plot([0, 1], [0, 1], 'k--')\n",
    "    plt.axis([-0.005, 1, 0, 1.005])\n",
    "    plt.xticks(np.arange(0,1, 0.05), rotation=90)\n",
    "    plt.xlabel(\"False Positive Rate\")\n",
    "    plt.ylabel(\"True Positive Rate (Recall)\")\n",
    "    plt.legend(loc='best')"
   ]
  },
  {
   "cell_type": "code",
   "execution_count": null,
   "metadata": {},
   "outputs": [],
   "source": [
    "fpr, tpr, auc_thresholds = roc_curve(y_real, y_scores)\n",
    "print(auc(fpr, tpr)) # AUC of ROC\n",
    "plot_roc_curve(fpr, tpr, 'recall_optimized')"
   ]
  },
  {
   "cell_type": "code",
   "execution_count": null,
   "metadata": {},
   "outputs": [],
   "source": []
  },
  {
   "cell_type": "code",
   "execution_count": null,
   "metadata": {},
   "outputs": [],
   "source": [
    "y = val_labels[:,1][val_labels[:,1]>0]\n",
    "yhat = val_outputs[:,1][val_labels[:,1]>0]"
   ]
  },
  {
   "cell_type": "code",
   "execution_count": null,
   "metadata": {},
   "outputs": [],
   "source": [
    "RMSE = np.sqrt(np.mean((y - yhat)**2))\n",
    "RMSE"
   ]
  },
  {
   "cell_type": "code",
   "execution_count": null,
   "metadata": {},
   "outputs": [],
   "source": []
  },
  {
   "cell_type": "code",
   "execution_count": null,
   "metadata": {},
   "outputs": [],
   "source": [
    "y = np.array(Y_val)  #so we can tune the cut point\n",
    "p = val_outputs[:,0]\n",
    "f2 = val_outputs[:,1]\n",
    "yhat = (1-p)*f2"
   ]
  },
  {
   "cell_type": "code",
   "execution_count": null,
   "metadata": {},
   "outputs": [],
   "source": [
    "RMSE = np.sqrt(np.mean((y - yhat)**2))\n",
    "RMSE"
   ]
  },
  {
   "cell_type": "code",
   "execution_count": null,
   "metadata": {},
   "outputs": [],
   "source": [
    "print(np.cov(y, p))"
   ]
  },
  {
   "cell_type": "code",
   "execution_count": null,
   "metadata": {},
   "outputs": [],
   "source": [
    "print(np.cov(f2, p))"
   ]
  },
  {
   "cell_type": "code",
   "execution_count": null,
   "metadata": {},
   "outputs": [],
   "source": []
  }
 ],
 "metadata": {
  "kernelspec": {
   "display_name": "Python 3",
   "language": "python",
   "name": "python3"
  },
  "language_info": {
   "codemirror_mode": {
    "name": "ipython",
    "version": 3
   },
   "file_extension": ".py",
   "mimetype": "text/x-python",
   "name": "python",
   "nbconvert_exporter": "python",
   "pygments_lexer": "ipython3",
   "version": "3.6.6"
  }
 },
 "nbformat": 4,
 "nbformat_minor": 2
}
