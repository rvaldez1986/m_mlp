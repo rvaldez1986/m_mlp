{
 "cells": [
  {
   "cell_type": "code",
   "execution_count": 1,
   "metadata": {},
   "outputs": [],
   "source": [
    "import os\n",
    "import pandas as pd\n",
    "import numpy as np\n",
    "from sklearn.utils import shuffle\n",
    "import torch.nn as nn\n",
    "import torch\n",
    "import torch.optim as optim\n",
    "import matplotlib.pyplot as plt\n",
    "import torch.nn.functional as F"
   ]
  },
  {
   "cell_type": "code",
   "execution_count": 2,
   "metadata": {},
   "outputs": [],
   "source": [
    "data = pd.read_csv(\"..\\\\Data\\\\cle\\\\Rand_train.csv\", sep=',')\n",
    "data_val = pd.read_csv(\"..\\\\Data\\\\cle\\\\Rand_valid.csv\", sep=',')\n",
    "data_test = pd.read_csv(\"..\\\\Data\\\\cle\\\\Rand_test.csv\", sep=',')"
   ]
  },
  {
   "cell_type": "code",
   "execution_count": null,
   "metadata": {},
   "outputs": [],
   "source": []
  },
  {
   "cell_type": "code",
   "execution_count": 3,
   "metadata": {},
   "outputs": [],
   "source": [
    "X_test = data_test.iloc[:,1:]\n",
    "Y_test = data_test.iloc[:,0]\n",
    "\n",
    "X2_test = X_test\n",
    "Y2_test = Y_test"
   ]
  },
  {
   "cell_type": "code",
   "execution_count": null,
   "metadata": {},
   "outputs": [],
   "source": []
  },
  {
   "cell_type": "code",
   "execution_count": 4,
   "metadata": {},
   "outputs": [],
   "source": [
    "cut = 0\n",
    "\n",
    "y1_test = (Y_test <= cut) * 1\n",
    "y2_test = (Y_test > cut) * (-1) * (-Y_test)\n",
    "Y2_test = np.stack((y1_test, y2_test), axis=-1)"
   ]
  },
  {
   "cell_type": "code",
   "execution_count": 5,
   "metadata": {},
   "outputs": [],
   "source": [
    "cut0 = 0\n",
    "cut1 = 1146\n",
    "y10 = (Y_test == cut0) * 1\n",
    "y11 = ((Y_test > cut0) & (Y_test <= cut1)) * 1\n",
    "y12 = (Y_test > cut1) * 1\n",
    "y21 = y11 * Y_test\n",
    "y22 = y12 * Y_test\n",
    "Y2_test = np.stack((y10, y11, y12, y21, y22), axis=-1)"
   ]
  },
  {
   "cell_type": "code",
   "execution_count": null,
   "metadata": {},
   "outputs": [],
   "source": []
  },
  {
   "cell_type": "code",
   "execution_count": 6,
   "metadata": {},
   "outputs": [],
   "source": [
    "class Net1(nn.Module):\n",
    "    def __init__(self):\n",
    "        super(Net1, self).__init__()\n",
    "        \n",
    "        self.fc111 = nn.Linear(16, 24, bias = True)\n",
    "        self.fc112 = nn.Linear(24, 1, bias = True)\n",
    "        \n",
    "        self.fc121 = nn.Linear(16, 24, bias = True)\n",
    "        self.fc122 = nn.Linear(24, 1, bias = True)\n",
    "        \n",
    "        self.fc131 = nn.Linear(16, 24, bias = True)\n",
    "        self.fc132 = nn.Linear(24, 1, bias = True)\n",
    "       \n",
    "        \n",
    "        self.fc211 = nn.Linear(16, 24, bias=True)\n",
    "        self.fc212 = nn.Linear(24, 5, bias=True)\n",
    "        self.fc213 = nn.Linear(5, 1, bias=True)\n",
    "        \n",
    "        self.fc221 = nn.Linear(16, 24, bias=True)\n",
    "        self.fc222 = nn.Linear(24, 5, bias=True)\n",
    "        self.fc223 = nn.Linear(5, 1, bias=True)\n",
    "        \n",
    "        self.fc31 = nn.Linear(5,5, bias=False)       \n",
    "        \n",
    "               \n",
    "    def softmax(self,x):\n",
    "        expou = torch.exp(x)\n",
    "        sm = expou/torch.sum(expou, dim=1).view(-1,1)\n",
    "        return sm\n",
    "        \n",
    "    def disc_activation(self, h):\n",
    "        v1 = self.softmax(h[:,:3])\n",
    "        v2 = torch.exp(h[:,3:5])    \n",
    "        return torch.cat([v1, v2], dim=1)\n",
    "        \n",
    "                \n",
    "    def forward(self, x):\n",
    "        x11 = torch.tanh(self.fc111(x))\n",
    "        x11 = self.fc112(x11)\n",
    "        \n",
    "        x12 = torch.tanh(self.fc121(x))\n",
    "        x12 = self.fc122(x12)\n",
    "        \n",
    "        x13 = torch.tanh(self.fc131(x))\n",
    "        x13 = self.fc132(x13)                 \n",
    "        \n",
    "        x21 = torch.tanh(self.fc211(x))\n",
    "        #x21 = self.fc211(x)\n",
    "        x21 = F.relu(self.fc212(x21))\n",
    "        x21 = self.fc213(x21)\n",
    "        \n",
    "        x22 = torch.tanh(self.fc221(x))\n",
    "        #x22 = self.fc221(x)\n",
    "        x22 = F.relu(self.fc222(x22))\n",
    "        x22 = self.fc223(x22)\n",
    "        \n",
    "        x3 = torch.cat((x11, x12, x13, x21, x22), 1)        \n",
    "        x3 = self.fc31(x3)\n",
    "        x3 = self.disc_activation(x3)        \n",
    "       \n",
    "        return x3"
   ]
  },
  {
   "cell_type": "code",
   "execution_count": null,
   "metadata": {},
   "outputs": [],
   "source": []
  },
  {
   "cell_type": "code",
   "execution_count": 7,
   "metadata": {},
   "outputs": [],
   "source": [
    "PATH = '..\\\\Data\\\\checkpoints\\\\mytraining10.pt'\n",
    "device = torch.device('cpu')\n",
    "net = Net1()\n",
    "net.load_state_dict(torch.load(PATH, map_location = device))"
   ]
  },
  {
   "cell_type": "code",
   "execution_count": 8,
   "metadata": {},
   "outputs": [],
   "source": [
    "with torch.no_grad():\n",
    "    net.eval()  \n",
    "    \n",
    "    test_inputs, test_labels = torch.FloatTensor(X2_test.values), torch.FloatTensor(Y2_test)\n",
    "    test_inputs, test_labels = test_inputs.to(device), test_labels.to(device)      \n",
    "    \n",
    "    test_outputs = net.forward(test_inputs)   \n",
    "    \n",
    "    test_outputs2, test_labels2 = test_outputs.numpy(), test_labels.numpy()"
   ]
  },
  {
   "cell_type": "code",
   "execution_count": 9,
   "metadata": {},
   "outputs": [],
   "source": [
    "y = test_labels2[:,1]\n",
    "p = test_outputs2[:,0]\n",
    "f2 = test_outputs2[:,1]\n",
    "yhat = (1-p)*f2"
   ]
  },
  {
   "cell_type": "code",
   "execution_count": 10,
   "metadata": {},
   "outputs": [],
   "source": [
    "y = test_labels2[:,2+1] + test_labels2[:,2+2]  \n",
    "    \n",
    "p1 = test_outputs2[:,1]\n",
    "p2 = test_outputs2[:,2]\n",
    "e1 = test_outputs2[:,2+1]\n",
    "e2 = test_outputs2[:,2+2]    \n",
    "yhat = p1 * e1 + p2 * e2"
   ]
  },
  {
   "cell_type": "code",
   "execution_count": 11,
   "metadata": {},
   "outputs": [
    {
     "data": {
      "text/plain": [
       "array([[6.9970959e-01, 2.9672495e-01, 3.5654688e-03, 1.6233121e+00,\n",
       "        3.7861292e+02],\n",
       "       [6.5562713e-01, 3.4014627e-01, 4.2265784e-03, 1.8395480e+00,\n",
       "        5.2888953e+02],\n",
       "       [6.4581203e-01, 3.4923783e-01, 4.9501578e-03, 1.7399977e+00,\n",
       "        4.2781161e+02],\n",
       "       ...,\n",
       "       [4.0058053e-01, 5.8359218e-01, 1.5827361e-02, 2.4387722e+00,\n",
       "        9.1515308e+02],\n",
       "       [6.2552564e-02, 8.7191582e-01, 6.5531641e-02, 8.1757307e+00,\n",
       "        1.4197261e+03],\n",
       "       [6.9789380e-01, 2.9122180e-01, 1.0884480e-02, 3.9991140e-01,\n",
       "        1.4682048e+03]], dtype=float32)"
      ]
     },
     "execution_count": 11,
     "metadata": {},
     "output_type": "execute_result"
    }
   ],
   "source": [
    "test_outputs2"
   ]
  },
  {
   "cell_type": "code",
   "execution_count": 12,
   "metadata": {
    "scrolled": true
   },
   "outputs": [
    {
     "name": "stdout",
     "output_type": "stream",
     "text": [
      "276.2471\n"
     ]
    }
   ],
   "source": [
    "print(np.mean(np.abs(yhat - y)))"
   ]
  },
  {
   "cell_type": "code",
   "execution_count": 13,
   "metadata": {},
   "outputs": [
    {
     "data": {
      "text/plain": [
       "1.5857008"
      ]
     },
     "execution_count": 13,
     "metadata": {},
     "output_type": "execute_result"
    }
   ],
   "source": [
    "np.min(yhat)"
   ]
  },
  {
   "cell_type": "code",
   "execution_count": 14,
   "metadata": {},
   "outputs": [
    {
     "data": {
      "text/plain": [
       "320.70596"
      ]
     },
     "execution_count": 14,
     "metadata": {},
     "output_type": "execute_result"
    }
   ],
   "source": [
    "np.max(yhat)"
   ]
  },
  {
   "cell_type": "code",
   "execution_count": 15,
   "metadata": {},
   "outputs": [
    {
     "data": {
      "text/plain": [
       "47.30273"
      ]
     },
     "execution_count": 15,
     "metadata": {},
     "output_type": "execute_result"
    }
   ],
   "source": [
    "np.mean(yhat)"
   ]
  },
  {
   "cell_type": "code",
   "execution_count": null,
   "metadata": {},
   "outputs": [],
   "source": []
  },
  {
   "cell_type": "code",
   "execution_count": 16,
   "metadata": {},
   "outputs": [],
   "source": [
    "cut0 = 0\n",
    "cut1 = 1146\n",
    "\n",
    "y1 = y[y==cut0]\n",
    "yh1 = yhat[y==cut0]\n",
    "y2 = y[(y > cut0) & (y <= cut1)]\n",
    "yh2 = yhat[(y > cut0) & (y <= cut1)]\n",
    "y3 = y[y>cut1]\n",
    "yh3 = yhat[y>cut1]"
   ]
  },
  {
   "cell_type": "code",
   "execution_count": 17,
   "metadata": {
    "scrolled": true
   },
   "outputs": [
    {
     "name": "stdout",
     "output_type": "stream",
     "text": [
      "21.358866\n",
      "130.07274\n",
      "2876.2542\n"
     ]
    }
   ],
   "source": [
    "print(np.mean(np.abs(yh1 - y1)))\n",
    "print(np.mean(np.abs(yh2 - y2)))\n",
    "print(np.mean(np.abs(yh3 - y3)))"
   ]
  },
  {
   "cell_type": "code",
   "execution_count": null,
   "metadata": {},
   "outputs": [],
   "source": []
  }
 ],
 "metadata": {
  "kernelspec": {
   "display_name": "Python 3",
   "language": "python",
   "name": "python3"
  },
  "language_info": {
   "codemirror_mode": {
    "name": "ipython",
    "version": 3
   },
   "file_extension": ".py",
   "mimetype": "text/x-python",
   "name": "python",
   "nbconvert_exporter": "python",
   "pygments_lexer": "ipython3",
   "version": "3.6.6"
  }
 },
 "nbformat": 4,
 "nbformat_minor": 2
}
