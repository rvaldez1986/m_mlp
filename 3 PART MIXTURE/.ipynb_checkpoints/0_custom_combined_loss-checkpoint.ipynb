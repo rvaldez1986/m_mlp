{
 "cells": [
  {
   "cell_type": "code",
   "execution_count": 1,
   "metadata": {},
   "outputs": [],
   "source": [
    "import torch\n",
    "from torch.autograd import Variable\n",
    "import time"
   ]
  },
  {
   "cell_type": "markdown",
   "metadata": {},
   "source": [
    "# Construct a Combined Loss\n",
    "\n",
    "### Work with examples"
   ]
  },
  {
   "cell_type": "code",
   "execution_count": 2,
   "metadata": {},
   "outputs": [],
   "source": [
    "output = torch.FloatTensor([[0.8, 0.2, 0.1, 5.8, 15.22],[0.4, 0.5, 0.1, 7.8, 20.22],[0.05, 0.45, 0.5, 5.8, 10.22]])\n",
    "target = torch.FloatTensor([[1,0,0,0,0],[0,1,0,2.99,0],[0,0,1,0,20]])"
   ]
  },
  {
   "cell_type": "code",
   "execution_count": 52,
   "metadata": {},
   "outputs": [
    {
     "name": "stdout",
     "output_type": "stream",
     "text": [
      "tensor([1., 0., 0.])\n",
      "tensor([0., 1., 0.])\n",
      "tensor([0., 0., 1.])\n"
     ]
    }
   ],
   "source": [
    "p0 = target[:,0]\n",
    "p1 = target[:,1]\n",
    "p2 = target[:,2]\n",
    "print(p0);print(p1);print(p2)"
   ]
  },
  {
   "cell_type": "code",
   "execution_count": 53,
   "metadata": {},
   "outputs": [
    {
     "data": {
      "text/plain": [
       "tensor([0.8000, 0.4000, 0.0500])"
      ]
     },
     "execution_count": 53,
     "metadata": {},
     "output_type": "execute_result"
    }
   ],
   "source": [
    "output[:,0]"
   ]
  },
  {
   "cell_type": "code",
   "execution_count": 54,
   "metadata": {},
   "outputs": [
    {
     "data": {
      "text/plain": [
       "tensor([0.8000, 0.0000, 0.0000])"
      ]
     },
     "execution_count": 54,
     "metadata": {},
     "output_type": "execute_result"
    }
   ],
   "source": [
    "torch.mul(output[:,0], p0)"
   ]
  },
  {
   "cell_type": "code",
   "execution_count": 55,
   "metadata": {},
   "outputs": [],
   "source": [
    "logErr0 = torch.mul(torch.log(output[:,0]), p0)\n",
    "logErr1 = torch.mul(torch.log(output[:,1]), p1)\n",
    "logErr2 = torch.mul(torch.log(output[:,2]), p2)"
   ]
  },
  {
   "cell_type": "code",
   "execution_count": 56,
   "metadata": {},
   "outputs": [],
   "source": [
    "mseErr1 = torch.mul(torch.pow(target[:,2+1] - output[:,2+1], 2), p1)\n",
    "mseErr2 = torch.mul(torch.pow(target[:,2+2] - output[:,2+2], 2), p2)"
   ]
  },
  {
   "cell_type": "code",
   "execution_count": 57,
   "metadata": {},
   "outputs": [],
   "source": [
    "logErr0 = -1 * torch.sum(logErr0)\n",
    "logErr1 = -1 * torch.sum(logErr1)\n",
    "logErr2 = -1 * torch.sum(logErr2)\n",
    "mseErr1 = torch.sum(mseErr1)    \n",
    "mseErr2 = torch.sum(mseErr2)    "
   ]
  },
  {
   "cell_type": "code",
   "execution_count": null,
   "metadata": {},
   "outputs": [],
   "source": []
  },
  {
   "cell_type": "code",
   "execution_count": 58,
   "metadata": {},
   "outputs": [],
   "source": [
    "def comb_error(output, target, sig1, sig2):\n",
    "    output = (output + 0.0001)*0.999\n",
    "    p0 = target[:,0]\n",
    "    p1 = target[:,1]\n",
    "    p2 = target[:,2]\n",
    "    \n",
    "    logErr0 = torch.mul(torch.log(output[:,0]), p0)\n",
    "    logErr1 = torch.mul(torch.log(output[:,1]), p1)\n",
    "    logErr2 = torch.mul(torch.log(output[:,2]), p2)\n",
    "    mseErr1 = torch.mul(torch.pow(target[:,2+1] - output[:,2+1], 2), p1)\n",
    "    mseErr2 = torch.mul(torch.pow(target[:,2+2] - output[:,2+2], 2), p2)   \n",
    "    \n",
    "    logErr0 = -1 * torch.sum(logErr0)\n",
    "    logErr1 = -1 * torch.sum(logErr1)\n",
    "    logErr2 = -1 * torch.sum(logErr2)\n",
    "    mseErr1 = torch.sum(mseErr1)    \n",
    "    mseErr2 = torch.sum(mseErr2)      \n",
    "    \n",
    "    return (1/output.shape[0]) * (logErr1 + logErr2 + (1/sig1)*mseErr1 + (1/sig2)*mseErr2)    "
   ]
  },
  {
   "cell_type": "markdown",
   "metadata": {},
   "source": [
    "### MAE"
   ]
  },
  {
   "cell_type": "code",
   "execution_count": 60,
   "metadata": {},
   "outputs": [
    {
     "data": {
      "text/plain": [
       "array([ 0.  ,  2.99, 20.  ], dtype=float32)"
      ]
     },
     "execution_count": 60,
     "metadata": {},
     "output_type": "execute_result"
    }
   ],
   "source": [
    "output, target = output.numpy(), target.numpy()\n",
    "\n",
    "y = target[:,2+1] + target[:,2+2]  \n",
    "y"
   ]
  },
  {
   "cell_type": "code",
   "execution_count": 61,
   "metadata": {},
   "outputs": [
    {
     "data": {
      "text/plain": [
       "array([2.6820002, 5.922    , 7.7200003], dtype=float32)"
      ]
     },
     "execution_count": 61,
     "metadata": {},
     "output_type": "execute_result"
    }
   ],
   "source": [
    "p1 = output[:,1]\n",
    "p2 = output[:,2]\n",
    "e1 = output[:,2+1]\n",
    "e2 = output[:,2+2]\n",
    "yhat = p1 * e1 + p2 * e2\n",
    "yhat"
   ]
  },
  {
   "cell_type": "markdown",
   "metadata": {},
   "source": [
    "### Softmax"
   ]
  },
  {
   "cell_type": "code",
   "execution_count": 72,
   "metadata": {},
   "outputs": [],
   "source": [
    "output1 = torch.FloatTensor([[8, 2, 1],[4, 5, 1],[5, 45, 50]])"
   ]
  },
  {
   "cell_type": "code",
   "execution_count": 73,
   "metadata": {},
   "outputs": [
    {
     "data": {
      "text/plain": [
       "tensor([[2.9810e+03, 7.3891e+00, 2.7183e+00],\n",
       "        [5.4598e+01, 1.4841e+02, 2.7183e+00],\n",
       "        [1.4841e+02, 3.4934e+19, 5.1847e+21]])"
      ]
     },
     "execution_count": 73,
     "metadata": {},
     "output_type": "execute_result"
    }
   ],
   "source": [
    "torch.exp(output1)"
   ]
  },
  {
   "cell_type": "code",
   "execution_count": 74,
   "metadata": {},
   "outputs": [
    {
     "data": {
      "text/plain": [
       "tensor([[9.9662e-01, 2.4704e-03, 9.0880e-04],\n",
       "        [2.6539e-01, 7.2140e-01, 1.3213e-02],\n",
       "        [2.8434e-20, 6.6929e-03, 9.9331e-01]])"
      ]
     },
     "execution_count": 74,
     "metadata": {},
     "output_type": "execute_result"
    }
   ],
   "source": [
    "eo = torch.exp(output1)\n",
    "sm = eo/torch.sum(eo, dim=1).view(-1,1)\n",
    "sm"
   ]
  },
  {
   "cell_type": "code",
   "execution_count": 75,
   "metadata": {},
   "outputs": [
    {
     "data": {
      "text/plain": [
       "tensor([1.0000, 1.0000, 1.0000])"
      ]
     },
     "execution_count": 75,
     "metadata": {},
     "output_type": "execute_result"
    }
   ],
   "source": [
    "torch.sum(sm, dim=1)"
   ]
  },
  {
   "cell_type": "markdown",
   "metadata": {},
   "source": [
    "### Define error as function and apply autograd"
   ]
  },
  {
   "cell_type": "code",
   "execution_count": 38,
   "metadata": {},
   "outputs": [],
   "source": [
    "def comb_error(output, target, sig1, sig2):\n",
    "    output = (output + 0.0001)*0.999\n",
    "    p0 = target[:,0]\n",
    "    p1 = target[:,1]\n",
    "    p2 = target[:,2]\n",
    "    \n",
    "    logErr0 = torch.mul(torch.log(output[:,0]), p0)\n",
    "    logErr1 = torch.mul(torch.log(output[:,1]), p1)\n",
    "    logErr2 = torch.mul(torch.log(output[:,2]), p2)\n",
    "    mseErr1 = torch.mul(torch.pow(target[:,2+1] - output[:,2+1], 2), p1)\n",
    "    mseErr2 = torch.mul(torch.pow(target[:,2+2] - output[:,2+2], 2), p2)   \n",
    "    \n",
    "    logErr0 = -1 * torch.sum(logErr0)\n",
    "    logErr1 = -1 * torch.sum(logErr1)\n",
    "    logErr2 = -1 * torch.sum(logErr2)\n",
    "    mseErr1 = torch.sum(mseErr1)    \n",
    "    mseErr2 = torch.sum(mseErr2)      \n",
    "    \n",
    "    return (1/output.shape[0]) * (logErr0 + logErr1 + logErr2 + (1/sig1)*mseErr1 + (1/sig2)*mseErr2)    "
   ]
  },
  {
   "cell_type": "code",
   "execution_count": 39,
   "metadata": {},
   "outputs": [
    {
     "data": {
      "text/plain": [
       "tensor(1.1647, grad_fn=<MulBackward0>)"
      ]
     },
     "execution_count": 39,
     "metadata": {},
     "output_type": "execute_result"
    }
   ],
   "source": [
    "from torch.autograd import Variable\n",
    "\n",
    "output = Variable(torch.FloatTensor([[0.4, 0.4, 0.2, 5.8, 15.22],[0.4, 0.5, 0.1, 7.8, 20.22],[0.05, 0.45, 0.5, 5.8, 10.22]]), requires_grad=True)\n",
    "target = torch.FloatTensor([[1,0,0,0,0],[0,1,0,2.99,0],[0,0,1,0,20]])\n",
    "err = comb_error(output, target, 100, 100)\n",
    "err"
   ]
  },
  {
   "cell_type": "code",
   "execution_count": 40,
   "metadata": {},
   "outputs": [],
   "source": [
    "err.backward()"
   ]
  },
  {
   "cell_type": "code",
   "execution_count": 41,
   "metadata": {},
   "outputs": [
    {
     "name": "stdout",
     "output_type": "stream",
     "text": [
      "tensor([[-0.8331,  0.0000,  0.0000,  0.0000,  0.0000],\n",
      "        [ 0.0000, -0.6665,  0.0000,  0.0320,  0.0000],\n",
      "        [ 0.0000,  0.0000, -0.6665,  0.0000, -0.0652]])\n"
     ]
    }
   ],
   "source": [
    "print(output.grad)"
   ]
  },
  {
   "cell_type": "markdown",
   "metadata": {},
   "source": [
    "## Tests"
   ]
  },
  {
   "cell_type": "code",
   "execution_count": 42,
   "metadata": {},
   "outputs": [],
   "source": [
    "def comb_error(output, target, sig1, sig2):\n",
    "    output = (output + 0.0001)*0.999\n",
    "    p0 = target[:,0]\n",
    "    p1 = target[:,1]\n",
    "    p2 = target[:,2]\n",
    "    \n",
    "    logErr0 = torch.mul(torch.log(output[:,0]), p0)\n",
    "    logErr1 = torch.mul(torch.log(output[:,1]), p1)\n",
    "    logErr2 = torch.mul(torch.log(output[:,2]), p2)\n",
    "    mseErr1 = torch.mul(torch.pow(target[:,2+1] - output[:,2+1], 2), p1)\n",
    "    mseErr2 = torch.mul(torch.pow(target[:,2+2] - output[:,2+2], 2), p2)   \n",
    "    \n",
    "    logErr0 = -1 * torch.sum(logErr0)\n",
    "    logErr1 = -1 * torch.sum(logErr1)\n",
    "    logErr2 = -1 * torch.sum(logErr2)\n",
    "    mseErr1 = torch.sum(mseErr1)    \n",
    "    mseErr2 = torch.sum(mseErr2)      \n",
    "    \n",
    "    return (1/output.shape[0]) * (logErr0 + logErr1 + logErr2 + (1/sig1)*mseErr1 + (1/sig2)*mseErr2)    "
   ]
  },
  {
   "cell_type": "code",
   "execution_count": null,
   "metadata": {},
   "outputs": [],
   "source": []
  },
  {
   "cell_type": "code",
   "execution_count": 43,
   "metadata": {},
   "outputs": [
    {
     "data": {
      "text/plain": [
       "tensor(1.1647, grad_fn=<MulBackward0>)"
      ]
     },
     "execution_count": 43,
     "metadata": {},
     "output_type": "execute_result"
    }
   ],
   "source": [
    "output = Variable(torch.FloatTensor([[0.4, 0.4, 0.2, 5.8, 15.22],[0.4, 0.5, 0.1, 7.8, 20.22],[0.05, 0.45, 0.5, 5.8, 10.22]]), requires_grad=True)\n",
    "target = torch.FloatTensor([[1,0,0,0,0],[0,1,0,2.99,0],[0,0,1,0,20]])\n",
    "err = comb_error(output, target, 100, 100)\n",
    "err"
   ]
  },
  {
   "cell_type": "code",
   "execution_count": null,
   "metadata": {},
   "outputs": [],
   "source": []
  },
  {
   "cell_type": "code",
   "execution_count": 48,
   "metadata": {},
   "outputs": [],
   "source": [
    "import numpy as np\n",
    "repeats = 1000000\n",
    "yh = np.array([[0.4, 0.4, 0.2, 5.8, 15.22],[0.4, 0.5, 0.1, 7.8, 20.22],[0.05, 0.45, 0.5, 5.8, 10.22]])\n",
    "yh = np.repeat(yh, [repeats, repeats, repeats], axis=0)\n",
    "y = np.array([[1,0,0,0,0],[0,1,0,2.99,0],[0,0,1,0,20]])\n",
    "y = np.repeat(y, [repeats, repeats, repeats], axis=0)"
   ]
  },
  {
   "cell_type": "code",
   "execution_count": 49,
   "metadata": {},
   "outputs": [
    {
     "name": "stdout",
     "output_type": "stream",
     "text": [
      "tensor(1.1647, grad_fn=<MulBackward0>)\n",
      "0.8297433853149414\n"
     ]
    }
   ],
   "source": [
    "output = Variable(torch.FloatTensor(yh), requires_grad=True)\n",
    "target = torch.FloatTensor(y)\n",
    "start = time.time()\n",
    "err = comb_error(output, target, 100, 100)\n",
    "end = time.time()\n",
    "print(err)\n",
    "print(end - start)"
   ]
  },
  {
   "cell_type": "code",
   "execution_count": null,
   "metadata": {},
   "outputs": [],
   "source": []
  }
 ],
 "metadata": {
  "kernelspec": {
   "display_name": "Python 3",
   "language": "python",
   "name": "python3"
  },
  "language_info": {
   "codemirror_mode": {
    "name": "ipython",
    "version": 3
   },
   "file_extension": ".py",
   "mimetype": "text/x-python",
   "name": "python",
   "nbconvert_exporter": "python",
   "pygments_lexer": "ipython3",
   "version": "3.6.6"
  }
 },
 "nbformat": 4,
 "nbformat_minor": 2
}
