{
 "cells": [
  {
   "cell_type": "code",
   "execution_count": 13,
   "metadata": {},
   "outputs": [],
   "source": [
    "import os\n",
    "import pandas as pd\n",
    "import numpy as np\n",
    "from sklearn.utils import shuffle\n",
    "import torch.nn as nn\n",
    "import torch\n",
    "import torch.optim as optim\n",
    "import matplotlib.pyplot as plt\n",
    "import torch.nn.functional as F"
   ]
  },
  {
   "cell_type": "code",
   "execution_count": null,
   "metadata": {},
   "outputs": [],
   "source": []
  },
  {
   "cell_type": "code",
   "execution_count": 14,
   "metadata": {},
   "outputs": [],
   "source": [
    "np.random.seed(0)\n",
    "data = pd.read_csv(\"..\\\\Data\\\\cle\\\\Rand_train.csv\", sep=',')\n",
    "data = shuffle(data).reset_index(drop=True)\n",
    "data_val = pd.read_csv(\"..\\\\Data\\\\cle\\\\Rand_valid.csv\", sep=',')"
   ]
  },
  {
   "cell_type": "code",
   "execution_count": null,
   "metadata": {},
   "outputs": [],
   "source": []
  },
  {
   "cell_type": "code",
   "execution_count": 15,
   "metadata": {},
   "outputs": [],
   "source": [
    "X = data.iloc[:,1:]\n",
    "Y = data.iloc[:,0]\n",
    "X_val = data_val.iloc[:,1:]\n",
    "Y_val = data_val.iloc[:,0]\n",
    "\n",
    "X2 = X\n",
    "X2_val = X_val"
   ]
  },
  {
   "cell_type": "code",
   "execution_count": null,
   "metadata": {},
   "outputs": [],
   "source": []
  },
  {
   "cell_type": "code",
   "execution_count": 16,
   "metadata": {},
   "outputs": [],
   "source": [
    "cut0 = 0\n",
    "cut1 = 1146\n",
    "y10 = (Y == cut0) * 1\n",
    "y11 = ((Y > cut0) & (Y <= cut1)) * 1\n",
    "y12 = (Y > cut1) * 1\n",
    "y21 = y11 * Y\n",
    "y22 = y12 * Y\n",
    "Y2 = np.stack((y10, y11, y12, y21, y22), axis=-1)\n",
    "\n",
    "\n",
    "y10 = (Y_val == cut0) * 1\n",
    "y11 = ((Y_val > cut0) & (Y_val <= cut1)) * 1\n",
    "y12 = (Y_val > cut1) * 1\n",
    "y21 = y11 * Y_val\n",
    "y22 = y12 * Y_val\n",
    "Y2_val = np.stack((y10, y11, y12, y21, y22), axis=-1)"
   ]
  },
  {
   "cell_type": "code",
   "execution_count": 18,
   "metadata": {},
   "outputs": [],
   "source": [
    "n_batches = 6\n",
    "batch_size = X2.shape[0] // n_batches"
   ]
  },
  {
   "cell_type": "code",
   "execution_count": 19,
   "metadata": {},
   "outputs": [],
   "source": [
    "idx = list(X2.index)\n",
    "idx = idx[:n_batches*batch_size]"
   ]
  },
  {
   "cell_type": "code",
   "execution_count": 25,
   "metadata": {},
   "outputs": [
    {
     "data": {
      "text/plain": [
       "(1073, 16)"
      ]
     },
     "execution_count": 25,
     "metadata": {},
     "output_type": "execute_result"
    }
   ],
   "source": [
    "bi = np.random.choice(idx, batch_size, replace=False)\n",
    "X_batch = X2.loc[bi]\n",
    "Y_batch = Y2[bi]       \n",
    "X_batch.shape"
   ]
  },
  {
   "cell_type": "code",
   "execution_count": 26,
   "metadata": {},
   "outputs": [
    {
     "data": {
      "text/plain": [
       "(1073, 5)"
      ]
     },
     "execution_count": 26,
     "metadata": {},
     "output_type": "execute_result"
    }
   ],
   "source": [
    "Y_batch.shape"
   ]
  },
  {
   "cell_type": "code",
   "execution_count": null,
   "metadata": {},
   "outputs": [],
   "source": []
  },
  {
   "cell_type": "code",
   "execution_count": null,
   "metadata": {},
   "outputs": [],
   "source": [
    "from fit_nn import fit, comb_error , mae_error"
   ]
  },
  {
   "cell_type": "code",
   "execution_count": null,
   "metadata": {},
   "outputs": [],
   "source": [
    "class Net1(nn.Module):\n",
    "    def __init__(self):\n",
    "        super(Net1, self).__init__()\n",
    "        \n",
    "        self.fc11 = nn.Linear(16, 24, bias = True)\n",
    "        self.fc12 = nn.Linear(24, 3, bias = True)\n",
    "       \n",
    "        \n",
    "        self.fc21 = nn.Linear(16, 24, bias=True)\n",
    "        self.fc22 = nn.Linear(24, 5, bias=True)\n",
    "        self.fc23 = nn.Linear(5, 2, bias=True)\n",
    "                \n",
    "    def forward(self, x):\n",
    "        x1 = torch.tanh(self.fc11(x))\n",
    "        x1 = torch.sigmoid(self.fc12(x1))\n",
    "        \n",
    "        x2 = self.fc21(x)\n",
    "        x2 = torch.tanh(self.fc22(x2))\n",
    "        x2 = torch.exp(self.fc23(x2))       \n",
    "        \n",
    "        x3 = torch.cat((x1, x2), 1)\n",
    "        return x3"
   ]
  },
  {
   "cell_type": "code",
   "execution_count": null,
   "metadata": {},
   "outputs": [],
   "source": [
    "n_epochs = 2000\n",
    "lr = 0.0001\n",
    "verbose = 1\n",
    "n_batches = 6\n",
    "batch_to_avg = 2\n",
    "ep_to_check = 5\n",
    "clipping = 0.20\n",
    "sig2 = 2 * 950000\n",
    "PATH = 'Data\\\\checkpoints\\\\mytraining10.pt'\n",
    "device = torch.device(\"cuda:0\" if torch.cuda.is_available() else \"cpu\")"
   ]
  },
  {
   "cell_type": "code",
   "execution_count": null,
   "metadata": {},
   "outputs": [],
   "source": [
    "def m_error(output, target):\n",
    "    return comb_error(output, target, sig2)"
   ]
  },
  {
   "cell_type": "code",
   "execution_count": null,
   "metadata": {},
   "outputs": [],
   "source": [
    "def weights_init_normal(m):     \n",
    "    classname = m.__class__.__name__\n",
    "    torch.manual_seed(0)\n",
    "    if classname.find('Linear') != -1:\n",
    "        n = m.in_features\n",
    "        y = 1.0/np.sqrt(n)\n",
    "        m.weight.data.normal_(0, y)\n",
    "        if m.bias is not None:\n",
    "            m.bias.data.normal_(0, y)"
   ]
  },
  {
   "cell_type": "code",
   "execution_count": null,
   "metadata": {},
   "outputs": [],
   "source": [
    "def weights_init_uniform_rule(m):\n",
    "    classname = m.__class__.__name__\n",
    "    torch.manual_seed(0)\n",
    "    if classname.find('Linear') != -1:\n",
    "        n = m.in_features\n",
    "        y = 1.0/np.sqrt(n)\n",
    "        m.weight.data.uniform_(-y, y)\n",
    "        m.bias.data.data.uniform_(-y, y)"
   ]
  },
  {
   "cell_type": "code",
   "execution_count": null,
   "metadata": {},
   "outputs": [],
   "source": []
  },
  {
   "cell_type": "code",
   "execution_count": null,
   "metadata": {},
   "outputs": [],
   "source": []
  },
  {
   "cell_type": "code",
   "execution_count": null,
   "metadata": {},
   "outputs": [],
   "source": [
    "net = Net1()\n",
    "#optimizer = optim.SGD(net.parameters(), lr=lr, momentum=0.9)  \n",
    "optimizer = optim.Adam(net.parameters(), lr=lr)\n",
    "\n",
    "net.apply(weights_init_normal)\n",
    "#net.apply(weights_init_uniform_rule)\n",
    "\n",
    "#PATH = 'Data\\\\checkpoints\\\\mytraining10.pt'\n",
    "#net.load_state_dict(torch.load(PATH, map_location = device))\n",
    "    \n",
    "a, b, c = fit(X=X2, X_val=X2_val, Y=Y2, Y_val=Y2_val, net=net, optimizer=optimizer, error=m_error, val_error = mae_error,\n",
    "                n_epochs=n_epochs, n_batches=n_batches, batch_to_avg=batch_to_avg, \n",
    "                    ep_to_check=ep_to_check, clipping=clipping, PATH=PATH, device=device, \n",
    "                                            verbose=verbose, min_val_loss = float('inf'))\n",
    "\n",
    "#(PENDIENTE)"
   ]
  },
  {
   "cell_type": "code",
   "execution_count": null,
   "metadata": {},
   "outputs": [],
   "source": []
  }
 ],
 "metadata": {
  "kernelspec": {
   "display_name": "Python 3",
   "language": "python",
   "name": "python3"
  },
  "language_info": {
   "codemirror_mode": {
    "name": "ipython",
    "version": 3
   },
   "file_extension": ".py",
   "mimetype": "text/x-python",
   "name": "python",
   "nbconvert_exporter": "python",
   "pygments_lexer": "ipython3",
   "version": "3.6.6"
  }
 },
 "nbformat": 4,
 "nbformat_minor": 2
}
