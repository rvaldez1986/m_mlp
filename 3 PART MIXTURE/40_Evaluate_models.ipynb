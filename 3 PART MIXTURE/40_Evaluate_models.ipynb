{
 "cells": [
  {
   "cell_type": "code",
   "execution_count": 57,
   "metadata": {},
   "outputs": [],
   "source": [
    "import os\n",
    "import pandas as pd\n",
    "import numpy as np\n",
    "from sklearn.utils import shuffle\n",
    "import torch.nn as nn\n",
    "import torch\n",
    "import torch.optim as optim\n",
    "import matplotlib.pyplot as plt\n",
    "import torch.nn.functional as F"
   ]
  },
  {
   "cell_type": "code",
   "execution_count": 58,
   "metadata": {},
   "outputs": [],
   "source": [
    "data = pd.read_csv(\"..\\\\Data\\\\cle\\\\Rand_train.csv\", sep=',')\n",
    "data_val = pd.read_csv(\"..\\\\Data\\\\cle\\\\Rand_valid.csv\", sep=',')\n",
    "data_test = pd.read_csv(\"..\\\\Data\\\\cle\\\\Rand_test.csv\", sep=',')"
   ]
  },
  {
   "cell_type": "code",
   "execution_count": null,
   "metadata": {},
   "outputs": [],
   "source": []
  },
  {
   "cell_type": "code",
   "execution_count": 59,
   "metadata": {},
   "outputs": [],
   "source": [
    "X_test = data_test.iloc[:,1:]\n",
    "Y_test = data_test.iloc[:,0]\n",
    "\n",
    "X2_test = X_test\n",
    "Y2_test = Y_test"
   ]
  },
  {
   "cell_type": "code",
   "execution_count": null,
   "metadata": {},
   "outputs": [],
   "source": []
  },
  {
   "cell_type": "code",
   "execution_count": 60,
   "metadata": {},
   "outputs": [],
   "source": [
    "cut = 0\n",
    "\n",
    "y1_test = (Y_test <= cut) * 1\n",
    "y2_test = (Y_test > cut) * (-1) * (-Y_test)\n",
    "Y2_test = np.stack((y1_test, y2_test), axis=-1)"
   ]
  },
  {
   "cell_type": "code",
   "execution_count": 61,
   "metadata": {},
   "outputs": [],
   "source": [
    "cut0 = 0\n",
    "cut1 = 1146\n",
    "y10 = (Y_test == cut0) * 1\n",
    "y11 = ((Y_test > cut0) & (Y_test <= cut1)) * 1\n",
    "y12 = (Y_test > cut1) * 1\n",
    "y21 = y11 * Y_test\n",
    "y22 = y12 * Y_test\n",
    "Y2_test = np.stack((y10, y11, y12, y21, y22), axis=-1)"
   ]
  },
  {
   "cell_type": "code",
   "execution_count": null,
   "metadata": {},
   "outputs": [],
   "source": []
  },
  {
   "cell_type": "code",
   "execution_count": 62,
   "metadata": {},
   "outputs": [],
   "source": [
    "class Net1(nn.Module):\n",
    "    def __init__(self):\n",
    "        super(Net1, self).__init__()\n",
    "        \n",
    "        self.fc111 = nn.Linear(16, 24, bias = True)\n",
    "        self.fc112 = nn.Linear(24, 1, bias = True)\n",
    "        \n",
    "        self.fc121 = nn.Linear(16, 24, bias = True)\n",
    "        self.fc122 = nn.Linear(24, 1, bias = True)\n",
    "        \n",
    "        self.fc131 = nn.Linear(16, 24, bias = True)\n",
    "        self.fc132 = nn.Linear(24, 1, bias = True)\n",
    "       \n",
    "        \n",
    "        self.fc211 = nn.Linear(16, 24, bias=True)\n",
    "        self.fc212 = nn.Linear(24, 5, bias=True)\n",
    "        self.fc213 = nn.Linear(5, 1, bias=True)\n",
    "        \n",
    "        self.fc221 = nn.Linear(16, 24, bias=True)\n",
    "        self.fc222 = nn.Linear(24, 5, bias=True)\n",
    "        self.fc223 = nn.Linear(5, 1, bias=True)\n",
    "        \n",
    "        self.fc31 = nn.Linear(5,5, bias=False)       \n",
    "        \n",
    "               \n",
    "    def softmax(self,x):\n",
    "        expou = torch.exp(x)\n",
    "        sm = expou/torch.sum(expou, dim=1).view(-1,1)\n",
    "        return sm\n",
    "        \n",
    "    def disc_activation(self, h):\n",
    "        v1 = self.softmax(h[:,:3])\n",
    "        v2 = torch.exp(h[:,3:5])    \n",
    "        return torch.cat([v1, v2], dim=1)\n",
    "        \n",
    "                \n",
    "    def forward(self, x):\n",
    "        x11 = torch.tanh(self.fc111(x))\n",
    "        x11 = self.fc112(x11)\n",
    "        \n",
    "        x12 = torch.tanh(self.fc121(x))\n",
    "        x12 = self.fc122(x12)\n",
    "        \n",
    "        x13 = torch.tanh(self.fc131(x))\n",
    "        x13 = self.fc132(x13)                 \n",
    "        \n",
    "        #x21 = torch.tanh(self.fc211(x))\n",
    "        x21 = self.fc211(x)\n",
    "        x21 = F.relu(self.fc212(x21))\n",
    "        x21 = self.fc213(x21)\n",
    "        \n",
    "        #x22 = torch.tanh(self.fc221(x))\n",
    "        x22 = self.fc221(x)\n",
    "        x22 = F.relu(self.fc222(x22))\n",
    "        x22 = self.fc223(x22)\n",
    "        \n",
    "        x3 = torch.cat((x11, x12, x13, x21, x22), 1)        \n",
    "        x3 = self.fc31(x3)\n",
    "        x3 = self.disc_activation(x3)        \n",
    "       \n",
    "        return x3"
   ]
  },
  {
   "cell_type": "code",
   "execution_count": null,
   "metadata": {},
   "outputs": [],
   "source": []
  },
  {
   "cell_type": "code",
   "execution_count": 63,
   "metadata": {},
   "outputs": [],
   "source": [
    "PATH = '..\\\\Data\\\\checkpoints\\\\mytraining10.pt'\n",
    "device = torch.device('cpu')\n",
    "net = Net1()\n",
    "net.load_state_dict(torch.load(PATH, map_location = device))"
   ]
  },
  {
   "cell_type": "code",
   "execution_count": 64,
   "metadata": {},
   "outputs": [],
   "source": [
    "with torch.no_grad():\n",
    "    net.eval()  \n",
    "    \n",
    "    test_inputs, test_labels = torch.FloatTensor(X2_test.values), torch.FloatTensor(Y2_test)\n",
    "    test_inputs, test_labels = test_inputs.to(device), test_labels.to(device)      \n",
    "    \n",
    "    test_outputs = net.forward(test_inputs)   \n",
    "    \n",
    "    test_outputs2, test_labels2 = test_outputs.numpy(), test_labels.numpy()"
   ]
  },
  {
   "cell_type": "code",
   "execution_count": 65,
   "metadata": {},
   "outputs": [],
   "source": [
    "y = test_labels2[:,1]\n",
    "p = test_outputs2[:,0]\n",
    "f2 = test_outputs2[:,1]\n",
    "yhat = (1-p)*f2"
   ]
  },
  {
   "cell_type": "code",
   "execution_count": 66,
   "metadata": {},
   "outputs": [],
   "source": [
    "y = test_labels2[:,2+1] + test_labels2[:,2+2]  \n",
    "    \n",
    "p1 = test_outputs2[:,1]\n",
    "p2 = test_outputs2[:,2]\n",
    "e1 = test_outputs2[:,2+1]\n",
    "e2 = test_outputs2[:,2+2]    \n",
    "yhat = p1 * e1 + p2 * e2"
   ]
  },
  {
   "cell_type": "code",
   "execution_count": 67,
   "metadata": {},
   "outputs": [
    {
     "data": {
      "text/plain": [
       "array([[6.4894384e-01, 2.8141177e-01, 6.9644414e-02, 1.5368467e-02,\n",
       "        1.0606888e+03],\n",
       "       [7.1120042e-01, 2.4249856e-01, 4.6301045e-02, 1.0806758e-02,\n",
       "        1.3455363e+03],\n",
       "       [5.6609601e-01, 3.1945029e-01, 1.1445369e-01, 2.2067677e-02,\n",
       "        7.5472845e+02],\n",
       "       ...,\n",
       "       [4.8175931e-01, 4.1142312e-01, 1.0681765e-01, 9.6489210e-03,\n",
       "        1.4030319e+03],\n",
       "       [5.1989760e-02, 4.1211876e-01, 5.3589141e-01, 1.3696923e-02,\n",
       "        1.9840491e+03],\n",
       "       [8.0987960e-01, 1.3201360e-01, 5.8106840e-02, 1.3120686e-01,\n",
       "        1.5107277e+01]], dtype=float32)"
      ]
     },
     "execution_count": 67,
     "metadata": {},
     "output_type": "execute_result"
    }
   ],
   "source": [
    "test_outputs2"
   ]
  },
  {
   "cell_type": "code",
   "execution_count": 68,
   "metadata": {
    "scrolled": true
   },
   "outputs": [
    {
     "name": "stdout",
     "output_type": "stream",
     "text": [
      "511.9423\n"
     ]
    }
   ],
   "source": [
    "print(np.mean(np.abs(yhat - y)))"
   ]
  },
  {
   "cell_type": "code",
   "execution_count": 69,
   "metadata": {},
   "outputs": [
    {
     "data": {
      "text/plain": [
       "0.33956465"
      ]
     },
     "execution_count": 69,
     "metadata": {},
     "output_type": "execute_result"
    }
   ],
   "source": [
    "np.min(yhat)"
   ]
  },
  {
   "cell_type": "code",
   "execution_count": 70,
   "metadata": {},
   "outputs": [
    {
     "data": {
      "text/plain": [
       "2514.3376"
      ]
     },
     "execution_count": 70,
     "metadata": {},
     "output_type": "execute_result"
    }
   ],
   "source": [
    "np.max(yhat)"
   ]
  },
  {
   "cell_type": "code",
   "execution_count": 71,
   "metadata": {},
   "outputs": [
    {
     "data": {
      "text/plain": [
       "516.3637"
      ]
     },
     "execution_count": 71,
     "metadata": {},
     "output_type": "execute_result"
    }
   ],
   "source": [
    "np.mean(yhat)"
   ]
  },
  {
   "cell_type": "code",
   "execution_count": null,
   "metadata": {},
   "outputs": [],
   "source": []
  },
  {
   "cell_type": "code",
   "execution_count": 72,
   "metadata": {},
   "outputs": [],
   "source": [
    "cut0 = 0\n",
    "cut1 = 1146\n",
    "\n",
    "y1 = y[y==cut0]\n",
    "yh1 = yhat[y==cut0]\n",
    "y2 = y[(y > cut0) & (y <= cut1)]\n",
    "yh2 = yhat[(y > cut0) & (y <= cut1)]\n",
    "y3 = y[y>cut1]\n",
    "yh3 = yhat[y>cut1]"
   ]
  },
  {
   "cell_type": "code",
   "execution_count": 73,
   "metadata": {
    "scrolled": true
   },
   "outputs": [
    {
     "name": "stdout",
     "output_type": "stream",
     "text": [
      "234.59705\n",
      "450.50894\n",
      "2131.7993\n"
     ]
    }
   ],
   "source": [
    "print(np.mean(np.abs(yh1 - y1)))\n",
    "print(np.mean(np.abs(yh2 - y2)))\n",
    "print(np.mean(np.abs(yh3 - y3)))"
   ]
  },
  {
   "cell_type": "code",
   "execution_count": 56,
   "metadata": {},
   "outputs": [
    {
     "data": {
      "text/plain": [
       "5000000.0"
      ]
     },
     "execution_count": 56,
     "metadata": {},
     "output_type": "execute_result"
    }
   ],
   "source": [
    "10000000/2"
   ]
  },
  {
   "cell_type": "code",
   "execution_count": null,
   "metadata": {},
   "outputs": [],
   "source": []
  }
 ],
 "metadata": {
  "kernelspec": {
   "display_name": "Python 3",
   "language": "python",
   "name": "python3"
  },
  "language_info": {
   "codemirror_mode": {
    "name": "ipython",
    "version": 3
   },
   "file_extension": ".py",
   "mimetype": "text/x-python",
   "name": "python",
   "nbconvert_exporter": "python",
   "pygments_lexer": "ipython3",
   "version": "3.6.6"
  }
 },
 "nbformat": 4,
 "nbformat_minor": 2
}
