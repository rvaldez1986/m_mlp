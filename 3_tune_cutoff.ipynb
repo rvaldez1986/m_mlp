{
 "cells": [
  {
   "cell_type": "code",
   "execution_count": 84,
   "metadata": {},
   "outputs": [],
   "source": [
    "import torch\n",
    "import torch.nn as nn\n",
    "import torch.nn.functional as F\n",
    "import pandas as pd\n",
    "import os\n",
    "import numpy as np\n",
    "from sklearn.metrics import roc_curve, precision_recall_curve, confusion_matrix, auc\n",
    "import matplotlib.pyplot as plt"
   ]
  },
  {
   "cell_type": "code",
   "execution_count": 6,
   "metadata": {},
   "outputs": [],
   "source": [
    "os.chdir('C:\\\\Users\\\\rober\\\\Desktop\\\\Humana_2\\\\Data_1\\\\nuevas')\n",
    "data_val = pd.read_csv(\"BASE_VALID.csv\", sep=',', encoding = \"ISO-8859-1\")"
   ]
  },
  {
   "cell_type": "code",
   "execution_count": 7,
   "metadata": {},
   "outputs": [
    {
     "name": "stdout",
     "output_type": "stream",
     "text": [
      "(1000, 246)\n",
      "\n",
      "\n",
      "(1000,)\n"
     ]
    }
   ],
   "source": [
    "X_val = data_val.iloc[:,1:]\n",
    "Y_val = data_val.iloc[:,0]\n",
    "print(X_val.shape);print('\\n');print(Y_val.shape)"
   ]
  },
  {
   "cell_type": "code",
   "execution_count": 12,
   "metadata": {},
   "outputs": [],
   "source": [
    "ranking = np.load('ranking.npy')\n",
    "#my_index = X_val.columns.values[ranking[:100]]"
   ]
  },
  {
   "cell_type": "code",
   "execution_count": 22,
   "metadata": {},
   "outputs": [],
   "source": [
    "my_index = ['PAGADO_A_N', 'NRO_TRANS_A_N', 'C_DIAG_N', 'N_MESES_N', 'PRIMA_A.1_N',\n",
    "            'GENERO_ME', 'EDAD_C_ME', 'PERIODO_ME', 'PRODUCTO_ME',\n",
    "        'E+G_D_A_MASCULINO', 'EDAD_N_GENERO_ME_P_I',\n",
    "        'NRO_TRANS_A_N_NRO_TRANS_A_N_P_I', 'NRO_TRANS_A_N_GENERO_ME_P_I',\n",
    "       'NRO_TRANS_A_N_EDAD_C_ME_P_I', 'NRO_TRANS_A_N_PRODUCTO_ME_P_I',\n",
    "       'C_DIAG_N_GENERO_ME_P_I', 'C_DIAG_N_E+G_ME_P_I',\n",
    "       'Cant_Diag_N_NRO_TRANS_A_N_P_I', 'Cant_Diag_N_GENERO_ME_P_I',\n",
    "       'Cant_Diag_N_EDAD_C_ME_P_I', 'Cant_Diag_N_PRODUCTO_ME_P_I',\n",
    "       'N_MESES_N_GENERO_ME_P_I', 'N_MESES_N_EDAD_C_ME_P_I',\n",
    "       'N_MESES_N_PRODUCTO_ME_P_I', 'PRIMA_A.1_N_GENERO_ME_P_I',\n",
    "       'PRIMA_A.1_N_EDAD_C_ME_P_I', 'GENERO_ME_EDAD_N_P_I',\n",
    "       'GENERO_ME_Cant_Diag_N_P_I', 'GENERO_ME_PRIMA_A.1_N_P_I',\n",
    "       'GENERO_ME_GENERO_ME_P_I', 'GENERO_ME_EDAD_C_ME_P_I',\n",
    "       'GENERO_ME_PRODUCTO_ME_P_I', 'EDAD_C_ME_Cant_Diag_N_P_I',\n",
    "       'EDAD_C_ME_N_MESES_N_P_I', 'EDAD_C_ME_GENERO_ME_P_I',\n",
    "       'EDAD_C_ME_EDAD_C_ME_P_I', 'E+G_ME_C_DIAG_N_P_I',\n",
    "       'E+G_ME_Cant_Diag_N_P_I', 'E+G_ME_N_MESES_N_P_I',\n",
    "       'E+G_ME_GENERO_ME_P_I', 'E+G_ME_EDAD_C_ME_P_I',\n",
    "       'PRODUCTO_ME_Cant_Diag_N_P_I', 'PRODUCTO_ME_N_MESES_N_P_I',\n",
    "       'PRODUCTO_ME_EDAD_C_ME_P_I', 'GENERO_EDAD_C_D_MASCULINO_D']"
   ]
  },
  {
   "cell_type": "code",
   "execution_count": 24,
   "metadata": {},
   "outputs": [],
   "source": [
    "X2_val = X_val[my_index]"
   ]
  },
  {
   "cell_type": "code",
   "execution_count": 25,
   "metadata": {},
   "outputs": [],
   "source": [
    "cut = 0\n",
    "y1_val = (Y_val <= cut) * 1\n",
    "y2_val = (Y_val > cut) * (-1) * (-Y_val)\n",
    "Y2_val = np.stack((y1_val, y2_val), axis=-1)"
   ]
  },
  {
   "cell_type": "code",
   "execution_count": 26,
   "metadata": {},
   "outputs": [],
   "source": [
    "class Net(nn.Module):\n",
    "    def __init__(self):\n",
    "        super(Net, self).__init__()\n",
    "        self.fc1 = nn.Linear(45, 20)\n",
    "        self.fc2 = nn.Linear(20, 10)\n",
    "        self.fc3 = nn.Linear(10, 2)\n",
    "        \n",
    "    def disc_activation(self, h):\n",
    "        v1 = torch.sigmoid(h[:,0])\n",
    "        v2 = h[:,1]\n",
    "        return torch.stack((v1, v2), dim=1)\n",
    "                \n",
    "    def forward(self, x):\n",
    "        x = F.relu(self.fc1(x))\n",
    "        x = F.relu(self.fc2(x))\n",
    "        x = self.disc_activation(self.fc3(x))\n",
    "        return x"
   ]
  },
  {
   "cell_type": "code",
   "execution_count": 33,
   "metadata": {},
   "outputs": [],
   "source": [
    "def comb_error(output, target):\n",
    "    output = (output + 0.0001)*0.999\n",
    "    logErr1 = -1 * torch.log(output) * target[:,0].view(1,-1).t()\n",
    "    logErr2 = -1 * torch.log(1 - output) * (1 - target[:,0].view(1,-1)).t()\n",
    "    mseErr = torch.pow(target - output, 2) * (1 - target[:,0].view(1,-1)).t()\n",
    "    return (1/output.shape[0]) * (torch.sum(logErr1,dim=0)[0] + torch.sum(logErr2,dim=0)[0] + torch.sum(mseErr,dim=0)[1]) "
   ]
  },
  {
   "cell_type": "code",
   "execution_count": 34,
   "metadata": {},
   "outputs": [],
   "source": [
    "PATH = 'C:\\\\Users\\\\rober\\\\Desktop\\\\Humana_2\\\\Checkpoints\\\\mytraining.pt'"
   ]
  },
  {
   "cell_type": "code",
   "execution_count": 35,
   "metadata": {},
   "outputs": [],
   "source": [
    "device = torch.device('cpu')\n",
    "net = Net()\n",
    "net.load_state_dict(torch.load(PATH, map_location = device))"
   ]
  },
  {
   "cell_type": "code",
   "execution_count": 65,
   "metadata": {},
   "outputs": [
    {
     "name": "stdout",
     "output_type": "stream",
     "text": [
      "1.9807358980178833\n"
     ]
    }
   ],
   "source": [
    "with torch.no_grad():\n",
    "    val_inputs = torch.FloatTensor(X2_val.values)\n",
    "    val_labels = torch.FloatTensor(Y2_val)\n",
    "    val_inputs, val_labels = val_inputs.to(device), val_labels.to(device)\n",
    "    val_outputs = net.forward(val_inputs)\n",
    "    val_loss = comb_error(val_outputs, val_labels) \n",
    "    print(val_loss.item())"
   ]
  },
  {
   "cell_type": "code",
   "execution_count": 66,
   "metadata": {},
   "outputs": [
    {
     "data": {
      "text/plain": [
       "tensor([[0.6036, 5.0748],\n",
       "        [0.1381, 6.0504],\n",
       "        [0.3478, 5.6370],\n",
       "        ...,\n",
       "        [0.6389, 5.6113],\n",
       "        [0.3239, 5.5077],\n",
       "        [0.4151, 4.8473]])"
      ]
     },
     "execution_count": 66,
     "metadata": {},
     "output_type": "execute_result"
    }
   ],
   "source": [
    "val_outputs"
   ]
  },
  {
   "cell_type": "markdown",
   "metadata": {},
   "source": [
    "## Fine Tune Cuttoff Point\n",
    "\n"
   ]
  },
  {
   "cell_type": "code",
   "execution_count": 67,
   "metadata": {},
   "outputs": [],
   "source": [
    "val_outputs = val_outputs.numpy()\n",
    "val_labels = val_labels.numpy()\n",
    "y_scores = val_outputs[:,0]\n",
    "y_real = val_labels[:,0]"
   ]
  },
  {
   "cell_type": "code",
   "execution_count": 68,
   "metadata": {},
   "outputs": [],
   "source": [
    "p, r, thresholds = precision_recall_curve(y_real, y_scores)"
   ]
  },
  {
   "cell_type": "code",
   "execution_count": 69,
   "metadata": {},
   "outputs": [],
   "source": [
    "def adjusted_classes(y_scores, t):\n",
    "    \"\"\"\n",
    "    This function adjusts class predictions based on the prediction threshold (t).\n",
    "    Will only work for binary classification problems.\n",
    "    \"\"\"\n",
    "    return [1 if y >= t else 0 for y in y_scores]"
   ]
  },
  {
   "cell_type": "code",
   "execution_count": 74,
   "metadata": {},
   "outputs": [],
   "source": [
    "def precision_recall_threshold(p, r, thresholds, t=0.5):\n",
    "    \"\"\"\n",
    "    plots the precision recall curve and shows the current value for each\n",
    "    by identifying the classifier's threshold (t).\n",
    "    \"\"\"\n",
    "    \n",
    "    # generate new class predictions based on the adjusted_classes\n",
    "    # function above and view the resulting confusion matrix.\n",
    "    y_pred_adj = adjusted_classes(y_scores, t)\n",
    "    print(pd.DataFrame(confusion_matrix(y_real, y_pred_adj),\n",
    "                       columns=['pred_neg', 'pred_pos'], \n",
    "                       index=['neg', 'pos']))\n",
    "    \n",
    "    # plot the curve\n",
    "    plt.figure(figsize=(8,8))\n",
    "    plt.title(\"Precision and Recall curve ^ = current threshold\")\n",
    "    plt.step(r, p, color='b', alpha=0.2,\n",
    "             where='post')\n",
    "    plt.fill_between(r, p, step='post', alpha=0.2,\n",
    "                     color='b')\n",
    "    plt.ylim([0.5, 1.01]);\n",
    "    plt.xlim([0.5, 1.01]);\n",
    "    plt.xlabel('Recall');\n",
    "    plt.ylabel('Precision');\n",
    "    \n",
    "    # plot the current threshold on the line\n",
    "    close_default_clf = np.argmin(np.abs(thresholds - t))\n",
    "    plt.plot(r[close_default_clf], p[close_default_clf], '^', c='k',\n",
    "            markersize=15)"
   ]
  },
  {
   "cell_type": "code",
   "execution_count": 78,
   "metadata": {},
   "outputs": [
    {
     "name": "stdout",
     "output_type": "stream",
     "text": [
      "     pred_neg  pred_pos\n",
      "neg       550       122\n",
      "pos       155       173\n"
     ]
    },
    {
     "data": {
      "image/png": "[encoded data removed]",
      "text/plain": [
       "<Figure size 576x576 with 1 Axes>"
      ]
     },
     "metadata": {
      "needs_background": "light"
     },
     "output_type": "display_data"
    }
   ],
   "source": [
    "precision_recall_threshold(p, r, thresholds, 0.5)"
   ]
  },
  {
   "cell_type": "code",
   "execution_count": 80,
   "metadata": {},
   "outputs": [],
   "source": [
    "def plot_precision_recall_vs_threshold(precisions, recalls, thresholds):\n",
    "    \"\"\"\n",
    "    Modified from:\n",
    "    Hands-On Machine learning with Scikit-Learn\n",
    "    and TensorFlow; p.89\n",
    "    \"\"\"\n",
    "    plt.figure(figsize=(8, 8))\n",
    "    plt.title(\"Precision and Recall Scores as a function of the decision threshold\")\n",
    "    plt.plot(thresholds, precisions[:-1], \"b--\", label=\"Precision\")\n",
    "    plt.plot(thresholds, recalls[:-1], \"g-\", label=\"Recall\")\n",
    "    plt.ylabel(\"Score\")\n",
    "    plt.xlabel(\"Decision Threshold\")\n",
    "    plt.legend(loc='best')"
   ]
  },
  {
   "cell_type": "code",
   "execution_count": 111,
   "metadata": {},
   "outputs": [
    {
     "data": {
      "text/plain": [
       "array([0.34599156, 0.34530095, 0.34566596, 0.34497354, 0.34533898,\n",
       "       0.3457052 , 0.34607219, 0.34643996, 0.34680851, 0.34717785,\n",
       "       0.34754797, 0.34791889, 0.3482906 , 0.3486631 , 0.3490364 ,\n",
       "       0.3494105 , 0.34978541, 0.35016112, 0.35053763, 0.35091496,\n",
       "       0.3512931 , 0.35167206, 0.35097192, 0.35135135, 0.3517316 ,\n",
       "       0.35211268, 0.35249458, 0.35287731, 0.35217391, 0.35255713,\n",
       "       0.35294118, 0.35332606, 0.35371179, 0.35409836, 0.35448578,\n",
       "       0.35487404, 0.35526316, 0.35565313, 0.35604396, 0.35643564,\n",
       "       0.35682819, 0.35722161, 0.35761589, 0.35801105, 0.35840708,\n",
       "       0.35880399, 0.35920177, 0.35960044, 0.36      , 0.36040044,\n",
       "       0.36080178, 0.36120401, 0.36160714, 0.36201117, 0.36241611,\n",
       "       0.36282195, 0.3632287 , 0.36363636, 0.36404494, 0.36445444,\n",
       "       0.36486486, 0.36527621, 0.36568849, 0.36610169, 0.36651584,\n",
       "       0.36693092, 0.36734694, 0.3677639 , 0.36818182, 0.36860068,\n",
       "       0.3690205 , 0.36944128, 0.36986301, 0.37028571, 0.37070938,\n",
       "       0.36998855, 0.37041284, 0.37083812, 0.37011494, 0.37054085,\n",
       "       0.37096774, 0.37139562, 0.37182448, 0.37225434, 0.37268519,\n",
       "       0.37311703, 0.37354988, 0.37398374, 0.3744186 , 0.37369034,\n",
       "       0.37412587, 0.37456243, 0.375     , 0.3754386 , 0.37587822,\n",
       "       0.37631887, 0.37676056, 0.37720329, 0.37764706, 0.37809187,\n",
       "       0.37853774, 0.37898465, 0.37943262, 0.37988166, 0.38033175,\n",
       "       0.38078292, 0.38123515, 0.38168847, 0.38214286, 0.38259833,\n",
       "       0.38186158, 0.3823178 , 0.38277512, 0.38323353, 0.382494  ,\n",
       "       0.38295318, 0.38341346, 0.38387485, 0.38433735, 0.38480097,\n",
       "       0.3852657 , 0.38573156, 0.38619855, 0.38666667, 0.38713592,\n",
       "       0.38760632, 0.38807786, 0.38855055, 0.38902439, 0.38949939,\n",
       "       0.38997555, 0.39045288, 0.39093137, 0.39018405, 0.39066339,\n",
       "       0.39114391, 0.39162562, 0.39210851, 0.39259259, 0.39307787,\n",
       "       0.39356436, 0.39405204, 0.39454094, 0.39503106, 0.39552239,\n",
       "       0.39601494, 0.39526185, 0.39575531, 0.39625   , 0.39674593,\n",
       "       0.39724311, 0.39774153, 0.39824121, 0.39874214, 0.39924433,\n",
       "       0.39974779, 0.40025253, 0.40075853, 0.40126582, 0.40050697,\n",
       "       0.40101523, 0.40152478, 0.40203562, 0.40254777, 0.40178571,\n",
       "       0.40229885, 0.4028133 , 0.40204866, 0.4025641 , 0.40308087,\n",
       "       0.40359897, 0.4041184 , 0.40463918, 0.40516129, 0.40568475,\n",
       "       0.40491591, 0.40544041, 0.40596628, 0.40649351, 0.40702211,\n",
       "       0.40755208, 0.40808344, 0.40861619, 0.40915033, 0.40837696,\n",
       "       0.40891219, 0.40944882, 0.40998686, 0.41052632, 0.41106719,\n",
       "       0.4116095 , 0.41215324, 0.41269841, 0.41324503, 0.4137931 ,\n",
       "       0.41434263, 0.41489362, 0.41544607, 0.416     , 0.41655541,\n",
       "       0.4171123 , 0.41767068, 0.41689008, 0.41744966, 0.41666667,\n",
       "       0.41722746, 0.41778976, 0.41835358, 0.41891892, 0.41948579,\n",
       "       0.41869919, 0.41791045, 0.41847826, 0.41904762, 0.41825613,\n",
       "       0.41882674, 0.41939891, 0.41997264, 0.42054795, 0.42112483,\n",
       "       0.4217033 , 0.42090784, 0.4214876 , 0.42206897, 0.42265193,\n",
       "       0.42323651, 0.42243767, 0.42302358, 0.42361111, 0.42420028,\n",
       "       0.42479109, 0.42538354, 0.42458101, 0.42517483, 0.42577031,\n",
       "       0.42636746, 0.42696629, 0.42756681, 0.42676056, 0.42736248,\n",
       "       0.4279661 , 0.42857143, 0.42776204, 0.42836879, 0.42897727,\n",
       "       0.42958748, 0.43019943, 0.43081312, 0.43142857, 0.43204578,\n",
       "       0.43266476, 0.43185079, 0.43247126, 0.43309353, 0.43371758,\n",
       "       0.43434343, 0.43352601, 0.4341534 , 0.43478261, 0.43396226,\n",
       "       0.43459302, 0.43522562, 0.43586006, 0.43649635, 0.4371345 ,\n",
       "       0.4363104 , 0.43695015, 0.43759178, 0.43676471, 0.4359352 ,\n",
       "       0.43510324, 0.43574594, 0.43639053, 0.43555556, 0.4347181 ,\n",
       "       0.43387816, 0.43452381, 0.43368107, 0.43283582, 0.43348281,\n",
       "       0.43413174, 0.43478261, 0.43393393, 0.43458647, 0.43524096,\n",
       "       0.43589744, 0.43504532, 0.43570348, 0.43636364, 0.43550835,\n",
       "       0.43617021, 0.43683409, 0.4375    , 0.43816794, 0.43883792,\n",
       "       0.43950995, 0.43865031, 0.43932412, 0.44      , 0.43913713,\n",
       "       0.43981481, 0.44049459, 0.44117647, 0.44031008, 0.44099379,\n",
       "       0.44167963, 0.4423676 , 0.44149766, 0.4421875 , 0.44131455,\n",
       "       0.44200627, 0.44270016, 0.44339623, 0.44409449, 0.44321767,\n",
       "       0.44391785, 0.44462025, 0.44532488, 0.44603175, 0.44515103,\n",
       "       0.44426752, 0.44338118, 0.44408946, 0.4448    , 0.44551282,\n",
       "       0.44462279, 0.44533762, 0.44444444, 0.44516129, 0.44426494,\n",
       "       0.44498382, 0.44408428, 0.44318182, 0.44390244, 0.44462541,\n",
       "       0.44535073, 0.44607843, 0.44680851, 0.44754098, 0.44827586,\n",
       "       0.44901316, 0.44975288, 0.45049505, 0.45123967, 0.45198675,\n",
       "       0.45273632, 0.45348837, 0.45424293, 0.455     , 0.4557596 ,\n",
       "       0.4548495 , 0.45393635, 0.45469799, 0.45378151, 0.45286195,\n",
       "       0.45362563, 0.45439189, 0.45516074, 0.4559322 , 0.45500849,\n",
       "       0.45578231, 0.45655877, 0.45733788, 0.45811966, 0.45719178,\n",
       "       0.45797599, 0.45876289, 0.4595525 , 0.45862069, 0.45941278,\n",
       "       0.46020761, 0.4592721 , 0.46006944, 0.46086957, 0.46167247,\n",
       "       0.46247818, 0.46328671, 0.46409807, 0.46491228, 0.46572935,\n",
       "       0.4665493 , 0.46560847, 0.46466431, 0.46548673, 0.46631206,\n",
       "       0.46714032, 0.46797153, 0.46702317, 0.46785714, 0.4686941 ,\n",
       "       0.46953405, 0.47037702, 0.47122302, 0.47207207, 0.47292419,\n",
       "       0.47377939, 0.47463768, 0.47368421, 0.47454545, 0.47540984,\n",
       "       0.47627737, 0.47714808, 0.47802198, 0.47889908, 0.47977941,\n",
       "       0.47882136, 0.4797048 , 0.4805915 , 0.47962963, 0.47866419,\n",
       "       0.4795539 , 0.48044693, 0.48134328, 0.48037383, 0.47940075,\n",
       "       0.47842402, 0.47744361, 0.47834275, 0.47924528, 0.47826087,\n",
       "       0.47916667, 0.4800759 , 0.48098859, 0.48190476, 0.48282443,\n",
       "       0.48374761, 0.48467433, 0.48560461, 0.48653846, 0.48554913,\n",
       "       0.48648649, 0.48742747, 0.48837209, 0.48932039, 0.49027237,\n",
       "       0.49122807, 0.4921875 , 0.49315068, 0.49411765, 0.49312377,\n",
       "       0.49409449, 0.49506903, 0.49407115, 0.4950495 , 0.49603175,\n",
       "       0.49701789, 0.49800797, 0.499002  , 0.5       , 0.501002  ,\n",
       "       0.50200803, 0.50301811, 0.50403226, 0.5030303 , 0.50404858,\n",
       "       0.5030426 , 0.50406504, 0.50509165, 0.50612245, 0.50715746,\n",
       "       0.50614754, 0.50718686, 0.50823045, 0.50927835, 0.50826446,\n",
       "       0.50931677, 0.51037344, 0.51143451, 0.5125    , 0.51356994,\n",
       "       0.51464435, 0.51572327, 0.51680672, 0.51789474, 0.51687764,\n",
       "       0.51585624, 0.51694915, 0.51804671, 0.51702128, 0.51812367,\n",
       "       0.51709402, 0.51605996, 0.51716738, 0.51827957, 0.51939655,\n",
       "       0.52051836, 0.52164502, 0.52060738, 0.52173913, 0.52287582,\n",
       "       0.52401747, 0.52516411, 0.52631579, 0.52747253, 0.52863436,\n",
       "       0.52980132, 0.53097345, 0.52993348, 0.52888889, 0.53006682,\n",
       "       0.53125   , 0.53243848, 0.53363229, 0.53258427, 0.53153153,\n",
       "       0.53047404, 0.52941176, 0.53061224, 0.52954545, 0.5284738 ,\n",
       "       0.52968037, 0.52860412, 0.52981651, 0.52873563, 0.52995392,\n",
       "       0.52886836, 0.52777778, 0.52668213, 0.52790698, 0.52913753,\n",
       "       0.52803738, 0.529274  , 0.53051643, 0.53176471, 0.53066038,\n",
       "       0.53191489, 0.53080569, 0.52969121, 0.53095238, 0.52983294,\n",
       "       0.53110048, 0.52997602, 0.53125   , 0.53012048, 0.52898551,\n",
       "       0.52784504, 0.52912621, 0.53041363, 0.52926829, 0.53056235,\n",
       "       0.53186275, 0.53316953, 0.53448276, 0.53580247, 0.53712871,\n",
       "       0.53846154, 0.539801  , 0.53865337, 0.5375    , 0.53634085,\n",
       "       0.53517588, 0.53652393, 0.53787879, 0.53670886, 0.53807107,\n",
       "       0.53689567, 0.53826531, 0.5370844 , 0.53846154, 0.53984576,\n",
       "       0.53865979, 0.54005168, 0.54145078, 0.54025974, 0.5390625 ,\n",
       "       0.54046997, 0.54188482, 0.54330709, 0.54210526, 0.54353562,\n",
       "       0.54232804, 0.54111406, 0.53989362, 0.54133333, 0.54278075,\n",
       "       0.54423592, 0.54569892, 0.54716981, 0.54864865, 0.54742547,\n",
       "       0.54619565, 0.54768392, 0.54644809, 0.54794521, 0.5467033 ,\n",
       "       0.54820937, 0.54972376, 0.55124654, 0.55277778, 0.55431755,\n",
       "       0.55307263, 0.55182073, 0.5505618 , 0.54929577, 0.55084746,\n",
       "       0.55240793, 0.55397727, 0.55555556, 0.55714286, 0.55587393,\n",
       "       0.55747126, 0.55907781, 0.55780347, 0.55652174, 0.55813953,\n",
       "       0.55685131, 0.55555556, 0.5542522 , 0.55588235, 0.55457227,\n",
       "       0.55621302, 0.5578635 , 0.55952381, 0.56119403, 0.56287425,\n",
       "       0.56456456, 0.56626506, 0.56495468, 0.56363636, 0.56534954,\n",
       "       0.56707317, 0.56880734, 0.56748466, 0.56615385, 0.56790123,\n",
       "       0.56965944, 0.56832298, 0.57009346, 0.571875  , 0.57366771,\n",
       "       0.5754717 , 0.57413249, 0.57594937, 0.57777778, 0.57961783,\n",
       "       0.58146965, 0.58333333, 0.585209  , 0.58387097, 0.58252427,\n",
       "       0.58116883, 0.58306189, 0.58496732, 0.58360656, 0.58552632,\n",
       "       0.58415842, 0.58278146, 0.58471761, 0.58666667, 0.58862876,\n",
       "       0.58724832, 0.58585859, 0.58783784, 0.58644068, 0.58503401,\n",
       "       0.58703072, 0.58561644, 0.58762887, 0.58965517, 0.5916955 ,\n",
       "       0.59375   , 0.59581882, 0.59440559, 0.59298246, 0.59507042,\n",
       "       0.59363958, 0.59574468, 0.59786477, 0.59642857, 0.59498208,\n",
       "       0.59566787, 0.59782609, 0.6       , 0.60218978, 0.6043956 ,\n",
       "       0.60294118, 0.60516605, 0.60740741, 0.60966543, 0.6119403 ,\n",
       "       0.61423221, 0.61278195, 0.61509434, 0.61742424, 0.61596958,\n",
       "       0.61450382, 0.61685824, 0.61538462, 0.61776062, 0.62015504,\n",
       "       0.61867704, 0.6171875 , 0.61568627, 0.61417323, 0.61264822,\n",
       "       0.61111111, 0.60956175, 0.608     , 0.6064257 , 0.60483871,\n",
       "       0.60728745, 0.60569106, 0.60408163, 0.60655738, 0.60493827,\n",
       "       0.60330579, 0.60580913, 0.60416667, 0.60251046, 0.60084034,\n",
       "       0.60337553, 0.60169492, 0.6       , 0.6025641 , 0.60515021,\n",
       "       0.60344828, 0.60606061, 0.60869565, 0.61135371, 0.60964912,\n",
       "       0.6123348 , 0.61061947, 0.60888889, 0.61160714, 0.60986547,\n",
       "       0.61261261, 0.61085973, 0.61363636, 0.61643836, 0.61926606,\n",
       "       0.62211982, 0.625     , 0.62325581, 0.62616822, 0.62910798,\n",
       "       0.62735849, 0.62559242, 0.62380952, 0.62679426, 0.62980769,\n",
       "       0.63285024, 0.63106796, 0.62926829, 0.62745098, 0.63054187,\n",
       "       0.63366337, 0.6318408 , 0.63      , 0.6281407 , 0.63131313,\n",
       "       0.63451777, 0.6377551 , 0.64102564, 0.63917526, 0.6373057 ,\n",
       "       0.63541667, 0.63874346, 0.63684211, 0.63492063, 0.63829787,\n",
       "       0.64171123, 0.63978495, 0.64324324, 0.64130435, 0.64480874,\n",
       "       0.64285714, 0.64088398, 0.63888889, 0.6424581 , 0.64606742,\n",
       "       0.64971751, 0.64772727, 0.64571429, 0.64367816, 0.6416185 ,\n",
       "       0.64534884, 0.64327485, 0.64705882, 0.64497041, 0.64285714,\n",
       "       0.64071856, 0.63855422, 0.64242424, 0.6402439 , 0.63803681,\n",
       "       0.63580247, 0.63354037, 0.6375    , 0.63522013, 0.63291139,\n",
       "       0.63694268, 0.63461538, 0.63870968, 0.63636364, 0.63398693,\n",
       "       0.63157895, 0.63576159, 0.64      , 0.63758389, 0.63513514,\n",
       "       0.63265306, 0.6369863 , 0.64137931, 0.63888889, 0.63636364,\n",
       "       0.63380282, 0.63829787, 0.63571429, 0.64028777, 0.63768116,\n",
       "       0.6350365 , 0.63970588, 0.64444444, 0.64179104, 0.64661654,\n",
       "       0.65151515, 0.65648855, 0.66153846, 0.66666667, 0.6640625 ,\n",
       "       0.66929134, 0.67460317, 0.672     , 0.66935484, 0.66666667,\n",
       "       0.66393443, 0.66115702, 0.65833333, 0.65546218, 0.65254237,\n",
       "       0.64957265, 0.65517241, 0.65217391, 0.64912281, 0.6460177 ,\n",
       "       0.64285714, 0.63963964, 0.63636364, 0.63302752, 0.62962963,\n",
       "       0.62616822, 0.62264151, 0.62857143, 0.625     , 0.62135922,\n",
       "       0.61764706, 0.61386139, 0.62      , 0.62626263, 0.63265306,\n",
       "       0.62886598, 0.625     , 0.63157895, 0.62765957, 0.6344086 ,\n",
       "       0.64130435, 0.64835165, 0.64444444, 0.64044944, 0.64772727,\n",
       "       0.64367816, 0.65116279, 0.65882353, 0.66666667, 0.6746988 ,\n",
       "       0.67073171, 0.66666667, 0.675     , 0.67088608, 0.66666667,\n",
       "       0.67532468, 0.68421053, 0.68      , 0.67567568, 0.68493151,\n",
       "       0.68055556, 0.67605634, 0.68571429, 0.68115942, 0.67647059,\n",
       "       0.68656716, 0.6969697 , 0.69230769, 0.6875    , 0.68253968,\n",
       "       0.67741935, 0.67213115, 0.66666667, 0.6779661 , 0.68965517,\n",
       "       0.70175439, 0.69642857, 0.70909091, 0.72222222, 0.73584906,\n",
       "       0.75      , 0.74509804, 0.76      , 0.75510204, 0.75      ,\n",
       "       0.74468085, 0.73913043, 0.73333333, 0.72727273, 0.72093023,\n",
       "       0.71428571, 0.70731707, 0.725     , 0.71794872, 0.71052632,\n",
       "       0.7027027 , 0.72222222, 0.74285714, 0.73529412, 0.72727273,\n",
       "       0.71875   , 0.70967742, 0.7       , 0.72413793, 0.71428571,\n",
       "       0.7037037 , 0.73076923, 0.72      , 0.75      , 0.73913043,\n",
       "       0.72727273, 0.76190476, 0.75      , 0.78947368, 0.77777778,\n",
       "       0.76470588, 0.8125    , 0.8       , 0.85714286, 0.84615385,\n",
       "       0.83333333, 0.90909091, 0.9       , 0.88888889, 0.875     ,\n",
       "       1.        , 1.        , 1.        , 1.        , 1.        ,\n",
       "       1.        , 1.        ])"
      ]
     },
     "execution_count": 111,
     "metadata": {},
     "output_type": "execute_result"
    }
   ],
   "source": [
    "p[:-1]"
   ]
  },
  {
   "cell_type": "code",
   "execution_count": 112,
   "metadata": {},
   "outputs": [
    {
     "data": {
      "text/plain": [
       "array([1.        , 0.99695122, 0.99695122, 0.99390244, 0.99390244,\n",
       "       0.99390244, 0.99390244, 0.99390244, 0.99390244, 0.99390244,\n",
       "       0.99390244, 0.99390244, 0.99390244, 0.99390244, 0.99390244,\n",
       "       0.99390244, 0.99390244, 0.99390244, 0.99390244, 0.99390244,\n",
       "       0.99390244, 0.99390244, 0.99085366, 0.99085366, 0.99085366,\n",
       "       0.99085366, 0.99085366, 0.99085366, 0.98780488, 0.98780488,\n",
       "       0.98780488, 0.98780488, 0.98780488, 0.98780488, 0.98780488,\n",
       "       0.98780488, 0.98780488, 0.98780488, 0.98780488, 0.98780488,\n",
       "       0.98780488, 0.98780488, 0.98780488, 0.98780488, 0.98780488,\n",
       "       0.98780488, 0.98780488, 0.98780488, 0.98780488, 0.98780488,\n",
       "       0.98780488, 0.98780488, 0.98780488, 0.98780488, 0.98780488,\n",
       "       0.98780488, 0.98780488, 0.98780488, 0.98780488, 0.98780488,\n",
       "       0.98780488, 0.98780488, 0.98780488, 0.98780488, 0.98780488,\n",
       "       0.98780488, 0.98780488, 0.98780488, 0.98780488, 0.98780488,\n",
       "       0.98780488, 0.98780488, 0.98780488, 0.98780488, 0.98780488,\n",
       "       0.9847561 , 0.9847561 , 0.9847561 , 0.98170732, 0.98170732,\n",
       "       0.98170732, 0.98170732, 0.98170732, 0.98170732, 0.98170732,\n",
       "       0.98170732, 0.98170732, 0.98170732, 0.98170732, 0.97865854,\n",
       "       0.97865854, 0.97865854, 0.97865854, 0.97865854, 0.97865854,\n",
       "       0.97865854, 0.97865854, 0.97865854, 0.97865854, 0.97865854,\n",
       "       0.97865854, 0.97865854, 0.97865854, 0.97865854, 0.97865854,\n",
       "       0.97865854, 0.97865854, 0.97865854, 0.97865854, 0.97865854,\n",
       "       0.97560976, 0.97560976, 0.97560976, 0.97560976, 0.97256098,\n",
       "       0.97256098, 0.97256098, 0.97256098, 0.97256098, 0.97256098,\n",
       "       0.97256098, 0.97256098, 0.97256098, 0.97256098, 0.97256098,\n",
       "       0.97256098, 0.97256098, 0.97256098, 0.97256098, 0.97256098,\n",
       "       0.97256098, 0.97256098, 0.97256098, 0.9695122 , 0.9695122 ,\n",
       "       0.9695122 , 0.9695122 , 0.9695122 , 0.9695122 , 0.9695122 ,\n",
       "       0.9695122 , 0.9695122 , 0.9695122 , 0.9695122 , 0.9695122 ,\n",
       "       0.9695122 , 0.96646341, 0.96646341, 0.96646341, 0.96646341,\n",
       "       0.96646341, 0.96646341, 0.96646341, 0.96646341, 0.96646341,\n",
       "       0.96646341, 0.96646341, 0.96646341, 0.96646341, 0.96341463,\n",
       "       0.96341463, 0.96341463, 0.96341463, 0.96341463, 0.96036585,\n",
       "       0.96036585, 0.96036585, 0.95731707, 0.95731707, 0.95731707,\n",
       "       0.95731707, 0.95731707, 0.95731707, 0.95731707, 0.95731707,\n",
       "       0.95426829, 0.95426829, 0.95426829, 0.95426829, 0.95426829,\n",
       "       0.95426829, 0.95426829, 0.95426829, 0.95426829, 0.95121951,\n",
       "       0.95121951, 0.95121951, 0.95121951, 0.95121951, 0.95121951,\n",
       "       0.95121951, 0.95121951, 0.95121951, 0.95121951, 0.95121951,\n",
       "       0.95121951, 0.95121951, 0.95121951, 0.95121951, 0.95121951,\n",
       "       0.95121951, 0.95121951, 0.94817073, 0.94817073, 0.94512195,\n",
       "       0.94512195, 0.94512195, 0.94512195, 0.94512195, 0.94512195,\n",
       "       0.94207317, 0.93902439, 0.93902439, 0.93902439, 0.93597561,\n",
       "       0.93597561, 0.93597561, 0.93597561, 0.93597561, 0.93597561,\n",
       "       0.93597561, 0.93292683, 0.93292683, 0.93292683, 0.93292683,\n",
       "       0.93292683, 0.92987805, 0.92987805, 0.92987805, 0.92987805,\n",
       "       0.92987805, 0.92987805, 0.92682927, 0.92682927, 0.92682927,\n",
       "       0.92682927, 0.92682927, 0.92682927, 0.92378049, 0.92378049,\n",
       "       0.92378049, 0.92378049, 0.92073171, 0.92073171, 0.92073171,\n",
       "       0.92073171, 0.92073171, 0.92073171, 0.92073171, 0.92073171,\n",
       "       0.92073171, 0.91768293, 0.91768293, 0.91768293, 0.91768293,\n",
       "       0.91768293, 0.91463415, 0.91463415, 0.91463415, 0.91158537,\n",
       "       0.91158537, 0.91158537, 0.91158537, 0.91158537, 0.91158537,\n",
       "       0.90853659, 0.90853659, 0.90853659, 0.9054878 , 0.90243902,\n",
       "       0.89939024, 0.89939024, 0.89939024, 0.89634146, 0.89329268,\n",
       "       0.8902439 , 0.8902439 , 0.88719512, 0.88414634, 0.88414634,\n",
       "       0.88414634, 0.88414634, 0.88109756, 0.88109756, 0.88109756,\n",
       "       0.88109756, 0.87804878, 0.87804878, 0.87804878, 0.875     ,\n",
       "       0.875     , 0.875     , 0.875     , 0.875     , 0.875     ,\n",
       "       0.875     , 0.87195122, 0.87195122, 0.87195122, 0.86890244,\n",
       "       0.86890244, 0.86890244, 0.86890244, 0.86585366, 0.86585366,\n",
       "       0.86585366, 0.86585366, 0.86280488, 0.86280488, 0.8597561 ,\n",
       "       0.8597561 , 0.8597561 , 0.8597561 , 0.8597561 , 0.85670732,\n",
       "       0.85670732, 0.85670732, 0.85670732, 0.85670732, 0.85365854,\n",
       "       0.85060976, 0.84756098, 0.84756098, 0.84756098, 0.84756098,\n",
       "       0.8445122 , 0.8445122 , 0.84146341, 0.84146341, 0.83841463,\n",
       "       0.83841463, 0.83536585, 0.83231707, 0.83231707, 0.83231707,\n",
       "       0.83231707, 0.83231707, 0.83231707, 0.83231707, 0.83231707,\n",
       "       0.83231707, 0.83231707, 0.83231707, 0.83231707, 0.83231707,\n",
       "       0.83231707, 0.83231707, 0.83231707, 0.83231707, 0.83231707,\n",
       "       0.82926829, 0.82621951, 0.82621951, 0.82317073, 0.82012195,\n",
       "       0.82012195, 0.82012195, 0.82012195, 0.82012195, 0.81707317,\n",
       "       0.81707317, 0.81707317, 0.81707317, 0.81707317, 0.81402439,\n",
       "       0.81402439, 0.81402439, 0.81402439, 0.81097561, 0.81097561,\n",
       "       0.81097561, 0.80792683, 0.80792683, 0.80792683, 0.80792683,\n",
       "       0.80792683, 0.80792683, 0.80792683, 0.80792683, 0.80792683,\n",
       "       0.80792683, 0.80487805, 0.80182927, 0.80182927, 0.80182927,\n",
       "       0.80182927, 0.80182927, 0.79878049, 0.79878049, 0.79878049,\n",
       "       0.79878049, 0.79878049, 0.79878049, 0.79878049, 0.79878049,\n",
       "       0.79878049, 0.79878049, 0.79573171, 0.79573171, 0.79573171,\n",
       "       0.79573171, 0.79573171, 0.79573171, 0.79573171, 0.79573171,\n",
       "       0.79268293, 0.79268293, 0.79268293, 0.78963415, 0.78658537,\n",
       "       0.78658537, 0.78658537, 0.78658537, 0.78353659, 0.7804878 ,\n",
       "       0.77743902, 0.77439024, 0.77439024, 0.77439024, 0.77134146,\n",
       "       0.77134146, 0.77134146, 0.77134146, 0.77134146, 0.77134146,\n",
       "       0.77134146, 0.77134146, 0.77134146, 0.77134146, 0.76829268,\n",
       "       0.76829268, 0.76829268, 0.76829268, 0.76829268, 0.76829268,\n",
       "       0.76829268, 0.76829268, 0.76829268, 0.76829268, 0.7652439 ,\n",
       "       0.7652439 , 0.7652439 , 0.76219512, 0.76219512, 0.76219512,\n",
       "       0.76219512, 0.76219512, 0.76219512, 0.76219512, 0.76219512,\n",
       "       0.76219512, 0.76219512, 0.76219512, 0.75914634, 0.75914634,\n",
       "       0.75609756, 0.75609756, 0.75609756, 0.75609756, 0.75609756,\n",
       "       0.75304878, 0.75304878, 0.75304878, 0.75304878, 0.75      ,\n",
       "       0.75      , 0.75      , 0.75      , 0.75      , 0.75      ,\n",
       "       0.75      , 0.75      , 0.75      , 0.75      , 0.74695122,\n",
       "       0.74390244, 0.74390244, 0.74390244, 0.74085366, 0.74085366,\n",
       "       0.73780488, 0.7347561 , 0.7347561 , 0.7347561 , 0.7347561 ,\n",
       "       0.7347561 , 0.7347561 , 0.73170732, 0.73170732, 0.73170732,\n",
       "       0.73170732, 0.73170732, 0.73170732, 0.73170732, 0.73170732,\n",
       "       0.73170732, 0.73170732, 0.72865854, 0.72560976, 0.72560976,\n",
       "       0.72560976, 0.72560976, 0.72560976, 0.72256098, 0.7195122 ,\n",
       "       0.71646341, 0.71341463, 0.71341463, 0.71036585, 0.70731707,\n",
       "       0.70731707, 0.70426829, 0.70426829, 0.70121951, 0.70121951,\n",
       "       0.69817073, 0.69512195, 0.69207317, 0.69207317, 0.69207317,\n",
       "       0.68902439, 0.68902439, 0.68902439, 0.68902439, 0.68597561,\n",
       "       0.68597561, 0.68292683, 0.67987805, 0.67987805, 0.67682927,\n",
       "       0.67682927, 0.67378049, 0.67378049, 0.67073171, 0.66768293,\n",
       "       0.66463415, 0.66463415, 0.66463415, 0.66158537, 0.66158537,\n",
       "       0.66158537, 0.66158537, 0.66158537, 0.66158537, 0.66158537,\n",
       "       0.66158537, 0.66158537, 0.65853659, 0.6554878 , 0.65243902,\n",
       "       0.64939024, 0.64939024, 0.64939024, 0.64634146, 0.64634146,\n",
       "       0.64329268, 0.64329268, 0.6402439 , 0.6402439 , 0.6402439 ,\n",
       "       0.63719512, 0.63719512, 0.63719512, 0.63414634, 0.63109756,\n",
       "       0.63109756, 0.63109756, 0.63109756, 0.62804878, 0.62804878,\n",
       "       0.625     , 0.62195122, 0.61890244, 0.61890244, 0.61890244,\n",
       "       0.61890244, 0.61890244, 0.61890244, 0.61890244, 0.61585366,\n",
       "       0.61280488, 0.61280488, 0.6097561 , 0.6097561 , 0.60670732,\n",
       "       0.60670732, 0.60670732, 0.60670732, 0.60670732, 0.60670732,\n",
       "       0.60365854, 0.60060976, 0.59756098, 0.5945122 , 0.5945122 ,\n",
       "       0.5945122 , 0.5945122 , 0.5945122 , 0.5945122 , 0.59146341,\n",
       "       0.59146341, 0.59146341, 0.58841463, 0.58536585, 0.58536585,\n",
       "       0.58231707, 0.57926829, 0.57621951, 0.57621951, 0.57317073,\n",
       "       0.57317073, 0.57317073, 0.57317073, 0.57317073, 0.57317073,\n",
       "       0.57317073, 0.57317073, 0.57012195, 0.56707317, 0.56707317,\n",
       "       0.56707317, 0.56707317, 0.56402439, 0.56097561, 0.56097561,\n",
       "       0.56097561, 0.55792683, 0.55792683, 0.55792683, 0.55792683,\n",
       "       0.55792683, 0.55487805, 0.55487805, 0.55487805, 0.55487805,\n",
       "       0.55487805, 0.55487805, 0.55487805, 0.55182927, 0.54878049,\n",
       "       0.54573171, 0.54573171, 0.54573171, 0.54268293, 0.54268293,\n",
       "       0.53963415, 0.53658537, 0.53658537, 0.53658537, 0.53658537,\n",
       "       0.53353659, 0.5304878 , 0.5304878 , 0.52743902, 0.52439024,\n",
       "       0.52439024, 0.52134146, 0.52134146, 0.52134146, 0.52134146,\n",
       "       0.52134146, 0.52134146, 0.51829268, 0.5152439 , 0.5152439 ,\n",
       "       0.51219512, 0.51219512, 0.51219512, 0.50914634, 0.50609756,\n",
       "       0.50304878, 0.50304878, 0.50304878, 0.50304878, 0.50304878,\n",
       "       0.5       , 0.5       , 0.5       , 0.5       , 0.5       ,\n",
       "       0.5       , 0.49695122, 0.49695122, 0.49695122, 0.49390244,\n",
       "       0.49085366, 0.49085366, 0.48780488, 0.48780488, 0.48780488,\n",
       "       0.4847561 , 0.48170732, 0.47865854, 0.47560976, 0.47256098,\n",
       "       0.4695122 , 0.46646341, 0.46341463, 0.46036585, 0.45731707,\n",
       "       0.45731707, 0.45426829, 0.45121951, 0.45121951, 0.44817073,\n",
       "       0.44512195, 0.44512195, 0.44207317, 0.43902439, 0.43597561,\n",
       "       0.43597561, 0.43292683, 0.42987805, 0.42987805, 0.42987805,\n",
       "       0.42682927, 0.42682927, 0.42682927, 0.42682927, 0.42378049,\n",
       "       0.42378049, 0.42073171, 0.41768293, 0.41768293, 0.41463415,\n",
       "       0.41463415, 0.41158537, 0.41158537, 0.41158537, 0.41158537,\n",
       "       0.41158537, 0.41158537, 0.40853659, 0.40853659, 0.40853659,\n",
       "       0.4054878 , 0.40243902, 0.39939024, 0.39939024, 0.39939024,\n",
       "       0.39939024, 0.39634146, 0.39329268, 0.3902439 , 0.3902439 ,\n",
       "       0.3902439 , 0.38719512, 0.38414634, 0.38109756, 0.38109756,\n",
       "       0.38109756, 0.38109756, 0.38109756, 0.37804878, 0.375     ,\n",
       "       0.37195122, 0.37195122, 0.36890244, 0.36585366, 0.36585366,\n",
       "       0.36585366, 0.36280488, 0.36280488, 0.3597561 , 0.3597561 ,\n",
       "       0.35670732, 0.35365854, 0.35060976, 0.35060976, 0.35060976,\n",
       "       0.35060976, 0.34756098, 0.3445122 , 0.34146341, 0.33841463,\n",
       "       0.33841463, 0.33536585, 0.33536585, 0.33231707, 0.32926829,\n",
       "       0.32621951, 0.32317073, 0.32317073, 0.32012195, 0.31707317,\n",
       "       0.31402439, 0.31097561, 0.31097561, 0.30792683, 0.30487805,\n",
       "       0.30487805, 0.30182927, 0.30182927, 0.29878049, 0.29573171,\n",
       "       0.29268293, 0.29268293, 0.29268293, 0.28963415, 0.28658537,\n",
       "       0.28353659, 0.28353659, 0.28353659, 0.2804878 , 0.27743902,\n",
       "       0.27439024, 0.27439024, 0.27134146, 0.27134146, 0.26829268,\n",
       "       0.2652439 , 0.2652439 , 0.2652439 , 0.26219512, 0.26219512,\n",
       "       0.26219512, 0.26219512, 0.26219512, 0.26219512, 0.25914634,\n",
       "       0.25914634, 0.25914634, 0.25609756, 0.25304878, 0.25      ,\n",
       "       0.24695122, 0.24390244, 0.24085366, 0.23780488, 0.2347561 ,\n",
       "       0.23170732, 0.23170732, 0.22865854, 0.22560976, 0.22256098,\n",
       "       0.2195122 , 0.21646341, 0.21341463, 0.21036585, 0.20731707,\n",
       "       0.20426829, 0.20121951, 0.20121951, 0.19817073, 0.19512195,\n",
       "       0.19207317, 0.18902439, 0.18902439, 0.18902439, 0.18902439,\n",
       "       0.18597561, 0.18292683, 0.18292683, 0.17987805, 0.17987805,\n",
       "       0.17987805, 0.17987805, 0.17682927, 0.17378049, 0.17378049,\n",
       "       0.17073171, 0.17073171, 0.17073171, 0.17073171, 0.17073171,\n",
       "       0.16768293, 0.16463415, 0.16463415, 0.16158537, 0.15853659,\n",
       "       0.15853659, 0.15853659, 0.1554878 , 0.15243902, 0.15243902,\n",
       "       0.14939024, 0.14634146, 0.14634146, 0.14329268, 0.1402439 ,\n",
       "       0.1402439 , 0.1402439 , 0.13719512, 0.13414634, 0.13109756,\n",
       "       0.12804878, 0.125     , 0.12195122, 0.12195122, 0.12195122,\n",
       "       0.12195122, 0.11890244, 0.11890244, 0.11890244, 0.11890244,\n",
       "       0.11890244, 0.11585366, 0.11585366, 0.11280488, 0.1097561 ,\n",
       "       0.10670732, 0.10365854, 0.10060976, 0.09756098, 0.0945122 ,\n",
       "       0.09146341, 0.08841463, 0.08841463, 0.08536585, 0.08231707,\n",
       "       0.07926829, 0.07926829, 0.07926829, 0.07621951, 0.07317073,\n",
       "       0.07012195, 0.06707317, 0.06402439, 0.06402439, 0.06097561,\n",
       "       0.05792683, 0.05792683, 0.05487805, 0.05487805, 0.05182927,\n",
       "       0.04878049, 0.04878049, 0.04573171, 0.04573171, 0.04268293,\n",
       "       0.03963415, 0.03963415, 0.03658537, 0.03658537, 0.03353659,\n",
       "       0.0304878 , 0.0304878 , 0.02743902, 0.02439024, 0.02134146,\n",
       "       0.02134146, 0.01829268, 0.0152439 , 0.01219512, 0.00914634,\n",
       "       0.00609756, 0.00304878])"
      ]
     },
     "execution_count": 112,
     "metadata": {},
     "output_type": "execute_result"
    }
   ],
   "source": [
    "r[:-1]"
   ]
  },
  {
   "cell_type": "code",
   "execution_count": 81,
   "metadata": {},
   "outputs": [
    {
     "data": {
      "image/png": "[encoded data removed]",
      "text/plain": [
       "<Figure size 576x576 with 1 Axes>"
      ]
     },
     "metadata": {
      "needs_background": "light"
     },
     "output_type": "display_data"
    }
   ],
   "source": [
    "plot_precision_recall_vs_threshold(p, r, thresholds)"
   ]
  },
  {
   "cell_type": "code",
   "execution_count": 82,
   "metadata": {},
   "outputs": [],
   "source": [
    "def plot_roc_curve(fpr, tpr, label=None):\n",
    "    \"\"\"\n",
    "    The ROC curve, modified from \n",
    "    Hands-On Machine learning with Scikit-Learn and TensorFlow; p.91\n",
    "    \"\"\"\n",
    "    plt.figure(figsize=(8,8))\n",
    "    plt.title('ROC Curve')\n",
    "    plt.plot(fpr, tpr, linewidth=2, label=label)\n",
    "    plt.plot([0, 1], [0, 1], 'k--')\n",
    "    plt.axis([-0.005, 1, 0, 1.005])\n",
    "    plt.xticks(np.arange(0,1, 0.05), rotation=90)\n",
    "    plt.xlabel(\"False Positive Rate\")\n",
    "    plt.ylabel(\"True Positive Rate (Recall)\")\n",
    "    plt.legend(loc='best')"
   ]
  },
  {
   "cell_type": "code",
   "execution_count": 85,
   "metadata": {},
   "outputs": [
    {
     "name": "stdout",
     "output_type": "stream",
     "text": [
      "0.7612673308652729\n"
     ]
    },
    {
     "data": {
      "image/png": "[encoded data removed]",
      "text/plain": [
       "<Figure size 576x576 with 1 Axes>"
      ]
     },
     "metadata": {
      "needs_background": "light"
     },
     "output_type": "display_data"
    }
   ],
   "source": [
    "fpr, tpr, auc_thresholds = roc_curve(y_real, y_scores)\n",
    "print(auc(fpr, tpr)) # AUC of ROC\n",
    "plot_roc_curve(fpr, tpr, 'recall_optimized')"
   ]
  },
  {
   "cell_type": "markdown",
   "metadata": {},
   "source": [
    "Lets now get the R-squared using a threshold t"
   ]
  },
  {
   "cell_type": "code",
   "execution_count": 98,
   "metadata": {},
   "outputs": [],
   "source": [
    "def r_squared(val_outputs, val_labels, t):\n",
    "    y = val_labels[:,1]\n",
    "    y_hat = ((y_scores >= t) * 1) * val_outputs[:,1]\n",
    "    return (1/len(y))* sum((y - y_hat)**2)"
   ]
  },
  {
   "cell_type": "code",
   "execution_count": 109,
   "metadata": {},
   "outputs": [
    {
     "name": "stdout",
     "output_type": "stream",
     "text": [
      "10.04182092030415\n",
      "16.9510884729562\n",
      "19.556470439727708\n",
      "20.959642750970904\n",
      "22.65246350789337\n",
      "23.169759121960126\n",
      "23.177035135275798\n",
      "21.9273321082754\n",
      "21.682935660150708\n",
      "21.682935660150708\n",
      "21.682935660150708\n"
     ]
    }
   ],
   "source": [
    "for i in range(0, 11, 1):\n",
    "    print(r_squared(val_outputs, val_labels, i / 10))"
   ]
  },
  {
   "cell_type": "code",
   "execution_count": null,
   "metadata": {},
   "outputs": [],
   "source": []
  },
  {
   "cell_type": "code",
   "execution_count": null,
   "metadata": {},
   "outputs": [],
   "source": []
  },
  {
   "cell_type": "code",
   "execution_count": null,
   "metadata": {},
   "outputs": [],
   "source": []
  },
  {
   "cell_type": "code",
   "execution_count": null,
   "metadata": {},
   "outputs": [],
   "source": []
  }
 ],
 "metadata": {
  "kernelspec": {
   "display_name": "Python 3",
   "language": "python",
   "name": "python3"
  },
  "language_info": {
   "codemirror_mode": {
    "name": "ipython",
    "version": 3
   },
   "file_extension": ".py",
   "mimetype": "text/x-python",
   "name": "python",
   "nbconvert_exporter": "python",
   "pygments_lexer": "ipython3",
   "version": "3.6.6"
  }
 },
 "nbformat": 4,
 "nbformat_minor": 2
}
