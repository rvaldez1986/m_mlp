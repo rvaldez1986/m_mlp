{
 "cells": [
  {
   "cell_type": "code",
   "execution_count": 30,
   "metadata": {},
   "outputs": [],
   "source": [
    "import os\n",
    "import pandas as pd\n",
    "import numpy as np\n",
    "from sklearn.utils import shuffle\n",
    "import torch.nn as nn\n",
    "import torch\n",
    "import torch.optim as optim\n",
    "import matplotlib.pyplot as plt\n",
    "import torch.nn.functional as F"
   ]
  },
  {
   "cell_type": "code",
   "execution_count": null,
   "metadata": {},
   "outputs": [],
   "source": []
  },
  {
   "cell_type": "code",
   "execution_count": 31,
   "metadata": {},
   "outputs": [],
   "source": [
    "np.random.seed(0)\n",
    "data = pd.read_csv(\"Data\\\\cle\\\\Rand_train.csv\", sep=',')\n",
    "data_val = pd.read_csv(\"Data\\\\cle\\\\Rand_valid.csv\", sep=',')"
   ]
  },
  {
   "cell_type": "code",
   "execution_count": 32,
   "metadata": {},
   "outputs": [],
   "source": [
    "data = shuffle(data).reset_index(drop=True)"
   ]
  },
  {
   "cell_type": "code",
   "execution_count": null,
   "metadata": {},
   "outputs": [],
   "source": []
  },
  {
   "cell_type": "code",
   "execution_count": 33,
   "metadata": {},
   "outputs": [],
   "source": [
    "X = data.iloc[:,1:]\n",
    "Y = data.iloc[:,0]\n",
    "X_val = data_val.iloc[:,1:]\n",
    "Y_val = data_val.iloc[:,0]\n",
    "\n",
    "X2 = X\n",
    "X2_val = X_val"
   ]
  },
  {
   "cell_type": "code",
   "execution_count": 34,
   "metadata": {},
   "outputs": [],
   "source": [
    "cut = 0\n",
    "y1 = (Y <= cut) * 1\n",
    "y2 = (Y > cut) * (-1) * (-Y)\n",
    "Y2 = np.stack((y1, y2), axis=-1)\n",
    "\n",
    "y1_val = (Y_val <= cut) * 1\n",
    "y2_val = (Y_val > cut) * (-1) * (-Y_val)\n",
    "Y2_val = np.stack((y1_val, y2_val), axis=-1)"
   ]
  },
  {
   "cell_type": "code",
   "execution_count": null,
   "metadata": {},
   "outputs": [],
   "source": []
  },
  {
   "cell_type": "code",
   "execution_count": 35,
   "metadata": {},
   "outputs": [],
   "source": [
    "from fit9_nn import fit, comb_error"
   ]
  },
  {
   "cell_type": "code",
   "execution_count": 36,
   "metadata": {},
   "outputs": [],
   "source": [
    "class Net1(nn.Module):\n",
    "    def __init__(self):\n",
    "        super(Net1, self).__init__()\n",
    "        \n",
    "        self.fc11 = nn.Linear(16, 24, bias = True)\n",
    "        self.fc12 = nn.Linear(24, 1, bias = True)\n",
    "       \n",
    "        \n",
    "        self.fc21 = nn.Linear(16, 24, bias=True)\n",
    "        self.fc22 = nn.Linear(24, 5, bias=True)\n",
    "        self.fc23 = nn.Linear(5, 1, bias=True)\n",
    "                \n",
    "    def forward(self, x):\n",
    "        x1 = torch.tanh(self.fc11(x))\n",
    "        x1 = torch.sigmoid(self.fc12(x1))\n",
    "        \n",
    "        x2 = self.fc21(x)\n",
    "        x2 = F.relu(self.fc22(x2))\n",
    "        x2 = torch.exp(self.fc23(x2))       \n",
    "        \n",
    "        x3 = torch.cat((x1, x2), 1)\n",
    "        return x3"
   ]
  },
  {
   "cell_type": "code",
   "execution_count": 47,
   "metadata": {},
   "outputs": [],
   "source": [
    "n_epochs = 5000\n",
    "lr = 0.0001\n",
    "verbose = 1\n",
    "n_batches = 6\n",
    "batch_to_avg = 2\n",
    "ep_to_check = 10\n",
    "clipping = 0.20\n",
    "sig2 = 2 * 950000\n",
    "PATH = 'Data\\\\checkpoints\\\\mytraining2.pt'\n",
    "device = torch.device(\"cuda:0\" if torch.cuda.is_available() else \"cpu\")"
   ]
  },
  {
   "cell_type": "code",
   "execution_count": 48,
   "metadata": {},
   "outputs": [],
   "source": [
    "def m_error(output, target):\n",
    "    return comb_error(output, target, sig2)"
   ]
  },
  {
   "cell_type": "code",
   "execution_count": 49,
   "metadata": {},
   "outputs": [],
   "source": [
    "def weights_init_normal(m):     \n",
    "    classname = m.__class__.__name__\n",
    "    torch.manual_seed(0)\n",
    "    if classname.find('Linear') != -1:\n",
    "        n = m.in_features\n",
    "        y = 1.0/np.sqrt(n)\n",
    "        m.weight.data.normal_(0, y)\n",
    "        if m.bias is not None:\n",
    "            m.bias.data.normal_(0, y)"
   ]
  },
  {
   "cell_type": "code",
   "execution_count": 50,
   "metadata": {},
   "outputs": [],
   "source": [
    "def weights_init_uniform_rule(m):\n",
    "    classname = m.__class__.__name__\n",
    "    torch.manual_seed(0)\n",
    "    if classname.find('Linear') != -1:\n",
    "        n = m.in_features\n",
    "        y = 1.0/np.sqrt(n)\n",
    "        m.weight.data.uniform_(-y, y)\n",
    "        m.bias.data.data.uniform_(-y, y)"
   ]
  },
  {
   "cell_type": "code",
   "execution_count": null,
   "metadata": {},
   "outputs": [],
   "source": []
  },
  {
   "cell_type": "code",
   "execution_count": null,
   "metadata": {},
   "outputs": [],
   "source": []
  },
  {
   "cell_type": "code",
   "execution_count": 51,
   "metadata": {},
   "outputs": [
    {
     "name": "stdout",
     "output_type": "stream",
     "text": [
      "Epoch 1: Training Loss: 0.9881214499473572, Validation Loss: 289.9693298339844\n",
      "Epoch 2: Training Loss: 0.9860619505246481, Validation Loss: 289.9564208984375\n",
      "Epoch 3: Training Loss: 0.9839740693569183, Validation Loss: 289.94189453125\n",
      "Epoch 4: Training Loss: 0.9819620052973429, Validation Loss: 289.9256591796875\n",
      "Epoch 5: Training Loss: 0.9800191620985667, Validation Loss: 289.90740966796875\n",
      "Epoch 6: Training Loss: 0.9780806998411814, Validation Loss: 289.88690185546875\n",
      "Epoch 7: Training Loss: 0.9761721690495809, Validation Loss: 289.8636779785156\n",
      "Epoch 8: Training Loss: 0.9742871820926666, Validation Loss: 289.8370666503906\n",
      "Epoch 9: Training Loss: 0.972425510485967, Validation Loss: 289.806640625\n",
      "Epoch 10: Training Loss: 0.9706266323725382, Validation Loss: 289.77178955078125\n",
      "Epoch 11: Training Loss: 0.9688219229380289, Validation Loss: 289.7318420410156\n",
      "New Checkpoint Saved into PATH\n",
      "Epoch 12: Training Loss: 0.9670667350292206, Validation Loss: 289.68560791015625\n",
      "Epoch 13: Training Loss: 0.9653488000233968, Validation Loss: 289.6313781738281\n",
      "Epoch 14: Training Loss: 0.9636575778325399, Validation Loss: 289.5682373046875\n",
      "Epoch 15: Training Loss: 0.9619998534520467, Validation Loss: 289.4952697753906\n",
      "Epoch 16: Training Loss: 0.9603587587674459, Validation Loss: 289.41180419921875\n",
      "Epoch 17: Training Loss: 0.9586984912554423, Validation Loss: 289.31695556640625\n",
      "Epoch 18: Training Loss: 0.9571669101715088, Validation Loss: 289.2088317871094\n",
      "Epoch 19: Training Loss: 0.9556066493193308, Validation Loss: 289.0843200683594\n",
      "Epoch 20: Training Loss: 0.9540553689002991, Validation Loss: 288.9428405761719\n",
      "Epoch 21: Training Loss: 0.9525200923283895, Validation Loss: 288.7860412597656\n",
      "New Checkpoint Saved into PATH\n",
      "Epoch 22: Training Loss: 0.9510208268960317, Validation Loss: 288.615234375\n",
      "Epoch 23: Training Loss: 0.9495554367701212, Validation Loss: 288.43780517578125\n",
      "Epoch 24: Training Loss: 0.9480760097503662, Validation Loss: 288.25030517578125\n",
      "Epoch 25: Training Loss: 0.9465976854165395, Validation Loss: 288.0636291503906\n",
      "Epoch 26: Training Loss: 0.9451510608196259, Validation Loss: 287.88397216796875\n",
      "Epoch 27: Training Loss: 0.9437242050965627, Validation Loss: 287.699462890625\n",
      "Epoch 28: Training Loss: 0.9422943294048309, Validation Loss: 287.4979248046875\n",
      "Epoch 29: Training Loss: 0.9409248332182566, Validation Loss: 287.2825012207031\n",
      "Epoch 30: Training Loss: 0.9395328561464945, Validation Loss: 287.04705810546875\n",
      "Epoch 31: Training Loss: 0.938188225030899, Validation Loss: 286.7879943847656\n",
      "New Checkpoint Saved into PATH\n",
      "Epoch 32: Training Loss: 0.9368115961551666, Validation Loss: 286.49713134765625\n",
      "Epoch 33: Training Loss: 0.9354366958141327, Validation Loss: 286.1744384765625\n",
      "Epoch 34: Training Loss: 0.9341071248054504, Validation Loss: 285.8115539550781\n",
      "Epoch 35: Training Loss: 0.9327923158804575, Validation Loss: 285.4111328125\n",
      "Epoch 36: Training Loss: 0.931415726741155, Validation Loss: 284.974365234375\n",
      "Epoch 37: Training Loss: 0.9300704002380371, Validation Loss: 284.4988708496094\n",
      "Epoch 38: Training Loss: 0.9287005464235941, Validation Loss: 283.9895324707031\n",
      "Epoch 39: Training Loss: 0.9273323317368826, Validation Loss: 283.43096923828125\n",
      "Epoch 40: Training Loss: 0.9259328246116638, Validation Loss: 282.82830810546875\n",
      "Epoch 41: Training Loss: 0.9245354235172272, Validation Loss: 282.1991271972656\n",
      "New Checkpoint Saved into PATH\n",
      "Epoch 42: Training Loss: 0.923065185546875, Validation Loss: 281.5372619628906\n",
      "Epoch 43: Training Loss: 0.9216115971406301, Validation Loss: 280.8381042480469\n",
      "Epoch 44: Training Loss: 0.9200424154599508, Validation Loss: 280.1243896484375\n",
      "Epoch 45: Training Loss: 0.9184769292672476, Validation Loss: 279.3993835449219\n",
      "Epoch 46: Training Loss: 0.9168016115824381, Validation Loss: 278.74444580078125\n",
      "Epoch 47: Training Loss: 0.9150558809439341, Validation Loss: 278.17431640625\n",
      "Epoch 48: Training Loss: 0.9133180181185404, Validation Loss: 277.6835632324219\n",
      "Epoch 49: Training Loss: 0.9113944470882416, Validation Loss: 277.28131103515625\n",
      "Epoch 50: Training Loss: 0.9093824326992035, Validation Loss: 277.0382385253906\n",
      "Epoch 51: Training Loss: 0.9072386225064596, Validation Loss: 277.1775207519531\n",
      "New Checkpoint Saved into PATH\n",
      "Epoch 52: Training Loss: 0.9050076107184092, Validation Loss: 277.90887451171875\n",
      "Epoch 53: Training Loss: 0.9026670555273691, Validation Loss: 279.17486572265625\n",
      "Epoch 54: Training Loss: 0.9002435108025869, Validation Loss: 281.153076171875\n",
      "Epoch 55: Training Loss: 0.8976293603579203, Validation Loss: 283.85113525390625\n",
      "Epoch 56: Training Loss: 0.8949330846468607, Validation Loss: 287.6322326660156\n",
      "Epoch 57: Training Loss: 0.8922494451204935, Validation Loss: 292.77838134765625\n",
      "Epoch 58: Training Loss: 0.8893439372380575, Validation Loss: 299.1886901855469\n",
      "Epoch 59: Training Loss: 0.8868864973386129, Validation Loss: 307.1547546386719\n",
      "Epoch 60: Training Loss: 0.8842412730058035, Validation Loss: 316.7733459472656\n",
      "Epoch 61: Training Loss: 0.8821315864721934, Validation Loss: 327.9761047363281\n",
      "Epoch 62: Training Loss: 0.8801369865735372, Validation Loss: 339.6202697753906\n",
      "Epoch 63: Training Loss: 0.8789158562819163, Validation Loss: 350.7637634277344\n",
      "Epoch 64: Training Loss: 0.8778858780860901, Validation Loss: 358.3769226074219\n",
      "Epoch 65: Training Loss: 0.8772396246592203, Validation Loss: 363.1365051269531\n",
      "Epoch 66: Training Loss: 0.8763674000898997, Validation Loss: 362.8387145996094\n",
      "Epoch 67: Training Loss: 0.8754375576972961, Validation Loss: 360.6988830566406\n",
      "Epoch 68: Training Loss: 0.874460389216741, Validation Loss: 356.2144470214844\n",
      "Epoch 69: Training Loss: 0.8735170165697733, Validation Loss: 351.6763000488281\n",
      "Epoch 70: Training Loss: 0.8726523220539093, Validation Loss: 347.8292541503906\n",
      "Epoch 71: Training Loss: 0.8717797100543976, Validation Loss: 346.5917053222656\n",
      "Epoch 72: Training Loss: 0.8709724545478821, Validation Loss: 345.7355041503906\n",
      "Epoch 73: Training Loss: 0.8701971968015035, Validation Loss: 345.8128662109375\n",
      "Epoch 74: Training Loss: 0.8694073756535848, Validation Loss: 345.01275634765625\n",
      "Epoch 75: Training Loss: 0.8686415155728658, Validation Loss: 345.53375244140625\n",
      "Epoch 76: Training Loss: 0.867936501900355, Validation Loss: 347.20599365234375\n",
      "Epoch 77: Training Loss: 0.8671538631121317, Validation Loss: 348.05853271484375\n",
      "Epoch 78: Training Loss: 0.8663975298404694, Validation Loss: 349.2411804199219\n",
      "Epoch 79: Training Loss: 0.8656341830889384, Validation Loss: 348.8734436035156\n",
      "Epoch 80: Training Loss: 0.8648913304011027, Validation Loss: 348.9916076660156\n",
      "Epoch 81: Training Loss: 0.8641678591569265, Validation Loss: 349.1108093261719\n",
      "Epoch 82: Training Loss: 0.863437294960022, Validation Loss: 349.8587341308594\n",
      "Epoch 83: Training Loss: 0.862698515256246, Validation Loss: 350.0300598144531\n",
      "Epoch 84: Training Loss: 0.8619691928227743, Validation Loss: 349.623291015625\n",
      "Epoch 85: Training Loss: 0.8612207671006521, Validation Loss: 349.19873046875\n",
      "Epoch 86: Training Loss: 0.860485682884852, Validation Loss: 349.3733215332031\n",
      "Epoch 87: Training Loss: 0.859763910373052, Validation Loss: 350.0618591308594\n",
      "Epoch 88: Training Loss: 0.859031081199646, Validation Loss: 350.0932922363281\n",
      "Epoch 89: Training Loss: 0.8583288689454397, Validation Loss: 349.98382568359375\n",
      "Epoch 90: Training Loss: 0.8576100865999857, Validation Loss: 350.1759948730469\n",
      "Epoch 91: Training Loss: 0.8569388687610626, Validation Loss: 350.4341125488281\n",
      "Epoch 92: Training Loss: 0.8562725981076559, Validation Loss: 349.5280456542969\n",
      "Epoch 93: Training Loss: 0.8556270102659861, Validation Loss: 348.4577941894531\n",
      "Epoch 94: Training Loss: 0.8549929161866506, Validation Loss: 349.0686950683594\n",
      "Epoch 95: Training Loss: 0.8543570737044016, Validation Loss: 350.3675842285156\n",
      "Epoch 96: Training Loss: 0.8536795079708099, Validation Loss: 351.0229797363281\n",
      "Epoch 97: Training Loss: 0.8530501921971639, Validation Loss: 352.0284423828125\n",
      "Epoch 98: Training Loss: 0.8523678878943125, Validation Loss: 351.9697265625\n",
      "Epoch 99: Training Loss: 0.8517120977242788, Validation Loss: 352.02142333984375\n",
      "Epoch 100: Training Loss: 0.8510713676611582, Validation Loss: 351.7401428222656\n",
      "Epoch 101: Training Loss: 0.8504114250342051, Validation Loss: 351.44915771484375\n",
      "Epoch 102: Training Loss: 0.8497704366842905, Validation Loss: 352.0224609375\n"
     ]
    },
    {
     "name": "stdout",
     "output_type": "stream",
     "text": [
      "Epoch 103: Training Loss: 0.8491269747416178, Validation Loss: 352.2586364746094\n",
      "Epoch 104: Training Loss: 0.8485067089398702, Validation Loss: 353.2023010253906\n",
      "Epoch 105: Training Loss: 0.8478563825289408, Validation Loss: 353.44305419921875\n",
      "Epoch 106: Training Loss: 0.8472187419732412, Validation Loss: 351.73406982421875\n",
      "Epoch 107: Training Loss: 0.8465962111949921, Validation Loss: 350.5224914550781\n",
      "Epoch 108: Training Loss: 0.8459977904955546, Validation Loss: 351.265380859375\n",
      "Epoch 109: Training Loss: 0.8453734517097473, Validation Loss: 351.1968994140625\n",
      "Epoch 110: Training Loss: 0.8447740574677786, Validation Loss: 352.4088439941406\n",
      "Epoch 111: Training Loss: 0.8442350725332896, Validation Loss: 354.67169189453125\n",
      "Epoch 112: Training Loss: 0.8435785969098409, Validation Loss: 355.11553955078125\n",
      "Epoch 113: Training Loss: 0.8430070579051971, Validation Loss: 355.8515930175781\n",
      "Epoch 114: Training Loss: 0.8423854013284048, Validation Loss: 355.7334289550781\n",
      "Epoch 115: Training Loss: 0.8417749404907227, Validation Loss: 354.6731872558594\n",
      "Epoch 116: Training Loss: 0.8411817153294882, Validation Loss: 354.2455749511719\n",
      "Epoch 117: Training Loss: 0.8406062026818594, Validation Loss: 353.14007568359375\n",
      "Epoch 118: Training Loss: 0.8400460382302603, Validation Loss: 353.2159729003906\n",
      "Epoch 119: Training Loss: 0.8394955595334371, Validation Loss: 353.0866394042969\n",
      "Epoch 120: Training Loss: 0.8389343023300171, Validation Loss: 352.82427978515625\n",
      "Epoch 121: Training Loss: 0.8383751014868418, Validation Loss: 352.5339660644531\n",
      "Epoch 122: Training Loss: 0.8378105958302816, Validation Loss: 353.8865661621094\n",
      "Epoch 123: Training Loss: 0.837283710638682, Validation Loss: 355.0924072265625\n",
      "Epoch 124: Training Loss: 0.8367620209852854, Validation Loss: 353.535888671875\n",
      "Epoch 125: Training Loss: 0.8362454771995544, Validation Loss: 352.798583984375\n",
      "Epoch 126: Training Loss: 0.8357633650302887, Validation Loss: 351.9112854003906\n",
      "Epoch 127: Training Loss: 0.8352657953898112, Validation Loss: 352.4797668457031\n",
      "Epoch 128: Training Loss: 0.8347223500410715, Validation Loss: 353.08795166015625\n"
     ]
    },
    {
     "ename": "KeyboardInterrupt",
     "evalue": "",
     "output_type": "error",
     "traceback": [
      "\u001b[1;31m---------------------------------------------------------------------------\u001b[0m",
      "\u001b[1;31mKeyboardInterrupt\u001b[0m                         Traceback (most recent call last)",
      "\u001b[1;32m<ipython-input-51-ffb4396ef303>\u001b[0m in \u001b[0;36m<module>\u001b[1;34m\u001b[0m\n\u001b[0;32m     12\u001b[0m                 \u001b[0mn_epochs\u001b[0m\u001b[1;33m=\u001b[0m\u001b[0mn_epochs\u001b[0m\u001b[1;33m,\u001b[0m \u001b[0mn_batches\u001b[0m\u001b[1;33m=\u001b[0m\u001b[0mn_batches\u001b[0m\u001b[1;33m,\u001b[0m \u001b[0mbatch_to_avg\u001b[0m\u001b[1;33m=\u001b[0m\u001b[0mbatch_to_avg\u001b[0m\u001b[1;33m,\u001b[0m\u001b[1;33m\u001b[0m\u001b[0m\n\u001b[0;32m     13\u001b[0m                     \u001b[0mep_to_check\u001b[0m\u001b[1;33m=\u001b[0m\u001b[0mep_to_check\u001b[0m\u001b[1;33m,\u001b[0m \u001b[0mclipping\u001b[0m\u001b[1;33m=\u001b[0m\u001b[0mclipping\u001b[0m\u001b[1;33m,\u001b[0m \u001b[0mPATH\u001b[0m\u001b[1;33m=\u001b[0m\u001b[0mPATH\u001b[0m\u001b[1;33m,\u001b[0m \u001b[0mdevice\u001b[0m\u001b[1;33m=\u001b[0m\u001b[0mdevice\u001b[0m\u001b[1;33m,\u001b[0m\u001b[1;33m\u001b[0m\u001b[0m\n\u001b[1;32m---> 14\u001b[1;33m                                             verbose=verbose, min_val_loss = float('inf'))\n\u001b[0m\u001b[0;32m     15\u001b[0m \u001b[1;33m\u001b[0m\u001b[0m\n\u001b[0;32m     16\u001b[0m \u001b[1;31m#(PENDIENTE)\u001b[0m\u001b[1;33m\u001b[0m\u001b[1;33m\u001b[0m\u001b[0m\n",
      "\u001b[1;32m~\\Desktop\\RAND_pro\\prog_calc\\prog_calc2\\fit9_nn.py\u001b[0m in \u001b[0;36mfit\u001b[1;34m(X, X_val, Y, Y_val, net, optimizer, error, n_epochs, n_batches, batch_to_avg, ep_to_check, clipping, PATH, device, verbose, min_val_loss)\u001b[0m\n\u001b[0;32m     89\u001b[0m             \u001b[1;32mif\u001b[0m \u001b[0mcounter\u001b[0m \u001b[1;33m%\u001b[0m \u001b[0mbatch_to_avg\u001b[0m \u001b[1;33m==\u001b[0m \u001b[1;36m0\u001b[0m\u001b[1;33m:\u001b[0m\u001b[1;33m\u001b[0m\u001b[0m\n\u001b[0;32m     90\u001b[0m \u001b[1;33m\u001b[0m\u001b[0m\n\u001b[1;32m---> 91\u001b[1;33m                 \u001b[0mtorch\u001b[0m\u001b[1;33m.\u001b[0m\u001b[0mnn\u001b[0m\u001b[1;33m.\u001b[0m\u001b[0mutils\u001b[0m\u001b[1;33m.\u001b[0m\u001b[0mclip_grad_norm_\u001b[0m\u001b[1;33m(\u001b[0m\u001b[0mnet\u001b[0m\u001b[1;33m.\u001b[0m\u001b[0mparameters\u001b[0m\u001b[1;33m(\u001b[0m\u001b[1;33m)\u001b[0m\u001b[1;33m,\u001b[0m \u001b[0mclipping\u001b[0m\u001b[1;33m)\u001b[0m\u001b[1;33m\u001b[0m\u001b[0m\n\u001b[0m\u001b[0;32m     92\u001b[0m \u001b[1;33m\u001b[0m\u001b[0m\n\u001b[0;32m     93\u001b[0m                 \u001b[0moptimizer\u001b[0m\u001b[1;33m.\u001b[0m\u001b[0mstep\u001b[0m\u001b[1;33m(\u001b[0m\u001b[1;33m)\u001b[0m\u001b[1;33m\u001b[0m\u001b[0m\n",
      "\u001b[1;32mc:\\users\\rober\\appdata\\local\\programs\\python\\python36\\lib\\site-packages\\torch\\nn\\utils\\clip_grad.py\u001b[0m in \u001b[0;36mclip_grad_norm_\u001b[1;34m(parameters, max_norm, norm_type)\u001b[0m\n\u001b[0;32m     30\u001b[0m         \u001b[0mtotal_norm\u001b[0m \u001b[1;33m=\u001b[0m \u001b[1;36m0\u001b[0m\u001b[1;33m\u001b[0m\u001b[0m\n\u001b[0;32m     31\u001b[0m         \u001b[1;32mfor\u001b[0m \u001b[0mp\u001b[0m \u001b[1;32min\u001b[0m \u001b[0mparameters\u001b[0m\u001b[1;33m:\u001b[0m\u001b[1;33m\u001b[0m\u001b[0m\n\u001b[1;32m---> 32\u001b[1;33m             \u001b[0mparam_norm\u001b[0m \u001b[1;33m=\u001b[0m \u001b[0mp\u001b[0m\u001b[1;33m.\u001b[0m\u001b[0mgrad\u001b[0m\u001b[1;33m.\u001b[0m\u001b[0mdata\u001b[0m\u001b[1;33m.\u001b[0m\u001b[0mnorm\u001b[0m\u001b[1;33m(\u001b[0m\u001b[0mnorm_type\u001b[0m\u001b[1;33m)\u001b[0m\u001b[1;33m\u001b[0m\u001b[0m\n\u001b[0m\u001b[0;32m     33\u001b[0m             \u001b[0mtotal_norm\u001b[0m \u001b[1;33m+=\u001b[0m \u001b[0mparam_norm\u001b[0m\u001b[1;33m.\u001b[0m\u001b[0mitem\u001b[0m\u001b[1;33m(\u001b[0m\u001b[1;33m)\u001b[0m \u001b[1;33m**\u001b[0m \u001b[0mnorm_type\u001b[0m\u001b[1;33m\u001b[0m\u001b[0m\n\u001b[0;32m     34\u001b[0m         \u001b[0mtotal_norm\u001b[0m \u001b[1;33m=\u001b[0m \u001b[0mtotal_norm\u001b[0m \u001b[1;33m**\u001b[0m \u001b[1;33m(\u001b[0m\u001b[1;36m1.\u001b[0m \u001b[1;33m/\u001b[0m \u001b[0mnorm_type\u001b[0m\u001b[1;33m)\u001b[0m\u001b[1;33m\u001b[0m\u001b[0m\n",
      "\u001b[1;32mc:\\users\\rober\\appdata\\local\\programs\\python\\python36\\lib\\site-packages\\torch\\tensor.py\u001b[0m in \u001b[0;36mnorm\u001b[1;34m(self, p, dim, keepdim)\u001b[0m\n\u001b[0;32m    250\u001b[0m     \u001b[1;32mdef\u001b[0m \u001b[0mnorm\u001b[0m\u001b[1;33m(\u001b[0m\u001b[0mself\u001b[0m\u001b[1;33m,\u001b[0m \u001b[0mp\u001b[0m\u001b[1;33m=\u001b[0m\u001b[1;34m\"fro\"\u001b[0m\u001b[1;33m,\u001b[0m \u001b[0mdim\u001b[0m\u001b[1;33m=\u001b[0m\u001b[1;32mNone\u001b[0m\u001b[1;33m,\u001b[0m \u001b[0mkeepdim\u001b[0m\u001b[1;33m=\u001b[0m\u001b[1;32mFalse\u001b[0m\u001b[1;33m)\u001b[0m\u001b[1;33m:\u001b[0m\u001b[1;33m\u001b[0m\u001b[0m\n\u001b[0;32m    251\u001b[0m         \u001b[1;34mr\"\"\"See :func: `torch.norm`\"\"\"\u001b[0m\u001b[1;33m\u001b[0m\u001b[0m\n\u001b[1;32m--> 252\u001b[1;33m         \u001b[1;32mreturn\u001b[0m \u001b[0mtorch\u001b[0m\u001b[1;33m.\u001b[0m\u001b[0mnorm\u001b[0m\u001b[1;33m(\u001b[0m\u001b[0mself\u001b[0m\u001b[1;33m,\u001b[0m \u001b[0mp\u001b[0m\u001b[1;33m,\u001b[0m \u001b[0mdim\u001b[0m\u001b[1;33m,\u001b[0m \u001b[0mkeepdim\u001b[0m\u001b[1;33m)\u001b[0m\u001b[1;33m\u001b[0m\u001b[0m\n\u001b[0m\u001b[0;32m    253\u001b[0m \u001b[1;33m\u001b[0m\u001b[0m\n\u001b[0;32m    254\u001b[0m     \u001b[1;32mdef\u001b[0m \u001b[0mbtrifact\u001b[0m\u001b[1;33m(\u001b[0m\u001b[0mself\u001b[0m\u001b[1;33m,\u001b[0m \u001b[0minfo\u001b[0m\u001b[1;33m=\u001b[0m\u001b[1;32mNone\u001b[0m\u001b[1;33m,\u001b[0m \u001b[0mpivot\u001b[0m\u001b[1;33m=\u001b[0m\u001b[1;32mTrue\u001b[0m\u001b[1;33m)\u001b[0m\u001b[1;33m:\u001b[0m\u001b[1;33m\u001b[0m\u001b[0m\n",
      "\u001b[1;32mc:\\users\\rober\\appdata\\local\\programs\\python\\python36\\lib\\site-packages\\torch\\functional.py\u001b[0m in \u001b[0;36mnorm\u001b[1;34m(input, p, dim, keepdim, out)\u001b[0m\n\u001b[0;32m    713\u001b[0m             \u001b[1;32mreturn\u001b[0m \u001b[0mtorch\u001b[0m\u001b[1;33m.\u001b[0m\u001b[0m_C\u001b[0m\u001b[1;33m.\u001b[0m\u001b[0m_VariableFunctions\u001b[0m\u001b[1;33m.\u001b[0m\u001b[0mfrobenius_norm\u001b[0m\u001b[1;33m(\u001b[0m\u001b[0minput\u001b[0m\u001b[1;33m)\u001b[0m\u001b[1;33m\u001b[0m\u001b[0m\n\u001b[0;32m    714\u001b[0m         \u001b[1;32melif\u001b[0m \u001b[0mp\u001b[0m \u001b[1;33m!=\u001b[0m \u001b[1;34m\"nuc\"\u001b[0m\u001b[1;33m:\u001b[0m\u001b[1;33m\u001b[0m\u001b[0m\n\u001b[1;32m--> 715\u001b[1;33m             \u001b[1;32mreturn\u001b[0m \u001b[0mtorch\u001b[0m\u001b[1;33m.\u001b[0m\u001b[0m_C\u001b[0m\u001b[1;33m.\u001b[0m\u001b[0m_VariableFunctions\u001b[0m\u001b[1;33m.\u001b[0m\u001b[0mnorm\u001b[0m\u001b[1;33m(\u001b[0m\u001b[0minput\u001b[0m\u001b[1;33m,\u001b[0m \u001b[0mp\u001b[0m\u001b[1;33m)\u001b[0m\u001b[1;33m\u001b[0m\u001b[0m\n\u001b[0m\u001b[0;32m    716\u001b[0m \u001b[1;33m\u001b[0m\u001b[0m\n\u001b[0;32m    717\u001b[0m     \u001b[1;32mif\u001b[0m \u001b[0mp\u001b[0m \u001b[1;33m==\u001b[0m \u001b[1;34m\"fro\"\u001b[0m\u001b[1;33m:\u001b[0m\u001b[1;33m\u001b[0m\u001b[0m\n",
      "\u001b[1;31mKeyboardInterrupt\u001b[0m: "
     ]
    }
   ],
   "source": [
    "net = Net1()\n",
    "#optimizer = optim.SGD(net.parameters(), lr=lr, momentum=0.9)  \n",
    "optimizer = optim.Adam(net.parameters(), lr=lr)\n",
    "\n",
    "net.apply(weights_init_normal)\n",
    "#net.apply(weights_init_uniform_rule)\n",
    "\n",
    "#PATH = 'C:\\\\Users\\\\rober\\\\Desktop\\\\RAND_pro\\\\Data\\\\checkpoints\\\\mytraining2.pt'\n",
    "#net.load_state_dict(torch.load(PATH, map_location = device))\n",
    "    \n",
    "a, b, c = fit(X=X2, X_val=X2_val, Y=Y2, Y_val=Y2_val, net=net, optimizer=optimizer, error=m_error, \n",
    "                n_epochs=n_epochs, n_batches=n_batches, batch_to_avg=batch_to_avg, \n",
    "                    ep_to_check=ep_to_check, clipping=clipping, PATH=PATH, device=device, \n",
    "                                            verbose=verbose, min_val_loss = float('inf'))\n",
    "\n",
    "#(PENDIENTE)"
   ]
  }
 ],
 "metadata": {
  "kernelspec": {
   "display_name": "Python 3",
   "language": "python",
   "name": "python3"
  },
  "language_info": {
   "codemirror_mode": {
    "name": "ipython",
    "version": 3
   },
   "file_extension": ".py",
   "mimetype": "text/x-python",
   "name": "python",
   "nbconvert_exporter": "python",
   "pygments_lexer": "ipython3",
   "version": "3.6.6"
  }
 },
 "nbformat": 4,
 "nbformat_minor": 2
}
