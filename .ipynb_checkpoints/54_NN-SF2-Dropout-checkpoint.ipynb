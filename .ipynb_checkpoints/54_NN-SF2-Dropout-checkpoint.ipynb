{
 "cells": [
  {
   "cell_type": "code",
   "execution_count": 11,
   "metadata": {},
   "outputs": [],
   "source": [
    "import os\n",
    "import pandas as pd\n",
    "import numpy as np\n",
    "from sklearn.utils import shuffle\n",
    "import torch.nn as nn\n",
    "import torch\n",
    "import torch.optim as optim\n",
    "import matplotlib.pyplot as plt\n",
    "import torch.nn.functional as F"
   ]
  },
  {
   "cell_type": "code",
   "execution_count": null,
   "metadata": {},
   "outputs": [],
   "source": []
  },
  {
   "cell_type": "code",
   "execution_count": 12,
   "metadata": {},
   "outputs": [],
   "source": [
    "np.random.seed(1232)\n",
    "os.chdir('C:\\\\Users\\\\rober\\\\Desktop\\\\RAND_pro\\\\Data\\\\dep')\n",
    "data = pd.read_csv(\"Rand_train.csv\", sep=',')\n",
    "data_val = pd.read_csv(\"Rand_valid.csv\", sep=',')"
   ]
  },
  {
   "cell_type": "code",
   "execution_count": 13,
   "metadata": {},
   "outputs": [],
   "source": [
    "data.cost = (np.exp(data.cost) - 0.5)*((data.cost != 0) * 1)\n",
    "data_val.cost = (np.exp(data_val.cost) - 0.5)*((data_val.cost != 0) * 1)\n",
    "data = shuffle(data).reset_index(drop=True)\n",
    "data = data.drop(['fmde', 'lxghindx', 'lpi'], axis=1)\n",
    "data_val = data_val.drop(['fmde', 'lxghindx', 'lpi'], axis=1)"
   ]
  },
  {
   "cell_type": "code",
   "execution_count": 14,
   "metadata": {},
   "outputs": [],
   "source": [
    "X = data.iloc[:,1:]\n",
    "Y = data.iloc[:,0]\n",
    "X_val = data_val.iloc[:,1:]\n",
    "Y_val = data_val.iloc[:,0]\n",
    "\n",
    "ranking = np.load('ranking.npy')\n",
    "\n",
    "my_index = X.columns.values[ranking]\n",
    "X2 = X[my_index]\n",
    "X2_val = X_val[my_index]"
   ]
  },
  {
   "cell_type": "code",
   "execution_count": 15,
   "metadata": {},
   "outputs": [],
   "source": [
    "cut = 0\n",
    "y1 = (Y <= cut) * 1\n",
    "y2 = (Y > cut) * (-1) * (-Y)\n",
    "Y2 = np.stack((y1, y2), axis=-1)\n",
    "\n",
    "y1_val = (Y_val <= cut) * 1\n",
    "y2_val = (Y_val > cut) * (-1) * (-Y_val)\n",
    "Y2_val = np.stack((y1_val, y2_val), axis=-1)"
   ]
  },
  {
   "cell_type": "code",
   "execution_count": null,
   "metadata": {},
   "outputs": [],
   "source": []
  },
  {
   "cell_type": "code",
   "execution_count": 16,
   "metadata": {},
   "outputs": [],
   "source": [
    "os.chdir('C:\\\\Users\\\\rober\\\\Desktop\\\\RAND_pro\\\\prog_calc')\n",
    "from fit6_nn import fit, comb_error"
   ]
  },
  {
   "cell_type": "code",
   "execution_count": 17,
   "metadata": {},
   "outputs": [],
   "source": [
    "class Net1(nn.Module):\n",
    "    def __init__(self):\n",
    "        super(Net1, self).__init__()\n",
    "        \n",
    "        self.fc11 = nn.Linear(17, 24, bias = True)\n",
    "        self.fc12 = nn.Linear(24, 1, bias = True)\n",
    "        \n",
    "        self.fc21 = nn.Linear(16, 24, bias=True)\n",
    "        self.fc22 = nn.Linear(24, 5, bias=True)\n",
    "        self.fc23 = nn.Linear(5, 1, bias=True)\n",
    "        \n",
    "        self.drop_layer = nn.Dropout(p=0.02)\n",
    "                \n",
    "    def forward(self, x):        \n",
    "               \n",
    "        x2 = self.fc21(x)\n",
    "        x2 = F.relu(self.fc22(x2)) \n",
    "        x2 = self.fc23(x2)\n",
    "        \n",
    "        x1 = torch.cat((x2, x), 1)\n",
    "        x1 = self.fc11(x1)\n",
    "        x1 = self.drop_layer(x1)\n",
    "        x1 = torch.tanh(x1)\n",
    "        \n",
    "        x1 = torch.sigmoid(self.fc12(x1))        \n",
    "        x2 = torch.exp(x2)        \n",
    "        x3 = torch.cat((x1, x2), 1)\n",
    "        return x3"
   ]
  },
  {
   "cell_type": "code",
   "execution_count": null,
   "metadata": {},
   "outputs": [],
   "source": []
  },
  {
   "cell_type": "code",
   "execution_count": 18,
   "metadata": {},
   "outputs": [],
   "source": [
    "n_epochs = 5000\n",
    "lr = 0.001\n",
    "verbose = 1\n",
    "n_batches = 6\n",
    "batch_to_avg = 2\n",
    "ep_to_check = 10\n",
    "clipping = 0.20\n",
    "sig2 = 950000\n",
    "PATH = 'C:\\\\Users\\\\rober\\\\Desktop\\\\RAND_pro\\\\Data\\\\checkpoints\\\\mytraining11.pt'\n",
    "device = torch.device(\"cuda:0\" if torch.cuda.is_available() else \"cpu\")"
   ]
  },
  {
   "cell_type": "code",
   "execution_count": 19,
   "metadata": {},
   "outputs": [],
   "source": [
    "def m_error(output, target):\n",
    "    return comb_error(output, target, sig2)"
   ]
  },
  {
   "cell_type": "code",
   "execution_count": null,
   "metadata": {},
   "outputs": [
    {
     "name": "stdout",
     "output_type": "stream",
     "text": [
      "Epoch 1: Training Loss: 1.1882403492927551, Validation Loss: 1.3193899393081665\n",
      "Epoch 2: Training Loss: 1.1859925786654155, Validation Loss: 1.314814805984497\n",
      "Epoch 3: Training Loss: 1.1800767580668132, Validation Loss: 1.308499813079834\n",
      "Epoch 4: Training Loss: 1.1748620768388112, Validation Loss: 1.3009841442108154\n",
      "Epoch 5: Training Loss: 1.1667421062787373, Validation Loss: 1.2926658391952515\n",
      "Epoch 6: Training Loss: 1.158872773249944, Validation Loss: 1.2838354110717773\n",
      "Epoch 7: Training Loss: 1.150535782178243, Validation Loss: 1.274705410003662\n",
      "Epoch 8: Training Loss: 1.1426888207594554, Validation Loss: 1.2654292583465576\n",
      "Epoch 9: Training Loss: 1.1327085395654042, Validation Loss: 1.2561172246932983\n",
      "Epoch 10: Training Loss: 1.123949219783147, Validation Loss: 1.2468488216400146\n",
      "Epoch 11: Training Loss: 1.1161368389924367, Validation Loss: 1.2376811504364014\n",
      "New Checkpoint Saved into PATH\n",
      "Epoch 12: Training Loss: 1.1073394119739532, Validation Loss: 1.2286560535430908\n",
      "Epoch 13: Training Loss: 1.0988741020361583, Validation Loss: 1.2198020219802856\n",
      "Epoch 14: Training Loss: 1.0902577340602875, Validation Loss: 1.2111387252807617\n",
      "Epoch 15: Training Loss: 1.0827764471371968, Validation Loss: 1.2026804685592651\n",
      "Epoch 16: Training Loss: 1.0750770370165508, Validation Loss: 1.1944375038146973\n",
      "Epoch 17: Training Loss: 1.0675025184949238, Validation Loss: 1.186415672302246\n",
      "Epoch 18: Training Loss: 1.0604703426361084, Validation Loss: 1.1786190271377563\n",
      "Epoch 19: Training Loss: 1.052857647339503, Validation Loss: 1.1710504293441772\n",
      "Epoch 20: Training Loss: 1.045895169178645, Validation Loss: 1.1637104749679565\n",
      "Epoch 21: Training Loss: 1.039639989535014, Validation Loss: 1.156599521636963\n",
      "New Checkpoint Saved into PATH\n",
      "Epoch 22: Training Loss: 1.0330561101436615, Validation Loss: 1.149717092514038\n",
      "Epoch 23: Training Loss: 1.0262471834818523, Validation Loss: 1.1430633068084717\n",
      "Epoch 24: Training Loss: 1.0207969446976979, Validation Loss: 1.1366358995437622\n",
      "Epoch 25: Training Loss: 1.0151415069897969, Validation Loss: 1.1304330825805664\n",
      "Epoch 26: Training Loss: 1.009317268927892, Validation Loss: 1.1244546175003052\n",
      "Epoch 27: Training Loss: 1.0039969782034557, Validation Loss: 1.1186976432800293\n",
      "Epoch 28: Training Loss: 0.998038113117218, Validation Loss: 1.1131598949432373\n",
      "Epoch 29: Training Loss: 0.9942447543144226, Validation Loss: 1.1078399419784546\n",
      "Epoch 30: Training Loss: 0.9890509943167368, Validation Loss: 1.1027352809906006\n",
      "Epoch 31: Training Loss: 0.985455056031545, Validation Loss: 1.0978437662124634\n",
      "New Checkpoint Saved into PATH\n",
      "Epoch 32: Training Loss: 0.9812378485997518, Validation Loss: 1.0931646823883057\n",
      "Epoch 33: Training Loss: 0.9762451946735382, Validation Loss: 1.0886938571929932\n",
      "Epoch 34: Training Loss: 0.9729345142841339, Validation Loss: 1.0844297409057617\n",
      "Epoch 35: Training Loss: 0.969950666030248, Validation Loss: 1.0803704261779785\n",
      "Epoch 36: Training Loss: 0.9660543104012808, Validation Loss: 1.0765143632888794\n",
      "Epoch 37: Training Loss: 0.9627748827139536, Validation Loss: 1.0728564262390137\n",
      "Epoch 38: Training Loss: 0.9589995841185252, Validation Loss: 1.069394588470459\n",
      "Epoch 39: Training Loss: 0.9565783341725668, Validation Loss: 1.0661265850067139\n",
      "Epoch 40: Training Loss: 0.9536636769771576, Validation Loss: 1.0630497932434082\n",
      "Epoch 41: Training Loss: 0.951630711555481, Validation Loss: 1.060158371925354\n",
      "New Checkpoint Saved into PATH\n",
      "Epoch 42: Training Loss: 0.9487840036551157, Validation Loss: 1.0574495792388916\n",
      "Epoch 43: Training Loss: 0.9465524156888326, Validation Loss: 1.0549187660217285\n",
      "Epoch 44: Training Loss: 0.9450946648915609, Validation Loss: 1.0525598526000977\n",
      "Epoch 45: Training Loss: 0.9434415996074677, Validation Loss: 1.050372838973999\n",
      "Epoch 46: Training Loss: 0.9410111606121063, Validation Loss: 1.0483487844467163\n",
      "Epoch 47: Training Loss: 0.9398978451887766, Validation Loss: 1.0464757680892944\n"
     ]
    }
   ],
   "source": [
    "net = Net1()\n",
    "optimizer = optim.SGD(net.parameters(), lr=lr, momentum=0.9)\n",
    "\n",
    "#PATH = 'C:\\\\Users\\\\rober\\\\Desktop\\\\RAND_pro\\\\Data\\\\checkpoints\\\\mytraining11.pt'\n",
    "#net.load_state_dict(torch.load(PATH, map_location = device))\n",
    "    \n",
    "a, b, c = fit(X=X2, X_val=X2_val, Y=Y2, Y_val=Y2_val, net=net, optimizer=optimizer, error=m_error, \n",
    "                n_epochs=n_epochs, n_batches=n_batches, batch_to_avg=batch_to_avg, \n",
    "                    ep_to_check=ep_to_check, clipping=clipping, PATH=PATH, device=device, \n",
    "                                            verbose=verbose, min_val_loss = float('inf'))"
   ]
  },
  {
   "cell_type": "code",
   "execution_count": null,
   "metadata": {},
   "outputs": [],
   "source": []
  },
  {
   "cell_type": "code",
   "execution_count": null,
   "metadata": {},
   "outputs": [],
   "source": []
  },
  {
   "cell_type": "code",
   "execution_count": null,
   "metadata": {},
   "outputs": [],
   "source": []
  },
  {
   "cell_type": "code",
   "execution_count": null,
   "metadata": {},
   "outputs": [],
   "source": [
    "PATH = 'C:\\\\Users\\\\rober\\\\Desktop\\\\RAND_pro\\\\Data\\\\checkpoints\\\\mytraining11.pt'\n",
    "device = torch.device('cpu')\n",
    "net = Net1()\n",
    "net.load_state_dict(torch.load(PATH, map_location = device))"
   ]
  },
  {
   "cell_type": "code",
   "execution_count": null,
   "metadata": {},
   "outputs": [],
   "source": [
    "with torch.no_grad():\n",
    "    val_inputs = torch.FloatTensor(X2_val.values)\n",
    "    val_labels = torch.FloatTensor(Y2_val)\n",
    "    val_inputs, val_labels = val_inputs.to(device), val_labels.to(device)\n",
    "    val_outputs = net.forward(val_inputs)\n",
    "    val_loss = m_error(val_outputs, val_labels) \n",
    "    print(val_loss.item())"
   ]
  },
  {
   "cell_type": "code",
   "execution_count": null,
   "metadata": {},
   "outputs": [],
   "source": [
    "val_outputs"
   ]
  },
  {
   "cell_type": "code",
   "execution_count": null,
   "metadata": {},
   "outputs": [],
   "source": [
    "val_labels"
   ]
  },
  {
   "cell_type": "code",
   "execution_count": null,
   "metadata": {},
   "outputs": [],
   "source": [
    "val_outputs = val_outputs.numpy()\n",
    "val_labels = val_labels.numpy()\n",
    "y_scores = val_outputs[:,0]\n",
    "y_real = val_labels[:,0]"
   ]
  },
  {
   "cell_type": "code",
   "execution_count": null,
   "metadata": {},
   "outputs": [],
   "source": [
    "from sklearn.metrics import roc_curve, auc\n",
    "import matplotlib.pyplot as plt"
   ]
  },
  {
   "cell_type": "code",
   "execution_count": null,
   "metadata": {},
   "outputs": [],
   "source": [
    "def plot_roc_curve(fpr, tpr, label=None):\n",
    "    \"\"\"\n",
    "    The ROC curve, modified from \n",
    "    Hands-On Machine learning with Scikit-Learn and TensorFlow; p.91\n",
    "    \"\"\"\n",
    "    plt.figure(figsize=(8,8))\n",
    "    plt.title('ROC Curve')\n",
    "    plt.plot(fpr, tpr, linewidth=2, label=label)\n",
    "    plt.plot([0, 1], [0, 1], 'k--')\n",
    "    plt.axis([-0.005, 1, 0, 1.005])\n",
    "    plt.xticks(np.arange(0,1, 0.05), rotation=90)\n",
    "    plt.xlabel(\"False Positive Rate\")\n",
    "    plt.ylabel(\"True Positive Rate (Recall)\")\n",
    "    plt.legend(loc='best')"
   ]
  },
  {
   "cell_type": "code",
   "execution_count": null,
   "metadata": {},
   "outputs": [],
   "source": [
    "fpr, tpr, auc_thresholds = roc_curve(y_real, y_scores)\n",
    "print(auc(fpr, tpr)) # AUC of ROC\n",
    "plot_roc_curve(fpr, tpr, 'recall_optimized')"
   ]
  },
  {
   "cell_type": "code",
   "execution_count": null,
   "metadata": {},
   "outputs": [],
   "source": []
  },
  {
   "cell_type": "code",
   "execution_count": null,
   "metadata": {},
   "outputs": [],
   "source": [
    "y = val_labels[:,1][val_labels[:,1]>0]\n",
    "yhat = val_outputs[:,1][val_labels[:,1]>0]"
   ]
  },
  {
   "cell_type": "code",
   "execution_count": null,
   "metadata": {},
   "outputs": [],
   "source": [
    "RMSE = np.sqrt(np.mean((y - yhat)**2))\n",
    "RMSE"
   ]
  },
  {
   "cell_type": "code",
   "execution_count": null,
   "metadata": {},
   "outputs": [],
   "source": []
  },
  {
   "cell_type": "code",
   "execution_count": null,
   "metadata": {},
   "outputs": [],
   "source": [
    "y = np.array(Y_val)  #so we can tune the cut point\n",
    "p = val_outputs[:,0]\n",
    "f2 = val_outputs[:,1]\n",
    "yhat = (1-p)*f2"
   ]
  },
  {
   "cell_type": "code",
   "execution_count": null,
   "metadata": {},
   "outputs": [],
   "source": [
    "RMSE = np.sqrt(np.mean((y - yhat)**2))\n",
    "RMSE"
   ]
  },
  {
   "cell_type": "code",
   "execution_count": null,
   "metadata": {},
   "outputs": [],
   "source": [
    "print(np.cov(y, p))"
   ]
  },
  {
   "cell_type": "code",
   "execution_count": null,
   "metadata": {},
   "outputs": [],
   "source": [
    "print(np.cov(f2, p))"
   ]
  },
  {
   "cell_type": "code",
   "execution_count": null,
   "metadata": {},
   "outputs": [],
   "source": []
  }
 ],
 "metadata": {
  "kernelspec": {
   "display_name": "Python 3",
   "language": "python",
   "name": "python3"
  },
  "language_info": {
   "codemirror_mode": {
    "name": "ipython",
    "version": 3
   },
   "file_extension": ".py",
   "mimetype": "text/x-python",
   "name": "python",
   "nbconvert_exporter": "python",
   "pygments_lexer": "ipython3",
   "version": "3.6.6"
  }
 },
 "nbformat": 4,
 "nbformat_minor": 2
}
