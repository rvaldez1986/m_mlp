{
 "cells": [
  {
   "cell_type": "code",
   "execution_count": null,
   "metadata": {},
   "outputs": [],
   "source": [
    "import os\n",
    "os.chdir('C:\\\\Users\\\\rober\\\\Desktop\\\\Humana_2\\\\prog_calc')\n",
    "import pandas as pd\n",
    "import numpy as np\n",
    "from sklearn.utils import shuffle\n",
    "import torch\n",
    "import matplotlib.pyplot as plt\n",
    "import seaborn as sns\n",
    "\n",
    "from fit2_nn import fit"
   ]
  },
  {
   "cell_type": "code",
   "execution_count": null,
   "metadata": {},
   "outputs": [],
   "source": [
    "np.random.seed(1232)\n",
    "torch.manual_seed(0)\n",
    "\n",
    "os.chdir('C:\\\\Users\\\\rober\\\\Desktop\\\\Humana_2\\\\Data_1\\\\nuevas')\n",
    "data = pd.read_csv(\"BASE_TRAIN.csv\", sep=',', encoding = \"ISO-8859-1\")\n",
    "data_val = pd.read_csv(\"BASE_VALID.csv\", sep=',', encoding = \"ISO-8859-1\")\n",
    "\n",
    "data = shuffle(data).reset_index(drop=True)\n",
    "data.head(3)"
   ]
  },
  {
   "cell_type": "markdown",
   "metadata": {},
   "source": [
    "## Pre Feature Selection"
   ]
  },
  {
   "cell_type": "code",
   "execution_count": null,
   "metadata": {},
   "outputs": [],
   "source": [
    "import statsmodels.api as sm\n",
    "from sklearn.ensemble import RandomForestRegressor"
   ]
  },
  {
   "cell_type": "code",
   "execution_count": null,
   "metadata": {},
   "outputs": [],
   "source": [
    "X = data.iloc[:,1:]\n",
    "Y = data.iloc[:,0]\n",
    "print(X.shape);print('\\n');print(Y.shape)"
   ]
  },
  {
   "cell_type": "code",
   "execution_count": null,
   "metadata": {},
   "outputs": [],
   "source": [
    "X_val = data_val.iloc[:,1:]\n",
    "Y_val = data_val.iloc[:,0]\n",
    "print(X_val.shape);print('\\n');print(Y_val.shape)"
   ]
  },
  {
   "cell_type": "code",
   "execution_count": null,
   "metadata": {},
   "outputs": [],
   "source": [
    "alpha = 0.10\n",
    "model = sm.OLS(Y, X).fit_regularized(method='elastic_net', alpha=alpha, L1_wt=1)"
   ]
  },
  {
   "cell_type": "code",
   "execution_count": null,
   "metadata": {},
   "outputs": [],
   "source": [
    "subset = model.params[model.params>0]\n",
    "print('With alpha = {0}, we end up with {1} variables'.format(alpha, len(subset)))"
   ]
  },
  {
   "cell_type": "code",
   "execution_count": null,
   "metadata": {},
   "outputs": [],
   "source": []
  },
  {
   "cell_type": "code",
   "execution_count": null,
   "metadata": {},
   "outputs": [],
   "source": [
    "rf_regressor = RandomForestRegressor(n_estimators = 300 ,  random_state = 0, n_jobs = -1, verbose=1)\n",
    "rf_regressor.fit(X,Y)"
   ]
  },
  {
   "cell_type": "code",
   "execution_count": null,
   "metadata": {},
   "outputs": [],
   "source": [
    "ranking = np.argsort(-rf_regressor.feature_importances_)\n",
    "f, ax = plt.subplots(figsize=(15, 100))\n",
    "sns.barplot(x=rf_regressor.feature_importances_[ranking[:100]], y=X.columns.values[ranking[:100]], orient='h')\n",
    "ax.set_xlabel(\"feature importance\")\n",
    "plt.tight_layout()\n",
    "plt.show()"
   ]
  },
  {
   "cell_type": "code",
   "execution_count": null,
   "metadata": {},
   "outputs": [],
   "source": [
    "#np.save('ranking.npy', ranking)\n",
    "ranking = np.load('ranking.npy')"
   ]
  },
  {
   "cell_type": "code",
   "execution_count": null,
   "metadata": {},
   "outputs": [],
   "source": [
    "#my_index = subset.index\n",
    "my_index = X.columns.values[ranking[:100]]\n",
    "X2 = X[my_index]\n",
    "X2_val = X_val[my_index]"
   ]
  },
  {
   "cell_type": "code",
   "execution_count": null,
   "metadata": {},
   "outputs": [],
   "source": [
    "cut = 0\n",
    "y1 = (Y <= cut) * 1\n",
    "y2 = (Y > cut) * (-1) * (-Y)\n",
    "Y2 = np.stack((y1, y2), axis=-1)\n",
    "Y2.view()"
   ]
  },
  {
   "cell_type": "code",
   "execution_count": null,
   "metadata": {},
   "outputs": [],
   "source": [
    "y1_val = (Y_val <= cut) * 1\n",
    "y2_val = (Y_val > cut) * (-1) * (-Y_val)\n",
    "Y2_val = np.stack((y1_val, y2_val), axis=-1)\n",
    "Y2_val.view()"
   ]
  },
  {
   "cell_type": "markdown",
   "metadata": {},
   "source": [
    "## Run the model"
   ]
  },
  {
   "cell_type": "code",
   "execution_count": null,
   "metadata": {},
   "outputs": [],
   "source": [
    "import torch.nn as nn\n",
    "import torch.nn.functional as F\n",
    "\n",
    "\n",
    "class Net(nn.Module):\n",
    "    def __init__(self):\n",
    "        super(Net, self).__init__()\n",
    "        self.fc1 = nn.Linear(100, 100)\n",
    "        self.fc2 = nn.Linear(100, 50)\n",
    "        self.fc3 = nn.Linear(50, 10)\n",
    "        self.fc4 = nn.Linear(10, 5)\n",
    "        self.fc5 = nn.Linear(5, 2)\n",
    "        \n",
    "    def disc_activation(self, h):\n",
    "        v1 = torch.sigmoid(h[:,0])\n",
    "        v2 = h[:,1]\n",
    "        return torch.stack((v1, v2), dim=1)\n",
    "                \n",
    "    def forward(self, x):\n",
    "        x = F.relu(self.fc1(x))\n",
    "        x = F.relu(self.fc2(x))\n",
    "        x = F.relu(self.fc3(x))\n",
    "        x = F.relu(self.fc4(x))\n",
    "        x = self.disc_activation(self.fc5(x))\n",
    "        return x"
   ]
  },
  {
   "cell_type": "code",
   "execution_count": null,
   "metadata": {},
   "outputs": [],
   "source": [
    "def comb_error(output, target):\n",
    "    output = (output + 0.0001)*0.999\n",
    "    logErr1 = -1 * torch.log(output) * target[:,0].view(1,-1).t()\n",
    "    logErr2 = -1 * torch.log(1 - output) * (1 - target[:,0].view(1,-1)).t()\n",
    "    mseErr = torch.pow(target - output, 2) * (1 - target[:,0].view(1,-1)).t()\n",
    "    return (1/output.shape[0]) * (torch.sum(logErr1,dim=0)[0] + torch.sum(logErr2,dim=0)[0] + torch.sum(mseErr,dim=0)[1])   "
   ]
  },
  {
   "cell_type": "code",
   "execution_count": null,
   "metadata": {},
   "outputs": [],
   "source": [
    "n_epochs = 150\n",
    "batch_size = 5000\n",
    "iter_to_avg = 150\n",
    "lr = 0.1\n",
    "clipping = 0.05\n",
    "PATH = 'C:\\\\Users\\\\rober\\\\Desktop\\\\Humana_2\\\\Checkpoints\\\\mytraining2.pt'\n",
    "device = torch.device(\"cuda:0\" if torch.cuda.is_available() else \"cpu\")\n",
    "#device = torch.device(\"cpu\")"
   ]
  },
  {
   "cell_type": "code",
   "execution_count": null,
   "metadata": {},
   "outputs": [],
   "source": [
    "import torch.optim as optim\n",
    "\n",
    "net = Net()\n",
    "optimizer = optim.Adam(net.parameters(), lr=lr)"
   ]
  },
  {
   "cell_type": "code",
   "execution_count": null,
   "metadata": {},
   "outputs": [],
   "source": [
    "fit(X2, X2_val, Y2, Y2_val, net, optimizer, comb_error, n_epochs, \n",
    "            batch_size, iter_to_avg, lr, clipping, PATH, device)"
   ]
  },
  {
   "cell_type": "code",
   "execution_count": null,
   "metadata": {},
   "outputs": [],
   "source": [
    "                \n",
    "Epoch 7: Training Loss: 3.7234174275398253, Validation Loss: 2.019044876098633 (100, 150) (150, 50) lr = 0.01 (grad clipping = 0.25)                \n",
    "\n"
   ]
  },
  {
   "cell_type": "code",
   "execution_count": null,
   "metadata": {},
   "outputs": [],
   "source": [
    "import matplotlib.pyplot as plt\n",
    "plt.plot(losses)\n",
    "plt.show()"
   ]
  },
  {
   "cell_type": "code",
   "execution_count": null,
   "metadata": {},
   "outputs": [],
   "source": []
  },
  {
   "cell_type": "code",
   "execution_count": null,
   "metadata": {},
   "outputs": [],
   "source": []
  },
  {
   "cell_type": "code",
   "execution_count": null,
   "metadata": {},
   "outputs": [],
   "source": []
  },
  {
   "cell_type": "code",
   "execution_count": null,
   "metadata": {},
   "outputs": [],
   "source": []
  }
 ],
 "metadata": {
  "kernelspec": {
   "display_name": "Python 3",
   "language": "python",
   "name": "python3"
  },
  "language_info": {
   "codemirror_mode": {
    "name": "ipython",
    "version": 3
   },
   "file_extension": ".py",
   "mimetype": "text/x-python",
   "name": "python",
   "nbconvert_exporter": "python",
   "pygments_lexer": "ipython3",
   "version": "3.6.6"
  }
 },
 "nbformat": 4,
 "nbformat_minor": 2
}
