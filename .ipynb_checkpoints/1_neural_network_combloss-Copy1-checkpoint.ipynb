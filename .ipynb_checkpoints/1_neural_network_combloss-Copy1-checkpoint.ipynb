{
 "cells": [
  {
   "cell_type": "code",
   "execution_count": 30,
   "metadata": {},
   "outputs": [],
   "source": [
    "import os\n",
    "import pandas as pd\n",
    "import numpy as np\n",
    "from sklearn.utils import shuffle\n",
    "import torch\n",
    "import matplotlib.pyplot as plt\n",
    "import seaborn as sns\n",
    "import torch.optim as optim\n",
    "\n",
    "from fit2_nn import fit"
   ]
  },
  {
   "cell_type": "code",
   "execution_count": 31,
   "metadata": {},
   "outputs": [
    {
     "data": {
      "text/html": [
       "<div>\n",
       "<style scoped>\n",
       "    .dataframe tbody tr th:only-of-type {\n",
       "        vertical-align: middle;\n",
       "    }\n",
       "\n",
       "    .dataframe tbody tr th {\n",
       "        vertical-align: top;\n",
       "    }\n",
       "\n",
       "    .dataframe thead th {\n",
       "        text-align: right;\n",
       "    }\n",
       "</style>\n",
       "<table border=\"1\" class=\"dataframe\">\n",
       "  <thead>\n",
       "    <tr style=\"text-align: right;\">\n",
       "      <th></th>\n",
       "      <th>cost</th>\n",
       "      <th>cost_prev</th>\n",
       "      <th>lxage</th>\n",
       "      <th>ldisea</th>\n",
       "      <th>lmhi</th>\n",
       "      <th>lxghindx</th>\n",
       "      <th>leducdec</th>\n",
       "      <th>year</th>\n",
       "      <th>logc</th>\n",
       "      <th>lpi</th>\n",
       "      <th>fmde</th>\n",
       "      <th>linc</th>\n",
       "      <th>lfam</th>\n",
       "      <th>physlm</th>\n",
       "      <th>idp</th>\n",
       "      <th>female</th>\n",
       "      <th>black</th>\n",
       "      <th>hlthg</th>\n",
       "      <th>hlthf</th>\n",
       "      <th>hlthp</th>\n",
       "    </tr>\n",
       "  </thead>\n",
       "  <tbody>\n",
       "    <tr>\n",
       "      <th>0</th>\n",
       "      <td>3.512429</td>\n",
       "      <td>-0.693147</td>\n",
       "      <td>3.296356</td>\n",
       "      <td>2.001480</td>\n",
       "      <td>4.212128</td>\n",
       "      <td>3.921973</td>\n",
       "      <td>2.351375</td>\n",
       "      <td>2</td>\n",
       "      <td>0.000000</td>\n",
       "      <td>0.000000</td>\n",
       "      <td>0.000000</td>\n",
       "      <td>8.557826</td>\n",
       "      <td>0.693147</td>\n",
       "      <td>0.0</td>\n",
       "      <td>0</td>\n",
       "      <td>1</td>\n",
       "      <td>0.0</td>\n",
       "      <td>1</td>\n",
       "      <td>0</td>\n",
       "      <td>0</td>\n",
       "    </tr>\n",
       "    <tr>\n",
       "      <th>1</th>\n",
       "      <td>-0.693147</td>\n",
       "      <td>-0.693147</td>\n",
       "      <td>3.513668</td>\n",
       "      <td>2.379546</td>\n",
       "      <td>4.295924</td>\n",
       "      <td>4.368181</td>\n",
       "      <td>2.525729</td>\n",
       "      <td>2</td>\n",
       "      <td>4.564348</td>\n",
       "      <td>6.109248</td>\n",
       "      <td>6.160541</td>\n",
       "      <td>8.489571</td>\n",
       "      <td>1.098612</td>\n",
       "      <td>0.0</td>\n",
       "      <td>1</td>\n",
       "      <td>1</td>\n",
       "      <td>1.0</td>\n",
       "      <td>0</td>\n",
       "      <td>1</td>\n",
       "      <td>0</td>\n",
       "    </tr>\n",
       "    <tr>\n",
       "      <th>2</th>\n",
       "      <td>1.186704</td>\n",
       "      <td>4.419611</td>\n",
       "      <td>3.906938</td>\n",
       "      <td>2.884801</td>\n",
       "      <td>4.499810</td>\n",
       "      <td>4.354333</td>\n",
       "      <td>2.917771</td>\n",
       "      <td>2</td>\n",
       "      <td>0.000000</td>\n",
       "      <td>0.000000</td>\n",
       "      <td>0.000000</td>\n",
       "      <td>9.241705</td>\n",
       "      <td>1.386294</td>\n",
       "      <td>0.0</td>\n",
       "      <td>0</td>\n",
       "      <td>0</td>\n",
       "      <td>0.0</td>\n",
       "      <td>0</td>\n",
       "      <td>0</td>\n",
       "      <td>0</td>\n",
       "    </tr>\n",
       "  </tbody>\n",
       "</table>\n",
       "</div>"
      ],
      "text/plain": [
       "       cost  cost_prev     lxage    ldisea      lmhi  lxghindx  leducdec  \\\n",
       "0  3.512429  -0.693147  3.296356  2.001480  4.212128  3.921973  2.351375   \n",
       "1 -0.693147  -0.693147  3.513668  2.379546  4.295924  4.368181  2.525729   \n",
       "2  1.186704   4.419611  3.906938  2.884801  4.499810  4.354333  2.917771   \n",
       "\n",
       "   year      logc       lpi      fmde      linc      lfam  physlm  idp  \\\n",
       "0     2  0.000000  0.000000  0.000000  8.557826  0.693147     0.0    0   \n",
       "1     2  4.564348  6.109248  6.160541  8.489571  1.098612     0.0    1   \n",
       "2     2  0.000000  0.000000  0.000000  9.241705  1.386294     0.0    0   \n",
       "\n",
       "   female  black  hlthg  hlthf  hlthp  \n",
       "0       1    0.0      1      0      0  \n",
       "1       1    1.0      0      1      0  \n",
       "2       0    0.0      0      0      0  "
      ]
     },
     "execution_count": 31,
     "metadata": {},
     "output_type": "execute_result"
    }
   ],
   "source": [
    "os.chdir('C:\\\\Users\\\\rober\\\\Desktop\\\\RAND_pro\\\\Data\\\\dep')\n",
    "np.random.seed(1232)\n",
    "torch.manual_seed(0)\n",
    "\n",
    "data = pd.read_csv(\"Rand_train.csv\", sep=',')\n",
    "data_val = pd.read_csv(\"Rand_valid.csv\", sep=',')\n",
    "\n",
    "data = shuffle(data).reset_index(drop=True)\n",
    "data.head(3)"
   ]
  },
  {
   "cell_type": "markdown",
   "metadata": {},
   "source": [
    "## Pre Feature Selection"
   ]
  },
  {
   "cell_type": "code",
   "execution_count": 32,
   "metadata": {},
   "outputs": [
    {
     "data": {
      "image/png": "[encoded data removed]",
      "text/plain": [
       "<Figure size 432x288 with 2 Axes>"
      ]
     },
     "metadata": {
      "needs_background": "light"
     },
     "output_type": "display_data"
    }
   ],
   "source": [
    "corr = data.corr()\n",
    "fig = plt.figure()\n",
    "ax = fig.add_subplot(111)\n",
    "cax = ax.matshow(corr,cmap='coolwarm', vmin=-1, vmax=1)\n",
    "fig.colorbar(cax)\n",
    "ticks = np.arange(0,len(data.columns),1)\n",
    "ax.set_xticks(ticks)\n",
    "plt.xticks(rotation=90)\n",
    "ax.set_yticks(ticks)\n",
    "ax.set_xticklabels(data.columns)\n",
    "ax.set_yticklabels(data.columns)\n",
    "plt.show()"
   ]
  },
  {
   "cell_type": "markdown",
   "metadata": {},
   "source": [
    "We can see that logc and fmde has high correlation, maybe use only one. Also lxghindx has a hig correlation with physlm. Also lpi has high correlation with fmde and with logc.\n",
    "\n",
    "In conclussion lets first not use fmde, lpi and lxhindx."
   ]
  },
  {
   "cell_type": "code",
   "execution_count": 33,
   "metadata": {},
   "outputs": [],
   "source": [
    "data = data.drop(['fmde', 'lxghindx', 'lpi'], axis=1)"
   ]
  },
  {
   "cell_type": "code",
   "execution_count": 34,
   "metadata": {},
   "outputs": [
    {
     "data": {
      "image/png": "[encoded data removed]",
      "text/plain": [
       "<Figure size 432x288 with 2 Axes>"
      ]
     },
     "metadata": {
      "needs_background": "light"
     },
     "output_type": "display_data"
    }
   ],
   "source": [
    "corr = data.corr()\n",
    "fig = plt.figure()\n",
    "ax = fig.add_subplot(111)\n",
    "cax = ax.matshow(corr,cmap='coolwarm', vmin=-1, vmax=1)\n",
    "fig.colorbar(cax)\n",
    "ticks = np.arange(0,len(data.columns),1)\n",
    "ax.set_xticks(ticks)\n",
    "plt.xticks(rotation=90)\n",
    "ax.set_yticks(ticks)\n",
    "ax.set_xticklabels(data.columns)\n",
    "ax.set_yticklabels(data.columns)\n",
    "plt.show()"
   ]
  },
  {
   "cell_type": "markdown",
   "metadata": {},
   "source": [
    "Now we rank our variables using random forest regressor:"
   ]
  },
  {
   "cell_type": "code",
   "execution_count": 35,
   "metadata": {},
   "outputs": [
    {
     "name": "stdout",
     "output_type": "stream",
     "text": [
      "(6443, 16)\n",
      "(6443,)\n"
     ]
    }
   ],
   "source": [
    "X = data.iloc[:,1:]\n",
    "Y = data.iloc[:,0]\n",
    "print(X.shape);print(Y.shape)"
   ]
  },
  {
   "cell_type": "code",
   "execution_count": 20,
   "metadata": {},
   "outputs": [],
   "source": [
    "from sklearn.ensemble import RandomForestRegressor"
   ]
  },
  {
   "cell_type": "code",
   "execution_count": 22,
   "metadata": {},
   "outputs": [
    {
     "name": "stderr",
     "output_type": "stream",
     "text": [
      "[Parallel(n_jobs=-1)]: Using backend ThreadingBackend with 12 concurrent workers.\n",
      "[Parallel(n_jobs=-1)]: Done  26 tasks      | elapsed:    0.0s\n",
      "[Parallel(n_jobs=-1)]: Done 176 tasks      | elapsed:    0.5s\n",
      "[Parallel(n_jobs=-1)]: Done 300 out of 300 | elapsed:    1.0s finished\n"
     ]
    },
    {
     "data": {
      "text/plain": [
       "RandomForestRegressor(bootstrap=True, criterion='mse', max_depth=None,\n",
       "           max_features='auto', max_leaf_nodes=None,\n",
       "           min_impurity_decrease=0.0, min_impurity_split=None,\n",
       "           min_samples_leaf=1, min_samples_split=2,\n",
       "           min_weight_fraction_leaf=0.0, n_estimators=300, n_jobs=-1,\n",
       "           oob_score=False, random_state=0, verbose=1, warm_start=False)"
      ]
     },
     "execution_count": 22,
     "metadata": {},
     "output_type": "execute_result"
    }
   ],
   "source": [
    "rf_regressor = RandomForestRegressor(n_estimators = 300 ,  random_state = 0, n_jobs = -1, verbose=1)\n",
    "rf_regressor.fit(X,Y)"
   ]
  },
  {
   "cell_type": "code",
   "execution_count": 23,
   "metadata": {},
   "outputs": [
    {
     "data": {
      "image/png": "[encoded data removed]",
      "text/plain": [
       "<Figure size 1080x7200 with 1 Axes>"
      ]
     },
     "metadata": {
      "needs_background": "light"
     },
     "output_type": "display_data"
    }
   ],
   "source": [
    "ranking = np.argsort(-rf_regressor.feature_importances_)\n",
    "f, ax = plt.subplots(figsize=(15, 100))\n",
    "sns.barplot(x=rf_regressor.feature_importances_[ranking], y=X.columns.values[ranking], orient='h')\n",
    "ax.set_xlabel(\"feature importance\")\n",
    "plt.tight_layout()\n",
    "plt.show()"
   ]
  },
  {
   "cell_type": "code",
   "execution_count": 36,
   "metadata": {},
   "outputs": [],
   "source": [
    "#np.save('ranking.npy', ranking)\n",
    "ranking = np.load('ranking.npy')"
   ]
  },
  {
   "cell_type": "markdown",
   "metadata": {},
   "source": [
    "## Prepare Validation and Encode"
   ]
  },
  {
   "cell_type": "code",
   "execution_count": 37,
   "metadata": {},
   "outputs": [],
   "source": [
    "data_val = data_val.drop(['fmde', 'lxghindx', 'lpi'], axis=1)"
   ]
  },
  {
   "cell_type": "code",
   "execution_count": 38,
   "metadata": {},
   "outputs": [
    {
     "name": "stdout",
     "output_type": "stream",
     "text": [
      "(1004, 16)\n",
      "(1004,)\n"
     ]
    }
   ],
   "source": [
    "X_val = data_val.iloc[:,1:]\n",
    "Y_val = data_val.iloc[:,0]\n",
    "print(X_val.shape); print(Y_val.shape)"
   ]
  },
  {
   "cell_type": "code",
   "execution_count": 39,
   "metadata": {},
   "outputs": [
    {
     "data": {
      "text/plain": [
       "array([[0.        , 3.51242903],\n",
       "       [1.        , 0.        ],\n",
       "       [0.        , 1.18670424],\n",
       "       ...,\n",
       "       [0.        , 6.43693484],\n",
       "       [1.        , 0.        ],\n",
       "       [0.        , 3.67368411]])"
      ]
     },
     "execution_count": 39,
     "metadata": {},
     "output_type": "execute_result"
    }
   ],
   "source": [
    "cut = 0\n",
    "y1 = (Y <= cut) * 1\n",
    "y2 = (Y > cut) * (-1) * (-Y)\n",
    "Y2 = np.stack((y1, y2), axis=-1)\n",
    "Y2.view()"
   ]
  },
  {
   "cell_type": "code",
   "execution_count": 40,
   "metadata": {},
   "outputs": [
    {
     "data": {
      "text/plain": [
       "array([[1.        , 0.        ],\n",
       "       [1.        , 0.        ],\n",
       "       [1.        , 0.        ],\n",
       "       ...,\n",
       "       [0.        , 2.4008575 ],\n",
       "       [0.        , 4.73869265],\n",
       "       [1.        , 0.        ]])"
      ]
     },
     "execution_count": 40,
     "metadata": {},
     "output_type": "execute_result"
    }
   ],
   "source": [
    "y1_val = (Y_val <= cut) * 1\n",
    "y2_val = (Y_val > cut) * (-1) * (-Y_val)\n",
    "Y2_val = np.stack((y1_val, y2_val), axis=-1)\n",
    "Y2_val.view()"
   ]
  },
  {
   "cell_type": "markdown",
   "metadata": {},
   "source": [
    "## Define Model and error"
   ]
  },
  {
   "cell_type": "code",
   "execution_count": 12,
   "metadata": {},
   "outputs": [],
   "source": [
    "import torch.nn as nn\n",
    "import torch.nn.functional as F\n",
    "\n",
    "\n",
    "class Net(nn.Module):\n",
    "    def __init__(self, initial, middle, final):\n",
    "        super(Net, self).__init__()\n",
    "        self.fc1 = nn.Linear(initial, middle)\n",
    "        self.fc2 = nn.Linear(middle, final)\n",
    "        self.fc3 = nn.Linear(final, 2)\n",
    "                \n",
    "    def disc_activation(self, h):\n",
    "        v1 = torch.sigmoid(h[:,0])\n",
    "        v2 = h[:,1]\n",
    "        return torch.stack((v1, v2), dim=1)\n",
    "                \n",
    "    def forward(self, x):\n",
    "        x = F.relu(self.fc1(x))\n",
    "        x = F.relu(self.fc2(x))\n",
    "        x = self.disc_activation(self.fc3(x))\n",
    "        return x"
   ]
  },
  {
   "cell_type": "code",
   "execution_count": 39,
   "metadata": {},
   "outputs": [],
   "source": [
    "def comb_error(output, target):\n",
    "    output = (output + 0.0001)*0.999\n",
    "    logErr1 = -1 * torch.log(output) * target[:,0].view(1,-1).t()\n",
    "    logErr2 = -1 * torch.log(1 - output) * (1 - target[:,0].view(1,-1)).t()\n",
    "    mseErr = torch.pow(target - output, 2) * (1 - target[:,0].view(1,-1)).t()\n",
    "    return (1/output.shape[0]) * (torch.sum(logErr1,dim=0)[0] + torch.sum(logErr2,dim=0)[0] + torch.sum(mseErr,dim=0)[1])   "
   ]
  },
  {
   "cell_type": "markdown",
   "metadata": {},
   "source": [
    "## Tune Variables\n",
    "\n",
    "Lets fix the structure to work on shape size:"
   ]
  },
  {
   "cell_type": "code",
   "execution_count": 137,
   "metadata": {},
   "outputs": [],
   "source": [
    "n_epochs = 50\n",
    "batch_size = 3000\n",
    "iter_to_avg = 6\n",
    "lr = 0.01\n",
    "clipping = 0.25\n",
    "verbose = 0\n",
    "PATH = 'C:\\\\Users\\\\rober\\\\Desktop\\\\RAND_pro\\\\Data\\\\checkpoints\\\\mytraining.pt'\n",
    "device = torch.device(\"cuda:0\" if torch.cuda.is_available() else \"cpu\")"
   ]
  },
  {
   "cell_type": "code",
   "execution_count": 138,
   "metadata": {},
   "outputs": [
    {
     "name": "stdout",
     "output_type": "stream",
     "text": [
      "Inside loop: 1.0, done with iter 1 of 20\n",
      "Inside loop: 1.0, done with iter 2 of 20\n",
      "Inside loop: 1.0, done with iter 3 of 20\n",
      "Inside loop: 1.0, done with iter 4 of 20\n",
      "Inside loop: 1.0, done with iter 5 of 20\n",
      "Inside loop: 1.0, done with iter 6 of 20\n",
      "Inside loop: 1.0, done with iter 7 of 20\n",
      "Inside loop: 1.0, done with iter 8 of 20\n",
      "Inside loop: 1.0, done with iter 9 of 20\n",
      "Inside loop: 1.0, done with iter 10 of 20\n",
      "Inside loop: 1.0, done with iter 11 of 20\n",
      "Inside loop: 1.0, done with iter 12 of 20\n",
      "Inside loop: 1.0, done with iter 13 of 20\n",
      "Inside loop: 1.0, done with iter 14 of 20\n",
      "Inside loop: 1.0, done with iter 15 of 20\n",
      "Inside loop: 1.0, done with iter 16 of 20\n",
      "Inside loop: 1.0, done with iter 17 of 20\n",
      "Inside loop: 1.0, done with iter 18 of 20\n",
      "Inside loop: 1.0, done with iter 19 of 20\n",
      "Inside loop: 1.0, done with iter 20 of 20\n",
      "Outside loop, done with iter 1.0 of 8\n",
      "Inside loop: 2.0, done with iter 1 of 20\n",
      "Inside loop: 2.0, done with iter 2 of 20\n",
      "Inside loop: 2.0, done with iter 3 of 20\n",
      "Inside loop: 2.0, done with iter 4 of 20\n",
      "Inside loop: 2.0, done with iter 5 of 20\n",
      "Inside loop: 2.0, done with iter 6 of 20\n",
      "Inside loop: 2.0, done with iter 7 of 20\n",
      "Inside loop: 2.0, done with iter 8 of 20\n",
      "Inside loop: 2.0, done with iter 9 of 20\n",
      "Inside loop: 2.0, done with iter 10 of 20\n",
      "Inside loop: 2.0, done with iter 11 of 20\n",
      "Inside loop: 2.0, done with iter 12 of 20\n",
      "Inside loop: 2.0, done with iter 13 of 20\n",
      "Inside loop: 2.0, done with iter 14 of 20\n",
      "Inside loop: 2.0, done with iter 15 of 20\n",
      "Inside loop: 2.0, done with iter 16 of 20\n",
      "Inside loop: 2.0, done with iter 17 of 20\n",
      "Inside loop: 2.0, done with iter 18 of 20\n",
      "Inside loop: 2.0, done with iter 19 of 20\n",
      "Inside loop: 2.0, done with iter 20 of 20\n",
      "Outside loop, done with iter 2.0 of 8\n",
      "Inside loop: 3.0, done with iter 1 of 20\n",
      "Inside loop: 3.0, done with iter 2 of 20\n",
      "Inside loop: 3.0, done with iter 3 of 20\n",
      "Inside loop: 3.0, done with iter 4 of 20\n",
      "Inside loop: 3.0, done with iter 5 of 20\n",
      "Inside loop: 3.0, done with iter 6 of 20\n",
      "Inside loop: 3.0, done with iter 7 of 20\n",
      "Inside loop: 3.0, done with iter 8 of 20\n",
      "Inside loop: 3.0, done with iter 9 of 20\n",
      "Inside loop: 3.0, done with iter 10 of 20\n",
      "Inside loop: 3.0, done with iter 11 of 20\n",
      "Inside loop: 3.0, done with iter 12 of 20\n",
      "Inside loop: 3.0, done with iter 13 of 20\n",
      "Inside loop: 3.0, done with iter 14 of 20\n",
      "Inside loop: 3.0, done with iter 15 of 20\n",
      "Inside loop: 3.0, done with iter 16 of 20\n",
      "Inside loop: 3.0, done with iter 17 of 20\n",
      "Inside loop: 3.0, done with iter 18 of 20\n",
      "Inside loop: 3.0, done with iter 19 of 20\n",
      "Inside loop: 3.0, done with iter 20 of 20\n",
      "Outside loop, done with iter 3.0 of 8\n",
      "Inside loop: 4.0, done with iter 1 of 20\n",
      "Inside loop: 4.0, done with iter 2 of 20\n",
      "Inside loop: 4.0, done with iter 3 of 20\n",
      "Inside loop: 4.0, done with iter 4 of 20\n",
      "Inside loop: 4.0, done with iter 5 of 20\n",
      "Inside loop: 4.0, done with iter 6 of 20\n",
      "Inside loop: 4.0, done with iter 7 of 20\n",
      "Inside loop: 4.0, done with iter 8 of 20\n",
      "Inside loop: 4.0, done with iter 9 of 20\n",
      "Inside loop: 4.0, done with iter 10 of 20\n",
      "Inside loop: 4.0, done with iter 11 of 20\n",
      "Inside loop: 4.0, done with iter 12 of 20\n",
      "Inside loop: 4.0, done with iter 13 of 20\n",
      "Inside loop: 4.0, done with iter 14 of 20\n",
      "Inside loop: 4.0, done with iter 15 of 20\n",
      "Inside loop: 4.0, done with iter 16 of 20\n",
      "Inside loop: 4.0, done with iter 17 of 20\n",
      "Inside loop: 4.0, done with iter 18 of 20\n",
      "Inside loop: 4.0, done with iter 19 of 20\n",
      "Inside loop: 4.0, done with iter 20 of 20\n",
      "Outside loop, done with iter 4.0 of 8\n",
      "Inside loop: 5.0, done with iter 1 of 20\n",
      "Inside loop: 5.0, done with iter 2 of 20\n",
      "Inside loop: 5.0, done with iter 3 of 20\n",
      "Inside loop: 5.0, done with iter 4 of 20\n",
      "Inside loop: 5.0, done with iter 5 of 20\n",
      "Inside loop: 5.0, done with iter 6 of 20\n",
      "Inside loop: 5.0, done with iter 7 of 20\n",
      "Inside loop: 5.0, done with iter 8 of 20\n",
      "Inside loop: 5.0, done with iter 9 of 20\n",
      "Inside loop: 5.0, done with iter 10 of 20\n",
      "Inside loop: 5.0, done with iter 11 of 20\n",
      "Inside loop: 5.0, done with iter 12 of 20\n",
      "Inside loop: 5.0, done with iter 13 of 20\n",
      "Inside loop: 5.0, done with iter 14 of 20\n",
      "Inside loop: 5.0, done with iter 15 of 20\n",
      "Inside loop: 5.0, done with iter 16 of 20\n",
      "Inside loop: 5.0, done with iter 17 of 20\n",
      "Inside loop: 5.0, done with iter 18 of 20\n",
      "Inside loop: 5.0, done with iter 19 of 20\n",
      "Inside loop: 5.0, done with iter 20 of 20\n",
      "Outside loop, done with iter 5.0 of 8\n",
      "Inside loop: 6.0, done with iter 1 of 20\n",
      "Inside loop: 6.0, done with iter 2 of 20\n",
      "Inside loop: 6.0, done with iter 3 of 20\n",
      "Inside loop: 6.0, done with iter 4 of 20\n",
      "Inside loop: 6.0, done with iter 5 of 20\n",
      "Inside loop: 6.0, done with iter 6 of 20\n",
      "Inside loop: 6.0, done with iter 7 of 20\n",
      "Inside loop: 6.0, done with iter 8 of 20\n",
      "Inside loop: 6.0, done with iter 9 of 20\n",
      "Inside loop: 6.0, done with iter 10 of 20\n",
      "Inside loop: 6.0, done with iter 11 of 20\n",
      "Inside loop: 6.0, done with iter 12 of 20\n",
      "Inside loop: 6.0, done with iter 13 of 20\n",
      "Inside loop: 6.0, done with iter 14 of 20\n",
      "Inside loop: 6.0, done with iter 15 of 20\n",
      "Inside loop: 6.0, done with iter 16 of 20\n",
      "Inside loop: 6.0, done with iter 17 of 20\n",
      "Inside loop: 6.0, done with iter 18 of 20\n",
      "Inside loop: 6.0, done with iter 19 of 20\n",
      "Inside loop: 6.0, done with iter 20 of 20\n",
      "Outside loop, done with iter 6.0 of 8\n",
      "Inside loop: 7.0, done with iter 1 of 20\n",
      "Inside loop: 7.0, done with iter 2 of 20\n",
      "Inside loop: 7.0, done with iter 3 of 20\n",
      "Inside loop: 7.0, done with iter 4 of 20\n",
      "Inside loop: 7.0, done with iter 5 of 20\n",
      "Inside loop: 7.0, done with iter 6 of 20\n",
      "Inside loop: 7.0, done with iter 7 of 20\n",
      "Inside loop: 7.0, done with iter 8 of 20\n",
      "Inside loop: 7.0, done with iter 9 of 20\n",
      "Inside loop: 7.0, done with iter 10 of 20\n",
      "Inside loop: 7.0, done with iter 11 of 20\n",
      "Inside loop: 7.0, done with iter 12 of 20\n",
      "Inside loop: 7.0, done with iter 13 of 20\n",
      "Inside loop: 7.0, done with iter 14 of 20\n",
      "Inside loop: 7.0, done with iter 15 of 20\n",
      "Inside loop: 7.0, done with iter 16 of 20\n",
      "Inside loop: 7.0, done with iter 17 of 20\n",
      "Inside loop: 7.0, done with iter 18 of 20\n",
      "Inside loop: 7.0, done with iter 19 of 20\n",
      "Inside loop: 7.0, done with iter 20 of 20\n",
      "Outside loop, done with iter 7.0 of 8\n",
      "Inside loop: 8.0, done with iter 1 of 20\n",
      "Inside loop: 8.0, done with iter 2 of 20\n",
      "Inside loop: 8.0, done with iter 3 of 20\n",
      "Inside loop: 8.0, done with iter 4 of 20\n",
      "Inside loop: 8.0, done with iter 5 of 20\n",
      "Inside loop: 8.0, done with iter 6 of 20\n",
      "Inside loop: 8.0, done with iter 7 of 20\n",
      "Inside loop: 8.0, done with iter 8 of 20\n",
      "Inside loop: 8.0, done with iter 9 of 20\n",
      "Inside loop: 8.0, done with iter 10 of 20\n",
      "Inside loop: 8.0, done with iter 11 of 20\n",
      "Inside loop: 8.0, done with iter 12 of 20\n",
      "Inside loop: 8.0, done with iter 13 of 20\n",
      "Inside loop: 8.0, done with iter 14 of 20\n",
      "Inside loop: 8.0, done with iter 15 of 20\n",
      "Inside loop: 8.0, done with iter 16 of 20\n",
      "Inside loop: 8.0, done with iter 17 of 20\n",
      "Inside loop: 8.0, done with iter 18 of 20\n",
      "Inside loop: 8.0, done with iter 19 of 20\n",
      "Inside loop: 8.0, done with iter 20 of 20\n",
      "Outside loop, done with iter 8.0 of 8\n"
     ]
    }
   ],
   "source": [
    "errors = np.array([])\n",
    "\n",
    "for i in range(2, 17, 2): \n",
    "    \n",
    "    e = []\n",
    "    \n",
    "    my_index = X.columns.values[ranking[:i]]\n",
    "    X2 = X[my_index]\n",
    "    X2_val = X_val[my_index]\n",
    "    \n",
    "    initial = X2.shape[1]\n",
    "    middle = int(round(initial * 1.5, 0))\n",
    "    final = int(round(middle * (1/3), 0))\n",
    "    \n",
    "    for j in range(20):\n",
    "        \n",
    "        net = Net(initial, middle, final)\n",
    "        optimizer = optim.Adam(net.parameters(), lr=lr)\n",
    "\n",
    "\n",
    "        fit(X2, X2_val, Y2, Y2_val, net, optimizer, comb_error, n_epochs, \n",
    "                    batch_size, iter_to_avg, lr, clipping, PATH, device, verbose)\n",
    "\n",
    "        with torch.no_grad():\n",
    "            \n",
    "            net.load_state_dict(torch.load(PATH))\n",
    "            \n",
    "            val_inputs = torch.FloatTensor(X2_val.values)\n",
    "            val_labels = torch.FloatTensor(Y2_val)\n",
    "            val_inputs, val_labels = val_inputs.to(device), val_labels.to(device)\n",
    "            val_outputs = net.forward(val_inputs)\n",
    "            val_loss = comb_error(val_outputs, val_labels) \n",
    "            e.append(val_loss.item())\n",
    "        \n",
    "        print('Inside loop: {0}, done with iter {1} of {2}'.format(i/2, j+1, 20))\n",
    "        \n",
    "    errors = np.vstack([errors, np.array(e)]) if errors.size else np.array(e)    \n",
    "    print('Outside loop, done with iter {0} of {1}'.format(i/2, 8))"
   ]
  },
  {
   "cell_type": "code",
   "execution_count": 140,
   "metadata": {},
   "outputs": [],
   "source": [
    "#np.save('errors_variables.npy', errors)\n",
    "errors = np.load('errors_variables.npy')"
   ]
  },
  {
   "cell_type": "code",
   "execution_count": 141,
   "metadata": {},
   "outputs": [],
   "source": [
    "x = list(range(2, 17, 2))\n",
    "mean_error = np.mean(errors, axis=1)\n",
    "pos_dif = np.max(errors, axis=1) - mean_error\n",
    "neg_dif = mean_error - np.min(errors, axis=1)\n",
    "std_error = np.std(errors, axis=1)"
   ]
  },
  {
   "cell_type": "code",
   "execution_count": 142,
   "metadata": {},
   "outputs": [
    {
     "data": {
      "text/plain": [
       "Text(0.5, 1.0, 'Variable Tunning')"
      ]
     },
     "execution_count": 142,
     "metadata": {},
     "output_type": "execute_result"
    },
    {
     "data": {
      "image/png": "[encoded data removed]",
      "text/plain": [
       "<Figure size 432x288 with 1 Axes>"
      ]
     },
     "metadata": {
      "needs_background": "light"
     },
     "output_type": "display_data"
    }
   ],
   "source": [
    "plt.figure()\n",
    "plt.errorbar(x, mean_error, yerr=[neg_dif, pos_dif], xerr=None, fmt='--o')\n",
    "plt.title('Variable Tunning')"
   ]
  },
  {
   "cell_type": "markdown",
   "metadata": {},
   "source": [
    "The lowest average is found on 16! Maybe check adding more variables."
   ]
  },
  {
   "cell_type": "markdown",
   "metadata": {},
   "source": [
    "## Tune learning rate"
   ]
  },
  {
   "cell_type": "code",
   "execution_count": 207,
   "metadata": {},
   "outputs": [],
   "source": [
    "n_epochs = 50\n",
    "batch_size = 3000\n",
    "iter_to_avg = 6\n",
    "clipping = 0.25\n",
    "verbose = 0\n",
    "PATH = 'C:\\\\Users\\\\rober\\\\Desktop\\\\RAND_pro\\\\Data\\\\checkpoints\\\\mytraining.pt'\n",
    "device = torch.device(\"cuda:0\" if torch.cuda.is_available() else \"cpu\")"
   ]
  },
  {
   "cell_type": "code",
   "execution_count": 208,
   "metadata": {},
   "outputs": [],
   "source": [
    "my_index = X.columns.values[ranking]\n",
    "X2 = X[my_index]\n",
    "X2_val = X_val[my_index]"
   ]
  },
  {
   "cell_type": "code",
   "execution_count": 209,
   "metadata": {},
   "outputs": [],
   "source": [
    "initial = X2.shape[1]\n",
    "middle = int(round(initial * 1.5, 0))\n",
    "final = int(round(middle * (1/3), 0))"
   ]
  },
  {
   "cell_type": "code",
   "execution_count": 210,
   "metadata": {},
   "outputs": [],
   "source": [
    "lrlist = [0.5, 0.1, 0.05, 0.01, 0.005]\n",
    "counter = 0\n",
    "errors = np.array([])"
   ]
  },
  {
   "cell_type": "code",
   "execution_count": 211,
   "metadata": {},
   "outputs": [
    {
     "name": "stdout",
     "output_type": "stream",
     "text": [
      "1\n",
      "2\n",
      "3\n",
      "4\n",
      "5\n"
     ]
    }
   ],
   "source": [
    "for lr in lrlist:\n",
    "    \n",
    "    e = []\n",
    "\n",
    "    for j in range(20):\n",
    "        \n",
    "        net = Net(initial, middle, final)\n",
    "        optimizer = optim.Adam(net.parameters(), lr=lr)\n",
    "    \n",
    "        fit(X2, X2_val, Y2, Y2_val, net, optimizer, comb_error, n_epochs, \n",
    "                    batch_size, iter_to_avg, lr, clipping, PATH, device, verbose)\n",
    "    \n",
    "        with torch.no_grad():\n",
    "        \n",
    "            net.load_state_dict(torch.load(PATH))\n",
    "        \n",
    "            val_inputs = torch.FloatTensor(X2_val.values)\n",
    "            val_labels = torch.FloatTensor(Y2_val)\n",
    "            val_inputs, val_labels = val_inputs.to(device), val_labels.to(device)\n",
    "            val_outputs = net.forward(val_inputs)\n",
    "            val_loss = comb_error(val_outputs, val_labels) \n",
    "            e.append(val_loss.item())\n",
    "    \n",
    "    errors = np.vstack([errors, np.array(e)]) if errors.size else np.array(e)\n",
    "    counter+=1\n",
    "    print(counter)  "
   ]
  },
  {
   "cell_type": "code",
   "execution_count": 212,
   "metadata": {},
   "outputs": [],
   "source": [
    "x = lrlist\n",
    "mean_error = np.mean(errors, axis=1)\n",
    "pos_dif = np.max(errors, axis=1) - mean_error\n",
    "neg_dif = mean_error - np.min(errors, axis=1)"
   ]
  },
  {
   "cell_type": "code",
   "execution_count": 219,
   "metadata": {},
   "outputs": [
    {
     "data": {
      "text/plain": [
       "Text(0.5, 1.0, 'Learning Rate Tunning')"
      ]
     },
     "execution_count": 219,
     "metadata": {},
     "output_type": "execute_result"
    },
    {
     "data": {
      "image/png": "[encoded data removed]",
      "text/plain": [
       "<Figure size 432x288 with 1 Axes>"
      ]
     },
     "metadata": {
      "needs_background": "light"
     },
     "output_type": "display_data"
    }
   ],
   "source": [
    "plt.figure()\n",
    "plt.errorbar(x[1:], mean_error[1:], yerr=None, xerr=None, fmt='--o')\n",
    "plt.title('Learning Rate Tunning')"
   ]
  },
  {
   "cell_type": "code",
   "execution_count": 221,
   "metadata": {},
   "outputs": [
    {
     "data": {
      "text/plain": [
       "array([1.98825002, 1.99663389, 1.98759794, 1.99772036])"
      ]
     },
     "execution_count": 221,
     "metadata": {},
     "output_type": "execute_result"
    }
   ],
   "source": [
    "np.min(errors, axis=1)[1:][::-1]"
   ]
  },
  {
   "cell_type": "markdown",
   "metadata": {},
   "source": [
    "Lets use 0.05\n",
    "\n",
    "\n",
    "## Tune Shape"
   ]
  },
  {
   "cell_type": "code",
   "execution_count": 7,
   "metadata": {},
   "outputs": [],
   "source": [
    "import torch.nn as nn\n",
    "import torch.nn.functional as F"
   ]
  },
  {
   "cell_type": "code",
   "execution_count": 8,
   "metadata": {},
   "outputs": [],
   "source": [
    "def comb_error(output, target):\n",
    "    output = (output + 0.0001)*0.999\n",
    "    logErr1 = -1 * torch.log(output) * target[:,0].view(1,-1).t()\n",
    "    logErr2 = -1 * torch.log(1 - output) * (1 - target[:,0].view(1,-1)).t()\n",
    "    mseErr = torch.pow(target - output, 2) * (1 - target[:,0].view(1,-1)).t()\n",
    "    return (1/output.shape[0]) * (torch.sum(logErr1,dim=0)[0] + torch.sum(logErr2,dim=0)[0] + torch.sum(mseErr,dim=0)[1])   "
   ]
  },
  {
   "cell_type": "markdown",
   "metadata": {},
   "source": [
    "### First Model:"
   ]
  },
  {
   "cell_type": "code",
   "execution_count": 43,
   "metadata": {},
   "outputs": [],
   "source": [
    "my_index = X.columns.values[ranking]\n",
    "X2 = X[my_index]\n",
    "X2_val = X_val[my_index]"
   ]
  },
  {
   "cell_type": "code",
   "execution_count": 44,
   "metadata": {},
   "outputs": [],
   "source": [
    "n_epochs = 50\n",
    "batch_size = 3000\n",
    "iter_to_avg = 6\n",
    "clipping = 0.25\n",
    "verbose = 0\n",
    "PATH = 'C:\\\\Users\\\\rober\\\\Desktop\\\\RAND_pro\\\\Data\\\\checkpoints\\\\mytraining.pt'\n",
    "device = torch.device(\"cuda:0\" if torch.cuda.is_available() else \"cpu\")"
   ]
  },
  {
   "cell_type": "code",
   "execution_count": 45,
   "metadata": {},
   "outputs": [],
   "source": [
    "class Net0(nn.Module):\n",
    "    def __init__(self, initial):\n",
    "        super(Net0, self).__init__()\n",
    "        self.fc1 = nn.Linear(initial, 2)        \n",
    "                \n",
    "    def disc_activation(self, h):\n",
    "        v1 = torch.sigmoid(h[:,0])\n",
    "        v2 = h[:,1]\n",
    "        return torch.stack((v1, v2), dim=1)\n",
    "                \n",
    "    def forward(self, x):        \n",
    "        x = self.disc_activation(self.fc1(x))\n",
    "        return x"
   ]
  },
  {
   "cell_type": "code",
   "execution_count": 46,
   "metadata": {},
   "outputs": [],
   "source": [
    "lr = 0.05\n",
    "initial = X2.shape[1]"
   ]
  },
  {
   "cell_type": "code",
   "execution_count": 50,
   "metadata": {},
   "outputs": [
    {
     "name": "stdout",
     "output_type": "stream",
     "text": [
      "Done with iter 1 of 20\n",
      "Done with iter 2 of 20\n",
      "Done with iter 3 of 20\n",
      "Done with iter 4 of 20\n",
      "Done with iter 5 of 20\n",
      "Done with iter 6 of 20\n",
      "Done with iter 7 of 20\n",
      "Done with iter 8 of 20\n",
      "Done with iter 9 of 20\n",
      "Done with iter 10 of 20\n",
      "Done with iter 11 of 20\n",
      "Done with iter 12 of 20\n",
      "Done with iter 13 of 20\n",
      "Done with iter 14 of 20\n",
      "Done with iter 15 of 20\n",
      "Done with iter 16 of 20\n",
      "Done with iter 17 of 20\n",
      "Done with iter 18 of 20\n",
      "Done with iter 19 of 20\n",
      "Done with iter 20 of 20\n"
     ]
    }
   ],
   "source": [
    "lossesN0 = []\n",
    "\n",
    "for j in range(20):\n",
    "    \n",
    "    net0 = Net0(initial)\n",
    "    optimizer = optim.Adam(net0.parameters(), lr=lr)\n",
    "    \n",
    "    fit(X2, X2_val, Y2, Y2_val, net0, optimizer, comb_error, n_epochs, \n",
    "                    batch_size, iter_to_avg, lr, clipping, PATH, device, verbose)\n",
    "    \n",
    "    with torch.no_grad():\n",
    "        \n",
    "        net0.load_state_dict(torch.load(PATH))\n",
    "        \n",
    "        val_inputs = torch.FloatTensor(X2_val.values)\n",
    "        val_labels = torch.FloatTensor(Y2_val)\n",
    "        val_inputs, val_labels = val_inputs.to(device), val_labels.to(device)\n",
    "        val_outputs = net0.forward(val_inputs)\n",
    "        val_loss = comb_error(val_outputs, val_labels) \n",
    "        lossesN0.append(val_loss.item())\n",
    "        \n",
    "    print('Done with iter {0} of {1}'.format(j+1, 20))   \n",
    "    "
   ]
  },
  {
   "cell_type": "markdown",
   "metadata": {},
   "source": [
    "### Second Model:"
   ]
  },
  {
   "cell_type": "code",
   "execution_count": 119,
   "metadata": {},
   "outputs": [],
   "source": [
    "class Net1(nn.Module):\n",
    "    def __init__(self, initial, final):\n",
    "        super(Net1, self).__init__()\n",
    "        self.fc1 = nn.Linear(initial, final)\n",
    "        self.fc2 = nn.Linear(final, 2)\n",
    "                \n",
    "    def disc_activation(self, h):\n",
    "        v1 = torch.sigmoid(h[:,0])\n",
    "        v2 = h[:,1]\n",
    "        return torch.stack((v1, v2), dim=1)\n",
    "                \n",
    "    def forward(self, x):\n",
    "        x = F.relu(self.fc1(x))\n",
    "        x = self.disc_activation(self.fc2(x))\n",
    "        return x"
   ]
  },
  {
   "cell_type": "code",
   "execution_count": 120,
   "metadata": {},
   "outputs": [],
   "source": [
    "lr = 0.1\n",
    "initial = X2.shape[1]\n",
    "final = int(round(initial * 1.5, 0)) "
   ]
  },
  {
   "cell_type": "code",
   "execution_count": 121,
   "metadata": {},
   "outputs": [
    {
     "name": "stdout",
     "output_type": "stream",
     "text": [
      "Done with iter 1 of 20\n",
      "Done with iter 2 of 20\n",
      "Done with iter 3 of 20\n",
      "Done with iter 4 of 20\n",
      "Done with iter 5 of 20\n",
      "Done with iter 6 of 20\n",
      "Done with iter 7 of 20\n",
      "Done with iter 8 of 20\n",
      "Done with iter 9 of 20\n",
      "Done with iter 10 of 20\n",
      "Done with iter 11 of 20\n",
      "Done with iter 12 of 20\n",
      "Done with iter 13 of 20\n",
      "Done with iter 14 of 20\n",
      "Done with iter 15 of 20\n",
      "Done with iter 16 of 20\n",
      "Done with iter 17 of 20\n",
      "Done with iter 18 of 20\n",
      "Done with iter 19 of 20\n",
      "Done with iter 20 of 20\n"
     ]
    }
   ],
   "source": [
    "lossesN11 = []\n",
    "\n",
    "for j in range(20):\n",
    "    \n",
    "    net11 = Net1(initial, final)\n",
    "    optimizer = optim.Adam(net11.parameters(), lr=lr)\n",
    "    \n",
    "    fit(X2, X2_val, Y2, Y2_val, net11, optimizer, comb_error, n_epochs, \n",
    "                    batch_size, iter_to_avg, lr, clipping, PATH, device, verbose)\n",
    "    \n",
    "    with torch.no_grad():\n",
    "        \n",
    "        net11.load_state_dict(torch.load(PATH))\n",
    "        \n",
    "        val_inputs = torch.FloatTensor(X2_val.values)\n",
    "        val_labels = torch.FloatTensor(Y2_val)\n",
    "        val_inputs, val_labels = val_inputs.to(device), val_labels.to(device)\n",
    "        val_outputs = net11.forward(val_inputs)\n",
    "        val_loss = comb_error(val_outputs, val_labels) \n",
    "        lossesN11.append(val_loss.item())\n",
    "        \n",
    "    print('Done with iter {0} of {1}'.format(j+1, 20))   \n",
    "    "
   ]
  },
  {
   "cell_type": "code",
   "execution_count": 122,
   "metadata": {},
   "outputs": [],
   "source": [
    "lr = 0.1\n",
    "initial = X2.shape[1]\n",
    "final = int(round(initial * 0.8, 0))  "
   ]
  },
  {
   "cell_type": "code",
   "execution_count": 123,
   "metadata": {},
   "outputs": [
    {
     "name": "stdout",
     "output_type": "stream",
     "text": [
      "Done with iter 1 of 20\n",
      "Done with iter 2 of 20\n",
      "Done with iter 3 of 20\n",
      "Done with iter 4 of 20\n",
      "Done with iter 5 of 20\n",
      "Done with iter 6 of 20\n",
      "Done with iter 7 of 20\n",
      "Done with iter 8 of 20\n",
      "Done with iter 9 of 20\n",
      "Done with iter 10 of 20\n",
      "Done with iter 11 of 20\n",
      "Done with iter 12 of 20\n",
      "Done with iter 13 of 20\n",
      "Done with iter 14 of 20\n",
      "Done with iter 15 of 20\n",
      "Done with iter 16 of 20\n",
      "Done with iter 17 of 20\n",
      "Done with iter 18 of 20\n",
      "Done with iter 19 of 20\n",
      "Done with iter 20 of 20\n"
     ]
    }
   ],
   "source": [
    "lossesN12 = []\n",
    "\n",
    "for j in range(20):\n",
    "    \n",
    "    net12 = Net1(initial, final)\n",
    "    optimizer = optim.Adam(net12.parameters(), lr=lr)\n",
    "    \n",
    "    fit(X2, X2_val, Y2, Y2_val, net12, optimizer, comb_error, n_epochs, \n",
    "                    batch_size, iter_to_avg, lr, clipping, PATH, device, verbose)\n",
    "    \n",
    "    with torch.no_grad():\n",
    "        \n",
    "        net12.load_state_dict(torch.load(PATH))\n",
    "        \n",
    "        val_inputs = torch.FloatTensor(X2_val.values)\n",
    "        val_labels = torch.FloatTensor(Y2_val)\n",
    "        val_inputs, val_labels = val_inputs.to(device), val_labels.to(device)\n",
    "        val_outputs = net12.forward(val_inputs)\n",
    "        val_loss = comb_error(val_outputs, val_labels) \n",
    "        lossesN12.append(val_loss.item())\n",
    "        \n",
    "    print('Done with iter {0} of {1}'.format(j+1, 20))   "
   ]
  },
  {
   "cell_type": "markdown",
   "metadata": {},
   "source": [
    "### Third Model:"
   ]
  },
  {
   "cell_type": "code",
   "execution_count": 134,
   "metadata": {},
   "outputs": [],
   "source": [
    "class Net2(nn.Module):\n",
    "    def __init__(self, initial, middle, final):\n",
    "        super(Net2, self).__init__()\n",
    "        self.fc1 = nn.Linear(initial, middle)\n",
    "        self.fc2 = nn.Linear(middle, final)\n",
    "        self.fc3 = nn.Linear(final, 2)\n",
    "                \n",
    "    def disc_activation(self, h):\n",
    "        v1 = torch.sigmoid(h[:,0])\n",
    "        v2 = h[:,1]\n",
    "        return torch.stack((v1, v2), dim=1)\n",
    "                \n",
    "    def forward(self, x):\n",
    "        x = F.relu(self.fc1(x))\n",
    "        x = F.relu(self.fc2(x))\n",
    "        x = self.disc_activation(self.fc3(x))\n",
    "        return x"
   ]
  },
  {
   "cell_type": "code",
   "execution_count": 142,
   "metadata": {},
   "outputs": [],
   "source": [
    "lr = 0.1\n",
    "initial = X2.shape[1]\n",
    "middle = int(round(initial * 1.5, 0))\n",
    "final = int(round(middle * (1/3), 0))"
   ]
  },
  {
   "cell_type": "code",
   "execution_count": 199,
   "metadata": {},
   "outputs": [
    {
     "name": "stdout",
     "output_type": "stream",
     "text": [
      "Done with iter 1 of 20\n",
      "Done with iter 2 of 20\n",
      "Done with iter 3 of 20\n",
      "Done with iter 4 of 20\n",
      "Done with iter 5 of 20\n",
      "Done with iter 6 of 20\n",
      "Done with iter 7 of 20\n",
      "Done with iter 8 of 20\n",
      "Done with iter 9 of 20\n",
      "Done with iter 10 of 20\n",
      "Done with iter 11 of 20\n",
      "Done with iter 12 of 20\n",
      "Done with iter 13 of 20\n",
      "Done with iter 14 of 20\n",
      "Done with iter 15 of 20\n",
      "Done with iter 16 of 20\n",
      "Done with iter 17 of 20\n",
      "Done with iter 18 of 20\n",
      "Done with iter 19 of 20\n",
      "Done with iter 20 of 20\n"
     ]
    }
   ],
   "source": [
    "lossesN21 = []\n",
    "\n",
    "for j in range(20):\n",
    "    \n",
    "    net21 = Net2(initial, middle, final)\n",
    "    optimizer = optim.Adam(net21.parameters(), lr=lr)\n",
    "    \n",
    "    fit(X2, X2_val, Y2, Y2_val, net21, optimizer, comb_error, n_epochs, \n",
    "                    batch_size, iter_to_avg, lr, clipping, PATH, device, verbose)\n",
    "    \n",
    "    with torch.no_grad():\n",
    "        \n",
    "        net21.load_state_dict(torch.load(PATH))\n",
    "        \n",
    "        val_inputs = torch.FloatTensor(X2_val.values)\n",
    "        val_labels = torch.FloatTensor(Y2_val)\n",
    "        val_inputs, val_labels = val_inputs.to(device), val_labels.to(device)\n",
    "        val_outputs = net21.forward(val_inputs)\n",
    "        val_loss = comb_error(val_outputs, val_labels) \n",
    "        lossesN21.append(val_loss.item())\n",
    "        \n",
    "    print('Done with iter {0} of {1}'.format(j+1, 20))   "
   ]
  },
  {
   "cell_type": "code",
   "execution_count": 200,
   "metadata": {},
   "outputs": [],
   "source": [
    "lr = 0.1\n",
    "initial = X2.shape[1]\n",
    "middle = int(round(initial * 2, 0))\n",
    "final = int(round(middle * (1/4), 0))  "
   ]
  },
  {
   "cell_type": "code",
   "execution_count": 201,
   "metadata": {},
   "outputs": [
    {
     "name": "stdout",
     "output_type": "stream",
     "text": [
      "Done with iter 1 of 20\n",
      "Done with iter 2 of 20\n",
      "Done with iter 3 of 20\n",
      "Done with iter 4 of 20\n",
      "Done with iter 5 of 20\n",
      "Done with iter 6 of 20\n",
      "Done with iter 7 of 20\n",
      "Done with iter 8 of 20\n",
      "Done with iter 9 of 20\n",
      "Done with iter 10 of 20\n",
      "Done with iter 11 of 20\n",
      "Done with iter 12 of 20\n",
      "Done with iter 13 of 20\n",
      "Done with iter 14 of 20\n",
      "Done with iter 15 of 20\n",
      "Done with iter 16 of 20\n",
      "Done with iter 17 of 20\n",
      "Done with iter 18 of 20\n",
      "Done with iter 19 of 20\n",
      "Done with iter 20 of 20\n"
     ]
    }
   ],
   "source": [
    "lossesN22 = []\n",
    "\n",
    "for j in range(20):\n",
    "    \n",
    "    net22 = Net2(initial, middle, final)\n",
    "    optimizer = optim.Adam(net22.parameters(), lr=lr)\n",
    "    \n",
    "    fit(X2, X2_val, Y2, Y2_val, net22, optimizer, comb_error, n_epochs, \n",
    "                    batch_size, iter_to_avg, lr, clipping, PATH, device, verbose)\n",
    "    \n",
    "    with torch.no_grad():\n",
    "        \n",
    "        net22.load_state_dict(torch.load(PATH))\n",
    "        \n",
    "        val_inputs = torch.FloatTensor(X2_val.values)\n",
    "        val_labels = torch.FloatTensor(Y2_val)\n",
    "        val_inputs, val_labels = val_inputs.to(device), val_labels.to(device)\n",
    "        val_outputs = net22.forward(val_inputs)\n",
    "        val_loss = comb_error(val_outputs, val_labels) \n",
    "        lossesN22.append(val_loss.item())\n",
    "        \n",
    "    print('Done with iter {0} of {1}'.format(j+1, 20))   "
   ]
  },
  {
   "cell_type": "markdown",
   "metadata": {},
   "source": [
    "### Fourth Model:"
   ]
  },
  {
   "cell_type": "code",
   "execution_count": 217,
   "metadata": {},
   "outputs": [],
   "source": [
    "class Net3(nn.Module):\n",
    "    def __init__(self, initial, middle1, middle2, final):\n",
    "        super(Net3, self).__init__()\n",
    "        self.fc1 = nn.Linear(initial, middle1)\n",
    "        self.fc2 = nn.Linear(middle1, middle2)\n",
    "        self.fc3 = nn.Linear(middle2, final)\n",
    "        self.fc4 = nn.Linear(final, 2)\n",
    "                \n",
    "    def disc_activation(self, h):\n",
    "        v1 = torch.sigmoid(h[:,0])\n",
    "        v2 = h[:,1]\n",
    "        return torch.stack((v1, v2), dim=1)\n",
    "                \n",
    "    def forward(self, x):\n",
    "        x = F.relu(self.fc1(x))\n",
    "        x = F.relu(self.fc2(x))\n",
    "        x = F.relu(self.fc3(x))        \n",
    "        x = self.disc_activation(self.fc4(x))\n",
    "        return x"
   ]
  },
  {
   "cell_type": "code",
   "execution_count": 239,
   "metadata": {},
   "outputs": [],
   "source": [
    "lr = 0.00001\n",
    "initial = X2.shape[1]\n",
    "middle1 = int(round(initial * 2, 0))\n",
    "middle2 = int(round(middle1 * (1/4), 0))\n",
    "final = int(round(middle2 * (1/4), 0))"
   ]
  },
  {
   "cell_type": "code",
   "execution_count": 240,
   "metadata": {},
   "outputs": [
    {
     "name": "stdout",
     "output_type": "stream",
     "text": [
      "Epoch 1: Training Loss: 46.14824835459391, Validation Loss: 22.82672691345215\n",
      "New Checkpoint Saved into PATH\n",
      "Epoch 2: Training Loss: 46.11629772186279, Validation Loss: 22.809423446655273\n",
      "New Checkpoint Saved into PATH\n",
      "Epoch 3: Training Loss: 46.083929697672524, Validation Loss: 22.791719436645508\n",
      "New Checkpoint Saved into PATH\n",
      "Epoch 4: Training Loss: 46.051103274027504, Validation Loss: 22.77350616455078\n",
      "New Checkpoint Saved into PATH\n",
      "Epoch 5: Training Loss: 46.01767190297445, Validation Loss: 22.75459098815918\n",
      "New Checkpoint Saved into PATH\n",
      "Epoch 6: Training Loss: 45.9835147857666, Validation Loss: 22.734947204589844\n",
      "New Checkpoint Saved into PATH\n",
      "Epoch 7: Training Loss: 45.94849967956543, Validation Loss: 22.714492797851562\n",
      "New Checkpoint Saved into PATH\n",
      "Epoch 8: Training Loss: 45.912510553995766, Validation Loss: 22.693161010742188\n",
      "New Checkpoint Saved into PATH\n",
      "Epoch 9: Training Loss: 45.87534046173096, Validation Loss: 22.670969009399414\n",
      "New Checkpoint Saved into PATH\n",
      "Epoch 10: Training Loss: 45.836728731791176, Validation Loss: 22.64783477783203\n",
      "New Checkpoint Saved into PATH\n",
      "Epoch 11: Training Loss: 45.79657586415609, Validation Loss: 22.62382698059082\n",
      "New Checkpoint Saved into PATH\n",
      "Epoch 12: Training Loss: 45.7547664642334, Validation Loss: 22.599079132080078\n",
      "New Checkpoint Saved into PATH\n",
      "Epoch 13: Training Loss: 45.711439768473305, Validation Loss: 22.573762893676758\n",
      "New Checkpoint Saved into PATH\n",
      "Epoch 14: Training Loss: 45.666482289632164, Validation Loss: 22.547954559326172\n",
      "New Checkpoint Saved into PATH\n",
      "Epoch 15: Training Loss: 45.61984125773112, Validation Loss: 22.5216007232666\n",
      "New Checkpoint Saved into PATH\n",
      "Epoch 16: Training Loss: 45.57178974151611, Validation Loss: 22.494855880737305\n",
      "New Checkpoint Saved into PATH\n",
      "Epoch 17: Training Loss: 45.522531509399414, Validation Loss: 22.46785545349121\n",
      "New Checkpoint Saved into PATH\n",
      "Epoch 18: Training Loss: 45.472378412882485, Validation Loss: 22.4408016204834\n",
      "New Checkpoint Saved into PATH\n",
      "Epoch 19: Training Loss: 45.421528816223145, Validation Loss: 22.41362953186035\n",
      "New Checkpoint Saved into PATH\n",
      "Epoch 20: Training Loss: 45.370118141174316, Validation Loss: 22.386516571044922\n",
      "New Checkpoint Saved into PATH\n",
      "Epoch 21: Training Loss: 45.31831582387289, Validation Loss: 22.35945701599121\n",
      "New Checkpoint Saved into PATH\n",
      "Epoch 22: Training Loss: 45.26619815826416, Validation Loss: 22.33249282836914\n",
      "New Checkpoint Saved into PATH\n",
      "Epoch 23: Training Loss: 45.21391773223877, Validation Loss: 22.305635452270508\n",
      "New Checkpoint Saved into PATH\n",
      "Epoch 24: Training Loss: 45.16154861450195, Validation Loss: 22.278974533081055\n",
      "New Checkpoint Saved into PATH\n",
      "Epoch 25: Training Loss: 45.10918458302816, Validation Loss: 22.252527236938477\n",
      "New Checkpoint Saved into PATH\n",
      "Epoch 26: Training Loss: 45.05697441101074, Validation Loss: 22.226333618164062\n",
      "New Checkpoint Saved into PATH\n",
      "Epoch 27: Training Loss: 45.004899660746254, Validation Loss: 22.200424194335938\n",
      "New Checkpoint Saved into PATH\n",
      "Epoch 28: Training Loss: 44.95298226674398, Validation Loss: 22.174692153930664\n",
      "New Checkpoint Saved into PATH\n",
      "Epoch 29: Training Loss: 44.9012877146403, Validation Loss: 22.149412155151367\n",
      "New Checkpoint Saved into PATH\n",
      "Epoch 30: Training Loss: 44.84987926483154, Validation Loss: 22.12483787536621\n",
      "New Checkpoint Saved into PATH\n",
      "Epoch 31: Training Loss: 44.7987387975057, Validation Loss: 22.101058959960938\n",
      "New Checkpoint Saved into PATH\n",
      "Epoch 32: Training Loss: 44.74793561299642, Validation Loss: 22.077999114990234\n",
      "New Checkpoint Saved into PATH\n",
      "Epoch 33: Training Loss: 44.697520891825356, Validation Loss: 22.0556697845459\n",
      "New Checkpoint Saved into PATH\n",
      "Epoch 34: Training Loss: 44.64772987365723, Validation Loss: 22.034467697143555\n",
      "New Checkpoint Saved into PATH\n",
      "Epoch 35: Training Loss: 44.598780949910484, Validation Loss: 22.014476776123047\n",
      "New Checkpoint Saved into PATH\n",
      "Epoch 36: Training Loss: 44.55070400238037, Validation Loss: 21.99596405029297\n",
      "New Checkpoint Saved into PATH\n",
      "Epoch 37: Training Loss: 44.503549575805664, Validation Loss: 21.97886085510254\n",
      "New Checkpoint Saved into PATH\n",
      "Epoch 38: Training Loss: 44.457530657450356, Validation Loss: 21.963016510009766\n",
      "New Checkpoint Saved into PATH\n",
      "Epoch 39: Training Loss: 44.412815729777016, Validation Loss: 21.94856071472168\n",
      "New Checkpoint Saved into PATH\n",
      "Epoch 40: Training Loss: 44.369815826416016, Validation Loss: 21.935482025146484\n",
      "New Checkpoint Saved into PATH\n",
      "Epoch 41: Training Loss: 44.32879606882731, Validation Loss: 21.92392349243164\n",
      "New Checkpoint Saved into PATH\n",
      "Epoch 42: Training Loss: 44.28976186116537, Validation Loss: 21.913917541503906\n",
      "New Checkpoint Saved into PATH\n",
      "Epoch 43: Training Loss: 44.25301583607992, Validation Loss: 21.904993057250977\n",
      "New Checkpoint Saved into PATH\n",
      "Epoch 44: Training Loss: 44.21895058949789, Validation Loss: 21.897096633911133\n",
      "New Checkpoint Saved into PATH\n",
      "Epoch 45: Training Loss: 44.187432289123535, Validation Loss: 21.89013671875\n",
      "New Checkpoint Saved into PATH\n",
      "Epoch 46: Training Loss: 44.158321698506676, Validation Loss: 21.883981704711914\n",
      "New Checkpoint Saved into PATH\n",
      "Epoch 47: Training Loss: 44.13196245829264, Validation Loss: 21.87849998474121\n",
      "New Checkpoint Saved into PATH\n",
      "Epoch 48: Training Loss: 44.10828844706217, Validation Loss: 21.873512268066406\n",
      "New Checkpoint Saved into PATH\n",
      "Epoch 49: Training Loss: 44.08695697784424, Validation Loss: 21.869020462036133\n",
      "New Checkpoint Saved into PATH\n",
      "Epoch 50: Training Loss: 44.06780401865641, Validation Loss: 21.865068435668945\n",
      "New Checkpoint Saved into PATH\n",
      "Epoch 51: Training Loss: 44.050661404927574, Validation Loss: 21.861534118652344\n",
      "New Checkpoint Saved into PATH\n",
      "Epoch 52: Training Loss: 44.035367012023926, Validation Loss: 21.85834312438965\n",
      "New Checkpoint Saved into PATH\n",
      "Epoch 53: Training Loss: 44.02174059549967, Validation Loss: 21.85527992248535\n",
      "New Checkpoint Saved into PATH\n",
      "Epoch 54: Training Loss: 44.00963560740153, Validation Loss: 21.852462768554688\n",
      "New Checkpoint Saved into PATH\n",
      "Epoch 55: Training Loss: 43.99881935119629, Validation Loss: 21.849851608276367\n",
      "New Checkpoint Saved into PATH\n",
      "Epoch 56: Training Loss: 43.98910172780355, Validation Loss: 21.84739875793457\n",
      "New Checkpoint Saved into PATH\n",
      "Epoch 57: Training Loss: 43.98030376434326, Validation Loss: 21.84508514404297\n",
      "New Checkpoint Saved into PATH\n",
      "Epoch 58: Training Loss: 43.97220706939697, Validation Loss: 21.84286117553711\n",
      "New Checkpoint Saved into PATH\n",
      "Epoch 59: Training Loss: 43.964609464009605, Validation Loss: 21.840761184692383\n",
      "New Checkpoint Saved into PATH\n",
      "Epoch 60: Training Loss: 43.9574613571167, Validation Loss: 21.838808059692383\n",
      "New Checkpoint Saved into PATH\n",
      "Epoch 61: Training Loss: 43.95076115926107, Validation Loss: 21.83693504333496\n",
      "New Checkpoint Saved into PATH\n",
      "Epoch 62: Training Loss: 43.94452381134033, Validation Loss: 21.835107803344727\n",
      "New Checkpoint Saved into PATH\n",
      "Epoch 63: Training Loss: 43.93870321909586, Validation Loss: 21.833337783813477\n",
      "New Checkpoint Saved into PATH\n",
      "Epoch 64: Training Loss: 43.93320496877035, Validation Loss: 21.83161735534668\n",
      "New Checkpoint Saved into PATH\n",
      "Epoch 65: Training Loss: 43.92798296610514, Validation Loss: 21.829940795898438\n",
      "New Checkpoint Saved into PATH\n",
      "Epoch 66: Training Loss: 43.92301559448242, Validation Loss: 21.828311920166016\n",
      "New Checkpoint Saved into PATH\n",
      "Epoch 67: Training Loss: 43.91826629638672, Validation Loss: 21.826711654663086\n",
      "New Checkpoint Saved into PATH\n",
      "Epoch 68: Training Loss: 43.91368293762207, Validation Loss: 21.82512664794922\n",
      "New Checkpoint Saved into PATH\n",
      "Epoch 69: Training Loss: 43.90926933288574, Validation Loss: 21.82356071472168\n",
      "New Checkpoint Saved into PATH\n",
      "Epoch 70: Training Loss: 43.90500132242838, Validation Loss: 21.822021484375\n",
      "New Checkpoint Saved into PATH\n",
      "Epoch 71: Training Loss: 43.90087699890137, Validation Loss: 21.82050132751465\n",
      "New Checkpoint Saved into PATH\n",
      "Epoch 72: Training Loss: 43.89689381917318, Validation Loss: 21.818998336791992\n",
      "New Checkpoint Saved into PATH\n",
      "Epoch 73: Training Loss: 43.893025716145836, Validation Loss: 21.817522048950195\n",
      "New Checkpoint Saved into PATH\n",
      "Epoch 74: Training Loss: 43.889252026875816, Validation Loss: 21.81606674194336\n",
      "New Checkpoint Saved into PATH\n",
      "Epoch 75: Training Loss: 43.88557211558024, Validation Loss: 21.81464385986328\n",
      "New Checkpoint Saved into PATH\n"
     ]
    },
    {
     "name": "stdout",
     "output_type": "stream",
     "text": [
      "Epoch 76: Training Loss: 43.88198947906494, Validation Loss: 21.813232421875\n",
      "New Checkpoint Saved into PATH\n",
      "Epoch 77: Training Loss: 43.878492991129555, Validation Loss: 21.811838150024414\n",
      "New Checkpoint Saved into PATH\n",
      "Epoch 78: Training Loss: 43.87507629394531, Validation Loss: 21.810453414916992\n",
      "New Checkpoint Saved into PATH\n",
      "Epoch 79: Training Loss: 43.87171745300293, Validation Loss: 21.809080123901367\n",
      "New Checkpoint Saved into PATH\n",
      "Epoch 80: Training Loss: 43.86841615041097, Validation Loss: 21.807723999023438\n",
      "New Checkpoint Saved into PATH\n",
      "Epoch 81: Training Loss: 43.86517302195231, Validation Loss: 21.806373596191406\n",
      "New Checkpoint Saved into PATH\n",
      "Epoch 82: Training Loss: 43.86197566986084, Validation Loss: 21.805034637451172\n",
      "New Checkpoint Saved into PATH\n",
      "Epoch 83: Training Loss: 43.85882759094238, Validation Loss: 21.80370330810547\n",
      "New Checkpoint Saved into PATH\n",
      "Epoch 84: Training Loss: 43.85573800404867, Validation Loss: 21.80238914489746\n",
      "New Checkpoint Saved into PATH\n",
      "Epoch 85: Training Loss: 43.852699279785156, Validation Loss: 21.801088333129883\n",
      "New Checkpoint Saved into PATH\n",
      "Epoch 86: Training Loss: 43.84970188140869, Validation Loss: 21.7997989654541\n",
      "New Checkpoint Saved into PATH\n",
      "Epoch 87: Training Loss: 43.846741358439125, Validation Loss: 21.79851531982422\n",
      "New Checkpoint Saved into PATH\n",
      "Epoch 88: Training Loss: 43.84381262461344, Validation Loss: 21.79724884033203\n",
      "New Checkpoint Saved into PATH\n",
      "Epoch 89: Training Loss: 43.84092394510905, Validation Loss: 21.795991897583008\n",
      "New Checkpoint Saved into PATH\n",
      "Epoch 90: Training Loss: 43.838067054748535, Validation Loss: 21.79474449157715\n",
      "New Checkpoint Saved into PATH\n",
      "Epoch 91: Training Loss: 43.83524131774902, Validation Loss: 21.793500900268555\n",
      "New Checkpoint Saved into PATH\n",
      "Epoch 92: Training Loss: 43.83244959513346, Validation Loss: 21.792268753051758\n",
      "New Checkpoint Saved into PATH\n",
      "Epoch 93: Training Loss: 43.82968997955322, Validation Loss: 21.791044235229492\n",
      "New Checkpoint Saved into PATH\n",
      "Epoch 94: Training Loss: 43.82695484161377, Validation Loss: 21.78982162475586\n",
      "New Checkpoint Saved into PATH\n",
      "Epoch 95: Training Loss: 43.82425340016683, Validation Loss: 21.788604736328125\n",
      "New Checkpoint Saved into PATH\n",
      "Epoch 96: Training Loss: 43.82158342997233, Validation Loss: 21.787395477294922\n",
      "New Checkpoint Saved into PATH\n",
      "Epoch 97: Training Loss: 43.818938891092934, Validation Loss: 21.786195755004883\n",
      "New Checkpoint Saved into PATH\n",
      "Epoch 98: Training Loss: 43.81631660461426, Validation Loss: 21.78499984741211\n",
      "New Checkpoint Saved into PATH\n",
      "Epoch 99: Training Loss: 43.813707987467446, Validation Loss: 21.7838077545166\n",
      "New Checkpoint Saved into PATH\n",
      "Epoch 100: Training Loss: 43.81112003326416, Validation Loss: 21.782617568969727\n",
      "New Checkpoint Saved into PATH\n",
      "Epoch 101: Training Loss: 43.80855401357015, Validation Loss: 21.78143882751465\n",
      "New Checkpoint Saved into PATH\n",
      "Epoch 102: Training Loss: 43.80600547790527, Validation Loss: 21.78026008605957\n",
      "New Checkpoint Saved into PATH\n",
      "Epoch 103: Training Loss: 43.80347601572672, Validation Loss: 21.779085159301758\n",
      "New Checkpoint Saved into PATH\n",
      "Epoch 104: Training Loss: 43.80095831553141, Validation Loss: 21.77791976928711\n",
      "New Checkpoint Saved into PATH\n",
      "Epoch 105: Training Loss: 43.7984561920166, Validation Loss: 21.77676010131836\n",
      "New Checkpoint Saved into PATH\n",
      "Epoch 106: Training Loss: 43.79596869150797, Validation Loss: 21.775604248046875\n",
      "New Checkpoint Saved into PATH\n",
      "Epoch 107: Training Loss: 43.79349740346273, Validation Loss: 21.77445411682129\n",
      "New Checkpoint Saved into PATH\n",
      "Epoch 108: Training Loss: 43.7910410563151, Validation Loss: 21.773305892944336\n",
      "New Checkpoint Saved into PATH\n",
      "Epoch 109: Training Loss: 43.788598696390785, Validation Loss: 21.772165298461914\n",
      "New Checkpoint Saved into PATH\n",
      "Epoch 110: Training Loss: 43.78617159525553, Validation Loss: 21.77103042602539\n",
      "New Checkpoint Saved into PATH\n",
      "Epoch 111: Training Loss: 43.78375689188639, Validation Loss: 21.769893646240234\n",
      "New Checkpoint Saved into PATH\n",
      "Epoch 112: Training Loss: 43.78135744730631, Validation Loss: 21.768760681152344\n",
      "New Checkpoint Saved into PATH\n",
      "Epoch 113: Training Loss: 43.77896626790365, Validation Loss: 21.767635345458984\n",
      "New Checkpoint Saved into PATH\n",
      "Epoch 114: Training Loss: 43.776586850484215, Validation Loss: 21.766508102416992\n",
      "New Checkpoint Saved into PATH\n",
      "Epoch 115: Training Loss: 43.77422014872233, Validation Loss: 21.765390396118164\n",
      "New Checkpoint Saved into PATH\n",
      "Epoch 116: Training Loss: 43.77186298370361, Validation Loss: 21.7642765045166\n",
      "New Checkpoint Saved into PATH\n",
      "Epoch 117: Training Loss: 43.76951503753662, Validation Loss: 21.763160705566406\n",
      "New Checkpoint Saved into PATH\n",
      "Epoch 118: Training Loss: 43.76717662811279, Validation Loss: 21.762054443359375\n",
      "New Checkpoint Saved into PATH\n",
      "Epoch 119: Training Loss: 43.76484521230062, Validation Loss: 21.76094627380371\n",
      "New Checkpoint Saved into PATH\n",
      "Epoch 120: Training Loss: 43.762518882751465, Validation Loss: 21.759841918945312\n",
      "New Checkpoint Saved into PATH\n",
      "Epoch 121: Training Loss: 43.760199864705406, Validation Loss: 21.758743286132812\n",
      "New Checkpoint Saved into PATH\n",
      "Epoch 122: Training Loss: 43.757893880208336, Validation Loss: 21.757648468017578\n",
      "New Checkpoint Saved into PATH\n",
      "Epoch 123: Training Loss: 43.75559711456299, Validation Loss: 21.756553649902344\n",
      "New Checkpoint Saved into PATH\n",
      "Epoch 124: Training Loss: 43.75330607096354, Validation Loss: 21.755462646484375\n",
      "New Checkpoint Saved into PATH\n",
      "Epoch 125: Training Loss: 43.75102456410726, Validation Loss: 21.754371643066406\n",
      "New Checkpoint Saved into PATH\n",
      "Epoch 126: Training Loss: 43.74875418345133, Validation Loss: 21.753284454345703\n",
      "New Checkpoint Saved into PATH\n",
      "Epoch 127: Training Loss: 43.74648825327555, Validation Loss: 21.752199172973633\n",
      "New Checkpoint Saved into PATH\n",
      "Epoch 128: Training Loss: 43.74422804514567, Validation Loss: 21.751115798950195\n",
      "New Checkpoint Saved into PATH\n",
      "Epoch 129: Training Loss: 43.741974194844566, Validation Loss: 21.75003433227539\n",
      "New Checkpoint Saved into PATH\n",
      "Epoch 130: Training Loss: 43.739723205566406, Validation Loss: 21.74895477294922\n",
      "New Checkpoint Saved into PATH\n",
      "Epoch 131: Training Loss: 43.73747984568278, Validation Loss: 21.74787712097168\n",
      "New Checkpoint Saved into PATH\n",
      "Epoch 132: Training Loss: 43.73524252573649, Validation Loss: 21.746797561645508\n",
      "New Checkpoint Saved into PATH\n",
      "Epoch 133: Training Loss: 43.733011881510414, Validation Loss: 21.745725631713867\n",
      "New Checkpoint Saved into PATH\n",
      "Epoch 134: Training Loss: 43.73078568776449, Validation Loss: 21.744653701782227\n",
      "New Checkpoint Saved into PATH\n",
      "Epoch 135: Training Loss: 43.728562355041504, Validation Loss: 21.74357795715332\n",
      "New Checkpoint Saved into PATH\n",
      "Epoch 136: Training Loss: 43.726344426472984, Validation Loss: 21.742507934570312\n",
      "New Checkpoint Saved into PATH\n",
      "Epoch 137: Training Loss: 43.72413126627604, Validation Loss: 21.74144172668457\n",
      "New Checkpoint Saved into PATH\n",
      "Epoch 138: Training Loss: 43.72192223866781, Validation Loss: 21.740373611450195\n",
      "New Checkpoint Saved into PATH\n",
      "Epoch 139: Training Loss: 43.7197208404541, Validation Loss: 21.739309310913086\n",
      "New Checkpoint Saved into PATH\n",
      "Epoch 140: Training Loss: 43.71752389272054, Validation Loss: 21.738245010375977\n",
      "New Checkpoint Saved into PATH\n",
      "Epoch 141: Training Loss: 43.715328216552734, Validation Loss: 21.737180709838867\n",
      "New Checkpoint Saved into PATH\n",
      "Epoch 142: Training Loss: 43.71314080556234, Validation Loss: 21.736120223999023\n",
      "New Checkpoint Saved into PATH\n",
      "Epoch 143: Training Loss: 43.710960706075035, Validation Loss: 21.735063552856445\n",
      "New Checkpoint Saved into PATH\n",
      "Epoch 144: Training Loss: 43.70878346761068, Validation Loss: 21.7340030670166\n",
      "New Checkpoint Saved into PATH\n",
      "Epoch 145: Training Loss: 43.706610997517906, Validation Loss: 21.732948303222656\n",
      "New Checkpoint Saved into PATH\n",
      "Epoch 146: Training Loss: 43.70444393157959, Validation Loss: 21.73189353942871\n",
      "New Checkpoint Saved into PATH\n",
      "Epoch 147: Training Loss: 43.702280362447105, Validation Loss: 21.730838775634766\n",
      "New Checkpoint Saved into PATH\n",
      "Epoch 148: Training Loss: 43.700120290120445, Validation Loss: 21.729785919189453\n",
      "New Checkpoint Saved into PATH\n",
      "Epoch 149: Training Loss: 43.697967529296875, Validation Loss: 21.728734970092773\n",
      "New Checkpoint Saved into PATH\n"
     ]
    },
    {
     "name": "stdout",
     "output_type": "stream",
     "text": [
      "Epoch 150: Training Loss: 43.69582335154215, Validation Loss: 21.727685928344727\n",
      "New Checkpoint Saved into PATH\n",
      "Epoch 151: Training Loss: 43.69368235270182, Validation Loss: 21.726642608642578\n",
      "New Checkpoint Saved into PATH\n",
      "Epoch 152: Training Loss: 43.69154771169027, Validation Loss: 21.725597381591797\n",
      "New Checkpoint Saved into PATH\n",
      "Epoch 153: Training Loss: 43.68941116333008, Validation Loss: 21.724557876586914\n",
      "New Checkpoint Saved into PATH\n",
      "Epoch 154: Training Loss: 43.68728065490723, Validation Loss: 21.72351837158203\n",
      "New Checkpoint Saved into PATH\n",
      "Epoch 155: Training Loss: 43.6851536432902, Validation Loss: 21.72247886657715\n",
      "New Checkpoint Saved into PATH\n",
      "Epoch 156: Training Loss: 43.68302917480469, Validation Loss: 21.721439361572266\n",
      "New Checkpoint Saved into PATH\n",
      "Epoch 157: Training Loss: 43.680908838907875, Validation Loss: 21.720401763916016\n",
      "New Checkpoint Saved into PATH\n",
      "Epoch 158: Training Loss: 43.67879136403402, Validation Loss: 21.7193660736084\n",
      "New Checkpoint Saved into PATH\n",
      "Epoch 159: Training Loss: 43.67667325337728, Validation Loss: 21.71833038330078\n",
      "New Checkpoint Saved into PATH\n",
      "Epoch 160: Training Loss: 43.674561182657875, Validation Loss: 21.71729278564453\n",
      "New Checkpoint Saved into PATH\n",
      "Epoch 161: Training Loss: 43.67245133717855, Validation Loss: 21.71626091003418\n",
      "New Checkpoint Saved into PATH\n",
      "Epoch 162: Training Loss: 43.6703405380249, Validation Loss: 21.715227127075195\n",
      "New Checkpoint Saved into PATH\n",
      "Epoch 163: Training Loss: 43.66823641459147, Validation Loss: 21.714197158813477\n",
      "New Checkpoint Saved into PATH\n",
      "Epoch 164: Training Loss: 43.66613642374674, Validation Loss: 21.713165283203125\n",
      "New Checkpoint Saved into PATH\n",
      "Epoch 165: Training Loss: 43.66403738657633, Validation Loss: 21.712135314941406\n",
      "New Checkpoint Saved into PATH\n",
      "Epoch 166: Training Loss: 43.6619447072347, Validation Loss: 21.71110725402832\n",
      "New Checkpoint Saved into PATH\n",
      "Epoch 167: Training Loss: 43.65985234578451, Validation Loss: 21.710081100463867\n",
      "New Checkpoint Saved into PATH\n",
      "Epoch 168: Training Loss: 43.65776220957438, Validation Loss: 21.709049224853516\n",
      "New Checkpoint Saved into PATH\n",
      "Epoch 169: Training Loss: 43.65567525227865, Validation Loss: 21.70802879333496\n",
      "New Checkpoint Saved into PATH\n",
      "Epoch 170: Training Loss: 43.653592109680176, Validation Loss: 21.707000732421875\n",
      "New Checkpoint Saved into PATH\n",
      "Epoch 171: Training Loss: 43.65151023864746, Validation Loss: 21.705976486206055\n",
      "New Checkpoint Saved into PATH\n",
      "Epoch 172: Training Loss: 43.64942773183187, Validation Loss: 21.7049503326416\n",
      "New Checkpoint Saved into PATH\n",
      "Epoch 173: Training Loss: 43.64735190073649, Validation Loss: 21.70393180847168\n",
      "New Checkpoint Saved into PATH\n",
      "Epoch 174: Training Loss: 43.64527861277262, Validation Loss: 21.702909469604492\n",
      "New Checkpoint Saved into PATH\n",
      "Epoch 175: Training Loss: 43.64320373535156, Validation Loss: 21.70189094543457\n",
      "New Checkpoint Saved into PATH\n",
      "Epoch 176: Training Loss: 43.64113108317057, Validation Loss: 21.700870513916016\n",
      "New Checkpoint Saved into PATH\n",
      "Epoch 177: Training Loss: 43.639059702555336, Validation Loss: 21.699851989746094\n",
      "New Checkpoint Saved into PATH\n",
      "Epoch 178: Training Loss: 43.636990229288735, Validation Loss: 21.698829650878906\n",
      "New Checkpoint Saved into PATH\n",
      "Epoch 179: Training Loss: 43.634921391805015, Validation Loss: 21.697813034057617\n",
      "New Checkpoint Saved into PATH\n",
      "Epoch 180: Training Loss: 43.63285732269287, Validation Loss: 21.696800231933594\n",
      "New Checkpoint Saved into PATH\n",
      "Epoch 181: Training Loss: 43.63079325358073, Validation Loss: 21.695781707763672\n",
      "New Checkpoint Saved into PATH\n",
      "Epoch 182: Training Loss: 43.628732999165855, Validation Loss: 21.69476890563965\n",
      "New Checkpoint Saved into PATH\n",
      "Epoch 183: Training Loss: 43.62667306264242, Validation Loss: 21.693750381469727\n",
      "New Checkpoint Saved into PATH\n",
      "Epoch 184: Training Loss: 43.624612172444664, Validation Loss: 21.692737579345703\n",
      "New Checkpoint Saved into PATH\n",
      "Epoch 185: Training Loss: 43.62255605061849, Validation Loss: 21.69172477722168\n",
      "New Checkpoint Saved into PATH\n",
      "Epoch 186: Training Loss: 43.620506286621094, Validation Loss: 21.690711975097656\n",
      "New Checkpoint Saved into PATH\n",
      "Epoch 187: Training Loss: 43.61845715840658, Validation Loss: 21.689701080322266\n",
      "New Checkpoint Saved into PATH\n",
      "Epoch 188: Training Loss: 43.616408030192055, Validation Loss: 21.68868637084961\n",
      "New Checkpoint Saved into PATH\n",
      "Epoch 189: Training Loss: 43.61435731252035, Validation Loss: 21.68767547607422\n",
      "New Checkpoint Saved into PATH\n",
      "Epoch 190: Training Loss: 43.61231390635172, Validation Loss: 21.68666648864746\n",
      "New Checkpoint Saved into PATH\n",
      "Epoch 191: Training Loss: 43.61027145385742, Validation Loss: 21.68565559387207\n",
      "New Checkpoint Saved into PATH\n",
      "Epoch 192: Training Loss: 43.608229637145996, Validation Loss: 21.684648513793945\n",
      "New Checkpoint Saved into PATH\n",
      "Epoch 193: Training Loss: 43.606188456217446, Validation Loss: 21.683637619018555\n",
      "New Checkpoint Saved into PATH\n",
      "Epoch 194: Training Loss: 43.6041456858317, Validation Loss: 21.682626724243164\n",
      "New Checkpoint Saved into PATH\n",
      "Epoch 195: Training Loss: 43.60210673014323, Validation Loss: 21.68161964416504\n",
      "New Checkpoint Saved into PATH\n",
      "Epoch 196: Training Loss: 43.6000706354777, Validation Loss: 21.680614471435547\n",
      "New Checkpoint Saved into PATH\n",
      "Epoch 197: Training Loss: 43.59803771972656, Validation Loss: 21.679611206054688\n",
      "New Checkpoint Saved into PATH\n",
      "Epoch 198: Training Loss: 43.5960054397583, Validation Loss: 21.67860221862793\n",
      "New Checkpoint Saved into PATH\n",
      "Epoch 199: Training Loss: 43.593973795572914, Validation Loss: 21.677595138549805\n",
      "New Checkpoint Saved into PATH\n",
      "Epoch 200: Training Loss: 43.59194405873617, Validation Loss: 21.676589965820312\n",
      "New Checkpoint Saved into PATH\n",
      "Epoch 201: Training Loss: 43.58991845448812, Validation Loss: 21.675586700439453\n",
      "New Checkpoint Saved into PATH\n",
      "Epoch 202: Training Loss: 43.587896982828774, Validation Loss: 21.674583435058594\n",
      "New Checkpoint Saved into PATH\n",
      "Epoch 203: Training Loss: 43.58587678273519, Validation Loss: 21.673582077026367\n",
      "New Checkpoint Saved into PATH\n",
      "Epoch 204: Training Loss: 43.58385817209879, Validation Loss: 21.672576904296875\n",
      "New Checkpoint Saved into PATH\n",
      "Epoch 205: Training Loss: 43.58183797200521, Validation Loss: 21.671573638916016\n",
      "New Checkpoint Saved into PATH\n",
      "Epoch 206: Training Loss: 43.57981872558594, Validation Loss: 21.670570373535156\n",
      "New Checkpoint Saved into PATH\n",
      "Epoch 207: Training Loss: 43.57780170440674, Validation Loss: 21.669572830200195\n",
      "New Checkpoint Saved into PATH\n",
      "Epoch 208: Training Loss: 43.57578690846761, Validation Loss: 21.668567657470703\n",
      "New Checkpoint Saved into PATH\n",
      "Epoch 209: Training Loss: 43.57377243041992, Validation Loss: 21.667570114135742\n",
      "New Checkpoint Saved into PATH\n",
      "Epoch 210: Training Loss: 43.57176113128662, Validation Loss: 21.66657066345215\n",
      "New Checkpoint Saved into PATH\n",
      "Epoch 211: Training Loss: 43.569749196370445, Validation Loss: 21.665573120117188\n",
      "New Checkpoint Saved into PATH\n",
      "Epoch 212: Training Loss: 43.5677375793457, Validation Loss: 21.66457176208496\n",
      "New Checkpoint Saved into PATH\n",
      "Epoch 213: Training Loss: 43.56572469075521, Validation Loss: 21.663570404052734\n",
      "New Checkpoint Saved into PATH\n",
      "Epoch 214: Training Loss: 43.563713709513344, Validation Loss: 21.662572860717773\n",
      "New Checkpoint Saved into PATH\n",
      "Epoch 215: Training Loss: 43.561707178751625, Validation Loss: 21.661575317382812\n",
      "New Checkpoint Saved into PATH\n",
      "Epoch 216: Training Loss: 43.55970160166422, Validation Loss: 21.66057777404785\n",
      "New Checkpoint Saved into PATH\n",
      "Epoch 217: Training Loss: 43.55769443511963, Validation Loss: 21.659578323364258\n",
      "New Checkpoint Saved into PATH\n",
      "Epoch 218: Training Loss: 43.555690129597984, Validation Loss: 21.65858268737793\n",
      "New Checkpoint Saved into PATH\n",
      "Epoch 219: Training Loss: 43.553684870402016, Validation Loss: 21.65758514404297\n",
      "New Checkpoint Saved into PATH\n",
      "Epoch 220: Training Loss: 43.55167738596598, Validation Loss: 21.656587600708008\n",
      "New Checkpoint Saved into PATH\n",
      "Epoch 221: Training Loss: 43.54967371622721, Validation Loss: 21.655593872070312\n",
      "New Checkpoint Saved into PATH\n",
      "Epoch 222: Training Loss: 43.54766877492269, Validation Loss: 21.65459632873535\n",
      "New Checkpoint Saved into PATH\n",
      "Epoch 223: Training Loss: 43.545668284098305, Validation Loss: 21.653602600097656\n",
      "New Checkpoint Saved into PATH\n"
     ]
    },
    {
     "name": "stdout",
     "output_type": "stream",
     "text": [
      "Epoch 224: Training Loss: 43.54366906483968, Validation Loss: 21.652610778808594\n",
      "New Checkpoint Saved into PATH\n",
      "Epoch 225: Training Loss: 43.54166889190674, Validation Loss: 21.6516170501709\n",
      "New Checkpoint Saved into PATH\n",
      "Epoch 226: Training Loss: 43.53966999053955, Validation Loss: 21.650623321533203\n",
      "New Checkpoint Saved into PATH\n",
      "Epoch 227: Training Loss: 43.537671407063804, Validation Loss: 21.649629592895508\n",
      "New Checkpoint Saved into PATH\n",
      "Epoch 228: Training Loss: 43.535672187805176, Validation Loss: 21.64863395690918\n",
      "New Checkpoint Saved into PATH\n",
      "Epoch 229: Training Loss: 43.53367328643799, Validation Loss: 21.64764404296875\n",
      "New Checkpoint Saved into PATH\n",
      "Epoch 230: Training Loss: 43.531673749287926, Validation Loss: 21.64664649963379\n",
      "New Checkpoint Saved into PATH\n",
      "Epoch 231: Training Loss: 43.52967611948649, Validation Loss: 21.64565658569336\n",
      "New Checkpoint Saved into PATH\n",
      "Epoch 232: Training Loss: 43.5276829401652, Validation Loss: 21.644664764404297\n",
      "New Checkpoint Saved into PATH\n",
      "Epoch 233: Training Loss: 43.52569039662679, Validation Loss: 21.643674850463867\n",
      "New Checkpoint Saved into PATH\n",
      "Epoch 234: Training Loss: 43.52369785308838, Validation Loss: 21.642683029174805\n",
      "New Checkpoint Saved into PATH\n",
      "Epoch 235: Training Loss: 43.52170340220133, Validation Loss: 21.641695022583008\n",
      "New Checkpoint Saved into PATH\n",
      "Epoch 236: Training Loss: 43.519712130228676, Validation Loss: 21.640701293945312\n",
      "New Checkpoint Saved into PATH\n",
      "Epoch 237: Training Loss: 43.5177199045817, Validation Loss: 21.639711380004883\n",
      "New Checkpoint Saved into PATH\n",
      "Epoch 238: Training Loss: 43.51572895050049, Validation Loss: 21.638721466064453\n",
      "New Checkpoint Saved into PATH\n",
      "Epoch 239: Training Loss: 43.51373767852783, Validation Loss: 21.637733459472656\n",
      "New Checkpoint Saved into PATH\n",
      "Epoch 240: Training Loss: 43.51174386342367, Validation Loss: 21.636741638183594\n",
      "New Checkpoint Saved into PATH\n",
      "Epoch 241: Training Loss: 43.50975481669108, Validation Loss: 21.63574981689453\n",
      "New Checkpoint Saved into PATH\n",
      "Epoch 242: Training Loss: 43.50776735941569, Validation Loss: 21.634761810302734\n",
      "New Checkpoint Saved into PATH\n",
      "Epoch 243: Training Loss: 43.505781491597496, Validation Loss: 21.633773803710938\n",
      "New Checkpoint Saved into PATH\n",
      "Epoch 244: Training Loss: 43.50379912058512, Validation Loss: 21.632789611816406\n",
      "New Checkpoint Saved into PATH\n",
      "Epoch 245: Training Loss: 43.501810709635414, Validation Loss: 21.631799697875977\n",
      "New Checkpoint Saved into PATH\n",
      "Epoch 246: Training Loss: 43.49982579549154, Validation Loss: 21.630813598632812\n",
      "New Checkpoint Saved into PATH\n",
      "Epoch 247: Training Loss: 43.49784151713053, Validation Loss: 21.62982749938965\n",
      "New Checkpoint Saved into PATH\n",
      "Epoch 248: Training Loss: 43.495855967203774, Validation Loss: 21.628841400146484\n",
      "New Checkpoint Saved into PATH\n",
      "Epoch 249: Training Loss: 43.49387232462565, Validation Loss: 21.627851486206055\n",
      "New Checkpoint Saved into PATH\n",
      "Epoch 250: Training Loss: 43.491888999938965, Validation Loss: 21.626863479614258\n",
      "New Checkpoint Saved into PATH\n",
      "Epoch 251: Training Loss: 43.48990567525228, Validation Loss: 21.625877380371094\n",
      "New Checkpoint Saved into PATH\n",
      "Epoch 252: Training Loss: 43.48792044321696, Validation Loss: 21.62489128112793\n",
      "New Checkpoint Saved into PATH\n",
      "Epoch 253: Training Loss: 43.48593775431315, Validation Loss: 21.623905181884766\n",
      "New Checkpoint Saved into PATH\n",
      "Epoch 254: Training Loss: 43.48395951588949, Validation Loss: 21.6229190826416\n",
      "New Checkpoint Saved into PATH\n",
      "Epoch 255: Training Loss: 43.481981913248696, Validation Loss: 21.62193489074707\n",
      "New Checkpoint Saved into PATH\n",
      "Epoch 256: Training Loss: 43.480004946390785, Validation Loss: 21.620948791503906\n",
      "New Checkpoint Saved into PATH\n",
      "Epoch 257: Training Loss: 43.47802575429281, Validation Loss: 21.619966506958008\n",
      "New Checkpoint Saved into PATH\n",
      "Epoch 258: Training Loss: 43.476049741109215, Validation Loss: 21.618980407714844\n",
      "New Checkpoint Saved into PATH\n",
      "Epoch 259: Training Loss: 43.47407468159994, Validation Loss: 21.617998123168945\n",
      "New Checkpoint Saved into PATH\n",
      "Epoch 260: Training Loss: 43.47209803263346, Validation Loss: 21.617013931274414\n",
      "New Checkpoint Saved into PATH\n",
      "Epoch 261: Training Loss: 43.47012265523275, Validation Loss: 21.61602783203125\n",
      "New Checkpoint Saved into PATH\n",
      "Epoch 262: Training Loss: 43.46814791361491, Validation Loss: 21.61504364013672\n",
      "New Checkpoint Saved into PATH\n",
      "Epoch 263: Training Loss: 43.46617158253988, Validation Loss: 21.61406135559082\n",
      "New Checkpoint Saved into PATH\n",
      "Epoch 264: Training Loss: 43.464195569356285, Validation Loss: 21.61307716369629\n",
      "New Checkpoint Saved into PATH\n",
      "Epoch 265: Training Loss: 43.46222114562988, Validation Loss: 21.612092971801758\n",
      "New Checkpoint Saved into PATH\n",
      "Epoch 266: Training Loss: 43.46024513244629, Validation Loss: 21.611106872558594\n",
      "New Checkpoint Saved into PATH\n",
      "Epoch 267: Training Loss: 43.45826943715414, Validation Loss: 21.610126495361328\n",
      "New Checkpoint Saved into PATH\n",
      "Epoch 268: Training Loss: 43.456299781799316, Validation Loss: 21.60914421081543\n",
      "New Checkpoint Saved into PATH\n",
      "Epoch 269: Training Loss: 43.454328854878746, Validation Loss: 21.608163833618164\n",
      "New Checkpoint Saved into PATH\n",
      "Epoch 270: Training Loss: 43.45236047108968, Validation Loss: 21.6071834564209\n",
      "New Checkpoint Saved into PATH\n",
      "Epoch 271: Training Loss: 43.45039304097494, Validation Loss: 21.606201171875\n",
      "New Checkpoint Saved into PATH\n",
      "Epoch 272: Training Loss: 43.44842402140299, Validation Loss: 21.605220794677734\n",
      "New Checkpoint Saved into PATH\n",
      "Epoch 273: Training Loss: 43.44645563761393, Validation Loss: 21.6042423248291\n",
      "New Checkpoint Saved into PATH\n",
      "Epoch 274: Training Loss: 43.44448630015055, Validation Loss: 21.603261947631836\n",
      "New Checkpoint Saved into PATH\n",
      "Epoch 275: Training Loss: 43.44251823425293, Validation Loss: 21.602279663085938\n",
      "New Checkpoint Saved into PATH\n",
      "Epoch 276: Training Loss: 43.44054857889811, Validation Loss: 21.60129737854004\n",
      "New Checkpoint Saved into PATH\n",
      "Epoch 277: Training Loss: 43.43858083089193, Validation Loss: 21.600317001342773\n",
      "New Checkpoint Saved into PATH\n",
      "Epoch 278: Training Loss: 43.43661022186279, Validation Loss: 21.59933853149414\n",
      "New Checkpoint Saved into PATH\n",
      "Epoch 279: Training Loss: 43.43464279174805, Validation Loss: 21.59835433959961\n",
      "New Checkpoint Saved into PATH\n",
      "Epoch 280: Training Loss: 43.432674407958984, Validation Loss: 21.59737205505371\n",
      "New Checkpoint Saved into PATH\n",
      "Epoch 281: Training Loss: 43.4307066599528, Validation Loss: 21.596393585205078\n",
      "New Checkpoint Saved into PATH\n",
      "Epoch 282: Training Loss: 43.428738594055176, Validation Loss: 21.59541130065918\n",
      "New Checkpoint Saved into PATH\n",
      "Epoch 283: Training Loss: 43.42676989237467, Validation Loss: 21.59442901611328\n",
      "New Checkpoint Saved into PATH\n",
      "Epoch 284: Training Loss: 43.424801190694176, Validation Loss: 21.59345054626465\n",
      "New Checkpoint Saved into PATH\n",
      "Epoch 285: Training Loss: 43.42283376057943, Validation Loss: 21.592472076416016\n",
      "New Checkpoint Saved into PATH\n",
      "Epoch 286: Training Loss: 43.420870780944824, Validation Loss: 21.591495513916016\n",
      "New Checkpoint Saved into PATH\n",
      "Epoch 287: Training Loss: 43.41890811920166, Validation Loss: 21.590517044067383\n",
      "New Checkpoint Saved into PATH\n",
      "Epoch 288: Training Loss: 43.41694641113281, Validation Loss: 21.58953857421875\n",
      "New Checkpoint Saved into PATH\n",
      "Epoch 289: Training Loss: 43.414984385172524, Validation Loss: 21.588560104370117\n",
      "New Checkpoint Saved into PATH\n",
      "Epoch 290: Training Loss: 43.41302299499512, Validation Loss: 21.587581634521484\n",
      "New Checkpoint Saved into PATH\n",
      "Epoch 291: Training Loss: 43.41106033325195, Validation Loss: 21.586605072021484\n",
      "New Checkpoint Saved into PATH\n",
      "Epoch 292: Training Loss: 43.40909798940023, Validation Loss: 21.58562660217285\n",
      "New Checkpoint Saved into PATH\n",
      "Epoch 293: Training Loss: 43.40713755289713, Validation Loss: 21.58465003967285\n",
      "New Checkpoint Saved into PATH\n",
      "Epoch 294: Training Loss: 43.40517552693685, Validation Loss: 21.58367347717285\n",
      "New Checkpoint Saved into PATH\n",
      "Epoch 295: Training Loss: 43.403212547302246, Validation Loss: 21.58269500732422\n",
      "New Checkpoint Saved into PATH\n",
      "Epoch 296: Training Loss: 43.40125274658203, Validation Loss: 21.58171844482422\n",
      "New Checkpoint Saved into PATH\n",
      "Epoch 297: Training Loss: 43.39929072062174, Validation Loss: 21.580739974975586\n",
      "New Checkpoint Saved into PATH\n"
     ]
    },
    {
     "name": "stdout",
     "output_type": "stream",
     "text": [
      "Epoch 298: Training Loss: 43.39733123779297, Validation Loss: 21.579763412475586\n",
      "New Checkpoint Saved into PATH\n",
      "Epoch 299: Training Loss: 43.39536825815836, Validation Loss: 21.578784942626953\n",
      "New Checkpoint Saved into PATH\n",
      "Epoch 300: Training Loss: 43.3934071858724, Validation Loss: 21.577810287475586\n",
      "New Checkpoint Saved into PATH\n",
      "Epoch 301: Training Loss: 43.39144802093506, Validation Loss: 21.576831817626953\n",
      "New Checkpoint Saved into PATH\n",
      "Epoch 302: Training Loss: 43.38948504130045, Validation Loss: 21.575855255126953\n",
      "New Checkpoint Saved into PATH\n",
      "Epoch 303: Training Loss: 43.38752428690592, Validation Loss: 21.57487678527832\n",
      "New Checkpoint Saved into PATH\n",
      "Epoch 304: Training Loss: 43.38556226094564, Validation Loss: 21.573898315429688\n",
      "New Checkpoint Saved into PATH\n",
      "Epoch 305: Training Loss: 43.38360150655111, Validation Loss: 21.572921752929688\n",
      "New Checkpoint Saved into PATH\n",
      "Epoch 306: Training Loss: 43.38164202372233, Validation Loss: 21.57194709777832\n",
      "New Checkpoint Saved into PATH\n",
      "Epoch 307: Training Loss: 43.37967999776205, Validation Loss: 21.570968627929688\n",
      "New Checkpoint Saved into PATH\n",
      "Epoch 308: Training Loss: 43.37772019704183, Validation Loss: 21.56999397277832\n",
      "New Checkpoint Saved into PATH\n",
      "Epoch 309: Training Loss: 43.37576389312744, Validation Loss: 21.56901741027832\n",
      "New Checkpoint Saved into PATH\n",
      "Epoch 310: Training Loss: 43.37380886077881, Validation Loss: 21.568044662475586\n",
      "New Checkpoint Saved into PATH\n",
      "Epoch 311: Training Loss: 43.371853828430176, Validation Loss: 21.56707191467285\n",
      "New Checkpoint Saved into PATH\n",
      "Epoch 312: Training Loss: 43.36989879608154, Validation Loss: 21.566097259521484\n",
      "New Checkpoint Saved into PATH\n",
      "Epoch 313: Training Loss: 43.36794471740723, Validation Loss: 21.565122604370117\n",
      "New Checkpoint Saved into PATH\n",
      "Epoch 314: Training Loss: 43.3659880956014, Validation Loss: 21.56414794921875\n",
      "New Checkpoint Saved into PATH\n",
      "Epoch 315: Training Loss: 43.364033699035645, Validation Loss: 21.563173294067383\n",
      "New Checkpoint Saved into PATH\n",
      "Epoch 316: Training Loss: 43.36207993825277, Validation Loss: 21.56220054626465\n",
      "New Checkpoint Saved into PATH\n",
      "Epoch 317: Training Loss: 43.360124588012695, Validation Loss: 21.56122589111328\n",
      "New Checkpoint Saved into PATH\n",
      "Epoch 318: Training Loss: 43.35817019144694, Validation Loss: 21.560251235961914\n",
      "New Checkpoint Saved into PATH\n",
      "Epoch 319: Training Loss: 43.35621706644694, Validation Loss: 21.559276580810547\n",
      "New Checkpoint Saved into PATH\n",
      "Epoch 320: Training Loss: 43.35426044464111, Validation Loss: 21.558303833007812\n",
      "New Checkpoint Saved into PATH\n",
      "Epoch 321: Training Loss: 43.35230795542399, Validation Loss: 21.557329177856445\n",
      "New Checkpoint Saved into PATH\n",
      "Epoch 322: Training Loss: 43.3503532409668, Validation Loss: 21.556354522705078\n",
      "New Checkpoint Saved into PATH\n",
      "Epoch 323: Training Loss: 43.34839916229248, Validation Loss: 21.55537986755371\n",
      "New Checkpoint Saved into PATH\n",
      "Epoch 324: Training Loss: 43.34644476572672, Validation Loss: 21.554407119750977\n",
      "New Checkpoint Saved into PATH\n",
      "Epoch 325: Training Loss: 43.34448973337809, Validation Loss: 21.55343246459961\n",
      "New Checkpoint Saved into PATH\n",
      "Epoch 326: Training Loss: 43.34253470102946, Validation Loss: 21.55246353149414\n",
      "New Checkpoint Saved into PATH\n",
      "Epoch 327: Training Loss: 43.3405818939209, Validation Loss: 21.551488876342773\n",
      "New Checkpoint Saved into PATH\n",
      "Epoch 328: Training Loss: 43.33862781524658, Validation Loss: 21.55051612854004\n",
      "New Checkpoint Saved into PATH\n",
      "Epoch 329: Training Loss: 43.336673418680824, Validation Loss: 21.54953956604004\n",
      "New Checkpoint Saved into PATH\n",
      "Epoch 330: Training Loss: 43.33471870422363, Validation Loss: 21.548566818237305\n",
      "New Checkpoint Saved into PATH\n",
      "Epoch 331: Training Loss: 43.33276557922363, Validation Loss: 21.547592163085938\n",
      "New Checkpoint Saved into PATH\n",
      "Epoch 332: Training Loss: 43.33081181844076, Validation Loss: 21.546619415283203\n",
      "New Checkpoint Saved into PATH\n",
      "Epoch 333: Training Loss: 43.32885996500651, Validation Loss: 21.545644760131836\n",
      "New Checkpoint Saved into PATH\n",
      "Epoch 334: Training Loss: 43.326903661092125, Validation Loss: 21.5446720123291\n",
      "New Checkpoint Saved into PATH\n",
      "Epoch 335: Training Loss: 43.324950218200684, Validation Loss: 21.543701171875\n",
      "New Checkpoint Saved into PATH\n",
      "Epoch 336: Training Loss: 43.32299836476644, Validation Loss: 21.542726516723633\n",
      "New Checkpoint Saved into PATH\n",
      "Epoch 337: Training Loss: 43.321043968200684, Validation Loss: 21.541751861572266\n",
      "New Checkpoint Saved into PATH\n",
      "Epoch 338: Training Loss: 43.319091161092125, Validation Loss: 21.5407772064209\n",
      "New Checkpoint Saved into PATH\n",
      "Epoch 339: Training Loss: 43.317136446634926, Validation Loss: 21.539806365966797\n",
      "New Checkpoint Saved into PATH\n",
      "Epoch 340: Training Loss: 43.31518427530924, Validation Loss: 21.538833618164062\n",
      "New Checkpoint Saved into PATH\n",
      "Epoch 341: Training Loss: 43.313231786092125, Validation Loss: 21.537857055664062\n",
      "New Checkpoint Saved into PATH\n",
      "Epoch 342: Training Loss: 43.31128120422363, Validation Loss: 21.536890029907227\n",
      "New Checkpoint Saved into PATH\n",
      "Epoch 343: Training Loss: 43.30933411916097, Validation Loss: 21.53591537475586\n",
      "New Checkpoint Saved into PATH\n",
      "Epoch 344: Training Loss: 43.30738608042399, Validation Loss: 21.53494644165039\n",
      "New Checkpoint Saved into PATH\n",
      "Epoch 345: Training Loss: 43.30544185638428, Validation Loss: 21.53397560119629\n",
      "New Checkpoint Saved into PATH\n",
      "Epoch 346: Training Loss: 43.30349349975586, Validation Loss: 21.533004760742188\n",
      "New Checkpoint Saved into PATH\n",
      "Epoch 347: Training Loss: 43.301547050476074, Validation Loss: 21.532033920288086\n",
      "New Checkpoint Saved into PATH\n",
      "Epoch 348: Training Loss: 43.2995990117391, Validation Loss: 21.531064987182617\n",
      "New Checkpoint Saved into PATH\n",
      "Epoch 349: Training Loss: 43.29765510559082, Validation Loss: 21.53009605407715\n",
      "New Checkpoint Saved into PATH\n",
      "Epoch 350: Training Loss: 43.295705795288086, Validation Loss: 21.529125213623047\n",
      "New Checkpoint Saved into PATH\n",
      "Epoch 351: Training Loss: 43.293761571248375, Validation Loss: 21.528156280517578\n",
      "New Checkpoint Saved into PATH\n",
      "Epoch 352: Training Loss: 43.29181416829427, Validation Loss: 21.52718734741211\n",
      "New Checkpoint Saved into PATH\n",
      "Epoch 353: Training Loss: 43.28986899058024, Validation Loss: 21.526212692260742\n",
      "New Checkpoint Saved into PATH\n",
      "Epoch 354: Training Loss: 43.28792158762614, Validation Loss: 21.525245666503906\n",
      "New Checkpoint Saved into PATH\n",
      "Epoch 355: Training Loss: 43.28597768147787, Validation Loss: 21.524274826049805\n",
      "New Checkpoint Saved into PATH\n",
      "Epoch 356: Training Loss: 43.28402900695801, Validation Loss: 21.523303985595703\n",
      "New Checkpoint Saved into PATH\n",
      "Epoch 357: Training Loss: 43.2820847829183, Validation Loss: 21.5223331451416\n",
      "New Checkpoint Saved into PATH\n",
      "Epoch 358: Training Loss: 43.280137379964195, Validation Loss: 21.5213623046875\n",
      "New Checkpoint Saved into PATH\n",
      "Epoch 359: Training Loss: 43.2781925201416, Validation Loss: 21.52039337158203\n",
      "New Checkpoint Saved into PATH\n",
      "Epoch 360: Training Loss: 43.276246070861816, Validation Loss: 21.519424438476562\n",
      "New Checkpoint Saved into PATH\n",
      "Epoch 361: Training Loss: 43.27430089314779, Validation Loss: 21.51845359802246\n",
      "New Checkpoint Saved into PATH\n",
      "Epoch 362: Training Loss: 43.272352854410805, Validation Loss: 21.51748275756836\n",
      "New Checkpoint Saved into PATH\n",
      "Epoch 363: Training Loss: 43.27041085561117, Validation Loss: 21.51651382446289\n",
      "New Checkpoint Saved into PATH\n",
      "Epoch 364: Training Loss: 43.26846154530843, Validation Loss: 21.51554298400879\n",
      "New Checkpoint Saved into PATH\n",
      "Epoch 365: Training Loss: 43.26651954650879, Validation Loss: 21.514572143554688\n",
      "New Checkpoint Saved into PATH\n",
      "Epoch 366: Training Loss: 43.26457087198893, Validation Loss: 21.51360511779785\n",
      "New Checkpoint Saved into PATH\n",
      "Epoch 367: Training Loss: 43.26262950897217, Validation Loss: 21.51263427734375\n",
      "New Checkpoint Saved into PATH\n",
      "Epoch 368: Training Loss: 43.26068115234375, Validation Loss: 21.51166534423828\n",
      "New Checkpoint Saved into PATH\n",
      "Epoch 369: Training Loss: 43.258737564086914, Validation Loss: 21.51069450378418\n",
      "New Checkpoint Saved into PATH\n",
      "Epoch 370: Training Loss: 43.256789207458496, Validation Loss: 21.509723663330078\n",
      "New Checkpoint Saved into PATH\n",
      "Epoch 371: Training Loss: 43.254847844441734, Validation Loss: 21.50875473022461\n",
      "New Checkpoint Saved into PATH\n"
     ]
    },
    {
     "name": "stdout",
     "output_type": "stream",
     "text": [
      "Epoch 372: Training Loss: 43.252899487813316, Validation Loss: 21.50778579711914\n",
      "New Checkpoint Saved into PATH\n",
      "Epoch 373: Training Loss: 43.250956535339355, Validation Loss: 21.506818771362305\n",
      "New Checkpoint Saved into PATH\n",
      "Epoch 374: Training Loss: 43.249009450276695, Validation Loss: 21.505847930908203\n",
      "New Checkpoint Saved into PATH\n",
      "Epoch 375: Training Loss: 43.24706840515137, Validation Loss: 21.5048770904541\n",
      "New Checkpoint Saved into PATH\n",
      "Epoch 376: Training Loss: 43.24512036641439, Validation Loss: 21.503908157348633\n",
      "New Checkpoint Saved into PATH\n",
      "Epoch 377: Training Loss: 43.2431755065918, Validation Loss: 21.50293731689453\n",
      "New Checkpoint Saved into PATH\n",
      "Epoch 378: Training Loss: 43.24122937520345, Validation Loss: 21.501968383789062\n",
      "New Checkpoint Saved into PATH\n",
      "Epoch 379: Training Loss: 43.23928610483805, Validation Loss: 21.500999450683594\n",
      "New Checkpoint Saved into PATH\n",
      "Epoch 380: Training Loss: 43.23733997344971, Validation Loss: 21.500030517578125\n",
      "New Checkpoint Saved into PATH\n",
      "Epoch 381: Training Loss: 43.235397020975746, Validation Loss: 21.49906349182129\n",
      "New Checkpoint Saved into PATH\n",
      "Epoch 382: Training Loss: 43.23345057169596, Validation Loss: 21.498092651367188\n",
      "New Checkpoint Saved into PATH\n",
      "Epoch 383: Training Loss: 43.231508572896324, Validation Loss: 21.49712371826172\n",
      "New Checkpoint Saved into PATH\n",
      "Epoch 384: Training Loss: 43.22956148783366, Validation Loss: 21.496152877807617\n",
      "New Checkpoint Saved into PATH\n",
      "Epoch 385: Training Loss: 43.22761821746826, Validation Loss: 21.49518394470215\n",
      "New Checkpoint Saved into PATH\n",
      "Epoch 386: Training Loss: 43.22567176818848, Validation Loss: 21.494216918945312\n",
      "New Checkpoint Saved into PATH\n",
      "Epoch 387: Training Loss: 43.22372976938883, Validation Loss: 21.49324607849121\n",
      "New Checkpoint Saved into PATH\n",
      "Epoch 388: Training Loss: 43.22178332010905, Validation Loss: 21.492277145385742\n",
      "New Checkpoint Saved into PATH\n",
      "Epoch 389: Training Loss: 43.219842274983726, Validation Loss: 21.49130630493164\n",
      "New Checkpoint Saved into PATH\n",
      "Epoch 390: Training Loss: 43.217894554138184, Validation Loss: 21.490337371826172\n",
      "New Checkpoint Saved into PATH\n",
      "Epoch 391: Training Loss: 43.21595287322998, Validation Loss: 21.48936653137207\n",
      "New Checkpoint Saved into PATH\n",
      "Epoch 392: Training Loss: 43.21400737762451, Validation Loss: 21.488401412963867\n",
      "New Checkpoint Saved into PATH\n",
      "Epoch 393: Training Loss: 43.21206537882487, Validation Loss: 21.4874324798584\n",
      "New Checkpoint Saved into PATH\n",
      "Epoch 394: Training Loss: 43.21011829376221, Validation Loss: 21.486461639404297\n",
      "New Checkpoint Saved into PATH\n",
      "Epoch 395: Training Loss: 43.20817724863688, Validation Loss: 21.48549461364746\n",
      "New Checkpoint Saved into PATH\n",
      "Epoch 396: Training Loss: 43.20623175303141, Validation Loss: 21.484525680541992\n",
      "New Checkpoint Saved into PATH\n",
      "Epoch 397: Training Loss: 43.20428943634033, Validation Loss: 21.483556747436523\n",
      "New Checkpoint Saved into PATH\n",
      "Epoch 398: Training Loss: 43.20234394073486, Validation Loss: 21.482585906982422\n",
      "New Checkpoint Saved into PATH\n",
      "Epoch 399: Training Loss: 43.200401624043785, Validation Loss: 21.481618881225586\n",
      "New Checkpoint Saved into PATH\n",
      "Epoch 400: Training Loss: 43.198456128438316, Validation Loss: 21.480648040771484\n",
      "New Checkpoint Saved into PATH\n",
      "Epoch 401: Training Loss: 43.19651826222738, Validation Loss: 21.479684829711914\n",
      "New Checkpoint Saved into PATH\n",
      "Epoch 402: Training Loss: 43.19458198547363, Validation Loss: 21.478717803955078\n",
      "New Checkpoint Saved into PATH\n",
      "Epoch 403: Training Loss: 43.19264157613119, Validation Loss: 21.477752685546875\n",
      "New Checkpoint Saved into PATH\n",
      "Epoch 404: Training Loss: 43.190704345703125, Validation Loss: 21.47678565979004\n",
      "New Checkpoint Saved into PATH\n",
      "Epoch 405: Training Loss: 43.188767751057945, Validation Loss: 21.47582244873047\n",
      "New Checkpoint Saved into PATH\n",
      "Epoch 406: Training Loss: 43.186830838521324, Validation Loss: 21.474855422973633\n",
      "New Checkpoint Saved into PATH\n",
      "Epoch 407: Training Loss: 43.18489074707031, Validation Loss: 21.473888397216797\n",
      "New Checkpoint Saved into PATH\n",
      "Epoch 408: Training Loss: 43.182953198750816, Validation Loss: 21.47292137145996\n",
      "New Checkpoint Saved into PATH\n",
      "Epoch 409: Training Loss: 43.18101692199707, Validation Loss: 21.47195816040039\n",
      "New Checkpoint Saved into PATH\n",
      "Epoch 410: Training Loss: 43.17907905578613, Validation Loss: 21.470989227294922\n",
      "New Checkpoint Saved into PATH\n",
      "Epoch 411: Training Loss: 43.17714246114095, Validation Loss: 21.47002601623535\n",
      "New Checkpoint Saved into PATH\n",
      "Epoch 412: Training Loss: 43.175201416015625, Validation Loss: 21.469057083129883\n",
      "New Checkpoint Saved into PATH\n",
      "Epoch 413: Training Loss: 43.17326641082764, Validation Loss: 21.468095779418945\n",
      "New Checkpoint Saved into PATH\n",
      "Epoch 414: Training Loss: 43.17132981618246, Validation Loss: 21.46712875366211\n",
      "New Checkpoint Saved into PATH\n",
      "Epoch 415: Training Loss: 43.16939131418864, Validation Loss: 21.466163635253906\n",
      "New Checkpoint Saved into PATH\n",
      "Epoch 416: Training Loss: 43.16745408376058, Validation Loss: 21.465194702148438\n",
      "New Checkpoint Saved into PATH\n",
      "Epoch 417: Training Loss: 43.16551876068115, Validation Loss: 21.4642333984375\n",
      "New Checkpoint Saved into PATH\n",
      "Epoch 418: Training Loss: 43.16358153025309, Validation Loss: 21.463266372680664\n",
      "New Checkpoint Saved into PATH\n",
      "Epoch 419: Training Loss: 43.16164334615072, Validation Loss: 21.462299346923828\n",
      "New Checkpoint Saved into PATH\n",
      "Epoch 420: Training Loss: 43.1597048441569, Validation Loss: 21.461332321166992\n",
      "New Checkpoint Saved into PATH\n",
      "Epoch 421: Training Loss: 43.15777111053467, Validation Loss: 21.460371017456055\n",
      "New Checkpoint Saved into PATH\n",
      "Epoch 422: Training Loss: 43.155833880106606, Validation Loss: 21.45940399169922\n",
      "New Checkpoint Saved into PATH\n",
      "Epoch 423: Training Loss: 43.153895696004234, Validation Loss: 21.458438873291016\n",
      "New Checkpoint Saved into PATH\n",
      "Epoch 424: Training Loss: 43.15195910135905, Validation Loss: 21.457469940185547\n",
      "New Checkpoint Saved into PATH\n",
      "Epoch 425: Training Loss: 43.150022188822426, Validation Loss: 21.45650863647461\n",
      "New Checkpoint Saved into PATH\n",
      "Epoch 426: Training Loss: 43.14808718363444, Validation Loss: 21.455541610717773\n",
      "New Checkpoint Saved into PATH\n",
      "Epoch 427: Training Loss: 43.146148999532066, Validation Loss: 21.45457649230957\n",
      "New Checkpoint Saved into PATH\n",
      "Epoch 428: Training Loss: 43.14421017964681, Validation Loss: 21.453609466552734\n",
      "New Checkpoint Saved into PATH\n",
      "Epoch 429: Training Loss: 43.142275174458824, Validation Loss: 21.452646255493164\n",
      "New Checkpoint Saved into PATH\n",
      "Epoch 430: Training Loss: 43.140339851379395, Validation Loss: 21.45168113708496\n",
      "New Checkpoint Saved into PATH\n",
      "Epoch 431: Training Loss: 43.13840134938558, Validation Loss: 21.450716018676758\n",
      "New Checkpoint Saved into PATH\n",
      "Epoch 432: Training Loss: 43.136464754740395, Validation Loss: 21.449748992919922\n",
      "New Checkpoint Saved into PATH\n",
      "Epoch 433: Training Loss: 43.134531339009605, Validation Loss: 21.44878578186035\n",
      "New Checkpoint Saved into PATH\n",
      "Epoch 434: Training Loss: 43.13259474436442, Validation Loss: 21.447818756103516\n",
      "New Checkpoint Saved into PATH\n",
      "Epoch 435: Training Loss: 43.13065687815348, Validation Loss: 21.446853637695312\n",
      "New Checkpoint Saved into PATH\n",
      "Epoch 436: Training Loss: 43.12871901194254, Validation Loss: 21.44588851928711\n",
      "New Checkpoint Saved into PATH\n",
      "Epoch 437: Training Loss: 43.126785596211754, Validation Loss: 21.44492530822754\n",
      "New Checkpoint Saved into PATH\n",
      "Epoch 438: Training Loss: 43.12484995524088, Validation Loss: 21.443960189819336\n",
      "New Checkpoint Saved into PATH\n",
      "Epoch 439: Training Loss: 43.12291304270426, Validation Loss: 21.442995071411133\n",
      "New Checkpoint Saved into PATH\n",
      "Epoch 440: Training Loss: 43.12097422281901, Validation Loss: 21.44202995300293\n",
      "New Checkpoint Saved into PATH\n",
      "Epoch 441: Training Loss: 43.119041760762535, Validation Loss: 21.441064834594727\n",
      "New Checkpoint Saved into PATH\n",
      "Epoch 442: Training Loss: 43.117106119791664, Validation Loss: 21.440099716186523\n",
      "New Checkpoint Saved into PATH\n",
      "Epoch 443: Training Loss: 43.115169843037926, Validation Loss: 21.439132690429688\n",
      "New Checkpoint Saved into PATH\n",
      "Epoch 444: Training Loss: 43.11323197682699, Validation Loss: 21.438167572021484\n",
      "New Checkpoint Saved into PATH\n",
      "Epoch 445: Training Loss: 43.11129919687907, Validation Loss: 21.437204360961914\n",
      "New Checkpoint Saved into PATH\n"
     ]
    },
    {
     "name": "stdout",
     "output_type": "stream",
     "text": [
      "Epoch 446: Training Loss: 43.1093635559082, Validation Loss: 21.43623924255371\n",
      "New Checkpoint Saved into PATH\n",
      "Epoch 447: Training Loss: 43.10742696126302, Validation Loss: 21.43527603149414\n",
      "New Checkpoint Saved into PATH\n",
      "Epoch 448: Training Loss: 43.10548941294352, Validation Loss: 21.434309005737305\n",
      "New Checkpoint Saved into PATH\n",
      "Epoch 449: Training Loss: 43.10355790456136, Validation Loss: 21.433347702026367\n",
      "New Checkpoint Saved into PATH\n",
      "Epoch 450: Training Loss: 43.10162194569906, Validation Loss: 21.43238067626953\n",
      "New Checkpoint Saved into PATH\n",
      "Epoch 451: Training Loss: 43.099684397379555, Validation Loss: 21.43141746520996\n",
      "New Checkpoint Saved into PATH\n",
      "Epoch 452: Training Loss: 43.097748120625816, Validation Loss: 21.430452346801758\n",
      "New Checkpoint Saved into PATH\n",
      "Epoch 453: Training Loss: 43.095815340677895, Validation Loss: 21.429487228393555\n",
      "New Checkpoint Saved into PATH\n",
      "Epoch 454: Training Loss: 43.09388001759847, Validation Loss: 21.428524017333984\n",
      "New Checkpoint Saved into PATH\n",
      "Epoch 455: Training Loss: 43.091943422953285, Validation Loss: 21.42755889892578\n",
      "New Checkpoint Saved into PATH\n",
      "Epoch 456: Training Loss: 43.09000809987386, Validation Loss: 21.42659568786621\n",
      "New Checkpoint Saved into PATH\n",
      "Epoch 457: Training Loss: 43.08807563781738, Validation Loss: 21.425630569458008\n",
      "New Checkpoint Saved into PATH\n",
      "Epoch 458: Training Loss: 43.08613936106364, Validation Loss: 21.424665451049805\n",
      "New Checkpoint Saved into PATH\n",
      "Epoch 459: Training Loss: 43.084202448527016, Validation Loss: 21.4237003326416\n",
      "New Checkpoint Saved into PATH\n",
      "Epoch 460: Training Loss: 43.08226680755615, Validation Loss: 21.4227352142334\n",
      "New Checkpoint Saved into PATH\n",
      "Epoch 461: Training Loss: 43.08033720652262, Validation Loss: 21.421772003173828\n",
      "New Checkpoint Saved into PATH\n",
      "Epoch 462: Training Loss: 43.07840124766032, Validation Loss: 21.420808792114258\n",
      "New Checkpoint Saved into PATH\n",
      "Epoch 463: Training Loss: 43.07646401723226, Validation Loss: 21.419843673706055\n",
      "New Checkpoint Saved into PATH\n",
      "Epoch 464: Training Loss: 43.074527422587074, Validation Loss: 21.418880462646484\n",
      "New Checkpoint Saved into PATH\n",
      "Epoch 465: Training Loss: 43.07259591420492, Validation Loss: 21.41791534423828\n",
      "New Checkpoint Saved into PATH\n",
      "Epoch 466: Training Loss: 43.070661862691246, Validation Loss: 21.41695213317871\n",
      "New Checkpoint Saved into PATH\n",
      "Epoch 467: Training Loss: 43.06872590382894, Validation Loss: 21.415987014770508\n",
      "New Checkpoint Saved into PATH\n",
      "Epoch 468: Training Loss: 43.06679058074951, Validation Loss: 21.415021896362305\n",
      "New Checkpoint Saved into PATH\n",
      "Epoch 469: Training Loss: 43.06485811869303, Validation Loss: 21.414058685302734\n",
      "New Checkpoint Saved into PATH\n",
      "Epoch 470: Training Loss: 43.06292279561361, Validation Loss: 21.413095474243164\n",
      "New Checkpoint Saved into PATH\n",
      "Epoch 471: Training Loss: 43.060988108317055, Validation Loss: 21.41213035583496\n",
      "New Checkpoint Saved into PATH\n",
      "Epoch 472: Training Loss: 43.05905214945475, Validation Loss: 21.41116714477539\n",
      "New Checkpoint Saved into PATH\n",
      "Epoch 473: Training Loss: 43.05712095896403, Validation Loss: 21.410202026367188\n",
      "New Checkpoint Saved into PATH\n",
      "Epoch 474: Training Loss: 43.05518754323324, Validation Loss: 21.409238815307617\n",
      "New Checkpoint Saved into PATH\n"
     ]
    },
    {
     "ename": "KeyboardInterrupt",
     "evalue": "",
     "output_type": "error",
     "traceback": [
      "\u001b[1;31m---------------------------------------------------------------------------\u001b[0m",
      "\u001b[1;31mKeyboardInterrupt\u001b[0m                         Traceback (most recent call last)",
      "\u001b[1;32m<ipython-input-240-9dbef5589995>\u001b[0m in \u001b[0;36m<module>\u001b[1;34m\u001b[0m\n\u001b[0;32m      3\u001b[0m \u001b[1;33m\u001b[0m\u001b[0m\n\u001b[0;32m      4\u001b[0m fit(X2, X2_val, Y2, Y2_val, net3, optimizer, comb_error, 900, \n\u001b[1;32m----> 5\u001b[1;33m                     batch_size, iter_to_avg, lr, 0.30, PATH, device, 1)\n\u001b[0m",
      "\u001b[1;32m~\\Desktop\\RAND_pro\\prog_calc\\fit2_nn.py\u001b[0m in \u001b[0;36mfit\u001b[1;34m(X, X_val, Y, Y_val, net, optimizer, error, n_epochs, batch_size, iter_to_avg, lr, clipping, PATH, device, verbose)\u001b[0m\n\u001b[0;32m     44\u001b[0m         \u001b[1;32mfor\u001b[0m \u001b[0m_\u001b[0m \u001b[1;32min\u001b[0m \u001b[0mrange\u001b[0m\u001b[1;33m(\u001b[0m\u001b[0miter_to_avg\u001b[0m\u001b[1;33m)\u001b[0m\u001b[1;33m:\u001b[0m\u001b[1;33m\u001b[0m\u001b[0m\n\u001b[0;32m     45\u001b[0m \u001b[1;33m\u001b[0m\u001b[0m\n\u001b[1;32m---> 46\u001b[1;33m             \u001b[1;32mfor\u001b[0m \u001b[0mbatch_x\u001b[0m\u001b[1;33m,\u001b[0m \u001b[0mbatch_y\u001b[0m \u001b[1;32min\u001b[0m \u001b[0mbatch_generator\u001b[0m\u001b[1;33m(\u001b[0m\u001b[0mX\u001b[0m\u001b[1;33m,\u001b[0m \u001b[0mY\u001b[0m\u001b[1;33m,\u001b[0m \u001b[0mbatch_size\u001b[0m\u001b[1;33m)\u001b[0m\u001b[1;33m:\u001b[0m\u001b[1;33m\u001b[0m\u001b[0m\n\u001b[0m\u001b[0;32m     47\u001b[0m \u001b[1;33m\u001b[0m\u001b[0m\n\u001b[0;32m     48\u001b[0m                 \u001b[1;31m# get the inputs\u001b[0m\u001b[1;33m\u001b[0m\u001b[1;33m\u001b[0m\u001b[0m\n",
      "\u001b[1;32m~\\Desktop\\RAND_pro\\prog_calc\\fit2_nn.py\u001b[0m in \u001b[0;36mbatch_generator\u001b[1;34m(X, Y, batch_size)\u001b[0m\n\u001b[0;32m     17\u001b[0m     \u001b[1;32mfor\u001b[0m \u001b[0mi\u001b[0m \u001b[1;32min\u001b[0m \u001b[0mrange\u001b[0m\u001b[1;33m(\u001b[0m\u001b[0mn_batches\u001b[0m\u001b[1;33m)\u001b[0m\u001b[1;33m:\u001b[0m\u001b[1;33m\u001b[0m\u001b[0m\n\u001b[0;32m     18\u001b[0m         \u001b[0mbi\u001b[0m \u001b[1;33m=\u001b[0m \u001b[0mnp\u001b[0m\u001b[1;33m.\u001b[0m\u001b[0mrandom\u001b[0m\u001b[1;33m.\u001b[0m\u001b[0mchoice\u001b[0m\u001b[1;33m(\u001b[0m\u001b[0midx\u001b[0m\u001b[1;33m,\u001b[0m \u001b[0mbatch_size\u001b[0m\u001b[1;33m,\u001b[0m \u001b[0mreplace\u001b[0m\u001b[1;33m=\u001b[0m\u001b[1;32mFalse\u001b[0m\u001b[1;33m)\u001b[0m\u001b[1;33m\u001b[0m\u001b[0m\n\u001b[1;32m---> 19\u001b[1;33m         \u001b[0mX_batch\u001b[0m \u001b[1;33m=\u001b[0m \u001b[0mX\u001b[0m\u001b[1;33m.\u001b[0m\u001b[0mloc\u001b[0m\u001b[1;33m[\u001b[0m\u001b[0mbi\u001b[0m\u001b[1;33m]\u001b[0m\u001b[1;33m\u001b[0m\u001b[0m\n\u001b[0m\u001b[0;32m     20\u001b[0m         \u001b[0mY_batch\u001b[0m \u001b[1;33m=\u001b[0m \u001b[0mY\u001b[0m\u001b[1;33m[\u001b[0m\u001b[0mbi\u001b[0m\u001b[1;33m]\u001b[0m\u001b[1;33m\u001b[0m\u001b[0m\n\u001b[0;32m     21\u001b[0m         \u001b[0midx\u001b[0m \u001b[1;33m=\u001b[0m \u001b[1;33m[\u001b[0m\u001b[0mi\u001b[0m \u001b[1;32mfor\u001b[0m \u001b[0mi\u001b[0m \u001b[1;32min\u001b[0m \u001b[0midx\u001b[0m \u001b[1;32mif\u001b[0m \u001b[0mi\u001b[0m \u001b[1;32mnot\u001b[0m \u001b[1;32min\u001b[0m \u001b[0mbi\u001b[0m\u001b[1;33m]\u001b[0m\u001b[1;33m\u001b[0m\u001b[0m\n",
      "\u001b[1;32mc:\\users\\rober\\appdata\\local\\programs\\python\\python36\\lib\\site-packages\\pandas\\core\\indexing.py\u001b[0m in \u001b[0;36m__getitem__\u001b[1;34m(self, key)\u001b[0m\n\u001b[0;32m   1498\u001b[0m \u001b[1;33m\u001b[0m\u001b[0m\n\u001b[0;32m   1499\u001b[0m             \u001b[0mmaybe_callable\u001b[0m \u001b[1;33m=\u001b[0m \u001b[0mcom\u001b[0m\u001b[1;33m.\u001b[0m\u001b[0mapply_if_callable\u001b[0m\u001b[1;33m(\u001b[0m\u001b[0mkey\u001b[0m\u001b[1;33m,\u001b[0m \u001b[0mself\u001b[0m\u001b[1;33m.\u001b[0m\u001b[0mobj\u001b[0m\u001b[1;33m)\u001b[0m\u001b[1;33m\u001b[0m\u001b[0m\n\u001b[1;32m-> 1500\u001b[1;33m             \u001b[1;32mreturn\u001b[0m \u001b[0mself\u001b[0m\u001b[1;33m.\u001b[0m\u001b[0m_getitem_axis\u001b[0m\u001b[1;33m(\u001b[0m\u001b[0mmaybe_callable\u001b[0m\u001b[1;33m,\u001b[0m \u001b[0maxis\u001b[0m\u001b[1;33m=\u001b[0m\u001b[0maxis\u001b[0m\u001b[1;33m)\u001b[0m\u001b[1;33m\u001b[0m\u001b[0m\n\u001b[0m\u001b[0;32m   1501\u001b[0m \u001b[1;33m\u001b[0m\u001b[0m\n\u001b[0;32m   1502\u001b[0m     \u001b[1;32mdef\u001b[0m \u001b[0m_is_scalar_access\u001b[0m\u001b[1;33m(\u001b[0m\u001b[0mself\u001b[0m\u001b[1;33m,\u001b[0m \u001b[0mkey\u001b[0m\u001b[1;33m)\u001b[0m\u001b[1;33m:\u001b[0m\u001b[1;33m\u001b[0m\u001b[0m\n",
      "\u001b[1;32mc:\\users\\rober\\appdata\\local\\programs\\python\\python36\\lib\\site-packages\\pandas\\core\\indexing.py\u001b[0m in \u001b[0;36m_getitem_axis\u001b[1;34m(self, key, axis)\u001b[0m\n\u001b[0;32m   1900\u001b[0m                     \u001b[1;32mraise\u001b[0m \u001b[0mValueError\u001b[0m\u001b[1;33m(\u001b[0m\u001b[1;34m'Cannot index with multidimensional key'\u001b[0m\u001b[1;33m)\u001b[0m\u001b[1;33m\u001b[0m\u001b[0m\n\u001b[0;32m   1901\u001b[0m \u001b[1;33m\u001b[0m\u001b[0m\n\u001b[1;32m-> 1902\u001b[1;33m                 \u001b[1;32mreturn\u001b[0m \u001b[0mself\u001b[0m\u001b[1;33m.\u001b[0m\u001b[0m_getitem_iterable\u001b[0m\u001b[1;33m(\u001b[0m\u001b[0mkey\u001b[0m\u001b[1;33m,\u001b[0m \u001b[0maxis\u001b[0m\u001b[1;33m=\u001b[0m\u001b[0maxis\u001b[0m\u001b[1;33m)\u001b[0m\u001b[1;33m\u001b[0m\u001b[0m\n\u001b[0m\u001b[0;32m   1903\u001b[0m \u001b[1;33m\u001b[0m\u001b[0m\n\u001b[0;32m   1904\u001b[0m             \u001b[1;31m# nested tuple slicing\u001b[0m\u001b[1;33m\u001b[0m\u001b[1;33m\u001b[0m\u001b[0m\n",
      "\u001b[1;32mc:\\users\\rober\\appdata\\local\\programs\\python\\python36\\lib\\site-packages\\pandas\\core\\indexing.py\u001b[0m in \u001b[0;36m_getitem_iterable\u001b[1;34m(self, key, axis)\u001b[0m\n\u001b[0;32m   1203\u001b[0m             \u001b[1;31m# A collection of keys\u001b[0m\u001b[1;33m\u001b[0m\u001b[1;33m\u001b[0m\u001b[0m\n\u001b[0;32m   1204\u001b[0m             keyarr, indexer = self._get_listlike_indexer(key, axis,\n\u001b[1;32m-> 1205\u001b[1;33m                                                          raise_missing=False)\n\u001b[0m\u001b[0;32m   1206\u001b[0m             return self.obj._reindex_with_indexers({axis: [keyarr, indexer]},\n\u001b[0;32m   1207\u001b[0m                                                    copy=True, allow_dups=True)\n",
      "\u001b[1;32mc:\\users\\rober\\appdata\\local\\programs\\python\\python36\\lib\\site-packages\\pandas\\core\\indexing.py\u001b[0m in \u001b[0;36m_get_listlike_indexer\u001b[1;34m(self, key, axis, raise_missing)\u001b[0m\n\u001b[0;32m   1152\u001b[0m             \u001b[1;32mif\u001b[0m \u001b[0mlen\u001b[0m\u001b[1;33m(\u001b[0m\u001b[0max\u001b[0m\u001b[1;33m)\u001b[0m \u001b[1;32mor\u001b[0m \u001b[1;32mnot\u001b[0m \u001b[0mlen\u001b[0m\u001b[1;33m(\u001b[0m\u001b[0mkey\u001b[0m\u001b[1;33m)\u001b[0m\u001b[1;33m:\u001b[0m\u001b[1;33m\u001b[0m\u001b[0m\n\u001b[0;32m   1153\u001b[0m                 \u001b[0mkey\u001b[0m \u001b[1;33m=\u001b[0m \u001b[0mself\u001b[0m\u001b[1;33m.\u001b[0m\u001b[0m_convert_for_reindex\u001b[0m\u001b[1;33m(\u001b[0m\u001b[0mkey\u001b[0m\u001b[1;33m,\u001b[0m \u001b[0maxis\u001b[0m\u001b[1;33m)\u001b[0m\u001b[1;33m\u001b[0m\u001b[0m\n\u001b[1;32m-> 1154\u001b[1;33m             \u001b[0mindexer\u001b[0m \u001b[1;33m=\u001b[0m \u001b[0max\u001b[0m\u001b[1;33m.\u001b[0m\u001b[0mget_indexer_for\u001b[0m\u001b[1;33m(\u001b[0m\u001b[0mkey\u001b[0m\u001b[1;33m)\u001b[0m\u001b[1;33m\u001b[0m\u001b[0m\n\u001b[0m\u001b[0;32m   1155\u001b[0m             \u001b[0mkeyarr\u001b[0m \u001b[1;33m=\u001b[0m \u001b[0max\u001b[0m\u001b[1;33m.\u001b[0m\u001b[0mreindex\u001b[0m\u001b[1;33m(\u001b[0m\u001b[0mkeyarr\u001b[0m\u001b[1;33m)\u001b[0m\u001b[1;33m[\u001b[0m\u001b[1;36m0\u001b[0m\u001b[1;33m]\u001b[0m\u001b[1;33m\u001b[0m\u001b[0m\n\u001b[0;32m   1156\u001b[0m         \u001b[1;32melse\u001b[0m\u001b[1;33m:\u001b[0m\u001b[1;33m\u001b[0m\u001b[0m\n",
      "\u001b[1;32mc:\\users\\rober\\appdata\\local\\programs\\python\\python36\\lib\\site-packages\\pandas\\core\\indexes\\base.py\u001b[0m in \u001b[0;36mget_indexer_for\u001b[1;34m(self, target, **kwargs)\u001b[0m\n\u001b[0;32m   4452\u001b[0m         \"\"\"\n\u001b[0;32m   4453\u001b[0m         \u001b[1;32mif\u001b[0m \u001b[0mself\u001b[0m\u001b[1;33m.\u001b[0m\u001b[0mis_unique\u001b[0m\u001b[1;33m:\u001b[0m\u001b[1;33m\u001b[0m\u001b[0m\n\u001b[1;32m-> 4454\u001b[1;33m             \u001b[1;32mreturn\u001b[0m \u001b[0mself\u001b[0m\u001b[1;33m.\u001b[0m\u001b[0mget_indexer\u001b[0m\u001b[1;33m(\u001b[0m\u001b[0mtarget\u001b[0m\u001b[1;33m,\u001b[0m \u001b[1;33m**\u001b[0m\u001b[0mkwargs\u001b[0m\u001b[1;33m)\u001b[0m\u001b[1;33m\u001b[0m\u001b[0m\n\u001b[0m\u001b[0;32m   4455\u001b[0m         \u001b[0mindexer\u001b[0m\u001b[1;33m,\u001b[0m \u001b[0m_\u001b[0m \u001b[1;33m=\u001b[0m \u001b[0mself\u001b[0m\u001b[1;33m.\u001b[0m\u001b[0mget_indexer_non_unique\u001b[0m\u001b[1;33m(\u001b[0m\u001b[0mtarget\u001b[0m\u001b[1;33m,\u001b[0m \u001b[1;33m**\u001b[0m\u001b[0mkwargs\u001b[0m\u001b[1;33m)\u001b[0m\u001b[1;33m\u001b[0m\u001b[0m\n\u001b[0;32m   4456\u001b[0m         \u001b[1;32mreturn\u001b[0m \u001b[0mindexer\u001b[0m\u001b[1;33m\u001b[0m\u001b[0m\n",
      "\u001b[1;32mc:\\users\\rober\\appdata\\local\\programs\\python\\python36\\lib\\site-packages\\pandas\\core\\indexes\\base.py\u001b[0m in \u001b[0;36mget_indexer\u001b[1;34m(self, target, method, limit, tolerance)\u001b[0m\n\u001b[0;32m   2752\u001b[0m                                  'backfill or nearest reindexing')\n\u001b[0;32m   2753\u001b[0m \u001b[1;33m\u001b[0m\u001b[0m\n\u001b[1;32m-> 2754\u001b[1;33m             \u001b[0mindexer\u001b[0m \u001b[1;33m=\u001b[0m \u001b[0mself\u001b[0m\u001b[1;33m.\u001b[0m\u001b[0m_engine\u001b[0m\u001b[1;33m.\u001b[0m\u001b[0mget_indexer\u001b[0m\u001b[1;33m(\u001b[0m\u001b[0mtarget\u001b[0m\u001b[1;33m.\u001b[0m\u001b[0m_ndarray_values\u001b[0m\u001b[1;33m)\u001b[0m\u001b[1;33m\u001b[0m\u001b[0m\n\u001b[0m\u001b[0;32m   2755\u001b[0m \u001b[1;33m\u001b[0m\u001b[0m\n\u001b[0;32m   2756\u001b[0m         \u001b[1;32mreturn\u001b[0m \u001b[0mensure_platform_int\u001b[0m\u001b[1;33m(\u001b[0m\u001b[0mindexer\u001b[0m\u001b[1;33m)\u001b[0m\u001b[1;33m\u001b[0m\u001b[0m\n",
      "\u001b[1;32mpandas\\_libs\\index.pyx\u001b[0m in \u001b[0;36mpandas._libs.index.IndexEngine.get_indexer\u001b[1;34m()\u001b[0m\n",
      "\u001b[1;32mpandas\\_libs\\hashtable_class_helper.pxi\u001b[0m in \u001b[0;36mpandas._libs.hashtable.Int64HashTable.lookup\u001b[1;34m()\u001b[0m\n",
      "\u001b[1;32mc:\\users\\rober\\appdata\\local\\programs\\python\\python36\\lib\\site-packages\\numpy\\core\\numeric.py\u001b[0m in \u001b[0;36masarray\u001b[1;34m(a, dtype, order)\u001b[0m\n\u001b[0;32m    422\u001b[0m \u001b[1;33m\u001b[0m\u001b[0m\n\u001b[0;32m    423\u001b[0m \u001b[1;33m\u001b[0m\u001b[0m\n\u001b[1;32m--> 424\u001b[1;33m \u001b[1;32mdef\u001b[0m \u001b[0masarray\u001b[0m\u001b[1;33m(\u001b[0m\u001b[0ma\u001b[0m\u001b[1;33m,\u001b[0m \u001b[0mdtype\u001b[0m\u001b[1;33m=\u001b[0m\u001b[1;32mNone\u001b[0m\u001b[1;33m,\u001b[0m \u001b[0morder\u001b[0m\u001b[1;33m=\u001b[0m\u001b[1;32mNone\u001b[0m\u001b[1;33m)\u001b[0m\u001b[1;33m:\u001b[0m\u001b[1;33m\u001b[0m\u001b[0m\n\u001b[0m\u001b[0;32m    425\u001b[0m     \"\"\"Convert the input to an array.\n\u001b[0;32m    426\u001b[0m \u001b[1;33m\u001b[0m\u001b[0m\n",
      "\u001b[1;31mKeyboardInterrupt\u001b[0m: "
     ]
    }
   ],
   "source": [
    "net3 = Net3(initial, middle1, middle2, final)\n",
    "optimizer = optim.Adam(net3.parameters(), lr=lr)\n",
    "    \n",
    "fit(X2, X2_val, Y2, Y2_val, net3, optimizer, comb_error, 900, \n",
    "                    batch_size, iter_to_avg, lr, 0.30, PATH, device, 1)"
   ]
  },
  {
   "cell_type": "code",
   "execution_count": 237,
   "metadata": {},
   "outputs": [],
   "source": [
    "#np.save('lossesN0.npy', lossesN0)\n",
    "#np.save('lossesN11.npy', lossesN11)\n",
    "#np.save('lossesN12.npy', lossesN12)\n",
    "#np.save('lossesN21.npy', lossesN21)\n",
    "#np.save('lossesN22.npy', lossesN22)"
   ]
  },
  {
   "cell_type": "code",
   "execution_count": 242,
   "metadata": {},
   "outputs": [
    {
     "data": {
      "text/plain": [
       "Text(0.5, 1.0, 'Model Tunning')"
      ]
     },
     "execution_count": 242,
     "metadata": {},
     "output_type": "execute_result"
    },
    {
     "data": {
      "image/png": "[encoded data removed]",
      "text/plain": [
       "<Figure size 432x288 with 1 Axes>"
      ]
     },
     "metadata": {
      "needs_background": "light"
     },
     "output_type": "display_data"
    }
   ],
   "source": [
    "lossesN0 = np.load('lossesN0.npy')\n",
    "lossesN11 = np.load('lossesN11.npy')\n",
    "lossesN12 = np.load('lossesN12.npy')\n",
    "lossesN21 = np.load('lossesN21.npy')\n",
    "lossesN22 = np.load('lossesN22.npy')\n",
    "\n",
    "llist = [lossesN0, lossesN11, lossesN12, lossesN21, lossesN22]\n",
    "lmean = np.array([])\n",
    "lmax = np.array([])\n",
    "lmin = np.array([])\n",
    "\n",
    "for l in llist:\n",
    "    lmean = np.append(lmean, np.mean(l))\n",
    "    lmax = np.append(lmax, np.max(l))\n",
    "    lmin = np.append(lmin, np.min(l))\n",
    "    \n",
    "x = list(range(1,6,1))\n",
    "pos_dif = lmax - lmean\n",
    "neg_dif = lmean - lmin\n",
    "\n",
    "plt.figure()\n",
    "plt.errorbar(x, lmean, yerr=[neg_dif, pos_dif], xerr=None, fmt='--o')\n",
    "plt.title('Model Tunning')    "
   ]
  },
  {
   "cell_type": "code",
   "execution_count": 243,
   "metadata": {},
   "outputs": [
    {
     "data": {
      "text/plain": [
       "array([2.05771422, 1.99627841, 1.99525726, 1.99541318, 2.00090384])"
      ]
     },
     "execution_count": 243,
     "metadata": {},
     "output_type": "execute_result"
    }
   ],
   "source": [
    "lmin"
   ]
  },
  {
   "cell_type": "code",
   "execution_count": 244,
   "metadata": {},
   "outputs": [
    {
     "data": {
      "text/plain": [
       "array([2.07756346, 2.00412071, 2.00902845, 2.00851116, 2.01033958])"
      ]
     },
     "execution_count": 244,
     "metadata": {},
     "output_type": "execute_result"
    }
   ],
   "source": [
    "lmean"
   ]
  },
  {
   "cell_type": "markdown",
   "metadata": {},
   "source": [
    "## New Fit Model\n",
    "\n",
    "Lets try it first:"
   ]
  },
  {
   "cell_type": "code",
   "execution_count": 13,
   "metadata": {},
   "outputs": [],
   "source": [
    "os.chdir('C:\\\\Users\\\\rober\\\\Desktop\\\\RAND_pro\\\\prog_calc')\n",
    "from fit3_nn import fit"
   ]
  },
  {
   "cell_type": "code",
   "execution_count": 14,
   "metadata": {},
   "outputs": [],
   "source": [
    "import torch.nn as nn\n",
    "import torch.nn.functional as F"
   ]
  },
  {
   "cell_type": "code",
   "execution_count": 15,
   "metadata": {},
   "outputs": [],
   "source": [
    "class Net1(nn.Module):\n",
    "    def __init__(self, initial, final):\n",
    "        super(Net1, self).__init__()\n",
    "        self.fc1 = nn.Linear(initial, final)\n",
    "        self.fc2 = nn.Linear(final, 2)\n",
    "                \n",
    "    def disc_activation(self, h):\n",
    "        v1 = torch.sigmoid(h[:,0])\n",
    "        v2 = h[:,1]\n",
    "        return torch.stack((v1, v2), dim=1)\n",
    "                \n",
    "    def forward(self, x):\n",
    "        x = F.relu(self.fc1(x))\n",
    "        x = self.disc_activation(self.fc2(x))\n",
    "        return x"
   ]
  },
  {
   "cell_type": "code",
   "execution_count": 16,
   "metadata": {},
   "outputs": [],
   "source": [
    "def comb_error(output, target):\n",
    "    output = (output + 0.0001)*0.999\n",
    "    logErr1 = -1 * torch.log(output) * target[:,0].view(1,-1).t()\n",
    "    logErr2 = -1 * torch.log(1 - output) * (1 - target[:,0].view(1,-1)).t()\n",
    "    mseErr = torch.pow(target - output, 2) * (1 - target[:,0].view(1,-1)).t()\n",
    "    return (1/output.shape[0]) * (torch.sum(logErr1,dim=0)[0] + torch.sum(logErr2,dim=0)[0] + torch.sum(mseErr,dim=0)[1])"
   ]
  },
  {
   "cell_type": "code",
   "execution_count": 17,
   "metadata": {},
   "outputs": [],
   "source": [
    "my_index = X.columns.values[ranking]\n",
    "X2 = X[my_index]\n",
    "X2_val = X_val[my_index]"
   ]
  },
  {
   "cell_type": "code",
   "execution_count": 23,
   "metadata": {},
   "outputs": [],
   "source": [
    "initial = X2.shape[1]\n",
    "final = int(round(initial * 1.5, 0)) "
   ]
  },
  {
   "cell_type": "markdown",
   "metadata": {},
   "source": [
    "### Tune n_batches - batch_to_avg"
   ]
  },
  {
   "cell_type": "code",
   "execution_count": 33,
   "metadata": {},
   "outputs": [],
   "source": [
    "n_epochs = 200\n",
    "lr = 0.01\n",
    "clipping = 0.25\n",
    "verbose = 0\n",
    "PATH = 'C:\\\\Users\\\\rober\\\\Desktop\\\\RAND_pro\\\\Data\\\\checkpoints\\\\mytraining3.pt'\n",
    "device = torch.device(\"cuda:0\" if torch.cuda.is_available() else \"cpu\")"
   ]
  },
  {
   "cell_type": "code",
   "execution_count": 34,
   "metadata": {},
   "outputs": [
    {
     "name": "stdout",
     "output_type": "stream",
     "text": [
      "Done insider loop 1 of 20\n",
      "Done insider loop 2 of 20\n",
      "Done insider loop 3 of 20\n",
      "Done insider loop 4 of 20\n",
      "Done insider loop 5 of 20\n",
      "Done insider loop 6 of 20\n",
      "Done insider loop 7 of 20\n",
      "Done insider loop 8 of 20\n",
      "Done insider loop 9 of 20\n",
      "Done insider loop 10 of 20\n",
      "Done insider loop 11 of 20\n",
      "Done insider loop 12 of 20\n",
      "Done insider loop 13 of 20\n",
      "Done insider loop 14 of 20\n",
      "Done insider loop 15 of 20\n",
      "Done insider loop 16 of 20\n",
      "Done insider loop 17 of 20\n",
      "Done insider loop 18 of 20\n",
      "Done insider loop 19 of 20\n",
      "Done insider loop 20 of 20\n",
      "Done outsider loop 1 of 5\n",
      "Done insider loop 1 of 20\n",
      "Done insider loop 2 of 20\n",
      "Done insider loop 3 of 20\n",
      "Done insider loop 4 of 20\n",
      "Done insider loop 5 of 20\n",
      "Done insider loop 6 of 20\n",
      "Done insider loop 7 of 20\n",
      "Done insider loop 8 of 20\n",
      "Done insider loop 9 of 20\n",
      "Done insider loop 10 of 20\n",
      "Done insider loop 11 of 20\n",
      "Done insider loop 12 of 20\n",
      "Done insider loop 13 of 20\n",
      "Done insider loop 14 of 20\n",
      "Done insider loop 15 of 20\n",
      "Done insider loop 16 of 20\n",
      "Done insider loop 17 of 20\n",
      "Done insider loop 18 of 20\n",
      "Done insider loop 19 of 20\n",
      "Done insider loop 20 of 20\n",
      "Done outsider loop 2 of 5\n",
      "Done insider loop 1 of 20\n",
      "Done insider loop 2 of 20\n",
      "Done insider loop 3 of 20\n",
      "Done insider loop 4 of 20\n",
      "Done insider loop 5 of 20\n",
      "Done insider loop 6 of 20\n",
      "Done insider loop 7 of 20\n",
      "Done insider loop 8 of 20\n",
      "Done insider loop 9 of 20\n",
      "Done insider loop 10 of 20\n",
      "Done insider loop 11 of 20\n",
      "Done insider loop 12 of 20\n",
      "Done insider loop 13 of 20\n",
      "Done insider loop 14 of 20\n",
      "Done insider loop 15 of 20\n",
      "Done insider loop 16 of 20\n",
      "Done insider loop 17 of 20\n",
      "Done insider loop 18 of 20\n",
      "Done insider loop 19 of 20\n",
      "Done insider loop 20 of 20\n",
      "Done outsider loop 3 of 5\n",
      "Done insider loop 1 of 20\n",
      "Done insider loop 2 of 20\n",
      "Done insider loop 3 of 20\n",
      "Done insider loop 4 of 20\n",
      "Done insider loop 5 of 20\n",
      "Done insider loop 6 of 20\n",
      "Done insider loop 7 of 20\n",
      "Done insider loop 8 of 20\n",
      "Done insider loop 9 of 20\n",
      "Done insider loop 10 of 20\n",
      "Done insider loop 11 of 20\n",
      "Done insider loop 12 of 20\n",
      "Done insider loop 13 of 20\n",
      "Done insider loop 14 of 20\n",
      "Done insider loop 15 of 20\n",
      "Done insider loop 16 of 20\n",
      "Done insider loop 17 of 20\n",
      "Done insider loop 18 of 20\n",
      "Done insider loop 19 of 20\n",
      "Done insider loop 20 of 20\n",
      "Done outsider loop 4 of 5\n",
      "Done insider loop 1 of 20\n",
      "Done insider loop 2 of 20\n",
      "Done insider loop 3 of 20\n",
      "Done insider loop 4 of 20\n",
      "Done insider loop 5 of 20\n",
      "Done insider loop 6 of 20\n",
      "Done insider loop 7 of 20\n",
      "Done insider loop 8 of 20\n",
      "Done insider loop 9 of 20\n",
      "Done insider loop 10 of 20\n",
      "Done insider loop 11 of 20\n",
      "Done insider loop 12 of 20\n",
      "Done insider loop 13 of 20\n",
      "Done insider loop 14 of 20\n",
      "Done insider loop 15 of 20\n",
      "Done insider loop 16 of 20\n",
      "Done insider loop 17 of 20\n",
      "Done insider loop 18 of 20\n",
      "Done insider loop 19 of 20\n",
      "Done insider loop 20 of 20\n",
      "Done outsider loop 5 of 5\n"
     ]
    }
   ],
   "source": [
    "combinations = [(4,2),(6,2),(6,3),(8,2),(8,4)]\n",
    "errors = np.array([])\n",
    "counter = 0\n",
    "\n",
    "for c in combinations:\n",
    "    \n",
    "    nb, ba = c\n",
    "    \n",
    "    e = []\n",
    "\n",
    "    for j in range(20):\n",
    "        \n",
    "        net = Net1(initial, final)\n",
    "        optimizer = optim.Adam(net.parameters(), lr=lr)\n",
    "    \n",
    "        fit(X2, X2_val, Y2, Y2_val, net, optimizer, comb_error, n_epochs, \n",
    "                    nb, ba, lr, clipping, PATH, device, verbose)\n",
    "    \n",
    "        with torch.no_grad():\n",
    "        \n",
    "            net.load_state_dict(torch.load(PATH))\n",
    "        \n",
    "            val_inputs = torch.FloatTensor(X2_val.values)\n",
    "            val_labels = torch.FloatTensor(Y2_val)\n",
    "            val_inputs, val_labels = val_inputs.to(device), val_labels.to(device)\n",
    "            val_outputs = net.forward(val_inputs)\n",
    "            val_loss = comb_error(val_outputs, val_labels) \n",
    "            e.append(val_loss.item())\n",
    "            \n",
    "        print('Done insider loop {0} of {1}'.format(j+1, 20))\n",
    "    \n",
    "    errors = np.vstack([errors, np.array(e)]) if errors.size else np.array(e)\n",
    "    counter+=1\n",
    "    print('Done outsider loop {0} of {1}'.format(counter, 5))  "
   ]
  },
  {
   "cell_type": "code",
   "execution_count": 36,
   "metadata": {},
   "outputs": [],
   "source": [
    "#np.save('errors_nba.npy', errors)\n",
    "errors = np.load('errors_nba.npy')"
   ]
  },
  {
   "cell_type": "code",
   "execution_count": 37,
   "metadata": {},
   "outputs": [],
   "source": [
    "x = list(range(1, 6, 1))\n",
    "mean_error = np.mean(errors, axis=1)\n",
    "pos_dif = np.max(errors, axis=1) - mean_error\n",
    "neg_dif = mean_error - np.min(errors, axis=1)"
   ]
  },
  {
   "cell_type": "code",
   "execution_count": 38,
   "metadata": {},
   "outputs": [
    {
     "data": {
      "text/plain": [
       "Text(0.5, 1.0, 'Batches Tunning')"
      ]
     },
     "execution_count": 38,
     "metadata": {},
     "output_type": "execute_result"
    },
    {
     "data": {
      "image/png": "[encoded data removed]",
      "text/plain": [
       "<Figure size 432x288 with 1 Axes>"
      ]
     },
     "metadata": {
      "needs_background": "light"
     },
     "output_type": "display_data"
    }
   ],
   "source": [
    "plt.figure()\n",
    "plt.errorbar(x, mean_error, yerr=[neg_dif, pos_dif], xerr=None, fmt='--o')\n",
    "plt.title('Batches Tunning')"
   ]
  },
  {
   "cell_type": "code",
   "execution_count": 40,
   "metadata": {},
   "outputs": [
    {
     "data": {
      "text/plain": [
       "[(4, 2), (6, 2), (6, 3), (8, 2), (8, 4)]"
      ]
     },
     "execution_count": 40,
     "metadata": {},
     "output_type": "execute_result"
    }
   ],
   "source": [
    "combinations"
   ]
  },
  {
   "cell_type": "code",
   "execution_count": 39,
   "metadata": {},
   "outputs": [
    {
     "data": {
      "text/plain": [
       "array([1.99838933, 1.99874617, 1.99788644, 1.99609646, 2.00019776])"
      ]
     },
     "execution_count": 39,
     "metadata": {},
     "output_type": "execute_result"
    }
   ],
   "source": [
    "mean_error"
   ]
  },
  {
   "cell_type": "code",
   "execution_count": 41,
   "metadata": {},
   "outputs": [
    {
     "data": {
      "text/plain": [
       "array([1.98153639, 1.97957087, 1.98879349, 1.98140061, 1.98569524])"
      ]
     },
     "execution_count": 41,
     "metadata": {},
     "output_type": "execute_result"
    }
   ],
   "source": [
    "np.min(errors, axis=1)"
   ]
  },
  {
   "cell_type": "markdown",
   "metadata": {},
   "source": [
    "Use or (6, 2) or (8, 2). We saw 1.97!!\n",
    "\n",
    "## Tune clipping"
   ]
  },
  {
   "cell_type": "code",
   "execution_count": 41,
   "metadata": {},
   "outputs": [],
   "source": [
    "os.chdir('C:\\\\Users\\\\rober\\\\Desktop\\\\RAND_pro\\\\prog_calc')\n",
    "from fit3_nn import fit"
   ]
  },
  {
   "cell_type": "code",
   "execution_count": 42,
   "metadata": {},
   "outputs": [],
   "source": [
    "import torch.nn as nn\n",
    "import torch.nn.functional as F"
   ]
  },
  {
   "cell_type": "code",
   "execution_count": 43,
   "metadata": {},
   "outputs": [],
   "source": [
    "class Net1(nn.Module):\n",
    "    def __init__(self, initial, final):\n",
    "        super(Net1, self).__init__()\n",
    "        self.fc1 = nn.Linear(initial, final)\n",
    "        self.fc2 = nn.Linear(final, 2)\n",
    "                \n",
    "    def disc_activation(self, h):\n",
    "        v1 = torch.sigmoid(h[:,0])\n",
    "        v2 = h[:,1]\n",
    "        return torch.stack((v1, v2), dim=1)\n",
    "                \n",
    "    def forward(self, x):\n",
    "        x = F.relu(self.fc1(x))\n",
    "        x = self.disc_activation(self.fc2(x))\n",
    "        return x"
   ]
  },
  {
   "cell_type": "code",
   "execution_count": 44,
   "metadata": {},
   "outputs": [],
   "source": [
    "def comb_error(output, target):\n",
    "    output = (output + 0.0001)*0.999\n",
    "    logErr1 = -1 * torch.log(output) * target[:,0].view(1,-1).t()\n",
    "    logErr2 = -1 * torch.log(1 - output) * (1 - target[:,0].view(1,-1)).t()\n",
    "    mseErr = torch.pow(target - output, 2) * (1 - target[:,0].view(1,-1)).t()\n",
    "    return (1/output.shape[0]) * (torch.sum(logErr1,dim=0)[0] + torch.sum(logErr2,dim=0)[0] + torch.sum(mseErr,dim=0)[1])"
   ]
  },
  {
   "cell_type": "code",
   "execution_count": 45,
   "metadata": {},
   "outputs": [],
   "source": [
    "my_index = X.columns.values[ranking]\n",
    "X2 = X[my_index]\n",
    "X2_val = X_val[my_index]"
   ]
  },
  {
   "cell_type": "code",
   "execution_count": 46,
   "metadata": {},
   "outputs": [],
   "source": [
    "initial = X2.shape[1]\n",
    "final = int(round(initial * 1.5, 0)) "
   ]
  },
  {
   "cell_type": "code",
   "execution_count": 48,
   "metadata": {},
   "outputs": [],
   "source": [
    "n_epochs = 200\n",
    "lr = 0.01\n",
    "verbose = 0\n",
    "n_batches = 6\n",
    "batch_to_avg = 2\n",
    "PATH = 'C:\\\\Users\\\\rober\\\\Desktop\\\\RAND_pro\\\\Data\\\\checkpoints\\\\mytraining3.pt'\n",
    "device = torch.device(\"cuda:0\" if torch.cuda.is_available() else \"cpu\")"
   ]
  },
  {
   "cell_type": "code",
   "execution_count": 57,
   "metadata": {},
   "outputs": [
    {
     "name": "stdout",
     "output_type": "stream",
     "text": [
      "Done insider loop 1 of 20\n",
      "Done insider loop 2 of 20\n",
      "Done insider loop 3 of 20\n",
      "Done insider loop 4 of 20\n",
      "Done insider loop 5 of 20\n",
      "Done insider loop 6 of 20\n",
      "Done insider loop 7 of 20\n",
      "Done insider loop 8 of 20\n",
      "Done insider loop 9 of 20\n",
      "Done insider loop 10 of 20\n",
      "Done insider loop 11 of 20\n",
      "Done insider loop 12 of 20\n",
      "Done insider loop 13 of 20\n",
      "Done insider loop 14 of 20\n",
      "Done insider loop 15 of 20\n",
      "Done insider loop 16 of 20\n",
      "Done insider loop 17 of 20\n",
      "Done insider loop 18 of 20\n",
      "Done insider loop 19 of 20\n",
      "Done insider loop 20 of 20\n",
      "Done outsider loop 1 of 5\n",
      "Done insider loop 1 of 20\n",
      "Done insider loop 2 of 20\n",
      "Done insider loop 3 of 20\n",
      "Done insider loop 4 of 20\n",
      "Done insider loop 5 of 20\n",
      "Done insider loop 6 of 20\n",
      "Done insider loop 7 of 20\n",
      "Done insider loop 8 of 20\n",
      "Done insider loop 9 of 20\n",
      "Done insider loop 10 of 20\n",
      "Done insider loop 11 of 20\n",
      "Done insider loop 12 of 20\n",
      "Done insider loop 13 of 20\n",
      "Done insider loop 14 of 20\n",
      "Done insider loop 15 of 20\n",
      "Done insider loop 16 of 20\n",
      "Done insider loop 17 of 20\n",
      "Done insider loop 18 of 20\n",
      "Done insider loop 19 of 20\n",
      "Done insider loop 20 of 20\n",
      "Done outsider loop 2 of 5\n",
      "Done insider loop 1 of 20\n",
      "Done insider loop 2 of 20\n",
      "Done insider loop 3 of 20\n",
      "Done insider loop 4 of 20\n",
      "Done insider loop 5 of 20\n",
      "Done insider loop 6 of 20\n",
      "Done insider loop 7 of 20\n",
      "Done insider loop 8 of 20\n",
      "Done insider loop 9 of 20\n",
      "Done insider loop 10 of 20\n",
      "Done insider loop 11 of 20\n",
      "Done insider loop 12 of 20\n",
      "Done insider loop 13 of 20\n",
      "Done insider loop 14 of 20\n",
      "Done insider loop 15 of 20\n",
      "Done insider loop 16 of 20\n",
      "Done insider loop 17 of 20\n",
      "Done insider loop 18 of 20\n",
      "Done insider loop 19 of 20\n",
      "Done insider loop 20 of 20\n",
      "Done outsider loop 3 of 5\n",
      "Done insider loop 1 of 20\n",
      "Done insider loop 2 of 20\n",
      "Done insider loop 3 of 20\n",
      "Done insider loop 4 of 20\n",
      "Done insider loop 5 of 20\n",
      "Done insider loop 6 of 20\n",
      "Done insider loop 7 of 20\n",
      "Done insider loop 8 of 20\n",
      "Done insider loop 9 of 20\n",
      "Done insider loop 10 of 20\n",
      "Done insider loop 11 of 20\n",
      "Done insider loop 12 of 20\n",
      "Done insider loop 13 of 20\n",
      "Done insider loop 14 of 20\n",
      "Done insider loop 15 of 20\n",
      "Done insider loop 16 of 20\n",
      "Done insider loop 17 of 20\n",
      "Done insider loop 18 of 20\n",
      "Done insider loop 19 of 20\n",
      "Done insider loop 20 of 20\n",
      "Done outsider loop 4 of 5\n",
      "Done insider loop 1 of 20\n",
      "Done insider loop 2 of 20\n",
      "Done insider loop 3 of 20\n",
      "Done insider loop 4 of 20\n",
      "Done insider loop 5 of 20\n",
      "Done insider loop 6 of 20\n",
      "Done insider loop 7 of 20\n",
      "Done insider loop 8 of 20\n",
      "Done insider loop 9 of 20\n",
      "Done insider loop 10 of 20\n",
      "Done insider loop 11 of 20\n",
      "Done insider loop 12 of 20\n",
      "Done insider loop 13 of 20\n",
      "Done insider loop 14 of 20\n",
      "Done insider loop 15 of 20\n",
      "Done insider loop 16 of 20\n",
      "Done insider loop 17 of 20\n",
      "Done insider loop 18 of 20\n",
      "Done insider loop 19 of 20\n",
      "Done insider loop 20 of 20\n",
      "Done outsider loop 5 of 5\n"
     ]
    }
   ],
   "source": [
    "#combinations = [0.1, 0.2, 0.25, 0.3, 0.4, 0.5]\n",
    "combinations2 = [0.6, 0.65, 0.7, 0.75, 0.8]\n",
    "#errors = np.array([])\n",
    "errors = np.load('errors_clip.npy')\n",
    "counter = 0\n",
    "\n",
    "for c in combinations2:    \n",
    "    \n",
    "    e = []\n",
    "\n",
    "    for j in range(20):\n",
    "        \n",
    "        net = Net1(initial, final)\n",
    "        optimizer = optim.Adam(net.parameters(), lr=lr)\n",
    "    \n",
    "        fit(X2, X2_val, Y2, Y2_val, net, optimizer, comb_error, n_epochs, \n",
    "                    n_batches, batch_to_avg, lr, c, PATH, device, verbose)\n",
    "    \n",
    "        with torch.no_grad():\n",
    "        \n",
    "            net.load_state_dict(torch.load(PATH))\n",
    "        \n",
    "            val_inputs = torch.FloatTensor(X2_val.values)\n",
    "            val_labels = torch.FloatTensor(Y2_val)\n",
    "            val_inputs, val_labels = val_inputs.to(device), val_labels.to(device)\n",
    "            val_outputs = net.forward(val_inputs)\n",
    "            val_loss = comb_error(val_outputs, val_labels) \n",
    "            e.append(val_loss.item())\n",
    "            \n",
    "        print('Done insider loop {0} of {1}'.format(j+1, 20))\n",
    "    \n",
    "    errors = np.vstack([errors, np.array(e)]) if errors.size else np.array(e)\n",
    "    counter+=1\n",
    "    print('Done outsider loop {0} of {1}'.format(counter, 5))  "
   ]
  },
  {
   "cell_type": "code",
   "execution_count": 59,
   "metadata": {},
   "outputs": [],
   "source": [
    "#np.save('errors_clip.npy', errors)\n",
    "errors = np.load('errors_clip.npy')"
   ]
  },
  {
   "cell_type": "code",
   "execution_count": 60,
   "metadata": {},
   "outputs": [],
   "source": [
    "x = combinations + combinations2\n",
    "mean_error = np.mean(errors, axis=1)\n",
    "pos_dif = np.max(errors, axis=1) - mean_error\n",
    "neg_dif = mean_error - np.min(errors, axis=1)"
   ]
  },
  {
   "cell_type": "code",
   "execution_count": 61,
   "metadata": {},
   "outputs": [
    {
     "data": {
      "text/plain": [
       "Text(0.5, 1.0, 'Clip Tunning')"
      ]
     },
     "execution_count": 61,
     "metadata": {},
     "output_type": "execute_result"
    },
    {
     "data": {
      "image/png": "[encoded data removed]",
      "text/plain": [
       "<Figure size 432x288 with 1 Axes>"
      ]
     },
     "metadata": {
      "needs_background": "light"
     },
     "output_type": "display_data"
    }
   ],
   "source": [
    "plt.figure()\n",
    "plt.errorbar(x, mean_error, yerr=[neg_dif, pos_dif], xerr=None, fmt='--o')\n",
    "plt.title('Clip Tunning')"
   ]
  },
  {
   "cell_type": "code",
   "execution_count": 64,
   "metadata": {},
   "outputs": [
    {
     "data": {
      "text/plain": [
       "array([1.99968262, 1.99882171, 2.00092499, 1.99603797, 1.994832  ,\n",
       "       1.99384741, 1.99598251, 1.99552453, 1.99577338, 1.99772721,\n",
       "       1.99779202])"
      ]
     },
     "execution_count": 64,
     "metadata": {},
     "output_type": "execute_result"
    }
   ],
   "source": [
    "mean_error"
   ]
  },
  {
   "cell_type": "code",
   "execution_count": 65,
   "metadata": {},
   "outputs": [
    {
     "data": {
      "text/plain": [
       "array([1.98549545, 1.98987937, 1.98574042, 1.97778296, 1.97827458,\n",
       "       1.97769797, 1.98450565, 1.9823575 , 1.9785794 , 1.98353469,\n",
       "       1.99170697])"
      ]
     },
     "execution_count": 65,
     "metadata": {},
     "output_type": "execute_result"
    }
   ],
   "source": [
    "np.min(errors, axis=1)"
   ]
  },
  {
   "cell_type": "markdown",
   "metadata": {},
   "source": [
    "Awesome use clipping = 0.5"
   ]
  },
  {
   "cell_type": "markdown",
   "metadata": {},
   "source": [
    "## Multiprocessing (project)"
   ]
  },
  {
   "cell_type": "markdown",
   "metadata": {},
   "source": [
    "We have to work in the command line.\n",
    "\n",
    "Lets duplicate the clipping excersise. We start with clipping = 0.5"
   ]
  },
  {
   "cell_type": "code",
   "execution_count": 67,
   "metadata": {},
   "outputs": [],
   "source": [
    "import numpy as np"
   ]
  },
  {
   "cell_type": "code",
   "execution_count": 66,
   "metadata": {},
   "outputs": [],
   "source": [
    "a1 = [1.989808440208435, 1.987911343574524, 1.9938249588012695, 1.9896562099456787, \n",
    " 1.9905587434768677, 1.9918371438980103, 1.9894558191299438, 1.9904104471206665, 1.9875143766403198, 1.9916263818740845]"
   ]
  },
  {
   "cell_type": "code",
   "execution_count": 69,
   "metadata": {},
   "outputs": [],
   "source": [
    "a2 = [2.004012107849121, 1.9999842643737793, 2.004516839981079, 2.0094165802001953, \n",
    "     2.0083091259002686, 2.005164384841919, 1.9976801872253418, \n",
    "             2.0094783306121826, 2.002147912979126, 2.005666732788086]"
   ]
  },
  {
   "cell_type": "code",
   "execution_count": 71,
   "metadata": {},
   "outputs": [
    {
     "data": {
      "text/plain": [
       "1.997449016571045"
      ]
     },
     "execution_count": 71,
     "metadata": {},
     "output_type": "execute_result"
    }
   ],
   "source": [
    "arr = np.array(a1+a2)\n",
    "np.mean(arr)"
   ]
  },
  {
   "cell_type": "code",
   "execution_count": 72,
   "metadata": {},
   "outputs": [
    {
     "data": {
      "text/plain": [
       "1.9875143766403198"
      ]
     },
     "execution_count": 72,
     "metadata": {},
     "output_type": "execute_result"
    }
   ],
   "source": [
    "np.min(arr)"
   ]
  },
  {
   "cell_type": "markdown",
   "metadata": {},
   "source": [
    "Now lets do clipping = 0.4"
   ]
  },
  {
   "cell_type": "code",
   "execution_count": 74,
   "metadata": {},
   "outputs": [],
   "source": [
    "a1 = [1.9937334060668945, 1.9908099174499512, 1.9903090000152588, 1.9899325370788574, 1.9897668361663818, \n",
    "      1.9915707111358643, 1.9932501316070557, 1.9864273071289062, 1.994633436203003, 1.996127963066101]"
   ]
  },
  {
   "cell_type": "code",
   "execution_count": 75,
   "metadata": {},
   "outputs": [],
   "source": [
    "a2 = [1.9928901195526123, 1.9827218055725098, 1.994149088859558, 1.9924598932266235, 1.9937926530838013, \n",
    "         1.9915966987609863, 1.9899784326553345, 1.9915918111801147, 1.9940214157104492, 1.9916601181030273]"
   ]
  },
  {
   "cell_type": "code",
   "execution_count": 76,
   "metadata": {},
   "outputs": [
    {
     "data": {
      "text/plain": [
       "1.9915711641311646"
      ]
     },
     "execution_count": 76,
     "metadata": {},
     "output_type": "execute_result"
    }
   ],
   "source": [
    "arr = np.array(a1+a2)\n",
    "np.mean(arr)"
   ]
  },
  {
   "cell_type": "code",
   "execution_count": 77,
   "metadata": {},
   "outputs": [
    {
     "data": {
      "text/plain": [
       "1.9827218055725098"
      ]
     },
     "execution_count": 77,
     "metadata": {},
     "output_type": "execute_result"
    }
   ],
   "source": [
    "np.min(arr)"
   ]
  },
  {
   "cell_type": "markdown",
   "metadata": {},
   "source": [
    "Now lets do clipping = 0.3"
   ]
  },
  {
   "cell_type": "code",
   "execution_count": 78,
   "metadata": {},
   "outputs": [],
   "source": [
    "a1 = [1.9906810522079468, 1.9801478385925293, 1.9870569705963135, 1.9804508686065674, 1.991188645362854, \n",
    "     1.9836093187332153, 1.9827696084976196, 1.9867743253707886, 1.9806052446365356, 1.995399832725525]"
   ]
  },
  {
   "cell_type": "code",
   "execution_count": 80,
   "metadata": {},
   "outputs": [],
   "source": [
    "a2 = [2.0089712142944336, 2.004420042037964, 2.0019352436065674, 2.0026116371154785, 1.9986059665679932, \n",
    " 2.012845754623413, 1.9944911003112793, 2.02063250541687, 2.003596782684326, 2.00834321975708]"
   ]
  },
  {
   "cell_type": "code",
   "execution_count": 81,
   "metadata": {},
   "outputs": [
    {
     "data": {
      "text/plain": [
       "1.995756858587265"
      ]
     },
     "execution_count": 81,
     "metadata": {},
     "output_type": "execute_result"
    }
   ],
   "source": [
    "arr = np.array(a1+a2)\n",
    "np.mean(arr)"
   ]
  },
  {
   "cell_type": "code",
   "execution_count": 82,
   "metadata": {},
   "outputs": [
    {
     "data": {
      "text/plain": [
       "1.9801478385925293"
      ]
     },
     "execution_count": 82,
     "metadata": {},
     "output_type": "execute_result"
    }
   ],
   "source": [
    "np.min(arr)"
   ]
  },
  {
   "cell_type": "markdown",
   "metadata": {},
   "source": [
    "Now lets do cipping = 0.25"
   ]
  },
  {
   "cell_type": "code",
   "execution_count": 83,
   "metadata": {},
   "outputs": [],
   "source": [
    "a1 = [1.9987839460372925, 1.9951740503311157, 1.9981001615524292, 1.9820632934570312, 2.0022976398468018, 1.9930415153503418, \n",
    "         2.0027546882629395, 1.9934102296829224, 1.9938185214996338, 1.999768853187561]"
   ]
  },
  {
   "cell_type": "code",
   "execution_count": 84,
   "metadata": {},
   "outputs": [],
   "source": [
    "a2 = [1.9954134225845337, 1.9999384880065918, 1.9911651611328125, 1.9934989213943481, 1.9941112995147705, 1.994840383529663, \n",
    "         1.995001196861267, 1.9899380207061768, 1.9960955381393433, 1.9906976222991943]"
   ]
  },
  {
   "cell_type": "code",
   "execution_count": 85,
   "metadata": {},
   "outputs": [
    {
     "data": {
      "text/plain": [
       "1.9949956476688384"
      ]
     },
     "execution_count": 85,
     "metadata": {},
     "output_type": "execute_result"
    }
   ],
   "source": [
    "arr = np.array(a1+a2)\n",
    "np.mean(arr)"
   ]
  },
  {
   "cell_type": "code",
   "execution_count": 86,
   "metadata": {},
   "outputs": [
    {
     "data": {
      "text/plain": [
       "1.9820632934570312"
      ]
     },
     "execution_count": 86,
     "metadata": {},
     "output_type": "execute_result"
    }
   ],
   "source": [
    "np.min(arr)"
   ]
  },
  {
   "cell_type": "markdown",
   "metadata": {},
   "source": [
    "Lets do clipping = 0.6"
   ]
  },
  {
   "cell_type": "code",
   "execution_count": 87,
   "metadata": {},
   "outputs": [],
   "source": [
    "a1 = [1.993869662284851, 1.997901439666748, 1.9901559352874756, 1.994396448135376, 1.992261290550232, \n",
    "         1.9907597303390503, 1.9896798133850098, 1.9916975498199463, 1.9939631223678589, 1.9925572872161865]"
   ]
  },
  {
   "cell_type": "code",
   "execution_count": 88,
   "metadata": {},
   "outputs": [],
   "source": [
    "a2 = [1.9961763620376587, 1.991639256477356, 1.9942914247512817, 1.9965400695800781, 1.99410080909729, 2.007176399230957, \n",
    "             1.9958993196487427, 2.0052781105041504, 1.9933340549468994, 1.9932295083999634]"
   ]
  },
  {
   "cell_type": "code",
   "execution_count": 89,
   "metadata": {},
   "outputs": [
    {
     "data": {
      "text/plain": [
       "1.9947453796863557"
      ]
     },
     "execution_count": 89,
     "metadata": {},
     "output_type": "execute_result"
    }
   ],
   "source": [
    "arr = np.array(a1+a2)\n",
    "np.mean(arr)"
   ]
  },
  {
   "cell_type": "code",
   "execution_count": 90,
   "metadata": {},
   "outputs": [
    {
     "data": {
      "text/plain": [
       "1.9896798133850098"
      ]
     },
     "execution_count": 90,
     "metadata": {},
     "output_type": "execute_result"
    }
   ],
   "source": [
    "np.min(arr)"
   ]
  },
  {
   "cell_type": "markdown",
   "metadata": {},
   "source": [
    "We end with clipping = 0.4. \n",
    "\n",
    "## Bias \n",
    "\n",
    "Lets take the bias out of the second layer:"
   ]
  },
  {
   "cell_type": "code",
   "execution_count": 95,
   "metadata": {},
   "outputs": [],
   "source": [
    "a1 = [2.0135586261749268, 1.9963246583938599, 2.010751962661743, 2.007072687149048, 2.0039455890655518, 2.005002021789551, \n",
    "         2.007030487060547, 2.0033934116363525, 2.0079023838043213, 2.006502866744995]"
   ]
  },
  {
   "cell_type": "code",
   "execution_count": 96,
   "metadata": {},
   "outputs": [],
   "source": [
    "a2 = [1.9952017068862915, 1.995530128479004, 1.9988560676574707, 1.9938088655471802, 1.9976831674575806, 1.9969016313552856, \n",
    "         1.9975837469100952, 1.9967474937438965, 1.9983675479888916, 1.997945785522461]"
   ]
  },
  {
   "cell_type": "code",
   "execution_count": 97,
   "metadata": {},
   "outputs": [
    {
     "data": {
      "text/plain": [
       "2.0015055418014525"
      ]
     },
     "execution_count": 97,
     "metadata": {},
     "output_type": "execute_result"
    }
   ],
   "source": [
    "arr = np.array(a1+a2)\n",
    "np.mean(arr)"
   ]
  },
  {
   "cell_type": "code",
   "execution_count": 98,
   "metadata": {},
   "outputs": [
    {
     "data": {
      "text/plain": [
       "1.9938088655471802"
      ]
     },
     "execution_count": 98,
     "metadata": {},
     "output_type": "execute_result"
    }
   ],
   "source": [
    "np.min(arr)"
   ]
  },
  {
   "cell_type": "markdown",
   "metadata": {},
   "source": [
    "Now bias in the second layer but not in the first:"
   ]
  },
  {
   "cell_type": "code",
   "execution_count": 99,
   "metadata": {},
   "outputs": [],
   "source": [
    "a1 = [1.9979671239852905, 1.9930962324142456, 1.993821382522583, 1.9952532052993774, 1.9935283660888672, 2.0006701946258545, \n",
    "         2.0005228519439697, 1.9929749965667725, 1.9871225357055664, 1.9883074760437012]"
   ]
  },
  {
   "cell_type": "code",
   "execution_count": 100,
   "metadata": {},
   "outputs": [],
   "source": [
    "a2 = [2.0019896030426025, 1.9987882375717163, 1.9956250190734863, 1.9790384769439697, 2.00284481048584, 2.009692430496216,\n",
    "         1.995559811592102, 2.010679006576538, 1.992342233657837, 2.0083487033843994]"
   ]
  },
  {
   "cell_type": "code",
   "execution_count": 101,
   "metadata": {},
   "outputs": [
    {
     "data": {
      "text/plain": [
       "1.9969086349010468"
      ]
     },
     "execution_count": 101,
     "metadata": {},
     "output_type": "execute_result"
    }
   ],
   "source": [
    "arr = np.array(a1+a2)\n",
    "np.mean(arr)"
   ]
  },
  {
   "cell_type": "code",
   "execution_count": 102,
   "metadata": {},
   "outputs": [
    {
     "data": {
      "text/plain": [
       "1.9790384769439697"
      ]
     },
     "execution_count": 102,
     "metadata": {},
     "output_type": "execute_result"
    }
   ],
   "source": [
    "np.min(arr)"
   ]
  },
  {
   "cell_type": "markdown",
   "metadata": {},
   "source": [
    "Now bias in both:"
   ]
  },
  {
   "cell_type": "code",
   "execution_count": 103,
   "metadata": {},
   "outputs": [],
   "source": [
    "a1 = [1.9984759092330933, 1.9920258522033691, 1.9951350688934326, 1.9861639738082886, \n",
    "     2.0046377182006836, 1.994974970817566, 1.989182710647583, 1.9855753183364868, 1.9901782274246216, 2.009673833847046]"
   ]
  },
  {
   "cell_type": "code",
   "execution_count": 104,
   "metadata": {},
   "outputs": [],
   "source": [
    "a2 = [1.993374228477478, 2.00634765625, 1.993589162826538, 1.9900076389312744, 2.006300449371338, 1.995674967765808, \n",
    "         1.9909539222717285, 1.9914382696151733, 2.004331588745117, 2.0015921592712402]"
   ]
  },
  {
   "cell_type": "code",
   "execution_count": 105,
   "metadata": {},
   "outputs": [
    {
     "data": {
      "text/plain": [
       "1.9959816813468934"
      ]
     },
     "execution_count": 105,
     "metadata": {},
     "output_type": "execute_result"
    }
   ],
   "source": [
    "arr = np.array(a1+a2)\n",
    "np.mean(arr)"
   ]
  },
  {
   "cell_type": "code",
   "execution_count": 106,
   "metadata": {},
   "outputs": [
    {
     "data": {
      "text/plain": [
       "1.9855753183364868"
      ]
     },
     "execution_count": 106,
     "metadata": {},
     "output_type": "execute_result"
    }
   ],
   "source": [
    "np.min(arr)"
   ]
  },
  {
   "cell_type": "markdown",
   "metadata": {},
   "source": [
    "Bias in both!\n",
    "Its tunnned !"
   ]
  },
  {
   "cell_type": "code",
   "execution_count": null,
   "metadata": {},
   "outputs": [],
   "source": []
  },
  {
   "cell_type": "code",
   "execution_count": null,
   "metadata": {},
   "outputs": [],
   "source": []
  },
  {
   "cell_type": "code",
   "execution_count": null,
   "metadata": {},
   "outputs": [],
   "source": []
  },
  {
   "cell_type": "code",
   "execution_count": null,
   "metadata": {},
   "outputs": [],
   "source": [
    "[1.9914478063583374, 2.0212507247924805, 2.0080759525299072, 1.9942394495010376, 1.999081015586853, \n",
    "     2.012341260910034, 2.0095996856689453, 2.009633779525757, 1.996734619140625, 2.001821279525757]"
   ]
  },
  {
   "cell_type": "code",
   "execution_count": null,
   "metadata": {},
   "outputs": [],
   "source": [
    "[1.9926785230636597, 1.9924938678741455, 1.986393928527832, 1.9985560178756714, 1.994783878326416, 1.9844101667404175,\n",
    "         1.9955850839614868, 2.009633779525757, 1.9916625022888184, 1.99861741065979]"
   ]
  },
  {
   "cell_type": "code",
   "execution_count": null,
   "metadata": {},
   "outputs": [],
   "source": []
  },
  {
   "cell_type": "code",
   "execution_count": null,
   "metadata": {},
   "outputs": [],
   "source": []
  },
  {
   "cell_type": "code",
   "execution_count": null,
   "metadata": {},
   "outputs": [],
   "source": []
  },
  {
   "cell_type": "code",
   "execution_count": 112,
   "metadata": {},
   "outputs": [],
   "source": [
    "a1 = [1.9938926696777344, 1.9897377490997314, 1.9873974323272705, 1.994231104850769, 1.9949076175689697, 1.9920494556427002, \n",
    "             1.9926068782806396, 1.99280846118927, 1.98924720287323, 1.9882702827453613]"
   ]
  },
  {
   "cell_type": "code",
   "execution_count": 113,
   "metadata": {},
   "outputs": [],
   "source": [
    "a2 = [1.9942564964294434, 1.9983052015304565, 1.9879502058029175, 1.9968801736831665, 1.9865363836288452, \n",
    "         2.0070302486419678, 2.0080697536468506, 1.991411566734314, 2.007603406906128, 1.987967848777771]"
   ]
  },
  {
   "cell_type": "code",
   "execution_count": 114,
   "metadata": {},
   "outputs": [],
   "source": [
    "a3 = [1.9985636472702026, 1.9889763593673706, 1.9998241662979126, 1.9952017068862915, 1.9977575540542603, 1.9870351552963257, \n",
    "          1.9883275032043457, 1.9965871572494507, 1.9925868511199951, 1.9996650218963623]"
   ]
  },
  {
   "cell_type": "code",
   "execution_count": 115,
   "metadata": {},
   "outputs": [
    {
     "data": {
      "text/plain": [
       "1.9941895087560018"
      ]
     },
     "execution_count": 115,
     "metadata": {},
     "output_type": "execute_result"
    }
   ],
   "source": [
    "arr = np.array(a1+a2+a3)\n",
    "np.mean(arr)"
   ]
  },
  {
   "cell_type": "code",
   "execution_count": 116,
   "metadata": {},
   "outputs": [
    {
     "data": {
      "text/plain": [
       "1.9865363836288452"
      ]
     },
     "execution_count": 116,
     "metadata": {},
     "output_type": "execute_result"
    }
   ],
   "source": [
    "np.min(arr)"
   ]
  },
  {
   "cell_type": "code",
   "execution_count": null,
   "metadata": {},
   "outputs": [],
   "source": []
  }
 ],
 "metadata": {
  "kernelspec": {
   "display_name": "Python 3",
   "language": "python",
   "name": "python3"
  },
  "language_info": {
   "codemirror_mode": {
    "name": "ipython",
    "version": 3
   },
   "file_extension": ".py",
   "mimetype": "text/x-python",
   "name": "python",
   "nbconvert_exporter": "python",
   "pygments_lexer": "ipython3",
   "version": "3.6.6"
  }
 },
 "nbformat": 4,
 "nbformat_minor": 2
}
